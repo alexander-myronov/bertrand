{
 "cells": [
  {
   "cell_type": "code",
   "execution_count": 1,
   "id": "grave-eclipse",
   "metadata": {
    "tags": []
   },
   "outputs": [],
   "source": [
    "%load_ext autoreload\n",
    "%autoreload 2"
   ]
  },
  {
   "cell_type": "code",
   "execution_count": 2,
   "id": "streaming-redhead",
   "metadata": {
    "tags": []
   },
   "outputs": [],
   "source": [
    "import logging\n",
    "\n",
    "logger = logging.getLogger()\n",
    "logger.setLevel(logging.INFO)"
   ]
  },
  {
   "cell_type": "code",
   "execution_count": 3,
   "id": "appropriate-arizona",
   "metadata": {
    "tags": []
   },
   "outputs": [],
   "source": [
    "import glob\n",
    "import itertools\n",
    "import os\n",
    "import sys\n",
    "\n",
    "import numpy as np\n",
    "import pandas as pd\n",
    "from matplotlib import pyplot as plt\n",
    "from tqdm.auto import tqdm"
   ]
  },
  {
   "cell_type": "code",
   "execution_count": 4,
   "id": "union-frontier",
   "metadata": {
    "tags": []
   },
   "outputs": [],
   "source": [
    "sys.path.append(\"../../..\")"
   ]
  },
  {
   "cell_type": "code",
   "execution_count": 5,
   "id": "roman-transport",
   "metadata": {
    "tags": []
   },
   "outputs": [],
   "source": [
    "from bertrand.model.tokenization import AA_list\n",
    "from bertrand.negative_decoys.basic_filtering import (\n",
    "    basic_filtering as basic_filtering_bertrand,\n",
    ")\n",
    "from bertrand.negative_decoys.basic_filtering import (\n",
    "    read_positives_and_group_by_tcr,\n",
    "    read_reference_tcrs,\n",
    ")"
   ]
  },
  {
   "cell_type": "markdown",
   "id": "d34a8519-5bc5-4afe-b5a5-867c481f8180",
   "metadata": {},
   "source": [
    "# Binders"
   ]
  },
  {
   "cell_type": "code",
   "execution_count": 6,
   "id": "a81bffd4-89ed-4995-a893-80ed2aef8886",
   "metadata": {
    "tags": []
   },
   "outputs": [],
   "source": [
    "from bertrand.immrep.data_sources import read_test, read_train_be"
   ]
  },
  {
   "cell_type": "code",
   "execution_count": 7,
   "id": "b882b4a2-028c-4de6-a115-047c0fe7dcd2",
   "metadata": {
    "tags": []
   },
   "outputs": [],
   "source": [
    "test = read_test()\n",
    "train = read_train_be()"
   ]
  },
  {
   "cell_type": "markdown",
   "id": "e408e357-85cc-4310-9f2e-fbf8e8fd071e",
   "metadata": {},
   "source": [
    "# Non-binders"
   ]
  },
  {
   "cell_type": "code",
   "execution_count": 9,
   "id": "488ad3ac-d493-44c6-8710-e7c6670aa543",
   "metadata": {
    "tags": []
   },
   "outputs": [
    {
     "data": {
      "application/vnd.jupyter.widget-view+json": {
       "model_id": "24962ebff94b45ff84e5aff4a14180a5",
       "version_major": 2,
       "version_minor": 0
      },
      "text/plain": [
       "  0%|          | 0/85 [00:00<?, ?it/s]"
      ]
     },
     "metadata": {},
     "output_type": "display_data"
    },
    {
     "name": "stdout",
     "output_type": "stream",
     "text": [
      "HIP12091.tsv\n"
     ]
    },
    {
     "ename": "Exception",
     "evalue": "",
     "output_type": "error",
     "traceback": [
      "\u001b[0;31m---------------------------------------------------------------------------\u001b[0m",
      "\u001b[0;31mException\u001b[0m                                 Traceback (most recent call last)",
      "Cell \u001b[0;32mIn[9], line 12\u001b[0m\n\u001b[1;32m     10\u001b[0m \u001b[38;5;28mprint\u001b[39m(filename)\n\u001b[1;32m     11\u001b[0m df \u001b[38;5;241m=\u001b[39m pd\u001b[38;5;241m.\u001b[39mread_csv(archive\u001b[38;5;241m.\u001b[39mopen(filename), sep\u001b[38;5;241m=\u001b[39m\u001b[38;5;124m\"\u001b[39m\u001b[38;5;130;01m\\t\u001b[39;00m\u001b[38;5;124m\"\u001b[39m)\n\u001b[0;32m---> 12\u001b[0m \u001b[38;5;28;01mraise\u001b[39;00m \u001b[38;5;167;01mException\u001b[39;00m()\n\u001b[1;32m     13\u001b[0m \u001b[38;5;28mprint\u001b[39m(\u001b[38;5;124mf\u001b[39m\u001b[38;5;124m\"\u001b[39m\u001b[38;5;132;01m{\u001b[39;00m\u001b[38;5;28mlen\u001b[39m(df)\u001b[38;5;132;01m}\u001b[39;00m\u001b[38;5;124m TCRs\u001b[39m\u001b[38;5;124m\"\u001b[39m)\n\u001b[1;32m     14\u001b[0m df \u001b[38;5;241m=\u001b[39m df[(df\u001b[38;5;241m.\u001b[39msequenceStatus \u001b[38;5;241m==\u001b[39m \u001b[38;5;124m\"\u001b[39m\u001b[38;5;124mIn\u001b[39m\u001b[38;5;124m\"\u001b[39m) \u001b[38;5;241m&\u001b[39m (df\u001b[38;5;241m.\u001b[39mcloneResolved \u001b[38;5;241m==\u001b[39m \u001b[38;5;124m\"\u001b[39m\u001b[38;5;124mVDJ\u001b[39m\u001b[38;5;124m\"\u001b[39m)]\n",
      "\u001b[0;31mException\u001b[0m: "
     ]
    }
   ],
   "source": [
    "import zipfile\n",
    "\n",
    "with zipfile.ZipFile(\n",
    "    \"../../../data/dean_tcr_repertoires/hip-samples-tsv.zip\", mode=\"r\"\n",
    ") as archive:\n",
    "    filenames = [f.filename for f in archive.filelist if f.filename.endswith(\"tsv\")]\n",
    "\n",
    "    tcr_list = []\n",
    "    for filename in tqdm(filenames[:85]):\n",
    "        print(filename)\n",
    "        df = pd.read_csv(archive.open(filename), sep=\"\\t\")\n",
    "        raise Exception()\n",
    "        print(f\"{len(df)} TCRs\")\n",
    "        df = df[(df.sequenceStatus == \"In\") & (df.cloneResolved == \"VDJ\")]\n",
    "        print(f\"{len(df)} productive TCRs\")\n",
    "        cdrs = df.aminoAcid.dropna().drop_duplicates().reset_index(drop=True)\n",
    "        print(f\"{len(cdrs)} unique CDR3\")\n",
    "\n",
    "        cdrs = basic_filtering(cdrs)\n",
    "        print(f\"{len(cdrs)} OK CDR3\")\n",
    "        tcr_list.append(cdrs)\n",
    "\n",
    "#     cdrs =\n",
    "#     dfs[filename] = df"
   ]
  },
  {
   "cell_type": "code",
   "execution_count": 13,
   "id": "39ec48dd-7ba7-44d5-86a9-f25e65676048",
   "metadata": {
    "tags": []
   },
   "outputs": [],
   "source": [
    "df = df[(df.sequenceStatus == \"In\") & (df.cloneResolved == \"VDJ\")]"
   ]
  },
  {
   "cell_type": "code",
   "execution_count": 16,
   "id": "7e507ada-382b-4c52-949e-54caf2b75bd8",
   "metadata": {
    "tags": []
   },
   "outputs": [],
   "source": [
    "# df.iloc[0]"
   ]
  },
  {
   "cell_type": "code",
   "execution_count": 22,
   "id": "0aa145d1-7449-4f74-acb8-68eb9faf6db0",
   "metadata": {
    "tags": []
   },
   "outputs": [],
   "source": [
    "regex = f\"[{''.join(AA_list)}]+\"\n",
    "regex\n",
    "def basic_filtering(ref, train, test):\n",
    "    return ref[\n",
    "        (~ref.aminoAcid.isin(train.CDR3a_extended)) \n",
    "        & (~ref.aminoAcid.isin(test.CDR3a_extended)) \n",
    "        & (~ref.aminoAcid.isin(train.CDR3b_extended)) \n",
    "        & (~ref.aminoAcid.isin(test.CDR3b_extended)) \n",
    "        & ref.aminoAcid.str.len().isin(range(7, 25))\n",
    "        & (ref.aminoAcid.str[0] == \"C\")\n",
    "        & ref.aminoAcid.str.fullmatch(regex)\n",
    "    ].reset_index(drop=True)\n",
    "\n"
   ]
  },
  {
   "cell_type": "code",
   "execution_count": 23,
   "id": "a3ef7d8f-6d04-4c7e-9f93-b1de43ec0152",
   "metadata": {
    "tags": []
   },
   "outputs": [],
   "source": [
    "dff = basic_filtering(df, train, test)"
   ]
  },
  {
   "cell_type": "code",
   "execution_count": 24,
   "id": "7b8365f1-23cb-483b-918e-6a2fbaa50c25",
   "metadata": {
    "tags": []
   },
   "outputs": [
    {
     "data": {
      "text/plain": [
       "(124120, 47)"
      ]
     },
     "execution_count": 24,
     "metadata": {},
     "output_type": "execute_result"
    }
   ],
   "source": [
    "dfa = dff"
   ]
  },
  {
   "cell_type": "code",
   "execution_count": 27,
   "id": "5f84f0de-6324-46fd-8ac7-18ed3ed10c4e",
   "metadata": {
    "tags": []
   },
   "outputs": [
    {
     "data": {
      "text/html": [
       "<div>\n",
       "<style scoped>\n",
       "    .dataframe tbody tr th:only-of-type {\n",
       "        vertical-align: middle;\n",
       "    }\n",
       "\n",
       "    .dataframe tbody tr th {\n",
       "        vertical-align: top;\n",
       "    }\n",
       "\n",
       "    .dataframe thead th {\n",
       "        text-align: right;\n",
       "    }\n",
       "</style>\n",
       "<table border=\"1\" class=\"dataframe\">\n",
       "  <thead>\n",
       "    <tr style=\"text-align: right;\">\n",
       "      <th></th>\n",
       "      <th>nucleotide</th>\n",
       "      <th>aminoAcid</th>\n",
       "      <th>count (reads)</th>\n",
       "      <th>frequencyCount (%)</th>\n",
       "      <th>cdr3Length</th>\n",
       "      <th>vMaxResolved</th>\n",
       "      <th>vFamilyName</th>\n",
       "      <th>vGeneName</th>\n",
       "      <th>vGeneAllele</th>\n",
       "      <th>vFamilyTies</th>\n",
       "      <th>...</th>\n",
       "      <th>estimatedNumberGenomes</th>\n",
       "      <th>sequenceStatus</th>\n",
       "      <th>cloneResolved</th>\n",
       "      <th>vOrphon</th>\n",
       "      <th>dOrphon</th>\n",
       "      <th>jOrphon</th>\n",
       "      <th>vFunction</th>\n",
       "      <th>dFunction</th>\n",
       "      <th>jFunction</th>\n",
       "      <th>fractionNucleated</th>\n",
       "    </tr>\n",
       "  </thead>\n",
       "  <tbody>\n",
       "    <tr>\n",
       "      <th>76461</th>\n",
       "      <td>ATCCAGCGCACACAGCAGGAGGACTCGGCCGTGTATCTCTGTGCCA...</td>\n",
       "      <td>CASSSSPGPREQYF</td>\n",
       "      <td>4</td>\n",
       "      <td>0.000246</td>\n",
       "      <td>42</td>\n",
       "      <td>TCRBV07-02*01</td>\n",
       "      <td>TCRBV07</td>\n",
       "      <td>TCRBV07-02</td>\n",
       "      <td>1.0</td>\n",
       "      <td>NaN</td>\n",
       "      <td>...</td>\n",
       "      <td>1</td>\n",
       "      <td>In</td>\n",
       "      <td>VDJ</td>\n",
       "      <td>NaN</td>\n",
       "      <td>NaN</td>\n",
       "      <td>NaN</td>\n",
       "      <td>NaN</td>\n",
       "      <td>NaN</td>\n",
       "      <td>NaN</td>\n",
       "      <td>0.0</td>\n",
       "    </tr>\n",
       "    <tr>\n",
       "      <th>115657</th>\n",
       "      <td>CTGGAGTCCGCCAGCACCAACCAGACATCTATGTACCTCTGTGCCA...</td>\n",
       "      <td>CASCSGSIADTQYF</td>\n",
       "      <td>2</td>\n",
       "      <td>0.000123</td>\n",
       "      <td>42</td>\n",
       "      <td>TCRBV28-01*01</td>\n",
       "      <td>TCRBV28</td>\n",
       "      <td>TCRBV28-01</td>\n",
       "      <td>1.0</td>\n",
       "      <td>NaN</td>\n",
       "      <td>...</td>\n",
       "      <td>1</td>\n",
       "      <td>In</td>\n",
       "      <td>VDJ</td>\n",
       "      <td>NaN</td>\n",
       "      <td>NaN</td>\n",
       "      <td>NaN</td>\n",
       "      <td>NaN</td>\n",
       "      <td>NaN</td>\n",
       "      <td>NaN</td>\n",
       "      <td>0.0</td>\n",
       "    </tr>\n",
       "    <tr>\n",
       "      <th>82129</th>\n",
       "      <td>GAGCTTGGTGACTCTGCTGTGTATTTCTGTGCCAGCAGCCCGGGAC...</td>\n",
       "      <td>CASSPGLAGGGRTYEQYF</td>\n",
       "      <td>4</td>\n",
       "      <td>0.000246</td>\n",
       "      <td>54</td>\n",
       "      <td>TCRBV03</td>\n",
       "      <td>TCRBV03</td>\n",
       "      <td>unresolved</td>\n",
       "      <td>NaN</td>\n",
       "      <td>NaN</td>\n",
       "      <td>...</td>\n",
       "      <td>1</td>\n",
       "      <td>In</td>\n",
       "      <td>VDJ</td>\n",
       "      <td>NaN</td>\n",
       "      <td>NaN</td>\n",
       "      <td>NaN</td>\n",
       "      <td>NaN</td>\n",
       "      <td>NaN</td>\n",
       "      <td>NaN</td>\n",
       "      <td>0.0</td>\n",
       "    </tr>\n",
       "    <tr>\n",
       "      <th>24406</th>\n",
       "      <td>AAGATCCGGTCCACAAAGCTGGAGGACTCAGCCATGTACTTCTGTG...</td>\n",
       "      <td>CASSEDRDYGYTF</td>\n",
       "      <td>11</td>\n",
       "      <td>0.000677</td>\n",
       "      <td>39</td>\n",
       "      <td>TCRBV02-01*01</td>\n",
       "      <td>TCRBV02</td>\n",
       "      <td>TCRBV02-01</td>\n",
       "      <td>1.0</td>\n",
       "      <td>NaN</td>\n",
       "      <td>...</td>\n",
       "      <td>1</td>\n",
       "      <td>In</td>\n",
       "      <td>VDJ</td>\n",
       "      <td>NaN</td>\n",
       "      <td>NaN</td>\n",
       "      <td>NaN</td>\n",
       "      <td>NaN</td>\n",
       "      <td>NaN</td>\n",
       "      <td>NaN</td>\n",
       "      <td>0.0</td>\n",
       "    </tr>\n",
       "    <tr>\n",
       "      <th>76435</th>\n",
       "      <td>ATCCAGCGCACACAGCAGGAGGACTCGGCCGTGTATCTCTGTGCCA...</td>\n",
       "      <td>CASSRTGGVYGYTF</td>\n",
       "      <td>4</td>\n",
       "      <td>0.000246</td>\n",
       "      <td>42</td>\n",
       "      <td>TCRBV07-02*01</td>\n",
       "      <td>TCRBV07</td>\n",
       "      <td>TCRBV07-02</td>\n",
       "      <td>1.0</td>\n",
       "      <td>NaN</td>\n",
       "      <td>...</td>\n",
       "      <td>1</td>\n",
       "      <td>In</td>\n",
       "      <td>VDJ</td>\n",
       "      <td>NaN</td>\n",
       "      <td>NaN</td>\n",
       "      <td>NaN</td>\n",
       "      <td>NaN</td>\n",
       "      <td>NaN</td>\n",
       "      <td>NaN</td>\n",
       "      <td>0.0</td>\n",
       "    </tr>\n",
       "    <tr>\n",
       "      <th>...</th>\n",
       "      <td>...</td>\n",
       "      <td>...</td>\n",
       "      <td>...</td>\n",
       "      <td>...</td>\n",
       "      <td>...</td>\n",
       "      <td>...</td>\n",
       "      <td>...</td>\n",
       "      <td>...</td>\n",
       "      <td>...</td>\n",
       "      <td>...</td>\n",
       "      <td>...</td>\n",
       "      <td>...</td>\n",
       "      <td>...</td>\n",
       "      <td>...</td>\n",
       "      <td>...</td>\n",
       "      <td>...</td>\n",
       "      <td>...</td>\n",
       "      <td>...</td>\n",
       "      <td>...</td>\n",
       "      <td>...</td>\n",
       "      <td>...</td>\n",
       "    </tr>\n",
       "    <tr>\n",
       "      <th>118502</th>\n",
       "      <td>GCCAGCACCAACCAGACATCTATGTACCTCTGTGCCAGCAGTTTGG...</td>\n",
       "      <td>CASSLGVPGGSNTEAFF</td>\n",
       "      <td>2</td>\n",
       "      <td>0.000123</td>\n",
       "      <td>51</td>\n",
       "      <td>TCRBV28-01*01</td>\n",
       "      <td>TCRBV28</td>\n",
       "      <td>TCRBV28-01</td>\n",
       "      <td>1.0</td>\n",
       "      <td>NaN</td>\n",
       "      <td>...</td>\n",
       "      <td>1</td>\n",
       "      <td>In</td>\n",
       "      <td>VDJ</td>\n",
       "      <td>NaN</td>\n",
       "      <td>NaN</td>\n",
       "      <td>NaN</td>\n",
       "      <td>NaN</td>\n",
       "      <td>NaN</td>\n",
       "      <td>NaN</td>\n",
       "      <td>0.0</td>\n",
       "    </tr>\n",
       "    <tr>\n",
       "      <th>58767</th>\n",
       "      <td>GTGAACGCCTTGGAGCTGGAGGACTCGGCCCTGTATCTCTGTGCCA...</td>\n",
       "      <td>CASSSGQGHTEAFF</td>\n",
       "      <td>6</td>\n",
       "      <td>0.000369</td>\n",
       "      <td>42</td>\n",
       "      <td>TCRBV05-08*01</td>\n",
       "      <td>TCRBV05</td>\n",
       "      <td>TCRBV05-08</td>\n",
       "      <td>1.0</td>\n",
       "      <td>NaN</td>\n",
       "      <td>...</td>\n",
       "      <td>1</td>\n",
       "      <td>In</td>\n",
       "      <td>VDJ</td>\n",
       "      <td>NaN</td>\n",
       "      <td>NaN</td>\n",
       "      <td>NaN</td>\n",
       "      <td>NaN</td>\n",
       "      <td>NaN</td>\n",
       "      <td>NaN</td>\n",
       "      <td>0.0</td>\n",
       "    </tr>\n",
       "    <tr>\n",
       "      <th>24513</th>\n",
       "      <td>ACAAAGCTGGAGGACTCAGCCATGTACTTCTGTGCCAGCAGTGAAG...</td>\n",
       "      <td>CASSEASGGLNLDEQYF</td>\n",
       "      <td>11</td>\n",
       "      <td>0.000677</td>\n",
       "      <td>51</td>\n",
       "      <td>TCRBV02-01*01</td>\n",
       "      <td>TCRBV02</td>\n",
       "      <td>TCRBV02-01</td>\n",
       "      <td>1.0</td>\n",
       "      <td>NaN</td>\n",
       "      <td>...</td>\n",
       "      <td>2</td>\n",
       "      <td>In</td>\n",
       "      <td>VDJ</td>\n",
       "      <td>NaN</td>\n",
       "      <td>NaN</td>\n",
       "      <td>NaN</td>\n",
       "      <td>NaN</td>\n",
       "      <td>NaN</td>\n",
       "      <td>NaN</td>\n",
       "      <td>0.0</td>\n",
       "    </tr>\n",
       "    <tr>\n",
       "      <th>12202</th>\n",
       "      <td>ACGATCCAGCGCACAGAGCAGCGGGACTCGGCCATGTATCGCTGTG...</td>\n",
       "      <td>CASSLERLTEAFF</td>\n",
       "      <td>17</td>\n",
       "      <td>0.001046</td>\n",
       "      <td>39</td>\n",
       "      <td>TCRBV07-06*01</td>\n",
       "      <td>TCRBV07</td>\n",
       "      <td>TCRBV07-06</td>\n",
       "      <td>1.0</td>\n",
       "      <td>NaN</td>\n",
       "      <td>...</td>\n",
       "      <td>1</td>\n",
       "      <td>In</td>\n",
       "      <td>VDJ</td>\n",
       "      <td>NaN</td>\n",
       "      <td>NaN</td>\n",
       "      <td>NaN</td>\n",
       "      <td>NaN</td>\n",
       "      <td>NaN</td>\n",
       "      <td>NaN</td>\n",
       "      <td>0.0</td>\n",
       "    </tr>\n",
       "    <tr>\n",
       "      <th>51135</th>\n",
       "      <td>AAGGTGCAGCCTGCAGAACTGGAGGATTCTGGAGTTTATTTCTGTG...</td>\n",
       "      <td>CASTPRPEWGYTF</td>\n",
       "      <td>6</td>\n",
       "      <td>0.000369</td>\n",
       "      <td>39</td>\n",
       "      <td>TCRBV14-01*01</td>\n",
       "      <td>TCRBV14</td>\n",
       "      <td>TCRBV14-01</td>\n",
       "      <td>1.0</td>\n",
       "      <td>NaN</td>\n",
       "      <td>...</td>\n",
       "      <td>1</td>\n",
       "      <td>In</td>\n",
       "      <td>VDJ</td>\n",
       "      <td>NaN</td>\n",
       "      <td>NaN</td>\n",
       "      <td>NaN</td>\n",
       "      <td>NaN</td>\n",
       "      <td>NaN</td>\n",
       "      <td>NaN</td>\n",
       "      <td>0.0</td>\n",
       "    </tr>\n",
       "  </tbody>\n",
       "</table>\n",
       "<p>100 rows × 47 columns</p>\n",
       "</div>"
      ],
      "text/plain": [
       "                                               nucleotide           aminoAcid  \\\n",
       "76461   ATCCAGCGCACACAGCAGGAGGACTCGGCCGTGTATCTCTGTGCCA...      CASSSSPGPREQYF   \n",
       "115657  CTGGAGTCCGCCAGCACCAACCAGACATCTATGTACCTCTGTGCCA...      CASCSGSIADTQYF   \n",
       "82129   GAGCTTGGTGACTCTGCTGTGTATTTCTGTGCCAGCAGCCCGGGAC...  CASSPGLAGGGRTYEQYF   \n",
       "24406   AAGATCCGGTCCACAAAGCTGGAGGACTCAGCCATGTACTTCTGTG...       CASSEDRDYGYTF   \n",
       "76435   ATCCAGCGCACACAGCAGGAGGACTCGGCCGTGTATCTCTGTGCCA...      CASSRTGGVYGYTF   \n",
       "...                                                   ...                 ...   \n",
       "118502  GCCAGCACCAACCAGACATCTATGTACCTCTGTGCCAGCAGTTTGG...   CASSLGVPGGSNTEAFF   \n",
       "58767   GTGAACGCCTTGGAGCTGGAGGACTCGGCCCTGTATCTCTGTGCCA...      CASSSGQGHTEAFF   \n",
       "24513   ACAAAGCTGGAGGACTCAGCCATGTACTTCTGTGCCAGCAGTGAAG...   CASSEASGGLNLDEQYF   \n",
       "12202   ACGATCCAGCGCACAGAGCAGCGGGACTCGGCCATGTATCGCTGTG...       CASSLERLTEAFF   \n",
       "51135   AAGGTGCAGCCTGCAGAACTGGAGGATTCTGGAGTTTATTTCTGTG...       CASTPRPEWGYTF   \n",
       "\n",
       "        count (reads)  frequencyCount (%)  cdr3Length   vMaxResolved  \\\n",
       "76461               4            0.000246          42  TCRBV07-02*01   \n",
       "115657              2            0.000123          42  TCRBV28-01*01   \n",
       "82129               4            0.000246          54        TCRBV03   \n",
       "24406              11            0.000677          39  TCRBV02-01*01   \n",
       "76435               4            0.000246          42  TCRBV07-02*01   \n",
       "...               ...                 ...         ...            ...   \n",
       "118502              2            0.000123          51  TCRBV28-01*01   \n",
       "58767               6            0.000369          42  TCRBV05-08*01   \n",
       "24513              11            0.000677          51  TCRBV02-01*01   \n",
       "12202              17            0.001046          39  TCRBV07-06*01   \n",
       "51135               6            0.000369          39  TCRBV14-01*01   \n",
       "\n",
       "       vFamilyName   vGeneName  vGeneAllele vFamilyTies  ...  \\\n",
       "76461      TCRBV07  TCRBV07-02          1.0         NaN  ...   \n",
       "115657     TCRBV28  TCRBV28-01          1.0         NaN  ...   \n",
       "82129      TCRBV03  unresolved          NaN         NaN  ...   \n",
       "24406      TCRBV02  TCRBV02-01          1.0         NaN  ...   \n",
       "76435      TCRBV07  TCRBV07-02          1.0         NaN  ...   \n",
       "...            ...         ...          ...         ...  ...   \n",
       "118502     TCRBV28  TCRBV28-01          1.0         NaN  ...   \n",
       "58767      TCRBV05  TCRBV05-08          1.0         NaN  ...   \n",
       "24513      TCRBV02  TCRBV02-01          1.0         NaN  ...   \n",
       "12202      TCRBV07  TCRBV07-06          1.0         NaN  ...   \n",
       "51135      TCRBV14  TCRBV14-01          1.0         NaN  ...   \n",
       "\n",
       "       estimatedNumberGenomes sequenceStatus cloneResolved vOrphon dOrphon  \\\n",
       "76461                       1             In           VDJ     NaN     NaN   \n",
       "115657                      1             In           VDJ     NaN     NaN   \n",
       "82129                       1             In           VDJ     NaN     NaN   \n",
       "24406                       1             In           VDJ     NaN     NaN   \n",
       "76435                       1             In           VDJ     NaN     NaN   \n",
       "...                       ...            ...           ...     ...     ...   \n",
       "118502                      1             In           VDJ     NaN     NaN   \n",
       "58767                       1             In           VDJ     NaN     NaN   \n",
       "24513                       2             In           VDJ     NaN     NaN   \n",
       "12202                       1             In           VDJ     NaN     NaN   \n",
       "51135                       1             In           VDJ     NaN     NaN   \n",
       "\n",
       "        jOrphon vFunction dFunction jFunction fractionNucleated  \n",
       "76461       NaN       NaN       NaN       NaN               0.0  \n",
       "115657      NaN       NaN       NaN       NaN               0.0  \n",
       "82129       NaN       NaN       NaN       NaN               0.0  \n",
       "24406       NaN       NaN       NaN       NaN               0.0  \n",
       "76435       NaN       NaN       NaN       NaN               0.0  \n",
       "...         ...       ...       ...       ...               ...  \n",
       "118502      NaN       NaN       NaN       NaN               0.0  \n",
       "58767       NaN       NaN       NaN       NaN               0.0  \n",
       "24513       NaN       NaN       NaN       NaN               0.0  \n",
       "12202       NaN       NaN       NaN       NaN               0.0  \n",
       "51135       NaN       NaN       NaN       NaN               0.0  \n",
       "\n",
       "[100 rows x 47 columns]"
      ]
     },
     "execution_count": 27,
     "metadata": {},
     "output_type": "execute_result"
    }
   ],
   "source": [
    "dff.sample(100)"
   ]
  },
  {
   "cell_type": "code",
   "execution_count": null,
   "id": "9fd6da11-95e6-44ef-a333-b957b3f9068c",
   "metadata": {},
   "outputs": [],
   "source": []
  },
  {
   "cell_type": "code",
   "execution_count": 83,
   "id": "238b53e2-e8d9-47fb-83df-4fedf5443b11",
   "metadata": {
    "tags": []
   },
   "outputs": [],
   "source": [
    "ref_ab = ref_ab.rename(columns=dict(CDR3_alpha='CDR3a', CDR3_beta='CDR3b'))"
   ]
  },
  {
   "cell_type": "code",
   "execution_count": 84,
   "id": "10ddd2f9-fdf3-42fc-9aa7-10e80b514652",
   "metadata": {
    "tags": []
   },
   "outputs": [
    {
     "name": "stdout",
     "output_type": "stream",
     "text": [
      "(239815, 43)\n"
     ]
    }
   ],
   "source": [
    "ref_ab = basic_filtering(ref_ab, train, test)\n",
    "print(ref_ab.shape)"
   ]
  },
  {
   "cell_type": "code",
   "execution_count": 86,
   "id": "5c975006-37b7-47a7-bb73-8e29714fcf6a",
   "metadata": {
    "tags": []
   },
   "outputs": [
    {
     "data": {
      "text/plain": [
       "(55341, 2)"
      ]
     },
     "execution_count": 86,
     "metadata": {},
     "output_type": "execute_result"
    }
   ],
   "source": [
    "ref_ab[['CDR3a', 'CDR3b']].drop_duplicates().shape"
   ]
  },
  {
   "cell_type": "code",
   "execution_count": 59,
   "id": "b4a3699e-1e65-44e6-8c4b-8d1e95e4b4ae",
   "metadata": {
    "tags": []
   },
   "outputs": [],
   "source": [
    "SEED = 42"
   ]
  },
  {
   "cell_type": "code",
   "execution_count": 67,
   "id": "f17291f8-3731-47ca-85b5-af95997a7c05",
   "metadata": {
    "tags": []
   },
   "outputs": [],
   "source": [
    "test_trav = ref_ab.TRAV.drop_duplicates().sample(frac=0.04, random_state=SEED)\n",
    "test_traj = ref_ab.TRAJ.drop_duplicates().sample(frac=0.04, random_state=SEED)\n",
    "test_trbv = ref_ab.TRBV.drop_duplicates().sample(frac=0.04, random_state=SEED)\n",
    "test_trbj = ref_ab.TRBJ.drop_duplicates().sample(frac=0.04, random_state=SEED)"
   ]
  },
  {
   "cell_type": "code",
   "execution_count": 68,
   "id": "290db05c-c9da-43bd-9c97-1b057e3dfd13",
   "metadata": {
    "tags": []
   },
   "outputs": [],
   "source": [
    "test_mask = (\n",
    "    ref_ab.TRAV.isin(test_trav)\n",
    "    | ref_ab.TRAJ.isin(test_traj)\n",
    "    | ref_ab.TRBV.isin(test_trbv)\n",
    "    | ref_ab.TRBJ.isin(test_trbj)\n",
    ")"
   ]
  },
  {
   "cell_type": "code",
   "execution_count": 69,
   "id": "9156e2ec-f991-4ad3-9ea3-ced795eb373c",
   "metadata": {
    "tags": []
   },
   "outputs": [
    {
     "data": {
      "text/plain": [
       "36169"
      ]
     },
     "execution_count": 69,
     "metadata": {},
     "output_type": "execute_result"
    }
   ],
   "source": [
    "test_mask.sum()"
   ]
  },
  {
   "cell_type": "code",
   "execution_count": 70,
   "id": "a4acae42-aa3c-4cb4-9eef-69cf420009db",
   "metadata": {
    "tags": []
   },
   "outputs": [],
   "source": [
    "train_mask = ~test_mask"
   ]
  },
  {
   "cell_type": "code",
   "execution_count": 71,
   "id": "9ccbfeed-2540-4c73-b4da-da8116b60582",
   "metadata": {
    "tags": []
   },
   "outputs": [
    {
     "data": {
      "text/plain": [
       "203646"
      ]
     },
     "execution_count": 71,
     "metadata": {},
     "output_type": "execute_result"
    }
   ],
   "source": [
    "train_mask.sum()"
   ]
  },
  {
   "cell_type": "code",
   "execution_count": 72,
   "id": "aeb95e06-7dd6-43e6-bdb8-266402010c0e",
   "metadata": {
    "tags": []
   },
   "outputs": [
    {
     "data": {
      "text/plain": [
       "0.8491795759231074"
      ]
     },
     "execution_count": 72,
     "metadata": {},
     "output_type": "execute_result"
    }
   ],
   "source": [
    "train_mask.mean()"
   ]
  },
  {
   "cell_type": "code",
   "execution_count": 73,
   "id": "b3189975-282d-44bd-8253-3da0707d4777",
   "metadata": {
    "tags": []
   },
   "outputs": [],
   "source": []
  },
  {
   "cell_type": "code",
   "execution_count": 74,
   "id": "b083bba4-4bd8-4123-b303-a8550d974d7e",
   "metadata": {
    "tags": []
   },
   "outputs": [],
   "source": [
    "train_mlm = ref_ab[train_mask].reset_index(drop=True)\n",
    "test_mlm = ref_ab[test_mask].reset_index(drop=True)"
   ]
  },
  {
   "cell_type": "code",
   "execution_count": 75,
   "id": "edcc4a57-495e-43e9-94cc-b8a31deeb1da",
   "metadata": {
    "tags": []
   },
   "outputs": [],
   "source": [
    "train_mlm[['CDR3a', 'CDR3b']].to_csv('../../../data/immrep/tcr_mlm_train.csv.gz', index=False)"
   ]
  },
  {
   "cell_type": "code",
   "execution_count": 76,
   "id": "d7959e54-e67d-4b03-a232-dc810246f8d5",
   "metadata": {
    "tags": []
   },
   "outputs": [],
   "source": [
    "test_mlm[['CDR3a', 'CDR3b']].to_csv('../../../data/immrep/tcr_mlm_test.csv.gz', index=False)"
   ]
  },
  {
   "cell_type": "code",
   "execution_count": 41,
   "id": "frank-pregnancy",
   "metadata": {
    "tags": []
   },
   "outputs": [
    {
     "data": {
      "image/png": "[encoded data removed]",
      "text/plain": [
       "<Figure size 640x480 with 1 Axes>"
      ]
     },
     "metadata": {},
     "output_type": "display_data"
    }
   ],
   "source": [
    "ax = plt.gca()\n",
    "ref_ab.CDR3a.str.len().hist(ax=ax, density=True, alpha=0.5, label=\"reference alpha\")\n",
    "ref_tcrs_oakes.str.len().hist(ax=ax, density=True, alpha=0.5, label=\"reference (Oakes)\")\n",
    "df_pos.CDR3b.str.len().hist(ax=ax, density=True, alpha=0.5, label=\"binders\")\n",
    "plt.legend()\n",
    "plt.show()"
   ]
  },
  {
   "cell_type": "code",
   "execution_count": null,
   "id": "electronic-lawsuit",
   "metadata": {},
   "outputs": [],
   "source": []
  },
  {
   "cell_type": "code",
   "execution_count": 47,
   "id": "plain-reply",
   "metadata": {},
   "outputs": [],
   "source": [
    "def downsample_length(dataset, frac=1):\n",
    "    pos = dataset[dataset.y == 1]\n",
    "    neg = dataset[dataset.y == 0]\n",
    "\n",
    "    pos_count = pos.CDR3b.str.len().value_counts().sort_index()\n",
    "    neg_count = neg.CDR3b.str.len().value_counts().sort_index()\n",
    "\n",
    "    ratio = pos_count / neg_count\n",
    "    max_ratio = ratio.max()\n",
    "\n",
    "    to_remove = round((neg_count * (max_ratio - ratio)) / max_ratio).astype(int)\n",
    "    to_sample = neg_count - to_remove\n",
    "\n",
    "    neg_samples = []\n",
    "    for length, n_to_sample in to_sample.iteritems():\n",
    "        neg_sample = neg[neg.CDR3b.str.len() == length].sample(int(n_to_sample * frac), random_state=42)\n",
    "        neg_samples.append(neg_sample)\n",
    "    dataset_downsampled = pd.concat([pos] + neg_samples)\n",
    "    return dataset_downsampled"
   ]
  },
  {
   "cell_type": "code",
   "execution_count": 52,
   "id": "operational-management",
   "metadata": {},
   "outputs": [
    {
     "data": {
      "text/plain": [
       "(11407093,)"
      ]
     },
     "execution_count": 52,
     "metadata": {},
     "output_type": "execute_result"
    }
   ],
   "source": [
    "unique_tcrs.shape"
   ]
  },
  {
   "cell_type": "code",
   "execution_count": 56,
   "id": "thousand-north",
   "metadata": {},
   "outputs": [
    {
     "name": "stderr",
     "output_type": "stream",
     "text": [
      "INFO:root:Basic filtering: started with 11407093 reference TCRs, 11407093 after filtering\n"
     ]
    }
   ],
   "source": [
    "ref_tcrs_dean = basic_filtering_bertrand(unique_tcrs, df_pos)"
   ]
  },
  {
   "cell_type": "code",
   "execution_count": 57,
   "id": "usual-nightmare",
   "metadata": {},
   "outputs": [],
   "source": [
    "ref_tcrs_dean = ref_tcrs_dean.rename(columns={\"CDR3b\": \"junction_aa\"}).drop(columns=\"y\")"
   ]
  },
  {
   "cell_type": "code",
   "execution_count": 58,
   "id": "demanding-villa",
   "metadata": {},
   "outputs": [
    {
     "data": {
      "text/html": [
       "<div>\n",
       "<style scoped>\n",
       "    .dataframe tbody tr th:only-of-type {\n",
       "        vertical-align: middle;\n",
       "    }\n",
       "\n",
       "    .dataframe tbody tr th {\n",
       "        vertical-align: top;\n",
       "    }\n",
       "\n",
       "    .dataframe thead th {\n",
       "        text-align: right;\n",
       "    }\n",
       "</style>\n",
       "<table border=\"1\" class=\"dataframe\">\n",
       "  <thead>\n",
       "    <tr style=\"text-align: right;\">\n",
       "      <th></th>\n",
       "      <th>junction_aa</th>\n",
       "    </tr>\n",
       "  </thead>\n",
       "  <tbody>\n",
       "    <tr>\n",
       "      <th>1915758</th>\n",
       "      <td>CASSLADLGGLEQYF</td>\n",
       "    </tr>\n",
       "    <tr>\n",
       "      <th>453050</th>\n",
       "      <td>CASRYGGSSDTQYF</td>\n",
       "    </tr>\n",
       "    <tr>\n",
       "      <th>2007832</th>\n",
       "      <td>CASSTAGPPQFWAGTDTQYF</td>\n",
       "    </tr>\n",
       "    <tr>\n",
       "      <th>7020283</th>\n",
       "      <td>CASSFVRLEQFF</td>\n",
       "    </tr>\n",
       "    <tr>\n",
       "      <th>4305700</th>\n",
       "      <td>CASSEAQGAEETQYF</td>\n",
       "    </tr>\n",
       "  </tbody>\n",
       "</table>\n",
       "</div>"
      ],
      "text/plain": [
       "                  junction_aa\n",
       "1915758       CASSLADLGGLEQYF\n",
       "453050         CASRYGGSSDTQYF\n",
       "2007832  CASSTAGPPQFWAGTDTQYF\n",
       "7020283          CASSFVRLEQFF\n",
       "4305700       CASSEAQGAEETQYF"
      ]
     },
     "execution_count": 58,
     "metadata": {},
     "output_type": "execute_result"
    }
   ],
   "source": [
    "ref_tcrs_dean.sample(5)"
   ]
  },
  {
   "cell_type": "code",
   "execution_count": 61,
   "id": "suited-hudson",
   "metadata": {},
   "outputs": [],
   "source": [
    "ref_tcrs_dean.to_csv(\"../../data/dean_tcr_repertoires/dean_downsampled_11M.csv.gz\")"
   ]
  },
  {
   "cell_type": "code",
   "execution_count": 62,
   "id": "collectible-buying",
   "metadata": {},
   "outputs": [],
   "source": [
    "d = pd.read_csv(\"../../data/presented_peptides.csv.gz\", index_col=0)"
   ]
  },
  {
   "cell_type": "code",
   "execution_count": 63,
   "id": "certain-female",
   "metadata": {},
   "outputs": [
    {
     "data": {
      "text/html": [
       "<div>\n",
       "<style scoped>\n",
       "    .dataframe tbody tr th:only-of-type {\n",
       "        vertical-align: middle;\n",
       "    }\n",
       "\n",
       "    .dataframe tbody tr th {\n",
       "        vertical-align: top;\n",
       "    }\n",
       "\n",
       "    .dataframe thead th {\n",
       "        text-align: right;\n",
       "    }\n",
       "</style>\n",
       "<table border=\"1\" class=\"dataframe\">\n",
       "  <thead>\n",
       "    <tr style=\"text-align: right;\">\n",
       "      <th></th>\n",
       "      <th>HLA_type</th>\n",
       "      <th>Peptide2</th>\n",
       "      <th>is_presented</th>\n",
       "    </tr>\n",
       "  </thead>\n",
       "  <tbody>\n",
       "    <tr>\n",
       "      <th>abelin_pos_1</th>\n",
       "      <td>A02:01</td>\n",
       "      <td>KLWEMDNMLI</td>\n",
       "      <td>1</td>\n",
       "    </tr>\n",
       "    <tr>\n",
       "      <th>abelin_pos_2</th>\n",
       "      <td>A02:03</td>\n",
       "      <td>KLYDIDVAKV</td>\n",
       "      <td>1</td>\n",
       "    </tr>\n",
       "    <tr>\n",
       "      <th>abelin_pos_4</th>\n",
       "      <td>A02:07</td>\n",
       "      <td>QVDDLKAKL</td>\n",
       "      <td>1</td>\n",
       "    </tr>\n",
       "    <tr>\n",
       "      <th>abelin_pos_6</th>\n",
       "      <td>A24:02</td>\n",
       "      <td>AYVHMVTHF</td>\n",
       "      <td>1</td>\n",
       "    </tr>\n",
       "    <tr>\n",
       "      <th>abelin_pos_10</th>\n",
       "      <td>B35:01</td>\n",
       "      <td>LPDEIYHVY</td>\n",
       "      <td>1</td>\n",
       "    </tr>\n",
       "  </tbody>\n",
       "</table>\n",
       "</div>"
      ],
      "text/plain": [
       "              HLA_type    Peptide2  is_presented\n",
       "abelin_pos_1    A02:01  KLWEMDNMLI             1\n",
       "abelin_pos_2    A02:03  KLYDIDVAKV             1\n",
       "abelin_pos_4    A02:07   QVDDLKAKL             1\n",
       "abelin_pos_6    A24:02   AYVHMVTHF             1\n",
       "abelin_pos_10   B35:01   LPDEIYHVY             1"
      ]
     },
     "execution_count": 63,
     "metadata": {},
     "output_type": "execute_result"
    }
   ],
   "source": [
    "d.head()"
   ]
  },
  {
   "cell_type": "code",
   "execution_count": 1,
   "id": "serious-morning",
   "metadata": {},
   "outputs": [],
   "source": [
    "import pandas as pd"
   ]
  },
  {
   "cell_type": "code",
   "execution_count": 2,
   "id": "integral-publication",
   "metadata": {},
   "outputs": [],
   "source": [
    "df = pd.read_csv(\"../../data/dean_tcr_repertoires/dean_downsampled_11M.csv.gz\")"
   ]
  },
  {
   "cell_type": "code",
   "execution_count": 3,
   "id": "compound-princess",
   "metadata": {},
   "outputs": [
    {
     "data": {
      "text/plain": [
       "(11407093, 2)"
      ]
     },
     "execution_count": 3,
     "metadata": {},
     "output_type": "execute_result"
    }
   ],
   "source": [
    "df.shape"
   ]
  },
  {
   "cell_type": "code",
   "execution_count": 4,
   "id": "colored-northern",
   "metadata": {},
   "outputs": [],
   "source": [
    "df2 = pd.read_csv(\"/mnt/storage2/olek/bertrand-rep3/pretraining/mlm_train.csv.gz\")"
   ]
  },
  {
   "cell_type": "code",
   "execution_count": 5,
   "id": "inappropriate-zealand",
   "metadata": {},
   "outputs": [
    {
     "data": {
      "text/plain": [
       "(9125674, 4)"
      ]
     },
     "execution_count": 5,
     "metadata": {},
     "output_type": "execute_result"
    }
   ],
   "source": [
    "df2.shape"
   ]
  },
  {
   "cell_type": "code",
   "execution_count": 6,
   "id": "little-scholarship",
   "metadata": {},
   "outputs": [],
   "source": [
    "df3 = pd.read_csv(\"/mnt/storage2/olek/bertrand-rep3/pretraining/mlm_val.csv.gz\")"
   ]
  },
  {
   "cell_type": "code",
   "execution_count": 7,
   "id": "cutting-queensland",
   "metadata": {},
   "outputs": [
    {
     "data": {
      "text/plain": [
       "(2281419, 4)"
      ]
     },
     "execution_count": 7,
     "metadata": {},
     "output_type": "execute_result"
    }
   ],
   "source": [
    "df3.shape"
   ]
  },
  {
   "cell_type": "code",
   "execution_count": null,
   "id": "indonesian-haiti",
   "metadata": {},
   "outputs": [],
   "source": []
  }
 ],
 "metadata": {
  "kernelspec": {
   "display_name": "bertrand",
   "language": "python",
   "name": "bertrand"
  },
  "language_info": {
   "codemirror_mode": {
    "name": "ipython",
    "version": 3
   },
   "file_extension": ".py",
   "mimetype": "text/x-python",
   "name": "python",
   "nbconvert_exporter": "python",
   "pygments_lexer": "ipython3",
   "version": "3.8.0"
  }
 },
 "nbformat": 4,
 "nbformat_minor": 5
}
