{
 "cells": [
  {
   "cell_type": "code",
   "execution_count": 1,
   "id": "grave-eclipse",
   "metadata": {
    "tags": []
   },
   "outputs": [],
   "source": [
    "%load_ext autoreload\n",
    "%autoreload 2"
   ]
  },
  {
   "cell_type": "code",
   "execution_count": 2,
   "id": "streaming-redhead",
   "metadata": {
    "tags": []
   },
   "outputs": [],
   "source": [
    "import logging\n",
    "\n",
    "logger = logging.getLogger()\n",
    "logger.setLevel(logging.INFO)"
   ]
  },
  {
   "cell_type": "code",
   "execution_count": 3,
   "id": "appropriate-arizona",
   "metadata": {
    "tags": []
   },
   "outputs": [],
   "source": [
    "import glob\n",
    "import itertools\n",
    "import os\n",
    "import sys\n",
    "\n",
    "import numpy as np\n",
    "import pandas as pd\n",
    "from matplotlib import pyplot as plt\n",
    "from tqdm.auto import tqdm"
   ]
  },
  {
   "cell_type": "code",
   "execution_count": 4,
   "id": "union-frontier",
   "metadata": {
    "tags": []
   },
   "outputs": [],
   "source": [
    "sys.path.append(\"../../..\")"
   ]
  },
  {
   "cell_type": "code",
   "execution_count": 5,
   "id": "roman-transport",
   "metadata": {
    "tags": []
   },
   "outputs": [],
   "source": [
    "from bertrand.model.tokenization import AA_list\n",
    "from bertrand.negative_decoys.basic_filtering import (\n",
    "    basic_filtering as basic_filtering_bertrand,\n",
    ")\n",
    "from bertrand.negative_decoys.basic_filtering import (\n",
    "    read_positives_and_group_by_tcr,\n",
    "    read_reference_tcrs,\n",
    ")"
   ]
  },
  {
   "cell_type": "markdown",
   "id": "d34a8519-5bc5-4afe-b5a5-867c481f8180",
   "metadata": {},
   "source": [
    "# Binders"
   ]
  },
  {
   "cell_type": "code",
   "execution_count": 6,
   "id": "a81bffd4-89ed-4995-a893-80ed2aef8886",
   "metadata": {
    "tags": []
   },
   "outputs": [],
   "source": [
    "from bertrand.immrep.data_sources import read_test, read_train_be"
   ]
  },
  {
   "cell_type": "code",
   "execution_count": 7,
   "id": "b882b4a2-028c-4de6-a115-047c0fe7dcd2",
   "metadata": {
    "tags": []
   },
   "outputs": [],
   "source": [
    "test = read_test()\n",
    "train = read_train_be()"
   ]
  },
  {
   "cell_type": "code",
   "execution_count": null,
   "id": "f4fc70ce-a1b6-40db-9496-e984799c7f1b",
   "metadata": {},
   "outputs": [],
   "source": []
  },
  {
   "cell_type": "markdown",
   "id": "e408e357-85cc-4310-9f2e-fbf8e8fd071e",
   "metadata": {},
   "source": [
    "# Non-binders"
   ]
  },
  {
   "cell_type": "code",
   "execution_count": 8,
   "id": "b41be158-4172-46e9-b4bc-94d5927df9f0",
   "metadata": {
    "tags": []
   },
   "outputs": [],
   "source": [
    "ref = pd.concat([\n",
    "    pd.read_csv('../../../data/immrep/simulated_cdr3ab_1M_1.csv.gz', index_col=0),\n",
    "    pd.read_csv('../../../data/immrep/simulated_cdr3ab_1M_2.csv.gz', index_col=0),\n",
    "])"
   ]
  },
  {
   "cell_type": "code",
   "execution_count": 9,
   "id": "c43e17b2-5a08-4f8b-ac65-b5e87d6c22cd",
   "metadata": {
    "tags": []
   },
   "outputs": [],
   "source": [
    "ref = ref.rename(columns={\n",
    "    'junction_aa': 'CDR3b', \n",
    "    'junction_aa_L': 'CDR3a',\n",
    "    'v_call': 'TRBV',\n",
    "    'j_call': 'TRBJ',\n",
    "    'v_call_L': 'TRAV',\n",
    "    'j_call_L': 'TRAJ',\n",
    "})"
   ]
  },
  {
   "cell_type": "code",
   "execution_count": 10,
   "id": "0f326a5c-fa0a-4da9-a171-67f8bc12d95e",
   "metadata": {
    "tags": []
   },
   "outputs": [
    {
     "data": {
      "text/plain": [
       "(2000000, 32)"
      ]
     },
     "execution_count": 10,
     "metadata": {},
     "output_type": "execute_result"
    }
   ],
   "source": [
    "ref.shape"
   ]
  },
  {
   "cell_type": "code",
   "execution_count": 11,
   "id": "17e355f5-8c55-4a32-b831-4ade3e0f374c",
   "metadata": {
    "tags": []
   },
   "outputs": [
    {
     "data": {
      "text/plain": [
       "'[ACDEFGHIKLMNPQRSTVWY]+'"
      ]
     },
     "execution_count": 11,
     "metadata": {},
     "output_type": "execute_result"
    }
   ],
   "source": [
    "regex = f\"[{''.join(AA_list)}]+\"\n",
    "regex"
   ]
  },
  {
   "cell_type": "code",
   "execution_count": 12,
   "id": "0aa145d1-7449-4f74-acb8-68eb9faf6db0",
   "metadata": {
    "tags": []
   },
   "outputs": [],
   "source": [
    "def basic_filtering(ref, train, test):\n",
    "    return ref[\n",
    "        (~ref.CDR3a.isin(train.CDR3a_extended)) \n",
    "        & (~ref.CDR3a.isin(test.CDR3a_extended)) \n",
    "        & (~ref.CDR3b.isin(train.CDR3b_extended)) \n",
    "        & (~ref.CDR3b.isin(test.CDR3b_extended)) \n",
    "        & (ref.CDR3a.str[0] == \"C\")\n",
    "        & (ref.CDR3b.str[0] == \"C\")\n",
    "        & ref.CDR3a.str.fullmatch(regex)\n",
    "        & ref.CDR3b.str.fullmatch(regex)\n",
    "    ].reset_index(drop=True)\n",
    "\n"
   ]
  },
  {
   "cell_type": "code",
   "execution_count": 13,
   "id": "10ddd2f9-fdf3-42fc-9aa7-10e80b514652",
   "metadata": {
    "tags": []
   },
   "outputs": [
    {
     "name": "stdout",
     "output_type": "stream",
     "text": [
      "(1955743, 32)\n"
     ]
    }
   ],
   "source": [
    "ref = basic_filtering(ref, train, test)\n",
    "print(ref.shape)"
   ]
  },
  {
   "cell_type": "code",
   "execution_count": 14,
   "id": "5c975006-37b7-47a7-bb73-8e29714fcf6a",
   "metadata": {
    "tags": []
   },
   "outputs": [],
   "source": [
    "ref = ref.drop_duplicates(subset=['CDR3a', 'CDR3b']).reset_index(drop=True)"
   ]
  },
  {
   "cell_type": "code",
   "execution_count": 15,
   "id": "821e0b40-bf5d-477e-90e0-bd5e94330a31",
   "metadata": {
    "tags": []
   },
   "outputs": [
    {
     "data": {
      "text/plain": [
       "(1955723, 32)"
      ]
     },
     "execution_count": 15,
     "metadata": {},
     "output_type": "execute_result"
    }
   ],
   "source": [
    "ref.shape"
   ]
  },
  {
   "cell_type": "code",
   "execution_count": 16,
   "id": "45debd17-bf9c-454b-ae52-6646466b0d48",
   "metadata": {
    "tags": []
   },
   "outputs": [],
   "source": [
    "peptides = pd.read_csv('../../../data/presented_peptides.csv.gz', index_col=0)"
   ]
  },
  {
   "cell_type": "code",
   "execution_count": 17,
   "id": "a7a0a9ab-1224-411c-9e30-dd9512f98a74",
   "metadata": {
    "tags": []
   },
   "outputs": [
    {
     "data": {
      "text/plain": [
       "(211679, 3)"
      ]
     },
     "execution_count": 17,
     "metadata": {},
     "output_type": "execute_result"
    }
   ],
   "source": [
    "peptides.shape"
   ]
  },
  {
   "cell_type": "code",
   "execution_count": 18,
   "id": "cf6dec38-5f03-4824-96e6-04c7b8cb4fa9",
   "metadata": {
    "tags": []
   },
   "outputs": [
    {
     "data": {
      "text/html": [
       "<div>\n",
       "<style scoped>\n",
       "    .dataframe tbody tr th:only-of-type {\n",
       "        vertical-align: middle;\n",
       "    }\n",
       "\n",
       "    .dataframe tbody tr th {\n",
       "        vertical-align: top;\n",
       "    }\n",
       "\n",
       "    .dataframe thead th {\n",
       "        text-align: right;\n",
       "    }\n",
       "</style>\n",
       "<table border=\"1\" class=\"dataframe\">\n",
       "  <thead>\n",
       "    <tr style=\"text-align: right;\">\n",
       "      <th></th>\n",
       "      <th>HLA_type</th>\n",
       "      <th>Peptide2</th>\n",
       "      <th>is_presented</th>\n",
       "    </tr>\n",
       "  </thead>\n",
       "  <tbody>\n",
       "    <tr>\n",
       "      <th>abelin_pos_1</th>\n",
       "      <td>A02:01</td>\n",
       "      <td>KLWEMDNMLI</td>\n",
       "      <td>1</td>\n",
       "    </tr>\n",
       "    <tr>\n",
       "      <th>abelin_pos_2</th>\n",
       "      <td>A02:03</td>\n",
       "      <td>KLYDIDVAKV</td>\n",
       "      <td>1</td>\n",
       "    </tr>\n",
       "  </tbody>\n",
       "</table>\n",
       "</div>"
      ],
      "text/plain": [
       "             HLA_type    Peptide2  is_presented\n",
       "abelin_pos_1   A02:01  KLWEMDNMLI             1\n",
       "abelin_pos_2   A02:03  KLYDIDVAKV             1"
      ]
     },
     "execution_count": 18,
     "metadata": {},
     "output_type": "execute_result"
    }
   ],
   "source": [
    "peptides.head(2)"
   ]
  },
  {
   "cell_type": "code",
   "execution_count": 19,
   "id": "e4a8949e-d28c-4927-bdc4-f4d6ab53f65f",
   "metadata": {
    "tags": []
   },
   "outputs": [
    {
     "data": {
      "text/plain": [
       "False    211622\n",
       "True         57\n",
       "Name: Peptide2, dtype: int64"
      ]
     },
     "execution_count": 19,
     "metadata": {},
     "output_type": "execute_result"
    }
   ],
   "source": [
    "peptides.Peptide2.isin(train.Peptide).value_counts()"
   ]
  },
  {
   "cell_type": "code",
   "execution_count": 20,
   "id": "00a7021a-90fa-4b68-a839-9740ba7d6e7d",
   "metadata": {
    "tags": []
   },
   "outputs": [
    {
     "data": {
      "text/plain": [
       "False    211673\n",
       "True          6\n",
       "Name: Peptide2, dtype: int64"
      ]
     },
     "execution_count": 20,
     "metadata": {},
     "output_type": "execute_result"
    }
   ],
   "source": [
    "peptides.Peptide2.isin(test.Peptide).value_counts()"
   ]
  },
  {
   "cell_type": "code",
   "execution_count": 21,
   "id": "fb2ca3ae-35f1-44f8-95fa-8a034795791a",
   "metadata": {
    "tags": []
   },
   "outputs": [],
   "source": [
    "peptides = peptides[~peptides.Peptide2.isin(pd.concat([train.Peptide, test.Peptide]))]"
   ]
  },
  {
   "cell_type": "code",
   "execution_count": 22,
   "id": "62395729-4598-4f82-b3e5-be8b9d41969e",
   "metadata": {
    "tags": []
   },
   "outputs": [
    {
     "data": {
      "text/plain": [
       "A*02:01    1336\n",
       "A*01:01     940\n",
       "B*08:01     458\n",
       "B*35:01     384\n",
       "B*07:02     282\n",
       "A*11:01      84\n",
       "Name: HLA, dtype: int64"
      ]
     },
     "execution_count": 22,
     "metadata": {},
     "output_type": "execute_result"
    }
   ],
   "source": [
    "test.HLA.value_counts()"
   ]
  },
  {
   "cell_type": "code",
   "execution_count": 23,
   "id": "56d7b4c5-f43d-4ad4-81ae-a41589735a7e",
   "metadata": {
    "tags": []
   },
   "outputs": [],
   "source": [
    "focus_HLA_types = test.HLA.drop_duplicates()"
   ]
  },
  {
   "cell_type": "code",
   "execution_count": 24,
   "id": "266df459-7a4a-423c-a7d0-76747ad7c3ec",
   "metadata": {
    "tags": []
   },
   "outputs": [],
   "source": [
    "focus_HLA_types = focus_HLA_types.str.replace('*', '', regex=False)"
   ]
  },
  {
   "cell_type": "code",
   "execution_count": 25,
   "id": "36c54284-7952-476b-b9c0-e25c3fdcf9f7",
   "metadata": {
    "tags": []
   },
   "outputs": [
    {
     "data": {
      "text/html": [
       "<div>\n",
       "<style scoped>\n",
       "    .dataframe tbody tr th:only-of-type {\n",
       "        vertical-align: middle;\n",
       "    }\n",
       "\n",
       "    .dataframe tbody tr th {\n",
       "        vertical-align: top;\n",
       "    }\n",
       "\n",
       "    .dataframe thead th {\n",
       "        text-align: right;\n",
       "    }\n",
       "</style>\n",
       "<table border=\"1\" class=\"dataframe\">\n",
       "  <thead>\n",
       "    <tr style=\"text-align: right;\">\n",
       "      <th></th>\n",
       "      <th>HLA_type</th>\n",
       "      <th>Peptide2</th>\n",
       "      <th>is_presented</th>\n",
       "    </tr>\n",
       "  </thead>\n",
       "  <tbody>\n",
       "    <tr>\n",
       "      <th>abelin_pos_1</th>\n",
       "      <td>A02:01</td>\n",
       "      <td>KLWEMDNMLI</td>\n",
       "      <td>1</td>\n",
       "    </tr>\n",
       "    <tr>\n",
       "      <th>abelin_pos_2</th>\n",
       "      <td>A02:03</td>\n",
       "      <td>KLYDIDVAKV</td>\n",
       "      <td>1</td>\n",
       "    </tr>\n",
       "  </tbody>\n",
       "</table>\n",
       "</div>"
      ],
      "text/plain": [
       "             HLA_type    Peptide2  is_presented\n",
       "abelin_pos_1   A02:01  KLWEMDNMLI             1\n",
       "abelin_pos_2   A02:03  KLYDIDVAKV             1"
      ]
     },
     "execution_count": 25,
     "metadata": {},
     "output_type": "execute_result"
    }
   ],
   "source": [
    "peptides.head(2)"
   ]
  },
  {
   "cell_type": "code",
   "execution_count": 26,
   "id": "e8c27a86-925f-4c49-a783-a62e4ad227ac",
   "metadata": {
    "tags": []
   },
   "outputs": [
    {
     "data": {
      "text/plain": [
       "A11:01    4108\n",
       "A02:01    3243\n",
       "B08:01    3055\n",
       "B07:02    3054\n",
       "A01:01    1794\n",
       "B35:01     927\n",
       "Name: HLA_type, dtype: int64"
      ]
     },
     "execution_count": 26,
     "metadata": {},
     "output_type": "execute_result"
    }
   ],
   "source": [
    "peptides.loc[peptides.HLA_type.isin(focus_HLA_types), 'HLA_type'].value_counts()"
   ]
  },
  {
   "cell_type": "code",
   "execution_count": 27,
   "id": "bcf7a4fc-60a3-4eed-a657-72cdf43ace20",
   "metadata": {
    "tags": []
   },
   "outputs": [],
   "source": [
    "peptides_focused = peptides.loc[peptides.HLA_type.isin(focus_HLA_types)]"
   ]
  },
  {
   "cell_type": "code",
   "execution_count": 28,
   "id": "202c9772-8c49-4465-aa0f-5bbf720bbd48",
   "metadata": {
    "tags": []
   },
   "outputs": [],
   "source": [
    "peptides_focused = peptides_focused.Peptide2.drop_duplicates()"
   ]
  },
  {
   "cell_type": "code",
   "execution_count": 29,
   "id": "1d5ae300-d876-43c3-9244-68b849c5eeea",
   "metadata": {
    "tags": []
   },
   "outputs": [],
   "source": [
    "peptides_all = peptides.Peptide2.drop_duplicates()"
   ]
  },
  {
   "cell_type": "code",
   "execution_count": 30,
   "id": "9b0c48b3-c86f-454c-928d-9600c6995c0b",
   "metadata": {
    "tags": []
   },
   "outputs": [
    {
     "data": {
      "text/plain": [
       "(141489,)"
      ]
     },
     "execution_count": 30,
     "metadata": {},
     "output_type": "execute_result"
    }
   ],
   "source": [
    "peptides_all.shape"
   ]
  },
  {
   "cell_type": "code",
   "execution_count": 31,
   "id": "266a4cca-737a-42db-939a-7b224d732090",
   "metadata": {
    "tags": []
   },
   "outputs": [
    {
     "data": {
      "text/plain": [
       "(15584,)"
      ]
     },
     "execution_count": 31,
     "metadata": {},
     "output_type": "execute_result"
    }
   ],
   "source": [
    "peptides_focused.shape"
   ]
  },
  {
   "cell_type": "code",
   "execution_count": 32,
   "id": "e4449bca-1e75-45bf-b0a2-67975139eac9",
   "metadata": {
    "tags": []
   },
   "outputs": [],
   "source": [
    "peptides_sample = peptides_all.sample(n=len(ref), random_state=42, replace=True)"
   ]
  },
  {
   "cell_type": "code",
   "execution_count": 33,
   "id": "12ae61f0-1bdb-4307-89d4-aefc339ce85b",
   "metadata": {
    "tags": []
   },
   "outputs": [],
   "source": [
    "ref['Peptide'] = peptides_sample.values"
   ]
  },
  {
   "cell_type": "code",
   "execution_count": 34,
   "id": "b4a3699e-1e65-44e6-8c4b-8d1e95e4b4ae",
   "metadata": {
    "tags": []
   },
   "outputs": [],
   "source": [
    "SEED = 42"
   ]
  },
  {
   "cell_type": "code",
   "execution_count": 35,
   "id": "f330517f-3de6-4f19-b34f-a7efc6a12fa8",
   "metadata": {
    "tags": []
   },
   "outputs": [],
   "source": [
    "frac=0.04"
   ]
  },
  {
   "cell_type": "code",
   "execution_count": 36,
   "id": "f17291f8-3731-47ca-85b5-af95997a7c05",
   "metadata": {
    "tags": []
   },
   "outputs": [],
   "source": [
    "test_trav = ref.TRAV.drop_duplicates().sample(frac=frac, random_state=SEED)\n",
    "test_traj = ref.TRAJ.drop_duplicates().sample(frac=frac, random_state=SEED)\n",
    "test_trbv = ref.TRBV.drop_duplicates().sample(frac=frac, random_state=SEED)\n",
    "test_trbj = ref.TRBJ.drop_duplicates().sample(frac=frac, random_state=SEED)\n",
    "test_pep = ref.Peptide.drop_duplicates().sample(frac=frac, random_state=SEED)"
   ]
  },
  {
   "cell_type": "code",
   "execution_count": 37,
   "id": "290db05c-c9da-43bd-9c97-1b057e3dfd13",
   "metadata": {
    "tags": []
   },
   "outputs": [],
   "source": [
    "test_mask = (\n",
    "    ref.TRAV.isin(test_trav)\n",
    "    | ref.TRAJ.isin(test_traj)\n",
    "    | ref.TRBV.isin(test_trbv)\n",
    "    | ref.TRBJ.isin(test_trbj)\n",
    "    | ref.Peptide.isin(test_pep)\n",
    ")"
   ]
  },
  {
   "cell_type": "code",
   "execution_count": 38,
   "id": "9156e2ec-f991-4ad3-9ea3-ced795eb373c",
   "metadata": {
    "tags": []
   },
   "outputs": [
    {
     "data": {
      "text/plain": [
       "330996"
      ]
     },
     "execution_count": 38,
     "metadata": {},
     "output_type": "execute_result"
    }
   ],
   "source": [
    "test_mask.sum()"
   ]
  },
  {
   "cell_type": "code",
   "execution_count": 39,
   "id": "a4acae42-aa3c-4cb4-9eef-69cf420009db",
   "metadata": {
    "tags": []
   },
   "outputs": [],
   "source": [
    "train_mask = ~test_mask"
   ]
  },
  {
   "cell_type": "code",
   "execution_count": 40,
   "id": "9ccbfeed-2540-4c73-b4da-da8116b60582",
   "metadata": {
    "tags": []
   },
   "outputs": [
    {
     "data": {
      "text/plain": [
       "1624727"
      ]
     },
     "execution_count": 40,
     "metadata": {},
     "output_type": "execute_result"
    }
   ],
   "source": [
    "train_mask.sum()"
   ]
  },
  {
   "cell_type": "code",
   "execution_count": 41,
   "id": "aeb95e06-7dd6-43e6-bdb8-266402010c0e",
   "metadata": {
    "tags": []
   },
   "outputs": [
    {
     "data": {
      "text/plain": [
       "0.8307551734064589"
      ]
     },
     "execution_count": 41,
     "metadata": {},
     "output_type": "execute_result"
    }
   ],
   "source": [
    "train_mask.mean()"
   ]
  },
  {
   "cell_type": "code",
   "execution_count": 43,
   "id": "b083bba4-4bd8-4123-b303-a8550d974d7e",
   "metadata": {
    "tags": []
   },
   "outputs": [],
   "source": [
    "train_mlm = ref[train_mask].reset_index(drop=True)\n",
    "test_mlm = ref[test_mask].reset_index(drop=True)"
   ]
  },
  {
   "cell_type": "code",
   "execution_count": 44,
   "id": "edcc4a57-495e-43e9-94cc-b8a31deeb1da",
   "metadata": {
    "tags": []
   },
   "outputs": [],
   "source": [
    "train_mlm[['Peptide', 'CDR3a', 'CDR3b']].to_csv('../../../data/immrep/ptcr_mlm_train2.csv.gz', index=False)"
   ]
  },
  {
   "cell_type": "code",
   "execution_count": 45,
   "id": "d7959e54-e67d-4b03-a232-dc810246f8d5",
   "metadata": {
    "tags": []
   },
   "outputs": [],
   "source": [
    "test_mlm[['Peptide', 'CDR3a', 'CDR3b']].to_csv('../../../data/immrep/ptcr_mlm_val2.csv.gz', index=False)"
   ]
  },
  {
   "cell_type": "code",
   "execution_count": 41,
   "id": "frank-pregnancy",
   "metadata": {
    "tags": []
   },
   "outputs": [
    {
     "data": {
      "image/png": "[encoded data removed]",
      "text/plain": [
       "<Figure size 640x480 with 1 Axes>"
      ]
     },
     "metadata": {},
     "output_type": "display_data"
    }
   ],
   "source": [
    "ax = plt.gca()\n",
    "ref_ab.CDR3a.str.len().hist(ax=ax, density=True, alpha=0.5, label=\"reference alpha\")\n",
    "ref_tcrs_oakes.str.len().hist(ax=ax, density=True, alpha=0.5, label=\"reference (Oakes)\")\n",
    "df_pos.CDR3b.str.len().hist(ax=ax, density=True, alpha=0.5, label=\"binders\")\n",
    "plt.legend()\n",
    "plt.show()"
   ]
  },
  {
   "cell_type": "code",
   "execution_count": null,
   "id": "electronic-lawsuit",
   "metadata": {},
   "outputs": [],
   "source": []
  },
  {
   "cell_type": "code",
   "execution_count": 47,
   "id": "plain-reply",
   "metadata": {},
   "outputs": [],
   "source": [
    "def downsample_length(dataset, frac=1):\n",
    "    pos = dataset[dataset.y == 1]\n",
    "    neg = dataset[dataset.y == 0]\n",
    "\n",
    "    pos_count = pos.CDR3b.str.len().value_counts().sort_index()\n",
    "    neg_count = neg.CDR3b.str.len().value_counts().sort_index()\n",
    "\n",
    "    ratio = pos_count / neg_count\n",
    "    max_ratio = ratio.max()\n",
    "\n",
    "    to_remove = round((neg_count * (max_ratio - ratio)) / max_ratio).astype(int)\n",
    "    to_sample = neg_count - to_remove\n",
    "\n",
    "    neg_samples = []\n",
    "    for length, n_to_sample in to_sample.iteritems():\n",
    "        neg_sample = neg[neg.CDR3b.str.len() == length].sample(int(n_to_sample * frac), random_state=42)\n",
    "        neg_samples.append(neg_sample)\n",
    "    dataset_downsampled = pd.concat([pos] + neg_samples)\n",
    "    return dataset_downsampled"
   ]
  },
  {
   "cell_type": "code",
   "execution_count": 52,
   "id": "operational-management",
   "metadata": {},
   "outputs": [
    {
     "data": {
      "text/plain": [
       "(11407093,)"
      ]
     },
     "execution_count": 52,
     "metadata": {},
     "output_type": "execute_result"
    }
   ],
   "source": [
    "unique_tcrs.shape"
   ]
  },
  {
   "cell_type": "code",
   "execution_count": 56,
   "id": "thousand-north",
   "metadata": {},
   "outputs": [
    {
     "name": "stderr",
     "output_type": "stream",
     "text": [
      "INFO:root:Basic filtering: started with 11407093 reference TCRs, 11407093 after filtering\n"
     ]
    }
   ],
   "source": [
    "ref_tcrs_dean = basic_filtering_bertrand(unique_tcrs, df_pos)"
   ]
  },
  {
   "cell_type": "code",
   "execution_count": 57,
   "id": "usual-nightmare",
   "metadata": {},
   "outputs": [],
   "source": [
    "ref_tcrs_dean = ref_tcrs_dean.rename(columns={\"CDR3b\": \"junction_aa\"}).drop(columns=\"y\")"
   ]
  },
  {
   "cell_type": "code",
   "execution_count": 58,
   "id": "demanding-villa",
   "metadata": {},
   "outputs": [
    {
     "data": {
      "text/html": [
       "<div>\n",
       "<style scoped>\n",
       "    .dataframe tbody tr th:only-of-type {\n",
       "        vertical-align: middle;\n",
       "    }\n",
       "\n",
       "    .dataframe tbody tr th {\n",
       "        vertical-align: top;\n",
       "    }\n",
       "\n",
       "    .dataframe thead th {\n",
       "        text-align: right;\n",
       "    }\n",
       "</style>\n",
       "<table border=\"1\" class=\"dataframe\">\n",
       "  <thead>\n",
       "    <tr style=\"text-align: right;\">\n",
       "      <th></th>\n",
       "      <th>junction_aa</th>\n",
       "    </tr>\n",
       "  </thead>\n",
       "  <tbody>\n",
       "    <tr>\n",
       "      <th>1915758</th>\n",
       "      <td>CASSLADLGGLEQYF</td>\n",
       "    </tr>\n",
       "    <tr>\n",
       "      <th>453050</th>\n",
       "      <td>CASRYGGSSDTQYF</td>\n",
       "    </tr>\n",
       "    <tr>\n",
       "      <th>2007832</th>\n",
       "      <td>CASSTAGPPQFWAGTDTQYF</td>\n",
       "    </tr>\n",
       "    <tr>\n",
       "      <th>7020283</th>\n",
       "      <td>CASSFVRLEQFF</td>\n",
       "    </tr>\n",
       "    <tr>\n",
       "      <th>4305700</th>\n",
       "      <td>CASSEAQGAEETQYF</td>\n",
       "    </tr>\n",
       "  </tbody>\n",
       "</table>\n",
       "</div>"
      ],
      "text/plain": [
       "                  junction_aa\n",
       "1915758       CASSLADLGGLEQYF\n",
       "453050         CASRYGGSSDTQYF\n",
       "2007832  CASSTAGPPQFWAGTDTQYF\n",
       "7020283          CASSFVRLEQFF\n",
       "4305700       CASSEAQGAEETQYF"
      ]
     },
     "execution_count": 58,
     "metadata": {},
     "output_type": "execute_result"
    }
   ],
   "source": [
    "ref_tcrs_dean.sample(5)"
   ]
  },
  {
   "cell_type": "code",
   "execution_count": 61,
   "id": "suited-hudson",
   "metadata": {},
   "outputs": [],
   "source": [
    "ref_tcrs_dean.to_csv(\"../../data/dean_tcr_repertoires/dean_downsampled_11M.csv.gz\")"
   ]
  },
  {
   "cell_type": "code",
   "execution_count": 62,
   "id": "collectible-buying",
   "metadata": {},
   "outputs": [],
   "source": [
    "d = pd.read_csv(\"../../data/presented_peptides.csv.gz\", index_col=0)"
   ]
  },
  {
   "cell_type": "code",
   "execution_count": 63,
   "id": "certain-female",
   "metadata": {},
   "outputs": [
    {
     "data": {
      "text/html": [
       "<div>\n",
       "<style scoped>\n",
       "    .dataframe tbody tr th:only-of-type {\n",
       "        vertical-align: middle;\n",
       "    }\n",
       "\n",
       "    .dataframe tbody tr th {\n",
       "        vertical-align: top;\n",
       "    }\n",
       "\n",
       "    .dataframe thead th {\n",
       "        text-align: right;\n",
       "    }\n",
       "</style>\n",
       "<table border=\"1\" class=\"dataframe\">\n",
       "  <thead>\n",
       "    <tr style=\"text-align: right;\">\n",
       "      <th></th>\n",
       "      <th>HLA_type</th>\n",
       "      <th>Peptide2</th>\n",
       "      <th>is_presented</th>\n",
       "    </tr>\n",
       "  </thead>\n",
       "  <tbody>\n",
       "    <tr>\n",
       "      <th>abelin_pos_1</th>\n",
       "      <td>A02:01</td>\n",
       "      <td>KLWEMDNMLI</td>\n",
       "      <td>1</td>\n",
       "    </tr>\n",
       "    <tr>\n",
       "      <th>abelin_pos_2</th>\n",
       "      <td>A02:03</td>\n",
       "      <td>KLYDIDVAKV</td>\n",
       "      <td>1</td>\n",
       "    </tr>\n",
       "    <tr>\n",
       "      <th>abelin_pos_4</th>\n",
       "      <td>A02:07</td>\n",
       "      <td>QVDDLKAKL</td>\n",
       "      <td>1</td>\n",
       "    </tr>\n",
       "    <tr>\n",
       "      <th>abelin_pos_6</th>\n",
       "      <td>A24:02</td>\n",
       "      <td>AYVHMVTHF</td>\n",
       "      <td>1</td>\n",
       "    </tr>\n",
       "    <tr>\n",
       "      <th>abelin_pos_10</th>\n",
       "      <td>B35:01</td>\n",
       "      <td>LPDEIYHVY</td>\n",
       "      <td>1</td>\n",
       "    </tr>\n",
       "  </tbody>\n",
       "</table>\n",
       "</div>"
      ],
      "text/plain": [
       "              HLA_type    Peptide2  is_presented\n",
       "abelin_pos_1    A02:01  KLWEMDNMLI             1\n",
       "abelin_pos_2    A02:03  KLYDIDVAKV             1\n",
       "abelin_pos_4    A02:07   QVDDLKAKL             1\n",
       "abelin_pos_6    A24:02   AYVHMVTHF             1\n",
       "abelin_pos_10   B35:01   LPDEIYHVY             1"
      ]
     },
     "execution_count": 63,
     "metadata": {},
     "output_type": "execute_result"
    }
   ],
   "source": [
    "d.head()"
   ]
  },
  {
   "cell_type": "code",
   "execution_count": 1,
   "id": "serious-morning",
   "metadata": {},
   "outputs": [],
   "source": [
    "import pandas as pd"
   ]
  },
  {
   "cell_type": "code",
   "execution_count": 2,
   "id": "integral-publication",
   "metadata": {},
   "outputs": [],
   "source": [
    "df = pd.read_csv(\"../../data/dean_tcr_repertoires/dean_downsampled_11M.csv.gz\")"
   ]
  },
  {
   "cell_type": "code",
   "execution_count": 3,
   "id": "compound-princess",
   "metadata": {},
   "outputs": [
    {
     "data": {
      "text/plain": [
       "(11407093, 2)"
      ]
     },
     "execution_count": 3,
     "metadata": {},
     "output_type": "execute_result"
    }
   ],
   "source": [
    "df.shape"
   ]
  },
  {
   "cell_type": "code",
   "execution_count": 4,
   "id": "colored-northern",
   "metadata": {},
   "outputs": [],
   "source": [
    "df2 = pd.read_csv(\"/mnt/storage2/olek/bertrand-rep3/pretraining/mlm_train.csv.gz\")"
   ]
  },
  {
   "cell_type": "code",
   "execution_count": 5,
   "id": "inappropriate-zealand",
   "metadata": {},
   "outputs": [
    {
     "data": {
      "text/plain": [
       "(9125674, 4)"
      ]
     },
     "execution_count": 5,
     "metadata": {},
     "output_type": "execute_result"
    }
   ],
   "source": [
    "df2.shape"
   ]
  },
  {
   "cell_type": "code",
   "execution_count": 6,
   "id": "little-scholarship",
   "metadata": {},
   "outputs": [],
   "source": [
    "df3 = pd.read_csv(\"/mnt/storage2/olek/bertrand-rep3/pretraining/mlm_val.csv.gz\")"
   ]
  },
  {
   "cell_type": "code",
   "execution_count": 7,
   "id": "cutting-queensland",
   "metadata": {},
   "outputs": [
    {
     "data": {
      "text/plain": [
       "(2281419, 4)"
      ]
     },
     "execution_count": 7,
     "metadata": {},
     "output_type": "execute_result"
    }
   ],
   "source": [
    "df3.shape"
   ]
  },
  {
   "cell_type": "code",
   "execution_count": null,
   "id": "indonesian-haiti",
   "metadata": {},
   "outputs": [],
   "source": []
  }
 ],
 "metadata": {
  "kernelspec": {
   "display_name": "bertrand",
   "language": "python",
   "name": "bertrand"
  },
  "language_info": {
   "codemirror_mode": {
    "name": "ipython",
    "version": 3
   },
   "file_extension": ".py",
   "mimetype": "text/x-python",
   "name": "python",
   "nbconvert_exporter": "python",
   "pygments_lexer": "ipython3",
   "version": "3.8.0"
  }
 },
 "nbformat": 4,
 "nbformat_minor": 5
}
