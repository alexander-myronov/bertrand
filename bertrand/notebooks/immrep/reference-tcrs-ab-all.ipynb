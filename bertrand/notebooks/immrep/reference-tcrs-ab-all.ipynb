{
 "cells": [
  {
   "cell_type": "code",
   "execution_count": 1,
   "id": "grave-eclipse",
   "metadata": {
    "tags": []
   },
   "outputs": [],
   "source": [
    "%load_ext autoreload\n",
    "%autoreload 2"
   ]
  },
  {
   "cell_type": "code",
   "execution_count": 2,
   "id": "streaming-redhead",
   "metadata": {
    "tags": []
   },
   "outputs": [],
   "source": [
    "import logging\n",
    "\n",
    "logger = logging.getLogger()\n",
    "logger.setLevel(logging.INFO)"
   ]
  },
  {
   "cell_type": "code",
   "execution_count": 3,
   "id": "appropriate-arizona",
   "metadata": {
    "tags": []
   },
   "outputs": [],
   "source": [
    "import glob\n",
    "import itertools\n",
    "import os\n",
    "import sys\n",
    "\n",
    "import numpy as np\n",
    "import pandas as pd\n",
    "from matplotlib import pyplot as plt\n",
    "from tqdm.auto import tqdm"
   ]
  },
  {
   "cell_type": "code",
   "execution_count": 4,
   "id": "union-frontier",
   "metadata": {
    "tags": []
   },
   "outputs": [],
   "source": [
    "sys.path.append(\"../../..\")"
   ]
  },
  {
   "cell_type": "code",
   "execution_count": 5,
   "id": "roman-transport",
   "metadata": {
    "tags": []
   },
   "outputs": [],
   "source": [
    "from bertrand.model.tokenization import AA_list\n",
    "from bertrand.negative_decoys.basic_filtering import (\n",
    "    basic_filtering as basic_filtering_bertrand,\n",
    ")\n",
    "from bertrand.negative_decoys.basic_filtering import (\n",
    "    read_positives_and_group_by_tcr,\n",
    "    read_reference_tcrs,\n",
    ")"
   ]
  },
  {
   "cell_type": "code",
   "execution_count": 686,
   "id": "ead4dccf-a6ca-4b98-9ff0-d3e764078824",
   "metadata": {
    "tags": []
   },
   "outputs": [],
   "source": [
    "cdrcols = ['CDR3a_extended', 'CDR3b_extended']"
   ]
  },
  {
   "cell_type": "code",
   "execution_count": 6,
   "id": "a4f94159-5141-4706-b3d7-59d2e14857a4",
   "metadata": {
    "tags": []
   },
   "outputs": [],
   "source": [
    "test = pd.read_csv(\"../../../data/immrep/test.csv\")"
   ]
  },
  {
   "cell_type": "code",
   "execution_count": 7,
   "id": "1bb5859f-d8a7-49dc-a5da-82f7fb4fd24a",
   "metadata": {
    "tags": []
   },
   "outputs": [
    {
     "data": {
      "text/plain": [
       "(3484, 17)"
      ]
     },
     "execution_count": 7,
     "metadata": {},
     "output_type": "execute_result"
    }
   ],
   "source": [
    "test.shape"
   ]
  },
  {
   "cell_type": "code",
   "execution_count": 8,
   "id": "c01dbfa4-e5bb-442e-864a-f622ab5c2fea",
   "metadata": {
    "tags": []
   },
   "outputs": [
    {
     "data": {
      "text/plain": [
       "Index(['ID', 'Peptide', 'HLA', 'Va', 'Ja', 'TCRa', 'CDR1a', 'CDR2a', 'CDR3a',\n",
       "       'CDR3a_extended', 'Vb', 'Jb', 'TCRb', 'CDR1b', 'CDR2b', 'CDR3b',\n",
       "       'CDR3b_extended'],\n",
       "      dtype='object')"
      ]
     },
     "execution_count": 8,
     "metadata": {},
     "output_type": "execute_result"
    }
   ],
   "source": [
    "test.columns"
   ]
  },
  {
   "cell_type": "code",
   "execution_count": 9,
   "id": "17fdd723-06f8-499b-9c41-39a45cf9ce15",
   "metadata": {
    "tags": []
   },
   "outputs": [
    {
     "data": {
      "text/html": [
       "<div>\n",
       "<style scoped>\n",
       "    .dataframe tbody tr th:only-of-type {\n",
       "        vertical-align: middle;\n",
       "    }\n",
       "\n",
       "    .dataframe tbody tr th {\n",
       "        vertical-align: top;\n",
       "    }\n",
       "\n",
       "    .dataframe thead th {\n",
       "        text-align: right;\n",
       "    }\n",
       "</style>\n",
       "<table border=\"1\" class=\"dataframe\">\n",
       "  <thead>\n",
       "    <tr style=\"text-align: right;\">\n",
       "      <th></th>\n",
       "      <th>ID</th>\n",
       "      <th>Peptide</th>\n",
       "      <th>HLA</th>\n",
       "      <th>Va</th>\n",
       "      <th>Ja</th>\n",
       "      <th>TCRa</th>\n",
       "      <th>CDR1a</th>\n",
       "      <th>CDR2a</th>\n",
       "      <th>CDR3a</th>\n",
       "      <th>CDR3a_extended</th>\n",
       "      <th>Vb</th>\n",
       "      <th>Jb</th>\n",
       "      <th>TCRb</th>\n",
       "      <th>CDR1b</th>\n",
       "      <th>CDR2b</th>\n",
       "      <th>CDR3b</th>\n",
       "      <th>CDR3b_extended</th>\n",
       "    </tr>\n",
       "  </thead>\n",
       "  <tbody>\n",
       "    <tr>\n",
       "      <th>0</th>\n",
       "      <td>0</td>\n",
       "      <td>SALPTNADLY</td>\n",
       "      <td>A*01:01</td>\n",
       "      <td>TRAV8-3*01</td>\n",
       "      <td>TRAJ21*01</td>\n",
       "      <td>MLLELIPLLGIHFVLRTARAQSVTQPDIHITVSEGASLELRCNYSY...</td>\n",
       "      <td>YGATPY</td>\n",
       "      <td>YFSGDTLV</td>\n",
       "      <td>AVGDNFNKFY</td>\n",
       "      <td>CAVGDNFNKFYF</td>\n",
       "      <td>TRBV28*01</td>\n",
       "      <td>TRBJ2-7*01</td>\n",
       "      <td>MGIRLLCRVAFCFLAVGLVDVKVTQSSRYLVKRTGEKVFLECVQDM...</td>\n",
       "      <td>MDHEN</td>\n",
       "      <td>SYDVKM</td>\n",
       "      <td>ASAPTSAMGEQY</td>\n",
       "      <td>CASAPTSAMGEQYF</td>\n",
       "    </tr>\n",
       "    <tr>\n",
       "      <th>1</th>\n",
       "      <td>1</td>\n",
       "      <td>IPSINVHHY</td>\n",
       "      <td>B*35:01</td>\n",
       "      <td>TRAV30*01</td>\n",
       "      <td>TRAJ26*01</td>\n",
       "      <td>METLLKVLSGTLLWQLTWVRSQQPVQSPQAVILREGEDAVINCSSS...</td>\n",
       "      <td>KALYS</td>\n",
       "      <td>LLKGGEQ</td>\n",
       "      <td>GTYDNYGQNFV</td>\n",
       "      <td>CGTYDNYGQNFVF</td>\n",
       "      <td>TRBV7-3*01</td>\n",
       "      <td>TRBJ2-3*01</td>\n",
       "      <td>MGTRLLCWAALCLLGADHTGAGVSQTPSNKVTEKGKYVELRCDPIS...</td>\n",
       "      <td>SGHTA</td>\n",
       "      <td>FQGTGA</td>\n",
       "      <td>ASSRLAGGVGDTQY</td>\n",
       "      <td>CASSRLAGGVGDTQYF</td>\n",
       "    </tr>\n",
       "    <tr>\n",
       "      <th>2</th>\n",
       "      <td>2</td>\n",
       "      <td>GLCTLVAML</td>\n",
       "      <td>A*02:01</td>\n",
       "      <td>TRAV5*01</td>\n",
       "      <td>TRAJ23*01</td>\n",
       "      <td>MKTFAGFSFLFLWLQLDCMSRGEDVEQSLFLSVREGDSSVINCTYT...</td>\n",
       "      <td>DSSSTY</td>\n",
       "      <td>IFSNMDM</td>\n",
       "      <td>AESIGKLI</td>\n",
       "      <td>CAESIGKLIF</td>\n",
       "      <td>TRBV29-1*01</td>\n",
       "      <td>TRBJ1-4*01</td>\n",
       "      <td>MLSLLLLLLGLGSVFSAVISQKPSRDICQRGTSLTIQCQVDSQVTM...</td>\n",
       "      <td>SQVTM</td>\n",
       "      <td>ANQGSEA</td>\n",
       "      <td>SVGTGGTNEKLF</td>\n",
       "      <td>CSVGTGGTNEKLFF</td>\n",
       "    </tr>\n",
       "  </tbody>\n",
       "</table>\n",
       "</div>"
      ],
      "text/plain": [
       "   ID     Peptide      HLA          Va         Ja  \\\n",
       "0   0  SALPTNADLY  A*01:01  TRAV8-3*01  TRAJ21*01   \n",
       "1   1   IPSINVHHY  B*35:01   TRAV30*01  TRAJ26*01   \n",
       "2   2   GLCTLVAML  A*02:01    TRAV5*01  TRAJ23*01   \n",
       "\n",
       "                                                TCRa   CDR1a     CDR2a  \\\n",
       "0  MLLELIPLLGIHFVLRTARAQSVTQPDIHITVSEGASLELRCNYSY...  YGATPY  YFSGDTLV   \n",
       "1  METLLKVLSGTLLWQLTWVRSQQPVQSPQAVILREGEDAVINCSSS...   KALYS   LLKGGEQ   \n",
       "2  MKTFAGFSFLFLWLQLDCMSRGEDVEQSLFLSVREGDSSVINCTYT...  DSSSTY   IFSNMDM   \n",
       "\n",
       "         CDR3a CDR3a_extended           Vb          Jb  \\\n",
       "0   AVGDNFNKFY   CAVGDNFNKFYF    TRBV28*01  TRBJ2-7*01   \n",
       "1  GTYDNYGQNFV  CGTYDNYGQNFVF   TRBV7-3*01  TRBJ2-3*01   \n",
       "2     AESIGKLI     CAESIGKLIF  TRBV29-1*01  TRBJ1-4*01   \n",
       "\n",
       "                                                TCRb  CDR1b    CDR2b  \\\n",
       "0  MGIRLLCRVAFCFLAVGLVDVKVTQSSRYLVKRTGEKVFLECVQDM...  MDHEN   SYDVKM   \n",
       "1  MGTRLLCWAALCLLGADHTGAGVSQTPSNKVTEKGKYVELRCDPIS...  SGHTA   FQGTGA   \n",
       "2  MLSLLLLLLGLGSVFSAVISQKPSRDICQRGTSLTIQCQVDSQVTM...  SQVTM  ANQGSEA   \n",
       "\n",
       "            CDR3b    CDR3b_extended  \n",
       "0    ASAPTSAMGEQY    CASAPTSAMGEQYF  \n",
       "1  ASSRLAGGVGDTQY  CASSRLAGGVGDTQYF  \n",
       "2    SVGTGGTNEKLF    CSVGTGGTNEKLFF  "
      ]
     },
     "execution_count": 9,
     "metadata": {},
     "output_type": "execute_result"
    }
   ],
   "source": [
    "test.head(3)"
   ]
  },
  {
   "cell_type": "code",
   "execution_count": null,
   "id": "74ab5ed9-784d-40cd-9b6b-e1c40f2a38d3",
   "metadata": {
    "tags": []
   },
   "outputs": [],
   "source": []
  },
  {
   "cell_type": "code",
   "execution_count": 15,
   "id": "a9be5c80-4e0a-45d1-88c6-2d68e0754c63",
   "metadata": {
    "tags": []
   },
   "outputs": [],
   "source": [
    "def diagnostics(train):\n",
    "    print(f\"{len(train)} examples\")\n",
    "    m = train.CDR3a_extended.isin(test.CDR3a_extended) | train.CDR3b_extended.isin(test.CDR3b_extended)\n",
    "    print(f\"{(~m).sum()} usable examples, {m.sum()} in limbo\")\n",
    "    print(\"### CDR\")\n",
    "    print(\"Length disribution\")\n",
    "    a = train.CDR3a_extended.str.len().value_counts().sort_index()\n",
    "    b = train.CDR3b_extended.str.len().value_counts().sort_index()\n",
    "    j = pd.concat([a, b], axis=1).fillna(0).astype(int)\n",
    "    j.index = j.index.astype(int)\n",
    "    print(j)\n",
    "\n",
    "    nad = len(train.CDR3a_extended.drop_duplicates())\n",
    "    nbd = len(train.CDR3b_extended.drop_duplicates())\n",
    "    nnd = len(train[[\"CDR3a_extended\", \"CDR3b_extended\"]].drop_duplicates())\n",
    "\n",
    "    print(f\"{nad} CDR3a unique in {len(train)}\")\n",
    "    print(f\"{nbd} CDR3b unique in {len(train)}\")\n",
    "    print(f\"{nnd} unique CDR3a,CDR3b pairs in {len(train)}\")\n",
    "\n",
    "    print(\"### Peptide\")\n",
    "    pvc = train.Peptide.value_counts()\n",
    "    print(f\"{len(pvc)} unique peptides\")\n",
    "    for top in [5, 10, 15]:\n",
    "        top5 = pvc.head(top).sum() / len(train)\n",
    "        print(f\"{top5:.2f} observations in top {top} peptides\")\n",
    "\n",
    "    print(\"Test set peptides present\")\n",
    "    print(\"Observations for test peptides\")\n",
    "    print(test.Peptide.drop_duplicates().isin(train.Peptide).value_counts().sort_index())\n",
    "    td = train[train.Peptide.isin(test.Peptide)]\n",
    "\n",
    "    print(td.Peptide.value_counts())\n",
    "\n",
    "    cols = [\"CDR3a_extended\", \"CDR3b_extended\"]\n",
    "    test_index = pd.MultiIndex.from_frame(test[cols])\n",
    "    train_index = pd.MultiIndex.from_frame(train[cols])\n",
    "    s = test_index.isin(train_index).sum()\n",
    "    print(f\"{s} exact test observations in train\")\n",
    "\n",
    "    print(\"### HLA\")\n",
    "    print(train.HLA.value_counts().head(10))"
   ]
  },
  {
   "cell_type": "code",
   "execution_count": 16,
   "id": "bc095d54-d79a-417c-8590-efcce6921ed4",
   "metadata": {
    "tags": []
   },
   "outputs": [
    {
     "name": "stdout",
     "output_type": "stream",
     "text": [
      "3484 examples\n",
      "0 usable examples, 3484 in limbo\n",
      "### CDR\n",
      "Length disribution\n",
      "    CDR3a_extended  CDR3b_extended\n",
      "7                2               0\n",
      "8                6               0\n",
      "9               10              25\n",
      "10              54               9\n",
      "11             305              58\n",
      "12             570             213\n",
      "13             647             813\n",
      "14             796             739\n",
      "15             622             675\n",
      "16             275             544\n",
      "17             145             260\n",
      "18              36              75\n",
      "19               8              45\n",
      "20               5               7\n",
      "21               1              19\n",
      "24               2               0\n",
      "22               0               2\n",
      "637 CDR3a unique in 3484\n",
      "632 CDR3b unique in 3484\n",
      "727 unique CDR3a,CDR3b pairs in 3484\n",
      "### Peptide\n",
      "20 unique peptides\n",
      "0.51 observations in top 5 peptides\n",
      "0.75 observations in top 10 peptides\n",
      "0.89 observations in top 15 peptides\n",
      "Test set peptides present\n",
      "Observations for test peptides\n",
      "True    20\n",
      "Name: Peptide, dtype: int64\n",
      "GILGFVFTL      526\n",
      "RAKFKQLL       362\n",
      "VSDGGPNLY      346\n",
      "EPLPQGQLTAY    288\n",
      "NLVPMVATV      258\n",
      "YVLDHLIVV      204\n",
      "TDLGQNLLY      198\n",
      "VTEHDTLLY      150\n",
      "GLCTLVAML      144\n",
      "VLEETSVML      126\n",
      "RPHERNGFTVL    114\n",
      "SALPTNADLY     108\n",
      "IPSINVHHY       96\n",
      "QIKVRVDMV       96\n",
      "RPPIFIRRL       90\n",
      "IVTDFSVIK       84\n",
      "TPRVTGGGAM      78\n",
      "YLQPRTFLL       78\n",
      "FTDALGIDEY      72\n",
      "TSDACMMTMY      66\n",
      "Name: Peptide, dtype: int64\n",
      "3484 exact test observations in train\n",
      "### HLA\n",
      "A*02:01    1336\n",
      "A*01:01     940\n",
      "B*08:01     458\n",
      "B*35:01     384\n",
      "B*07:02     282\n",
      "A*11:01      84\n",
      "Name: HLA, dtype: int64\n"
     ]
    }
   ],
   "source": [
    "diagnostics(test)"
   ]
  },
  {
   "cell_type": "code",
   "execution_count": 17,
   "id": "fd4e7c2e-b0d6-4d09-8ce5-279485d1b15c",
   "metadata": {
    "tags": []
   },
   "outputs": [],
   "source": [
    "train_immrep3 = pd.read_csv(\"../../../data/immrep/VDJdb_paired_chain.csv\")"
   ]
  },
  {
   "cell_type": "code",
   "execution_count": 18,
   "id": "03514a67-541f-4a86-8fb7-1cf18292b7ef",
   "metadata": {
    "tags": []
   },
   "outputs": [
    {
     "name": "stdout",
     "output_type": "stream",
     "text": [
      "11312 examples\n",
      "10035 usable examples, 1277 in limbo\n",
      "### CDR\n",
      "Length disribution\n",
      "    CDR3a_extended  CDR3b_extended\n",
      "5                4               0\n",
      "6                4               0\n",
      "7               13               1\n",
      "8               20               3\n",
      "9               65               8\n",
      "10             440              54\n",
      "11            1145             297\n",
      "12            1828             777\n",
      "13            2261            2866\n",
      "14            2036            2357\n",
      "15            1872            2324\n",
      "16             806            1379\n",
      "17             523             740\n",
      "18             177             291\n",
      "19              64             146\n",
      "20              24              51\n",
      "21              23              11\n",
      "22               3               2\n",
      "23               1               3\n",
      "24               1               0\n",
      "25               0               2\n",
      "8651 CDR3a unique in 11312\n",
      "8993 CDR3b unique in 11312\n",
      "11140 unique CDR3a,CDR3b pairs in 11312\n",
      "### Peptide\n",
      "808 unique peptides\n",
      "0.44 observations in top 5 peptides\n",
      "0.61 observations in top 10 peptides\n",
      "0.70 observations in top 15 peptides\n",
      "Test set peptides present\n",
      "Observations for test peptides\n",
      "False     7\n",
      "True     13\n",
      "Name: Peptide, dtype: int64\n",
      "GILGFVFTL      1818\n",
      "RAKFKQLL       1066\n",
      "YLQPRTFLL       434\n",
      "NLVPMVATV       390\n",
      "GLCTLVAML       351\n",
      "IVTDFSVIK       332\n",
      "TPRVTGGGAM       62\n",
      "RPPIFIRRL        45\n",
      "RPHERNGFTVL      27\n",
      "EPLPQGQLTAY      14\n",
      "YVLDHLIVV        11\n",
      "QIKVRVDMV         7\n",
      "IPSINVHHY         6\n",
      "Name: Peptide, dtype: int64\n",
      "221 exact test observations in train\n",
      "### HLA\n",
      "HLA-A*02:01    5419\n",
      "HLA-B*08:01    1115\n",
      "HLA-A*03:01    1093\n",
      "HLA-A*11:01    1075\n",
      "HLA-A*01:01     902\n",
      "HLA-B*07:02     771\n",
      "HLA-A*24:02     273\n",
      "HLA-B*57:01     153\n",
      "HLA-A*68:01      96\n",
      "HLA-B*15:01      94\n",
      "Name: HLA, dtype: int64\n"
     ]
    }
   ],
   "source": [
    "diagnostics(train_immrep3)"
   ]
  },
  {
   "cell_type": "code",
   "execution_count": 19,
   "id": "81b514a1-7001-4d67-93ee-c1a2d3690581",
   "metadata": {
    "tags": []
   },
   "outputs": [],
   "source": [
    "be = pd.read_parquet(\"../../../data/binding-estimation\")"
   ]
  },
  {
   "cell_type": "code",
   "execution_count": 20,
   "id": "a24b5b01-9265-4d8e-8ce5-a9626405fa0c",
   "metadata": {
    "tags": []
   },
   "outputs": [
    {
     "data": {
      "text/plain": [
       "(5170369, 43)"
      ]
     },
     "execution_count": 20,
     "metadata": {},
     "output_type": "execute_result"
    }
   ],
   "source": [
    "be.shape"
   ]
  },
  {
   "cell_type": "code",
   "execution_count": 21,
   "id": "d5570e9c-6b1f-4f45-a4a8-c3a8db94a053",
   "metadata": {
    "tags": []
   },
   "outputs": [],
   "source": [
    "binders = be[be.is_binder]"
   ]
  },
  {
   "cell_type": "code",
   "execution_count": 22,
   "id": "b9dc3fa1-2ab5-4978-adfe-b863d58cd3a6",
   "metadata": {
    "tags": []
   },
   "outputs": [
    {
     "data": {
      "text/html": [
       "<div>\n",
       "<style scoped>\n",
       "    .dataframe tbody tr th:only-of-type {\n",
       "        vertical-align: middle;\n",
       "    }\n",
       "\n",
       "    .dataframe tbody tr th {\n",
       "        vertical-align: top;\n",
       "    }\n",
       "\n",
       "    .dataframe thead th {\n",
       "        text-align: right;\n",
       "    }\n",
       "</style>\n",
       "<table border=\"1\" class=\"dataframe\">\n",
       "  <thead>\n",
       "    <tr style=\"text-align: right;\">\n",
       "      <th>CDR3_beta</th>\n",
       "      <th>False</th>\n",
       "      <th>True</th>\n",
       "    </tr>\n",
       "    <tr>\n",
       "      <th>CDR3_alpha</th>\n",
       "      <th></th>\n",
       "      <th></th>\n",
       "    </tr>\n",
       "  </thead>\n",
       "  <tbody>\n",
       "    <tr>\n",
       "      <th>False</th>\n",
       "      <td>28559</td>\n",
       "      <td>7297</td>\n",
       "    </tr>\n",
       "    <tr>\n",
       "      <th>True</th>\n",
       "      <td>38533</td>\n",
       "      <td>2</td>\n",
       "    </tr>\n",
       "  </tbody>\n",
       "</table>\n",
       "</div>"
      ],
      "text/plain": [
       "CDR3_beta   False  True\n",
       "CDR3_alpha             \n",
       "False       28559  7297\n",
       "True        38533     2"
      ]
     },
     "execution_count": 22,
     "metadata": {},
     "output_type": "execute_result"
    }
   ],
   "source": [
    "pd.crosstab(binders.CDR3_alpha.isna(), binders.CDR3_beta.isna())"
   ]
  },
  {
   "cell_type": "code",
   "execution_count": 23,
   "id": "42a310df-6d71-4f53-b5d6-6a69d4d76fa1",
   "metadata": {
    "tags": []
   },
   "outputs": [],
   "source": [
    "alpha_beta_binders = binders[~binders.CDR3_beta.isna() & ~binders.CDR3_alpha.isna()]"
   ]
  },
  {
   "cell_type": "code",
   "execution_count": 24,
   "id": "d65ce3b8-7973-426f-b94e-b09446ad4df9",
   "metadata": {
    "tags": []
   },
   "outputs": [
    {
     "data": {
      "text/plain": [
       "https://www.jimmunol.org/content/202/1_Supplement/131.4              13644\n",
       "10x CMV                                                               2737\n",
       "PMID:34793243                                                         1816\n",
       "PMID:30479382                                                          963\n",
       "PMID:34341799|https://github.com/antigenomics/vdjdb-db/issues/326      764\n",
       "PMID:28636592                                                          754\n",
       "ardigen_healthy/donor_12                                               693\n",
       "ardigen_healthy/donor_6                                                648\n",
       "PMID:35750048                                                          641\n",
       "ardigen_healthy/donor_8                                                492\n",
       "ardigen_healthy/donor_10                                               452\n",
       "ardigen_healthy/donor_4                                                434\n",
       "PMID:28103239                                                          296\n",
       "ardigen_healthy/donor_9                                                266\n",
       "ardigen_healthy/donor_7                                                266\n",
       "https://doi.org/10.1101/2020.05.04.20085779                            210\n",
       "PMID:28636589                                                          193\n",
       "ardigen_healthy/donor_2                                                152\n",
       "ardigen_healthy/donor_11                                               145\n",
       "PMID:33951417                                                          135\n",
       "Name: reference_id, dtype: int64"
      ]
     },
     "execution_count": 24,
     "metadata": {},
     "output_type": "execute_result"
    }
   ],
   "source": [
    "alpha_beta_binders.reference_id.value_counts().head(20)"
   ]
  },
  {
   "cell_type": "code",
   "execution_count": 25,
   "id": "3a17b5d3-66af-4a9f-a36d-cb9287080752",
   "metadata": {
    "tags": []
   },
   "outputs": [
    {
     "data": {
      "text/plain": [
       "(28559, 43)"
      ]
     },
     "execution_count": 25,
     "metadata": {},
     "output_type": "execute_result"
    }
   ],
   "source": [
    "alpha_beta_binders.shape"
   ]
  },
  {
   "cell_type": "code",
   "execution_count": 26,
   "id": "ca0e76d5-cae4-49e9-ab5d-6966c8dce436",
   "metadata": {
    "tags": []
   },
   "outputs": [],
   "source": [
    "train_immuno = alpha_beta_binders.rename(\n",
    "    columns={\"CDR3_alpha\": \"CDR3a_extended\", \"CDR3_beta\": \"CDR3b_extended\", \"HLA\": \"HLA_pseudoseq\", \"HLA_type\": \"HLA\"}\n",
    ")"
   ]
  },
  {
   "cell_type": "code",
   "execution_count": 27,
   "id": "372a368c-b8d5-451d-b0b7-eb6b82d75929",
   "metadata": {
    "tags": []
   },
   "outputs": [],
   "source": [
    "train_immuno_wo_10x = train_immuno[train_immuno.reference_id != train_immuno.reference_id.value_counts().index[0]]"
   ]
  },
  {
   "cell_type": "code",
   "execution_count": 28,
   "id": "9aed460c-93d6-4c23-a052-428aefc1ede5",
   "metadata": {
    "tags": []
   },
   "outputs": [
    {
     "name": "stdout",
     "output_type": "stream",
     "text": [
      "28559 examples\n",
      "26944 usable examples, 1615 in limbo\n",
      "### CDR\n",
      "Length disribution\n",
      "    CDR3a_extended  CDR3b_extended\n",
      "8               95               6\n",
      "9              147              16\n",
      "10             984             115\n",
      "11            2637             886\n",
      "12            4590            2124\n",
      "13            5570            5926\n",
      "14            5435            5869\n",
      "15            4610            6444\n",
      "16            2361            3759\n",
      "17            1389            1924\n",
      "18             451             853\n",
      "19             200             429\n",
      "20              55             121\n",
      "21              20              60\n",
      "22              12              21\n",
      "23               1               5\n",
      "25               2               0\n",
      "24               0               1\n",
      "17042 CDR3a unique in 28559\n",
      "18279 CDR3b unique in 28559\n",
      "20496 unique CDR3a,CDR3b pairs in 28559\n",
      "### Peptide\n",
      "1057 unique peptides\n",
      "0.50 observations in top 5 peptides\n",
      "0.63 observations in top 10 peptides\n",
      "0.70 observations in top 15 peptides\n",
      "Test set peptides present\n",
      "Observations for test peptides\n",
      "False     6\n",
      "True     14\n",
      "Name: Peptide, dtype: int64\n",
      "GILGFVFTL      2217\n",
      "RAKFKQLL        985\n",
      "IVTDFSVIK       856\n",
      "NLVPMVATV       714\n",
      "GLCTLVAML       661\n",
      "YLQPRTFLL       397\n",
      "TPRVTGGGAM      377\n",
      "RPPIFIRRL       341\n",
      "VTEHDTLLY       339\n",
      "RPHERNGFTVL     294\n",
      "YVLDHLIVV        22\n",
      "EPLPQGQLTAY       9\n",
      "QIKVRVDMV         7\n",
      "IPSINVHHY         5\n",
      "Name: Peptide, dtype: int64\n",
      "230 exact test observations in train\n",
      "### HLA\n",
      "A0301    9286\n",
      "A0201    9004\n",
      "A1101    4771\n",
      "B0702    1799\n",
      "B0801    1367\n",
      "A0101    1277\n",
      "A2402     561\n",
      "B5701     208\n",
      "B1501     101\n",
      "B4001      54\n",
      "Name: HLA, dtype: int64\n"
     ]
    }
   ],
   "source": [
    "diagnostics(train_immuno)"
   ]
  },
  {
   "cell_type": "code",
   "execution_count": 29,
   "id": "2162bbf7-b016-4d15-9213-d13fd58bdba0",
   "metadata": {
    "tags": []
   },
   "outputs": [
    {
     "name": "stdout",
     "output_type": "stream",
     "text": [
      "14915 examples\n",
      "14038 usable examples, 877 in limbo\n",
      "### CDR\n",
      "Length disribution\n",
      "    CDR3a_extended  CDR3b_extended\n",
      "8               41               4\n",
      "9               97              13\n",
      "10             678              64\n",
      "11            1626             458\n",
      "12            2479            1153\n",
      "13            2749            3152\n",
      "14            2772            3196\n",
      "15            2359            3326\n",
      "16            1221            1921\n",
      "17             554             945\n",
      "18             211             388\n",
      "19              94             192\n",
      "20              18              67\n",
      "21               6              29\n",
      "22               9               5\n",
      "23               1               2\n",
      "10114 CDR3a unique in 14915\n",
      "10783 CDR3b unique in 14915\n",
      "11580 unique CDR3a,CDR3b pairs in 14915\n",
      "### Peptide\n",
      "1042 unique peptides\n",
      "0.29 observations in top 5 peptides\n",
      "0.43 observations in top 10 peptides\n",
      "0.55 observations in top 15 peptides\n",
      "Test set peptides present\n",
      "Observations for test peptides\n",
      "False     6\n",
      "True     14\n",
      "Name: Peptide, dtype: int64\n",
      "GILGFVFTL      1296\n",
      "NLVPMVATV       713\n",
      "GLCTLVAML       590\n",
      "YLQPRTFLL       397\n",
      "TPRVTGGGAM      376\n",
      "RPPIFIRRL       340\n",
      "VTEHDTLLY       339\n",
      "RPHERNGFTVL     293\n",
      "RAKFKQLL        258\n",
      "YVLDHLIVV        22\n",
      "EPLPQGQLTAY       9\n",
      "IVTDFSVIK         8\n",
      "QIKVRVDMV         7\n",
      "IPSINVHHY         2\n",
      "Name: Peptide, dtype: int64\n",
      "190 exact test observations in train\n",
      "### HLA\n",
      "A0201    7778\n",
      "B0702    1791\n",
      "A0301    1343\n",
      "A0101    1277\n",
      "A1101    1075\n",
      "B0801     620\n",
      "A2402     540\n",
      "B5701     208\n",
      "B1501     101\n",
      "B4001      54\n",
      "Name: HLA, dtype: int64\n"
     ]
    }
   ],
   "source": [
    "diagnostics(train_immuno_wo_10x)"
   ]
  },
  {
   "cell_type": "code",
   "execution_count": 30,
   "id": "2a7f4723-df1b-4691-8ad5-957d6aa46ecd",
   "metadata": {
    "tags": []
   },
   "outputs": [
    {
     "name": "stdout",
     "output_type": "stream",
     "text": [
      "GILGFVFTL\n",
      "LTDEMIAQY\n",
      "YLQPRTFLL\n",
      "NLVPMVATV\n",
      "NYNYLYRLF\n",
      "KSKRTPMGF\n",
      "SPRWYFYYL\n",
      "RAQAPPPSW\n",
      "GLCTLVAML\n",
      "testSet_Global\n",
      "LLWNGPMAV\n",
      "GPRLGVRAT\n",
      "HPVTKYIM\n",
      "TTDPSFLGRY\n",
      "CINGVCWTV\n",
      "ATDALMTGF\n",
      "TPRVTGGGAM\n",
      "NQKLIANQF\n",
      "4294 examples\n",
      "3886 usable examples, 408 in limbo\n",
      "### CDR\n",
      "Length disribution\n",
      "    CDR3a_extended  CDR3b_extended\n",
      "6                2               0\n",
      "7                6               2\n",
      "8               11               1\n",
      "9               26               0\n",
      "10             206               9\n",
      "11             555             123\n",
      "12             739             311\n",
      "13             725            1119\n",
      "14             791             887\n",
      "15             662             852\n",
      "16             315             551\n",
      "17             178             264\n",
      "18              60             113\n",
      "19              15              34\n",
      "20               2              23\n",
      "21               1               5\n",
      "2661 CDR3a unique in 4294\n",
      "2729 CDR3b unique in 4294\n",
      "2946 unique CDR3a,CDR3b pairs in 4294\n",
      "### Peptide\n",
      "17 unique peptides\n",
      "0.60 observations in top 5 peptides\n",
      "0.85 observations in top 10 peptides\n",
      "0.97 observations in top 15 peptides\n",
      "Test set peptides present\n",
      "Observations for test peptides\n",
      "False    15\n",
      "True      5\n",
      "Name: Peptide, dtype: int64\n",
      "GILGFVFTL     948\n",
      "NLVPMVATV     480\n",
      "YLQPRTFLL     466\n",
      "GLCTLVAML     257\n",
      "TPRVTGGGAM     81\n",
      "Name: Peptide, dtype: int64\n",
      "64 exact test observations in train\n",
      "### HLA\n",
      "    4294\n",
      "Name: HLA, dtype: int64\n"
     ]
    }
   ],
   "source": [
    "import glob\n",
    "\n",
    "df_list = []\n",
    "for fn in glob.glob(\"../../../data/immrep22/true_set/*.txt\"):\n",
    "    peptide = os.path.splitext(os.path.basename(fn))[0]\n",
    "\n",
    "    print(peptide)\n",
    "    df = pd.read_csv(fn, sep=\"\\t\")\n",
    "    if \"Global\" in peptide:\n",
    "        df = df.rename(columns={\"Epitope_GroundTruth\": \"Peptide\"})\n",
    "        # continue\n",
    "    else:\n",
    "        df[\"Peptide\"] = peptide\n",
    "    df[\"HLA\"] = \"\"\n",
    "    df = df.rename(columns={\"TRB_CDR3\": \"CDR3b_extended\", \"TRA_CDR3\": \"CDR3a_extended\"})\n",
    "    df_list.append(df)\n",
    "\n",
    "\n",
    "train_immrep22 = pd.concat(df_list).reset_index(drop=True)\n",
    "diagnostics(train_immrep22)"
   ]
  },
  {
   "cell_type": "code",
   "execution_count": 31,
   "id": "211c22ac-7b74-4be1-802d-722ac0b46f79",
   "metadata": {
    "tags": []
   },
   "outputs": [],
   "source": [
    "# import glob\n",
    "\n",
    "# df_list = []\n",
    "# for fn in glob.glob(\"../../../../vdjdb-db/chunks/*.txt\"):\n",
    "\n",
    "#     df = pd.read_csv(fn, sep=\"\\t\")\n",
    "#     raise Exception()\n",
    "#     # df['HLA'] = ''\n",
    "#     df = df.rename(columns={\"TRB_CDR3\": \"CDR3b_extended\", \"TRA_CDR3\": \"CDR3a_extended\"})\n",
    "#     df_list.append(df)\n",
    "\n",
    "\n",
    "# train_immrep22 = pd.concat(df_list).reset_index(drop=True)\n",
    "# diagnostics(train_immrep22)"
   ]
  },
  {
   "cell_type": "code",
   "execution_count": 777,
   "id": "ce6e7c6e-b7cd-49e5-8043-01678ee6a2b1",
   "metadata": {
    "tags": []
   },
   "outputs": [
    {
     "name": "stderr",
     "output_type": "stream",
     "text": [
      "/tmp/ipykernel_3641/1700424722.py:1: DtypeWarning: Columns (30) have mixed types. Specify dtype option on import or set low_memory=False.\n",
      "  train_vdjdb = pd.read_csv(\"../../../data/vdjdb/vdjdb_full.txt\", sep=\"\\t\")\n"
     ]
    }
   ],
   "source": [
    "train_vdjdb = pd.read_csv(\"../../../data/vdjdb/vdjdb_full.txt\", sep=\"\\t\")"
   ]
  },
  {
   "cell_type": "code",
   "execution_count": 812,
   "id": "b1ccee9a-c62d-42e5-bc47-403d86e486db",
   "metadata": {
    "tags": []
   },
   "outputs": [],
   "source": [
    "train_vdjdb = train_vdjdb.rename(\n",
    "    columns={\n",
    "        \"cdr3.alpha\": \"CDR3a_extended\",\n",
    "        \"cdr3.beta\": \"CDR3b_extended\",\n",
    "        \"mhc.a\": \"HLA\",\n",
    "        \"antigen.epitope\": \"Peptide\",\n",
    "    }\n",
    ")"
   ]
  },
  {
   "cell_type": "code",
   "execution_count": 813,
   "id": "715125cf-c5e0-4788-9a11-7037c6c24405",
   "metadata": {
    "tags": []
   },
   "outputs": [
    {
     "data": {
      "text/plain": [
       "CDR3a_extended                                               CIVRAPGRADMRF\n",
       "v.alpha                                                        TRAV26-1*01\n",
       "j.alpha                                                          TRAJ43*01\n",
       "CDR3b_extended                                        CASSYLPGQGDHYSNQPQHF\n",
       "v.beta                                                           TRBV13*01\n",
       "d.beta                                                                 NaN\n",
       "j.beta                                                          TRBJ1-5*01\n",
       "species                                                        HomoSapiens\n",
       "HLA                                                               HLA-B*08\n",
       "mhc.b                                                                  B2M\n",
       "mhc.class                                                             MHCI\n",
       "Peptide                                                           FLKEKGGL\n",
       "antigen.gene                                                           Nef\n",
       "antigen.species                                                      HIV-1\n",
       "reference.id                                                 PMID:15596521\n",
       "method.identification                                        tetramer-sort\n",
       "method.frequency                                                       NaN\n",
       "method.singlecell                                                      NaN\n",
       "method.sequencing                                                   sanger\n",
       "method.verification                                 antigen-loaded-targets\n",
       "meta.study.id                                                          NaN\n",
       "meta.cell.subset                                                      CD8+\n",
       "meta.subject.cohort                                                   HIV+\n",
       "meta.subject.id                                                        005\n",
       "meta.replica.id                                                        NaN\n",
       "meta.clone.id                                                          NaN\n",
       "meta.epitope.id                                                        NaN\n",
       "meta.tissue                                                           PBMC\n",
       "meta.donor.MHC           HLA-A*02:01,HLA-A*24:02;HLA-B*08:01,HLA-B*5701...\n",
       "meta.donor.MHC.method                                                  NaN\n",
       "meta.structure.id                                                      NaN\n",
       "cdr3fix.alpha            {\"cdr3\": \"CIVRAPGRADMRF\", \"cdr3_old\": \"CIVRAPG...\n",
       "cdr3fix.beta             {\"cdr3\": \"CASSYLPGQGDHYSNQPQHF\", \"cdr3_old\": \"...\n",
       "vdjdb.score                                                              2\n",
       "Name: 0, dtype: object"
      ]
     },
     "execution_count": 813,
     "metadata": {},
     "output_type": "execute_result"
    }
   ],
   "source": [
    "train_vdjdb.iloc[0]"
   ]
  },
  {
   "cell_type": "code",
   "execution_count": 815,
   "id": "0d2bd180-cb99-4e50-9f39-3d69e7b09bd2",
   "metadata": {
    "tags": []
   },
   "outputs": [],
   "source": [
    "train_vdjdb = train_vdjdb[\n",
    "    ~train_vdjdb.CDR3a_extended.isna()\n",
    "    & ~train_vdjdb.CDR3b_extended.isna()\n",
    "    & (train_vdjdb.species == \"HomoSapiens\")\n",
    "    & (train_vdjdb[\"mhc.class\"] == \"MHCI\")\n",
    "]"
   ]
  },
  {
   "cell_type": "code",
   "execution_count": 36,
   "id": "60b42490-257e-4750-928b-4b72906872b8",
   "metadata": {
    "tags": []
   },
   "outputs": [
    {
     "name": "stdout",
     "output_type": "stream",
     "text": [
      "27571 examples\n",
      "25760 usable examples, 1811 in limbo\n",
      "### CDR\n",
      "Length disribution\n",
      "    CDR3a_extended  CDR3b_extended\n",
      "5                1               0\n",
      "6                4               0\n",
      "7                8               0\n",
      "8               80               9\n",
      "9              136              17\n",
      "10             836             127\n",
      "11            2437             796\n",
      "12            4519            1969\n",
      "13            5395            5683\n",
      "14            5208            5575\n",
      "15            4530            6248\n",
      "16            2273            3633\n",
      "17            1453            2015\n",
      "18             447             885\n",
      "19             173             382\n",
      "20              38             150\n",
      "21              15              52\n",
      "22               9              17\n",
      "23               2               7\n",
      "24               3               1\n",
      "25               3               2\n",
      "26               1               3\n",
      "19862 CDR3a unique in 27571\n",
      "21232 CDR3b unique in 27571\n",
      "25074 unique CDR3a,CDR3b pairs in 27571\n",
      "### Peptide\n",
      "830 unique peptides\n",
      "0.72 observations in top 5 peptides\n",
      "0.81 observations in top 10 peptides\n",
      "0.86 observations in top 15 peptides\n",
      "Test set peptides present\n",
      "Observations for test peptides\n",
      "False     6\n",
      "True     14\n",
      "Name: Peptide, dtype: int64\n",
      "GILGFVFTL      2194\n",
      "RAKFKQLL       1235\n",
      "IVTDFSVIK       729\n",
      "NLVPMVATV       588\n",
      "YLQPRTFLL       472\n",
      "GLCTLVAML       394\n",
      "TPRVTGGGAM       63\n",
      "RPPIFIRRL        36\n",
      "RPHERNGFTVL      29\n",
      "EPLPQGQLTAY      15\n",
      "YVLDHLIVV        12\n",
      "IPSINVHHY        10\n",
      "QIKVRVDMV         7\n",
      "VTEHDTLLY         1\n",
      "Name: Peptide, dtype: int64\n",
      "215 exact test observations in train\n",
      "### HLA\n",
      "HLA-A*03:01    14550\n",
      "HLA-A*02:01     5990\n",
      "HLA-A*11:01     2488\n",
      "HLA-B*08:01     1268\n",
      "HLA-A*01:01      935\n",
      "HLA-B*07:02      894\n",
      "HLA-A*24:02      308\n",
      "HLA-B*57:01      195\n",
      "HLA-A*02         173\n",
      "HLA-A*68:01      113\n",
      "Name: HLA, dtype: int64\n"
     ]
    }
   ],
   "source": [
    "diagnostics(train_vdjdb)"
   ]
  },
  {
   "cell_type": "code",
   "execution_count": 37,
   "id": "c481d1d4-6953-4b67-9663-ec807ee1f54a",
   "metadata": {
    "tags": []
   },
   "outputs": [],
   "source": [
    "# my_data = pd.read_csv(\"../../../data/phla_tcr_all.csv.gz\")\n",
    "\n",
    "# my_data[~my_data.CDR3a.isna() & ~my_data.CDR3b.isna()].shape"
   ]
  },
  {
   "cell_type": "code",
   "execution_count": 38,
   "id": "f45331d3-8a5b-421c-af4a-f799d8f81577",
   "metadata": {
    "tags": []
   },
   "outputs": [],
   "source": [
    "def get_test_counts(train):\n",
    "    return train.Peptide[train.Peptide.isin(test.Peptide)].value_counts()  # .fillna(0).astype(int)"
   ]
  },
  {
   "cell_type": "code",
   "execution_count": 39,
   "id": "268464dd-4ff0-46da-8f0c-6cbbea4e2176",
   "metadata": {
    "tags": []
   },
   "outputs": [],
   "source": [
    "stats = (\n",
    "    pd.concat(\n",
    "        [\n",
    "            get_test_counts(train)\n",
    "            for train in [train_immrep3, train_immuno, train_immuno_wo_10x, train_immrep22, train_vdjdb]\n",
    "        ],\n",
    "        axis=1,\n",
    "    )\n",
    "    .fillna(0)\n",
    "    .astype(int)\n",
    ")"
   ]
  },
  {
   "cell_type": "code",
   "execution_count": 40,
   "id": "784cabcb-ddb4-4031-91b8-63086bd65733",
   "metadata": {
    "tags": []
   },
   "outputs": [],
   "source": [
    "stats.columns = [\"immrep3\", \"immuno\", \"immuno wo 10x\", \"immrep22\", \"vdjdb\"]"
   ]
  },
  {
   "cell_type": "code",
   "execution_count": 42,
   "id": "da950df8-3e86-4aee-b699-8069a5986219",
   "metadata": {
    "tags": []
   },
   "outputs": [
    {
     "data": {
      "text/html": [
       "<div>\n",
       "<style scoped>\n",
       "    .dataframe tbody tr th:only-of-type {\n",
       "        vertical-align: middle;\n",
       "    }\n",
       "\n",
       "    .dataframe tbody tr th {\n",
       "        vertical-align: top;\n",
       "    }\n",
       "\n",
       "    .dataframe thead th {\n",
       "        text-align: right;\n",
       "    }\n",
       "</style>\n",
       "<table border=\"1\" class=\"dataframe\">\n",
       "  <thead>\n",
       "    <tr style=\"text-align: right;\">\n",
       "      <th></th>\n",
       "      <th>immrep3</th>\n",
       "      <th>immuno</th>\n",
       "      <th>immuno wo 10x</th>\n",
       "      <th>immrep22</th>\n",
       "      <th>vdjdb</th>\n",
       "    </tr>\n",
       "  </thead>\n",
       "  <tbody>\n",
       "    <tr>\n",
       "      <th>GILGFVFTL</th>\n",
       "      <td>1818</td>\n",
       "      <td>2217</td>\n",
       "      <td>1296</td>\n",
       "      <td>948</td>\n",
       "      <td>2194</td>\n",
       "    </tr>\n",
       "    <tr>\n",
       "      <th>RAKFKQLL</th>\n",
       "      <td>1066</td>\n",
       "      <td>985</td>\n",
       "      <td>258</td>\n",
       "      <td>0</td>\n",
       "      <td>1235</td>\n",
       "    </tr>\n",
       "    <tr>\n",
       "      <th>YLQPRTFLL</th>\n",
       "      <td>434</td>\n",
       "      <td>397</td>\n",
       "      <td>397</td>\n",
       "      <td>466</td>\n",
       "      <td>472</td>\n",
       "    </tr>\n",
       "    <tr>\n",
       "      <th>NLVPMVATV</th>\n",
       "      <td>390</td>\n",
       "      <td>714</td>\n",
       "      <td>713</td>\n",
       "      <td>480</td>\n",
       "      <td>588</td>\n",
       "    </tr>\n",
       "    <tr>\n",
       "      <th>GLCTLVAML</th>\n",
       "      <td>351</td>\n",
       "      <td>661</td>\n",
       "      <td>590</td>\n",
       "      <td>257</td>\n",
       "      <td>394</td>\n",
       "    </tr>\n",
       "    <tr>\n",
       "      <th>IVTDFSVIK</th>\n",
       "      <td>332</td>\n",
       "      <td>856</td>\n",
       "      <td>8</td>\n",
       "      <td>0</td>\n",
       "      <td>729</td>\n",
       "    </tr>\n",
       "    <tr>\n",
       "      <th>TPRVTGGGAM</th>\n",
       "      <td>62</td>\n",
       "      <td>377</td>\n",
       "      <td>376</td>\n",
       "      <td>81</td>\n",
       "      <td>63</td>\n",
       "    </tr>\n",
       "    <tr>\n",
       "      <th>RPPIFIRRL</th>\n",
       "      <td>45</td>\n",
       "      <td>341</td>\n",
       "      <td>340</td>\n",
       "      <td>0</td>\n",
       "      <td>36</td>\n",
       "    </tr>\n",
       "    <tr>\n",
       "      <th>RPHERNGFTVL</th>\n",
       "      <td>27</td>\n",
       "      <td>294</td>\n",
       "      <td>293</td>\n",
       "      <td>0</td>\n",
       "      <td>29</td>\n",
       "    </tr>\n",
       "    <tr>\n",
       "      <th>EPLPQGQLTAY</th>\n",
       "      <td>14</td>\n",
       "      <td>9</td>\n",
       "      <td>9</td>\n",
       "      <td>0</td>\n",
       "      <td>15</td>\n",
       "    </tr>\n",
       "    <tr>\n",
       "      <th>YVLDHLIVV</th>\n",
       "      <td>11</td>\n",
       "      <td>22</td>\n",
       "      <td>22</td>\n",
       "      <td>0</td>\n",
       "      <td>12</td>\n",
       "    </tr>\n",
       "    <tr>\n",
       "      <th>QIKVRVDMV</th>\n",
       "      <td>7</td>\n",
       "      <td>7</td>\n",
       "      <td>7</td>\n",
       "      <td>0</td>\n",
       "      <td>7</td>\n",
       "    </tr>\n",
       "    <tr>\n",
       "      <th>IPSINVHHY</th>\n",
       "      <td>6</td>\n",
       "      <td>5</td>\n",
       "      <td>2</td>\n",
       "      <td>0</td>\n",
       "      <td>10</td>\n",
       "    </tr>\n",
       "    <tr>\n",
       "      <th>VTEHDTLLY</th>\n",
       "      <td>0</td>\n",
       "      <td>339</td>\n",
       "      <td>339</td>\n",
       "      <td>0</td>\n",
       "      <td>1</td>\n",
       "    </tr>\n",
       "  </tbody>\n",
       "</table>\n",
       "</div>"
      ],
      "text/plain": [
       "             immrep3  immuno  immuno wo 10x  immrep22  vdjdb\n",
       "GILGFVFTL       1818    2217           1296       948   2194\n",
       "RAKFKQLL        1066     985            258         0   1235\n",
       "YLQPRTFLL        434     397            397       466    472\n",
       "NLVPMVATV        390     714            713       480    588\n",
       "GLCTLVAML        351     661            590       257    394\n",
       "IVTDFSVIK        332     856              8         0    729\n",
       "TPRVTGGGAM        62     377            376        81     63\n",
       "RPPIFIRRL         45     341            340         0     36\n",
       "RPHERNGFTVL       27     294            293         0     29\n",
       "EPLPQGQLTAY       14       9              9         0     15\n",
       "YVLDHLIVV         11      22             22         0     12\n",
       "QIKVRVDMV          7       7              7         0      7\n",
       "IPSINVHHY          6       5              2         0     10\n",
       "VTEHDTLLY          0     339            339         0      1"
      ]
     },
     "execution_count": 42,
     "metadata": {},
     "output_type": "execute_result"
    }
   ],
   "source": [
    "stats"
   ]
  },
  {
   "cell_type": "code",
   "execution_count": null,
   "id": "438aebcd-2e14-4745-896f-255d4ed7515b",
   "metadata": {},
   "outputs": [],
   "source": []
  },
  {
   "cell_type": "code",
   "execution_count": null,
   "id": "63aa5a39-c9da-420d-905c-674869d433b3",
   "metadata": {},
   "outputs": [],
   "source": []
  },
  {
   "cell_type": "code",
   "execution_count": 43,
   "id": "5ab9a046-5858-4254-9dda-c4aea8c2c9a7",
   "metadata": {
    "tags": []
   },
   "outputs": [],
   "source": [
    "from Levenshtein import distance\n",
    "\n",
    "\n",
    "def broad_negatives(train, test):\n",
    "    pos = train[[\"Peptide\", \"CDR3b_extended\", \"CDR3a_extended\"]].drop_duplicates()\n",
    "    peps = pos.Peptide.drop_duplicates()\n",
    "    peps.index = peps.values\n",
    "    rlist = []\n",
    "\n",
    "    for i, pep in enumerate(pos.loc[pos.Peptide.isin(test.Peptide), \"Peptide\"].value_counts().index):\n",
    "        pep_positives = pos[pos.Peptide == pep].copy()\n",
    "        if len(pep_positives) < 10:\n",
    "            continue\n",
    "        if len(pep_positives) > 100:\n",
    "            pep_positives = pep_positives.sample(100, random_state=i)\n",
    "        pep_positives[\"y\"] = 1\n",
    "        # print(len(pep_positives))\n",
    "\n",
    "        dist_over_3 = peps.apply(lambda p: distance(p, pep) > 3)\n",
    "        pep_potential_negatives = peps[dist_over_3]\n",
    "        train_neg = pos[pos.Peptide.isin(pep_potential_negatives)]\n",
    "        train_neg_tcrs = train_neg[[\"CDR3a_extended\", \"CDR3b_extended\"]].drop_duplicates()\n",
    "        # print(len(train_neg_tcrs))\n",
    "\n",
    "        sample_negs = train_neg_tcrs.sample(n=int(len(pep_positives) * 5), random_state=i)\n",
    "        sample_negs[\"Peptide\"] = pep\n",
    "        sample_negs[\"y\"] = 0\n",
    "\n",
    "        rlist.append(pd.concat([pep_positives, sample_negs]))\n",
    "    return pd.concat(rlist)"
   ]
  },
  {
   "cell_type": "code",
   "execution_count": null,
   "id": "e52558ab-1494-47c2-b4d4-973ad3cb9439",
   "metadata": {
    "tags": []
   },
   "outputs": [],
   "source": []
  },
  {
   "cell_type": "code",
   "execution_count": 44,
   "id": "cf459b4b-c87f-4421-a368-31eedb2bef0b",
   "metadata": {
    "tags": []
   },
   "outputs": [],
   "source": [
    "# from Levenshtein import distance\n",
    "def narrow_negatives(train, test):\n",
    "    pos = train[[\"Peptide\", \"CDR3b_extended\", \"CDR3a_extended\"]].drop_duplicates()\n",
    "\n",
    "    vc = pos.loc[pos.Peptide.isin(test.Peptide), \"Peptide\"].value_counts()\n",
    "    peps = pd.Series(vc.index[vc >= 10], index=vc.index[vc >= 10])\n",
    "    rlist = []\n",
    "\n",
    "    for i, pep in enumerate(peps.index):\n",
    "        # print(pep)\n",
    "        pep_positives = pos[pos.Peptide == pep].copy()\n",
    "        if len(pep_positives) < 10:\n",
    "            raise Exception()\n",
    "            continue\n",
    "        if len(pep_positives) > 100:\n",
    "            pep_positives = pep_positives.sample(100, random_state=i)\n",
    "        pep_positives[\"y\"] = 1\n",
    "        # print(len(pep_positives))\n",
    "\n",
    "        dist_over_3 = peps.apply(lambda p: distance(p, pep) > 3)\n",
    "        pep_potential_negatives = peps[dist_over_3]\n",
    "        train_neg = pos[pos.Peptide.isin(pep_potential_negatives)]\n",
    "        train_neg_tcrs = train_neg[[\"CDR3a_extended\", \"CDR3b_extended\"]].drop_duplicates()\n",
    "        # print(len(train_neg_tcrs))\n",
    "\n",
    "        sample_negs = train_neg_tcrs.sample(n=int(len(pep_positives) * 5), random_state=i)\n",
    "        sample_negs[\"Peptide\"] = pep\n",
    "        sample_negs[\"y\"] = 0\n",
    "\n",
    "        rlist.append(pd.concat([pep_positives, sample_negs]))\n",
    "    return pd.concat(rlist)"
   ]
  },
  {
   "cell_type": "code",
   "execution_count": 45,
   "id": "2d8c1032-9eb9-4308-a5d6-7ead88d9b07b",
   "metadata": {
    "tags": []
   },
   "outputs": [],
   "source": [
    "def narrow_negatives2(train, test):\n",
    "    T = 150\n",
    "\n",
    "    def sample(df):\n",
    "        if len(df) <= 10:\n",
    "            return None\n",
    "        if len(df) >= T:\n",
    "            return df.sample(T)\n",
    "        return df\n",
    "\n",
    "    pos = train[[\"Peptide\", \"CDR3b_extended\", \"CDR3a_extended\"]].drop_duplicates()\n",
    "    train_sample = pos.loc[pos.Peptide.isin(test.Peptide)].groupby(\"Peptide\").apply(sample).reset_index(drop=True)\n",
    "\n",
    "    vc = train_sample.loc[train_sample.Peptide.isin(test.Peptide), \"Peptide\"].value_counts()\n",
    "    peps = pd.Series(vc.index[vc >= 10], index=vc.index[vc >= 10])\n",
    "    rlist = []\n",
    "\n",
    "    for i, pep in enumerate(peps.index):\n",
    "        # print(pep)\n",
    "        pep_positives = train_sample[train_sample.Peptide == pep].copy()\n",
    "        if len(pep_positives) < 10:\n",
    "            raise Exception()\n",
    "            continue\n",
    "        if len(pep_positives) > T:\n",
    "            raise Exception()\n",
    "            pep_positives = pep_positives.sample(100, random_state=i)\n",
    "        pep_positives[\"y\"] = 1\n",
    "        # print(len(pep_positives))\n",
    "\n",
    "        dist_over_3 = peps.apply(lambda p: distance(p, pep) > 3)\n",
    "        pep_potential_negatives = peps[dist_over_3]\n",
    "        train_neg = train_sample[train_sample.Peptide.isin(pep_potential_negatives)]\n",
    "        train_neg_tcrs = train_neg[[\"CDR3a_extended\", \"CDR3b_extended\"]].drop_duplicates()\n",
    "        # print(len(train_neg_tcrs))\n",
    "\n",
    "        sample_negs = train_neg_tcrs.sample(n=int(len(pep_positives) * 5), random_state=i)\n",
    "        sample_negs[\"Peptide\"] = pep\n",
    "        sample_negs[\"y\"] = 0\n",
    "\n",
    "        rlist.append(pd.concat([pep_positives, sample_negs]))\n",
    "    return pd.concat(rlist)"
   ]
  },
  {
   "cell_type": "code",
   "execution_count": 1019,
   "id": "82c7a897-274a-4143-9ee9-3f29964332f2",
   "metadata": {
    "tags": []
   },
   "outputs": [],
   "source": [
    "def narrow_negatives3(train, test, frac=0.2):\n",
    "    # train = train_vdjdb\n",
    "    pos = train[[\"Peptide\", \"CDR3b_extended\", \"CDR3a_extended\"]].drop_duplicates()\n",
    "\n",
    "    pos = pos[pos.Peptide.isin(test.Peptide)]\n",
    "\n",
    "    # pos.shape\n",
    "\n",
    "    potential_tcr_negatives = pos.groupby(\"Peptide\").apply(lambda x: x.sample(frac=frac)).reset_index(drop=True)\n",
    "\n",
    "    # potential_tcr_negatives = pos\n",
    "\n",
    "    vc = pos[\"Peptide\"].value_counts()\n",
    "    peps = vc.index[vc >= 10]\n",
    "    peps = pd.Series(peps, index=peps)\n",
    "    rlist = []\n",
    "\n",
    "    for i, pep in enumerate(peps.index):\n",
    "        pep_positives = pos[pos.Peptide == pep].copy()\n",
    "        pep_positives[\"y\"] = 1\n",
    "\n",
    "        dist_over_3 = peps.apply(lambda p: distance(p, pep) > 3)\n",
    "        pep_potential_negatives = peps[dist_over_3]\n",
    "\n",
    "        len(potential_tcr_negatives)\n",
    "\n",
    "        train_neg = potential_tcr_negatives[potential_tcr_negatives.Peptide.isin(pep_potential_negatives)]\n",
    "        # train_neg = train_neg[['CDR3a_extended', 'CDR3b_extended']].drop_duplicates()\n",
    "\n",
    "        sample_neg = train_neg.sample(min(len(pep_positives) * 5, len(train_neg)), replace=False)\n",
    "\n",
    "        sample_neg[\"Peptide\"] = pep\n",
    "        sample_neg[\"y\"] = 0\n",
    "\n",
    "        T = 85\n",
    "        if len(pep_positives) > T:\n",
    "            pep_positives = pep_positives.sample(T)\n",
    "            sample_neg = sample_neg.sample(T * 5)\n",
    "        rlist.append(pd.concat([pep_positives, sample_neg]))\n",
    "    df = pd.concat(rlist)\n",
    "    # df = df.drop_duplicates()\n",
    "    df = df.groupby(['Peptide']+cdrcols).y.agg(max).reset_index()\n",
    "    return df"
   ]
  },
  {
   "cell_type": "code",
   "execution_count": 47,
   "id": "61d166ca-257a-4857-8f8e-4d68474910ae",
   "metadata": {
    "tags": []
   },
   "outputs": [],
   "source": [
    "def narrow_negatives4(train, test):\n",
    "    # train = train_vdjdb\n",
    "    pos = train[[\"Peptide\", \"CDR3b_extended\", \"CDR3a_extended\"]].drop_duplicates()\n",
    "\n",
    "    pos = pos[pos.Peptide.isin(test.Peptide)]\n",
    "\n",
    "    # pos.shape\n",
    "\n",
    "    # potential_tcr_negatives = pos.groupby(\"Peptide\").apply(lambda x: x.sample(frac=0.25)).reset_index(drop=True)\n",
    "\n",
    "    # potential_tcr_negatives = pos\n",
    "\n",
    "    vc = pos[\"Peptide\"].value_counts()\n",
    "    peps = vc.index[vc >= 10]\n",
    "    peps = pd.Series(peps, index=peps)\n",
    "    rlist = []\n",
    "\n",
    "    plist = []\n",
    "    for i, pep in enumerate(peps.index):\n",
    "        pep_positives = pos[pos.Peptide == pep].copy()\n",
    "        pep_positives[\"y\"] = 1\n",
    "        T = 80\n",
    "        if len(pep_positives) > T:\n",
    "            pep_positives = pep_positives.sample(T)\n",
    "\n",
    "        plist.append(pep_positives)\n",
    "\n",
    "    potential_tcr_negatives = pd.concat(plist)\n",
    "\n",
    "    for i, (pep, pep_positives) in enumerate(zip(peps.index, plist)):\n",
    "        dist_over_3 = peps.apply(lambda p: distance(p, pep) > 3)\n",
    "        pep_potential_negatives = peps[dist_over_3]\n",
    "\n",
    "        train_neg = potential_tcr_negatives[potential_tcr_negatives.Peptide.isin(pep_potential_negatives)]\n",
    "        # train_neg = train_neg[['CDR3a_extended', 'CDR3b_extended']].drop_duplicates()\n",
    "        #         print(pep, train_neg.shape)\n",
    "\n",
    "        #         pos_index = pd.MultiIndex.from_frame(\n",
    "        #             potential_tcr_negatives.loc[\n",
    "        #                 potential_tcr_negatives.Peptide != pep, [\"CDR3a_extended\", \"CDR3b_extended\", \"Peptide\"]\n",
    "        #             ]\n",
    "        #         )\n",
    "        #         neg_index = pd.MultiIndex.from_frame(train_neg[[\"CDR3a_extended\", \"CDR3b_extended\", \"Peptide\"]])\n",
    "        #         train_neg = train_neg[~neg_index.isin(pos_index)]\n",
    "        #         print(pep, train_neg.shape)\n",
    "        sample_neg = train_neg.sample(len(pep_positives) * 5, replace=False)\n",
    "        sample_neg[\"Peptide\"] = pep\n",
    "        sample_neg[\"y\"] = 0\n",
    "\n",
    "        rlist.append(\n",
    "            pd.concat(\n",
    "                [\n",
    "                    pep_positives,\n",
    "                    sample_neg,\n",
    "                ]\n",
    "            )\n",
    "        )\n",
    "    return pd.concat(rlist)"
   ]
  },
  {
   "cell_type": "code",
   "execution_count": 89,
   "id": "622b14c9-b1d5-4094-ac61-2179bfd6a869",
   "metadata": {
    "tags": []
   },
   "outputs": [],
   "source": [
    "def cross_negatives(train, test):\n",
    "    T = 110\n",
    "\n",
    "    def sample(df):\n",
    "        if len(df) <= 10:\n",
    "            return None\n",
    "        if len(df) >= T:\n",
    "            return df.sample(T)\n",
    "        return df\n",
    "\n",
    "    pos = train.loc[train.Peptide.isin(test.Peptide)]\n",
    "    pos = pos[[\"Peptide\", \"CDR3b_extended\", \"CDR3a_extended\"]].drop_duplicates()\n",
    "    pos = pos.groupby(\"Peptide\").apply(sample).reset_index(drop=True)\n",
    "\n",
    "    vc = pos.Peptide.value_counts()\n",
    "    # print(vc)\n",
    "    peps = pd.Series(vc.index[vc >= 10], index=vc.index[vc >= 10])\n",
    "    neg_i_list = []\n",
    "\n",
    "    rlist = []\n",
    "    for i, pep in enumerate(pos.Peptide.value_counts().index):\n",
    "        # print(pep)\n",
    "        dist_over_3 = peps.apply(lambda p: distance(p, pep) > 3)\n",
    "        pep_potential_negatives = peps[dist_over_3]\n",
    "        pep_positives = pos[pos.Peptide == pep].copy()\n",
    "        if len(pep_positives) < 10:\n",
    "            continue\n",
    "        pep_positives[\"y\"] = 1\n",
    "\n",
    "        train_neg = pep_positives[[\"CDR3a_extended\", \"CDR3b_extended\"]].drop_duplicates()\n",
    "        train_neg[\"dummy\"] = 1\n",
    "\n",
    "        pep_neg = pd.DataFrame(pep_potential_negatives).rename(columns={0: \"Peptide\"})\n",
    "        pep_neg[\"dummy\"] = 1\n",
    "        neg = pd.merge(train_neg, pep_neg, how=\"outer\").drop(columns=[\"dummy\"])\n",
    "        neg[\"dummy\"] = 1\n",
    "        neg[\"y\"] = 0\n",
    "\n",
    "        neg_i = pd.MultiIndex.from_frame(neg[[\"Peptide\", \"CDR3a_extended\", \"CDR3b_extended\"]])\n",
    "        pos_i = pd.MultiIndex.from_frame(pos[[\"Peptide\", \"CDR3a_extended\", \"CDR3b_extended\"]])\n",
    "        neg = neg[~neg_i.isin(pos_i)]\n",
    "\n",
    "        neg_i = pd.MultiIndex.from_frame(neg[[\"Peptide\", \"CDR3a_extended\", \"CDR3b_extended\"]])\n",
    "        if len(neg_i_list) > 0:\n",
    "            neg_i_c = pd.MultiIndex.from_frame(pd.concat([i.to_frame() for i in neg_i_list]))\n",
    "            neg = neg[~neg_i.isin(neg_i_c)]\n",
    "        neg_i_list.append(neg_i)\n",
    "\n",
    "        rlist.append(pd.concat([pep_positives, neg]))\n",
    "    df = pd.concat(rlist).reset_index(drop=True)\n",
    "    return df"
   ]
  },
  {
   "cell_type": "code",
   "execution_count": 122,
   "id": "8f78c939-1079-44be-a115-e1a308af92b0",
   "metadata": {
    "tags": []
   },
   "outputs": [],
   "source": [
    "def resample(df, T=100):\n",
    "    rlist = []\n",
    "    for k, gdf in df.groupby(\"Peptide\"):\n",
    "        sample_pos = gdf[gdf.y == 1]\n",
    "        if len(sample_pos) > T:\n",
    "            sample_pos = sample_pos.sample(T)\n",
    "\n",
    "        sample_neg = gdf[gdf.y == 0]\n",
    "        if len(sample_neg) > len(sample_pos) * 5:\n",
    "            sample_neg = sample_neg.sample(len(sample_pos) * 5)\n",
    "\n",
    "        rlist.append(pd.concat([sample_pos, sample_neg]))\n",
    "    return pd.concat(rlist).reset_index(drop=True)"
   ]
  },
  {
   "cell_type": "code",
   "execution_count": 753,
   "id": "24b4ba1e-09f3-4d5e-b1d4-15676dd32b11",
   "metadata": {
    "tags": []
   },
   "outputs": [],
   "source": [
    "def narrow_negatives5(train, test):\n",
    "    # train = train_vdjdb\n",
    "    pos = train[[\"Peptide\", \"CDR3b_extended\", \"CDR3a_extended\"]].drop_duplicates()\n",
    "    pos = pos[pos.Peptide.isin(test.Peptide)]\n",
    "\n",
    "    vc = pos[\"Peptide\"].value_counts()\n",
    "    peps = vc.index[vc >= 10]\n",
    "    peps = pd.Series(peps, index=peps)\n",
    "    rlist = []\n",
    "\n",
    "    plist = []\n",
    "    for i, pep in enumerate(peps.index):\n",
    "        pep_positives = pos[pos.Peptide == pep].copy()\n",
    "        pep_positives[\"y\"] = 1\n",
    "        T = 85\n",
    "        if len(pep_positives) > T:\n",
    "            pep_positives = pep_positives.sample(T)\n",
    "\n",
    "        plist.append(pep_positives)\n",
    "\n",
    "    potential_tcr_negatives = pd.concat(plist)\n",
    "\n",
    "    for i, (pep, pep_positives) in enumerate(zip(peps.index, plist)):\n",
    "        dist_over_3 = peps.apply(lambda p: distance(p, pep) > 3)\n",
    "        pep_potential_negatives = peps[dist_over_3]\n",
    "        train_neg = potential_tcr_negatives[potential_tcr_negatives.Peptide.isin(pep_potential_negatives)]\n",
    "        print(pep, len(pep_positives), len(train_neg))\n",
    "        n = min(len(train_neg), len(pep_positives) * 5)\n",
    "        sample_neg = train_neg.sample(n, replace=False)\n",
    "        sample_neg[\"Peptide\"] = pep\n",
    "        sample_neg[\"y\"] = 0\n",
    "\n",
    "        rlist.append(\n",
    "            pd.concat(\n",
    "                [\n",
    "                    pep_positives,\n",
    "                    sample_neg,\n",
    "                ]\n",
    "            )\n",
    "        )\n",
    "    df = pd.concat(rlist)\n",
    "    df = df.drop_duplicates()\n",
    "    df = resample(df, T=80)\n",
    "    return df"
   ]
  },
  {
   "cell_type": "code",
   "execution_count": 355,
   "id": "938aa898-e8a9-440e-8963-908e86b819c9",
   "metadata": {
    "tags": []
   },
   "outputs": [],
   "source": [
    "def narrow_negatives6(train, test):\n",
    "    # train = train_vdjdb\n",
    "    pos = train[[\"Peptide\", \"CDR3b_extended\", \"CDR3a_extended\"]].drop_duplicates()\n",
    "\n",
    "    pos = pos[pos.Peptide.isin(test.Peptide)]\n",
    "\n",
    "    # pos.shape\n",
    "\n",
    "    potential_tcr_negatives = pos.groupby(\"Peptide\").apply(lambda x: x.sample(frac=0.15)).reset_index(drop=True)\n",
    "    # print(potential_tcr_negatives.shape)\n",
    "    # raise Exception()\n",
    "    # potential_tcr_negatives = pos\n",
    "\n",
    "    vc = pos[\"Peptide\"].value_counts()\n",
    "    peps = vc.index[vc >= 10]\n",
    "    peps = pd.Series(peps, index=peps)\n",
    "    rlist = []\n",
    "\n",
    "    for i, pep in enumerate(peps.index):\n",
    "        pep_positives = potential_tcr_negatives[potential_tcr_negatives.Peptide == pep].copy()\n",
    "        pep_positives[\"y\"] = 1\n",
    "\n",
    "        dist_over_3 = peps.apply(lambda p: distance(p, pep) > 3)\n",
    "        pep_potential_negatives = peps[dist_over_3]\n",
    "\n",
    "        # len(potential_tcr_negatives)\n",
    "\n",
    "        train_neg = potential_tcr_negatives[potential_tcr_negatives.Peptide.isin(pep_potential_negatives)]\n",
    "        # train_neg = train_neg[['CDR3a_extended', 'CDR3b_extended']].drop_duplicates()\n",
    "\n",
    "        n = min(len(pep_positives) * 5, len(train_neg))\n",
    "        sample_neg = train_neg.sample(n, replace=False)\n",
    "\n",
    "        sample_neg[\"Peptide\"] = pep\n",
    "        sample_neg[\"y\"] = 0\n",
    "\n",
    "        # T = 80\n",
    "        # if len(pep_positives) > T:\n",
    "        #     pep_positives = pep_positives.sample(T)\n",
    "        #     if len(sample_neg) > T * 5:\n",
    "        #         sample_neg = sample_neg.sample(T * 5)\n",
    "        rlist.append(pd.concat([pep_positives, sample_neg]))\n",
    "    df = pd.concat(rlist)\n",
    "    df = df.drop_duplicates()\n",
    "    return df"
   ]
  },
  {
   "cell_type": "code",
   "execution_count": 735,
   "id": "95379737-828e-4deb-8e4c-bdb9b3a3dfc6",
   "metadata": {
    "tags": []
   },
   "outputs": [
    {
     "name": "stdout",
     "output_type": "stream",
     "text": [
      "GILGFVFTL 85 587\n",
      "RAKFKQLL 85 587\n",
      "IVTDFSVIK 85 587\n",
      "YLQPRTFLL 85 587\n",
      "NLVPMVATV 85 587\n",
      "GLCTLVAML 85 587\n",
      "TPRVTGGGAM 61 611\n",
      "RPPIFIRRL 36 636\n",
      "RPHERNGFTVL 29 643\n",
      "EPLPQGQLTAY 14 658\n",
      "YVLDHLIVV 12 660\n",
      "IPSINVHHY 10 662\n"
     ]
    }
   ],
   "source": [
    "synthetic_test = narrow_negatives5(train_vdjdb, test)"
   ]
  },
  {
   "cell_type": "markdown",
   "id": "b54c016c-ea5b-4bda-8aa0-cfed343846c8",
   "metadata": {},
   "source": [
    "### Matrix"
   ]
  },
  {
   "cell_type": "code",
   "execution_count": 290,
   "id": "cbaa0722-13ca-494f-ba81-cdf96c6fd8e8",
   "metadata": {
    "tags": []
   },
   "outputs": [],
   "source": [
    "pos = train.loc[train.Peptide.isin(test.Peptide)]\n",
    "pos = pos[[\"Peptide\", \"CDR3b_extended\", \"CDR3a_extended\"]].drop_duplicates()\n",
    "vc = pos.Peptide.value_counts()\n",
    "possible_peptides = vc.index[vc >= 10]\n",
    "pos = pos[pos.Peptide.isin(possible_peptides)]"
   ]
  },
  {
   "cell_type": "code",
   "execution_count": 291,
   "id": "d6d3f008-472d-47c8-8eba-d15a1ac4acbf",
   "metadata": {
    "tags": []
   },
   "outputs": [
    {
     "data": {
      "text/plain": [
       "GILGFVFTL      1900\n",
       "RAKFKQLL       1216\n",
       "IVTDFSVIK       718\n",
       "YLQPRTFLL       443\n",
       "NLVPMVATV       416\n",
       "GLCTLVAML       364\n",
       "TPRVTGGGAM       61\n",
       "RPPIFIRRL        36\n",
       "RPHERNGFTVL      29\n",
       "EPLPQGQLTAY      14\n",
       "YVLDHLIVV        12\n",
       "IPSINVHHY        10\n",
       "Name: Peptide, dtype: int64"
      ]
     },
     "execution_count": 291,
     "metadata": {},
     "output_type": "execute_result"
    }
   ],
   "source": []
  },
  {
   "cell_type": "code",
   "execution_count": null,
   "id": "1a142f3d-269d-4670-8e13-0649b2cf7657",
   "metadata": {},
   "outputs": [],
   "source": []
  },
  {
   "cell_type": "code",
   "execution_count": 360,
   "id": "100b77d9-938a-443e-9dee-44bf66208367",
   "metadata": {
    "tags": []
   },
   "outputs": [],
   "source": [
    "TCR = pos[[\"CDR3a_extended\", \"CDR3b_extended\"]].drop_duplicates()"
   ]
  },
  {
   "cell_type": "code",
   "execution_count": 361,
   "id": "d118397c-98c1-40df-833a-b54e0cf2a647",
   "metadata": {
    "tags": []
   },
   "outputs": [],
   "source": [
    "PEP = pos.Peptide.drop_duplicates()"
   ]
  },
  {
   "cell_type": "code",
   "execution_count": 362,
   "id": "c5c5fa02-70ba-4e9c-8c3b-d61107a8ae54",
   "metadata": {
    "tags": []
   },
   "outputs": [],
   "source": [
    "matrix = pd.DataFrame(index=PEP, columns=pd.MultiIndex.from_frame(TCR))"
   ]
  },
  {
   "cell_type": "code",
   "execution_count": 363,
   "id": "ec80a497-6ba4-40c5-bde2-d7101862bb46",
   "metadata": {
    "tags": []
   },
   "outputs": [
    {
     "name": "stdout",
     "output_type": "stream",
     "text": [
      "11\n",
      "11\n",
      "11\n",
      "11\n",
      "11\n",
      "11\n",
      "11\n",
      "11\n",
      "11\n",
      "11\n",
      "11\n",
      "11\n"
     ]
    }
   ],
   "source": [
    "for pep in PEP:\n",
    "    pos_pep = pd.MultiIndex.from_frame(pos.loc[pos.Peptide == pep, [\"CDR3a_extended\", \"CDR3b_extended\"]])\n",
    "    matrix.loc[pep, pos_pep] = 1\n",
    "    other_peps = PEP[PEP.apply(lambda p: distance(p, pep) > 3)]\n",
    "    print(len(other_peps))\n",
    "    matrix.loc[other_peps, pos_pep] = 0\n",
    "    # other_peps ="
   ]
  },
  {
   "cell_type": "code",
   "execution_count": 366,
   "id": "5a4c8cbf-1f73-431d-b20b-7174b6f4f520",
   "metadata": {
    "tags": []
   },
   "outputs": [],
   "source": [
    "synthetic_test = matrix.unstack().reset_index().rename(columns={0: \"y\"})"
   ]
  },
  {
   "cell_type": "code",
   "execution_count": 302,
   "id": "56e0540b-f580-43e3-bd4e-38640bb608d8",
   "metadata": {
    "tags": []
   },
   "outputs": [],
   "source": [
    "synthetic_test = resample(synthetic_test, T=80)"
   ]
  },
  {
   "cell_type": "code",
   "execution_count": 677,
   "id": "17214d8a-ac80-4220-8424-a1ada77c790a",
   "metadata": {
    "tags": []
   },
   "outputs": [],
   "source": [
    "def pep_sample_negatives1(train, test):\n",
    "    pos = train.loc[train.Peptide.isin(test.Peptide)]\n",
    "    pos = pos[[\"CDR3a_extended\", \"CDR3b_extended\", \"Peptide\"]].drop_duplicates()\n",
    "    pos[\"y\"] = 1\n",
    "    pos_subsample = resample(pos, T=80)\n",
    "\n",
    "    vc = pos_subsample.Peptide.value_counts(normalize=True)\n",
    "    pos_subsample_i = pos_subsample.set_index([\"CDR3a_extended\", \"CDR3b_extended\"])\n",
    "    rlist = []\n",
    "    for _, cdr_row in pos_subsample[[\"CDR3a_extended\", \"CDR3b_extended\"]].iterrows():\n",
    "        cdra, cdrb = cdr_row\n",
    "        peptides = pos_subsample_i.loc[cdra].loc[cdrb].Peptide\n",
    "        other_peps = PEP[PEP.apply(lambda p: all([distance(p, pep) > 3 for pep in peptides]))]\n",
    "        p = vc.loc[other_peps]\n",
    "        p = p / p.sum()\n",
    "        pep_sample = np.random.choice(other_peps, size=5, p=p)\n",
    "        neg_sample = pd.DataFrame(data={\"Peptide\": pep_sample})\n",
    "        neg_sample[\"CDR3a_extended\"] = cdra\n",
    "        neg_sample[\"CDR3b_extended\"] = cdrb\n",
    "        neg_sample[\"y\"] = 0\n",
    "        rlist.append(neg_sample)\n",
    "\n",
    "    df = pd.concat(rlist)\n",
    "    df = pd.concat([pos_subsample, df])\n",
    "    m = df.groupby([\"CDR3a_extended\", \"CDR3b_extended\", \"Peptide\"]).y.agg(\"nunique\").unique()\n",
    "    assert set(m) == {1}\n",
    "    return df"
   ]
  },
  {
   "cell_type": "code",
   "execution_count": 678,
   "id": "934900a6-72f5-47ed-818e-1db7b5cae55f",
   "metadata": {
    "tags": []
   },
   "outputs": [],
   "source": [
    "\n",
    "def pep_sample_negatives2(train, test):\n",
    "    pos = train.loc[train.Peptide.isin(test.Peptide)]\n",
    "    pos = pos[[\"CDR3a_extended\", \"CDR3b_extended\", \"Peptide\"]].drop_duplicates()\n",
    "    pos[\"y\"] = 1\n",
    "    pos_subsample = resample(pos, T=80)\n",
    "    vc = pos_subsample.Peptide.value_counts(normalize=True)\n",
    "    neg_pep = np.random.choice(vc.index, size=len(pos_subsample) * 5, replace=True, p=vc)\n",
    "    neg_tcr = pos_subsample[[\"CDR3a_extended\", \"CDR3b_extended\"]].sample(n=len(neg_pep), replace=True)\n",
    "    neg = pd.concat([pd.Series(neg_pep, index=neg_tcr.index, name=\"Peptide\"), neg_tcr], axis=1).reset_index(drop=True)\n",
    "    neg = neg.drop_duplicates()\n",
    "    pos_index = pd.MultiIndex.from_frame(pos_subsample[[\"Peptide\", \"CDR3a_extended\", \"CDR3b_extended\"]])\n",
    "    neg = neg[~pd.MultiIndex.from_frame(neg).isin(pos_index)].copy()\n",
    "    neg[\"y\"] = 0\n",
    "    df = pd.concat([pos_subsample, neg])\n",
    "    m = df.groupby([\"CDR3a_extended\", \"CDR3b_extended\", \"Peptide\"]).y.agg(\"nunique\").unique()\n",
    "    assert set(m) == {1}\n",
    "    return df"
   ]
  },
  {
   "cell_type": "code",
   "execution_count": null,
   "id": "51d24b4d-2eba-479c-9525-b0efcf9e8a63",
   "metadata": {},
   "outputs": [],
   "source": []
  },
  {
   "cell_type": "code",
   "execution_count": null,
   "id": "ca9c5991-7658-48b0-b5a8-1e485d238c67",
   "metadata": {},
   "outputs": [],
   "source": [
    "train_vdjdb['CDR3"
   ]
  },
  {
   "cell_type": "code",
   "execution_count": 912,
   "id": "f08967bc-490d-4849-8c1f-701dd93c2a97",
   "metadata": {
    "tags": []
   },
   "outputs": [],
   "source": [
    "def narrow_negatives7(train, test, start_resample=150, end_resample=80, replace=True, ratio = True):\n",
    "    # train = train_vdjdb\n",
    "    pos = train[[\"Peptide\", \"CDR3b_extended\", \"CDR3a_extended\"]].drop_duplicates()\n",
    "\n",
    "    pos = pos[pos.Peptide.isin(test.Peptide)]\n",
    "    pos = pos.drop_duplicates()\n",
    "    vc = pos[\"Peptide\"].value_counts()\n",
    "    peps = vc.index[vc >= 10]\n",
    "    pos = pos[pos.Peptide.isin(peps)]\n",
    "    \n",
    "    pos['y']= 1\n",
    "    \n",
    "    # print(pos)\n",
    "\n",
    "    # pos.shape\n",
    "    \n",
    "    if start_resample:\n",
    "        if isinstance(start_resample, int):\n",
    "            pos_sample = resample(pos, T=start_resample)\n",
    "        elif isinstance(start_resample, float):\n",
    "            pos_sample = pos.groupby(\"Peptide\").apply(lambda x: x.sample(frac=start_resample) if len(x) > 10/start_resample else x).reset_index(drop=True)\n",
    "    else:\n",
    "        pos_sample = pos\n",
    "        \n",
    "    # pos_sample = pos\n",
    "\n",
    "    \n",
    "    peps = pd.Series(peps, index=peps)\n",
    "    rlist = []\n",
    "    pos_i = pd.MultiIndex.from_frame(pos_sample[cdrcols +['Peptide']])\n",
    "\n",
    "    for i, pep in enumerate(peps.index):\n",
    "        pep_positives = pos_sample[pos_sample.Peptide == pep].copy()\n",
    "        # print(len(pep_positives))\n",
    "        dist_over_3 = peps.apply(lambda p: distance(p, pep) > 3)\n",
    "        pep_potential_negatives = peps[dist_over_3]\n",
    "\n",
    "        # len(potential_tcr_negatives)\n",
    "\n",
    "        train_neg = pos_sample[pos_sample.Peptide.isin(pep_potential_negatives)].copy()\n",
    "        train_neg['Peptide'] = pep\n",
    "        # print(train_neg.head())\n",
    "        neg_i = pd.MultiIndex.from_frame(train_neg[cdrcols+['Peptide']])\n",
    "        train_neg = train_neg[~neg_i.isin(pos_i)]\n",
    "        train_neg = train_neg[['CDR3a_extended', 'CDR3b_extended']].drop_duplicates()\n",
    "        # print(len(pep_positives), len(train_neg))\n",
    "        n = len(pep_positives) * 5\n",
    "        if not replace:\n",
    "            n = min(len(pep_positives) * 5, len(train_neg))\n",
    "        sample_neg = train_neg.sample(n, replace=replace)        \n",
    "        sample_neg[\"Peptide\"] = pep\n",
    "        sample_neg[\"y\"] = 0\n",
    "\n",
    "        # T = 80\n",
    "        # if len(pep_positives) > T:\n",
    "        #     pep_positives = pep_positives.sample(T)\n",
    "        #     if len(sample_neg) > T * 5:\n",
    "        #         sample_neg = sample_neg.sample(T * 5)\n",
    "        # print(len(pep_positives), len(sample_neg))\n",
    "        # print(pep_positives.head())\n",
    "        # print(sample_neg.head())\n",
    "        rlist.append(pd.concat([pep_positives, sample_neg]))\n",
    "        # raise Exception()\n",
    "    df = pd.concat(rlist)\n",
    "    df = df.drop_duplicates()\n",
    "    \n",
    "    m = df.groupby([\"CDR3a_extended\", \"CDR3b_extended\", \"Peptide\"]).y.agg(\"nunique\").unique()\n",
    "    assert set(m) == {1}\n",
    "    if end_resample:\n",
    "        return resample(df, T=end_resample)\n",
    "    return df"
   ]
  },
  {
   "cell_type": "code",
   "execution_count": 1000,
   "id": "6529fa99-ee1a-4a40-9cc3-a5b1d461e54e",
   "metadata": {
    "tags": []
   },
   "outputs": [],
   "source": [
    "synthetic_test = narrow_negatives7(train_vdjdb, test, start_resample=0.1, end_resample=90, replace=False)"
   ]
  },
  {
   "cell_type": "code",
   "execution_count": 1824,
   "id": "0979aaee-3769-46b8-b0e2-02317dede405",
   "metadata": {
    "tags": []
   },
   "outputs": [],
   "source": [
    "def narrow_negatives9(train, test, T=80):\n",
    "    pos = train[[\"Peptide\", \"CDR3b_extended\", \"CDR3a_extended\"]].drop_duplicates()\n",
    "    pos = pos[pos.Peptide.isin(test.Peptide)]\n",
    "    vc = pos[\"Peptide\"].value_counts()\n",
    "    peps = vc.index[vc >= 10]\n",
    "    pos = pos[pos.Peptide.isin(peps)]\n",
    "    pos['y'] = 1\n",
    "    # T = 80\n",
    "    # pos_sample = pos.groupby(\"Peptide\").apply(lambda x: x.sample(frac=frac) if len(x) >= 10/frac else x).reset_index(drop=True)\n",
    "    pos_sample = pos.groupby(\"Peptide\").apply(lambda x: x.sample(n=T) if len(x) >= T else x).reset_index(drop=True)\n",
    "    # print(pos_sample.shape)\n",
    "    # pos_sample['y'] = 1 \n",
    "    # print(pos_sample.Peptide.value_counts())\n",
    "\n",
    "    rlist = []\n",
    "    for pep in pos.Peptide.value_counts().index:\n",
    "        # print(pep)\n",
    "        pos_i = pd.MultiIndex.from_frame(pos.loc[pos.Peptide == pep, cdrcols])\n",
    "        pos_pep = pos[pos.Peptide == pep]\n",
    "        if len(pos_pep) > T:\n",
    "            pos_pep = pos_pep.sample(T)\n",
    "            \n",
    "    \n",
    "        neg = pos_sample[pos_sample.Peptide != pep]\n",
    "        neg_i = pd.MultiIndex.from_frame(neg[cdrcols])\n",
    "        neg = neg[~neg_i.isin(pos_i)]\n",
    "        print(len(pos_pep), len(neg))\n",
    "        neg_sample = neg.sample(min(len(pos_pep)*5, len(neg)), replace=False)\n",
    "        neg_sample['Peptide'] = pep\n",
    "        neg_sample['y'] = 0\n",
    "        \n",
    "       \n",
    "        \n",
    "        rlist.append(pd.concat([pos_pep, neg_sample]))\n",
    "    df = pd.concat(rlist)\n",
    "    m = df.groupby([\"CDR3a_extended\", \"CDR3b_extended\", \"Peptide\"]).y.agg(\"nunique\").unique()\n",
    "    assert set(m) == {1}\n",
    "    return df"
   ]
  },
  {
   "cell_type": "code",
   "execution_count": 1945,
   "id": "c3796b7b-3c4b-4b30-812c-ef705366ffa7",
   "metadata": {
    "tags": []
   },
   "outputs": [],
   "source": [
    "def narrow_negatives10(train, test, frac=0.2):\n",
    "   \n",
    "\n",
    "    pos = train[[\"Peptide\", \"CDR3b_extended\", \"CDR3a_extended\"]].drop_duplicates()\n",
    "    pos = pos[pos.Peptide.isin(test.Peptide)]\n",
    "    vc = pos[\"Peptide\"].value_counts()\n",
    "    peps = vc.index[vc >= 10]\n",
    "    pos = pos[pos.Peptide.isin(peps)]\n",
    "\n",
    "    frac = 0.2\n",
    "    T = 400\n",
    "    potential_tcr_negatives = pos\n",
    "    # potential_tcr_negatives = pos.groupby(\"Peptide\").apply(lambda x: x.sample(frac=frac) if len(x) >= 10/frac else x).reset_index(drop=True)\n",
    "    potential_tcr_negatives = pos.groupby(\"Peptide\").apply(lambda x: x.sample(T) if len(x) >= T else x).reset_index(drop=True)\n",
    "\n",
    "    peps = pd.Series(peps, index=peps)\n",
    "    rlist = []\n",
    "\n",
    "    for i, pep in enumerate(peps.index):\n",
    "        pep_positives = potential_tcr_negatives[potential_tcr_negatives.Peptide == pep].copy()\n",
    "        pep_positives[\"y\"] = 1\n",
    "\n",
    "        pos_i = pd.MultiIndex.from_frame(pos.loc[pos.Peptide == pep, cdrcols])\n",
    "        # pep_positives = potential_tcr_negatives[potential_tcr_negatives.Peptide == pep].copy()\n",
    "\n",
    "        dist_over_3 = peps.apply(lambda p: distance(p, pep) > 3)\n",
    "        pep_potential_negatives = peps[dist_over_3]\n",
    "\n",
    "        len(potential_tcr_negatives)\n",
    "\n",
    "        train_neg = potential_tcr_negatives[potential_tcr_negatives.Peptide.isin(pep_potential_negatives)]\n",
    "        train_neg = train_neg[cdrcols].drop_duplicates()\n",
    "        train_neg_i = pd.MultiIndex.from_frame(train_neg)\n",
    "        train_neg = train_neg[~train_neg_i.isin(pos_i)]\n",
    "\n",
    "        n = min(len(pep_positives) * 5, len(train_neg))\n",
    "\n",
    "        sample_neg = train_neg.sample(n, replace=False)\n",
    "        sample_neg[\"Peptide\"] = pep\n",
    "        sample_neg[\"y\"] = 0\n",
    "        rlist.append(pd.concat([pep_positives, sample_neg]))\n",
    "\n",
    "\n",
    "    df = pd.concat(rlist)\n",
    "    m = df.groupby([\"CDR3a_extended\", \"CDR3b_extended\", \"Peptide\"]).y.agg(\"nunique\").unique()\n",
    "    assert set(m) == {1}\n",
    "    unique_tcrs = df[cdrcols].drop_duplicates()\n",
    "    test_tcrs = unique_tcrs.sample(frac=0.25)\n",
    "    test_i = pd.MultiIndex.from_frame(test_tcrs)\n",
    "\n",
    "    df_test = df[pd.MultiIndex.from_frame(df[cdrcols]).isin(test_i)]\n",
    "\n",
    "    return df_test"
   ]
  },
  {
   "cell_type": "code",
   "execution_count": 1974,
   "id": "b9fade02-3d9b-4e40-8813-0fa6e37ff000",
   "metadata": {
    "tags": []
   },
   "outputs": [],
   "source": [
    "def narrow_negatives8(train, test, frac=0.2, fracneg=0.3):\n",
    "    # train = train_vdjdb\n",
    "    pos = train[[\"Peptide\", \"CDR3b_extended\", \"CDR3a_extended\"]].drop_duplicates()\n",
    "    pos = pos[pos.Peptide.isin(test.Peptide)]\n",
    "    vc = pos[\"Peptide\"].value_counts()\n",
    "    peps = vc.index[vc >= 10]\n",
    "    pos = pos[pos.Peptide.isin(peps)]\n",
    "\n",
    "    # pos.shape\n",
    "    \n",
    "    potential_tcr_negatives = pos.groupby(\"Peptide\").apply(lambda x: x.sample(frac=fracneg) if len(x) >= 10/fracneg else x).reset_index(drop=True)\n",
    "    # print(potential_tcr_negatives.Peptide.value_counts())\n",
    "    # potential_tcr_negatives = pos.groupby(\"Peptide\").apply(lambda x: x.sample(frac=frac)).reset_index(drop=True)\n",
    "\n",
    "    # potential_tcr_negatives = pos\n",
    "\n",
    "    \n",
    "    peps = pd.Series(peps, index=peps)\n",
    "    rlist = []\n",
    "\n",
    "    for i, pep in enumerate(peps.index):\n",
    "        pep_positives = pos[pos.Peptide == pep].copy()\n",
    "        pep_positives[\"y\"] = 1\n",
    "\n",
    "        pos_i = pd.MultiIndex.from_frame(pep_positives[cdrcols])\n",
    "        # pep_positives = potential_tcr_negatives[potential_tcr_negatives.Peptide == pep].copy()\n",
    "\n",
    "        dist_over_3 = peps.apply(lambda p: distance(p, pep) > 3)\n",
    "        pep_potential_negatives = peps[dist_over_3]\n",
    "\n",
    "        len(potential_tcr_negatives)\n",
    "\n",
    "        train_neg = potential_tcr_negatives[potential_tcr_negatives.Peptide.isin(pep_potential_negatives)]\n",
    "        train_neg = train_neg[cdrcols].drop_duplicates()\n",
    "        train_neg_i = pd.MultiIndex.from_frame(train_neg)\n",
    "        train_neg = train_neg[~train_neg_i.isin(pos_i)]\n",
    "        \n",
    "        # T = 60\n",
    "        # if len(pep_positives) > T:\n",
    "        #     pep_positives = pep_positives.sample(T)\n",
    "        if len(pep_positives) * frac > 10:\n",
    "            # print('yo', len(pep_positives))\n",
    "            # print(pep, len(pep_positives))\n",
    "            pep_positives = pep_positives.sample(frac=frac, replace=False)\n",
    "            # print('yo', len(pep_positives))\n",
    "        # if len(pep_positives) > T:\n",
    "        #     pep_positives = pep_positives.sample(T, replace=False)\n",
    "            \n",
    "        # print(len(pep_positives) * 5, len(train_neg))\n",
    "        \n",
    "        sample_neg = train_neg.sample(min(len(pep_positives) * 5, len(train_neg)), replace=False)\n",
    "\n",
    "        sample_neg[\"Peptide\"] = pep\n",
    "        sample_neg[\"y\"] = 0\n",
    "        print(pep, len(pep_positives), len(sample_neg))\n",
    "\n",
    "        \n",
    "        rlist.append(pd.concat([pep_positives, sample_neg]))\n",
    "    df = pd.concat(rlist)\n",
    "    # df = df.drop_duplicates()\n",
    "    df = df.groupby(['Peptide']+cdrcols).y.agg(max).reset_index()\n",
    "    m = df.groupby([\"CDR3a_extended\", \"CDR3b_extended\", \"Peptide\"]).y.agg(\"nunique\").unique()\n",
    "    assert set(m) == {1}\n",
    "    return df"
   ]
  },
  {
   "cell_type": "code",
   "execution_count": 2052,
   "id": "b3442645-6d98-4d57-ac7d-e362a383555e",
   "metadata": {
    "tags": []
   },
   "outputs": [
    {
     "name": "stdout",
     "output_type": "stream",
     "text": [
      "GILGFVFTL 94 327\n",
      "RAKFKQLL 49 245\n",
      "IVTDFSVIK 43 215\n",
      "NLVPMVATV 32 160\n",
      "GLCTLVAML 29 145\n",
      "YLQPRTFLL 20 100\n",
      "TPRVTGGGAM 19 95\n",
      "RPPIFIRRL 17 85\n",
      "VTEHDTLLY 17 85\n",
      "RPHERNGFTVL 15 75\n",
      "YVLDHLIVV 22 110\n"
     ]
    }
   ],
   "source": [
    "synthetic_test = narrow_negatives8(train_immuno, test, frac=0.05, fracneg=0.09)\n",
    "# synthetic_test = narrow_negatives8(train_vdjdb, test, frac=0.1)"
   ]
  },
  {
   "cell_type": "markdown",
   "id": "60b9b703-b867-407d-8a54-b7d99cc8d3e9",
   "metadata": {},
   "source": [
    "## Basic comparison"
   ]
  },
  {
   "cell_type": "code",
   "execution_count": 2128,
   "id": "8f455f08-289c-403e-a780-0272d81cb468",
   "metadata": {
    "tags": []
   },
   "outputs": [
    {
     "data": {
      "text/plain": [
       "(2568, 17)"
      ]
     },
     "execution_count": 2128,
     "metadata": {},
     "output_type": "execute_result"
    }
   ],
   "source": [
    "tt.shape"
   ]
  },
  {
   "cell_type": "code",
   "execution_count": 2129,
   "id": "9d5a0c6a-a89a-4d87-92f1-6ded6ac49cf2",
   "metadata": {
    "tags": []
   },
   "outputs": [
    {
     "data": {
      "text/plain": [
       "(1999, 4)"
      ]
     },
     "execution_count": 2129,
     "metadata": {},
     "output_type": "execute_result"
    }
   ],
   "source": [
    "synthetic_test.shape"
   ]
  },
  {
   "cell_type": "code",
   "execution_count": 2130,
   "id": "2ec24ee7-d788-45e6-b7cd-cc3f1c474c7b",
   "metadata": {
    "tags": []
   },
   "outputs": [
    {
     "data": {
      "text/plain": [
       "0    1642\n",
       "1     357\n",
       "Name: y, dtype: int64"
      ]
     },
     "execution_count": 2130,
     "metadata": {},
     "output_type": "execute_result"
    }
   ],
   "source": [
    "synthetic_test.y.value_counts()"
   ]
  },
  {
   "cell_type": "code",
   "execution_count": 2131,
   "id": "46bd72d7-edd4-40ea-9028-b683ae4aa740",
   "metadata": {
    "tags": []
   },
   "outputs": [
    {
     "data": {
      "text/plain": [
       "0    485\n",
       "1    345\n",
       "Name: y, dtype: int64"
      ]
     },
     "execution_count": 2131,
     "metadata": {},
     "output_type": "execute_result"
    }
   ],
   "source": [
    "synthetic_test.groupby(cdrcols).y.max().value_counts()"
   ]
  },
  {
   "cell_type": "code",
   "execution_count": 2132,
   "id": "e15046c1-a7bc-48d3-acdc-8afca47abbb9",
   "metadata": {
    "tags": []
   },
   "outputs": [],
   "source": [
    "m = synthetic_test.groupby([\"CDR3a_extended\", \"CDR3b_extended\", \"Peptide\"]).y.agg(\"nunique\").unique()\n",
    "assert set(m) == {1}"
   ]
  },
  {
   "cell_type": "code",
   "execution_count": 2133,
   "id": "1c5f732c-5891-42fb-a6a0-8f5b6d583ff6",
   "metadata": {
    "tags": []
   },
   "outputs": [
    {
     "data": {
      "text/plain": [
       "GILGFVFTL      421\n",
       "RAKFKQLL       294\n",
       "IVTDFSVIK      258\n",
       "NLVPMVATV      192\n",
       "GLCTLVAML      174\n",
       "YVLDHLIVV      132\n",
       "YLQPRTFLL      120\n",
       "TPRVTGGGAM     114\n",
       "RPPIFIRRL      102\n",
       "VTEHDTLLY      102\n",
       "RPHERNGFTVL     90\n",
       "Name: Peptide, dtype: int64"
      ]
     },
     "execution_count": 2133,
     "metadata": {},
     "output_type": "execute_result"
    }
   ],
   "source": [
    "synthetic_test.Peptide.value_counts()"
   ]
  },
  {
   "cell_type": "code",
   "execution_count": 2134,
   "id": "a58923a0-61e6-4558-843a-054e811c05b9",
   "metadata": {
    "tags": []
   },
   "outputs": [
    {
     "data": {
      "text/plain": [
       "GILGFVFTL      526\n",
       "RAKFKQLL       362\n",
       "EPLPQGQLTAY    288\n",
       "NLVPMVATV      258\n",
       "YVLDHLIVV      204\n",
       "VTEHDTLLY      150\n",
       "GLCTLVAML      144\n",
       "RPHERNGFTVL    114\n",
       "IPSINVHHY       96\n",
       "QIKVRVDMV       96\n",
       "RPPIFIRRL       90\n",
       "IVTDFSVIK       84\n",
       "TPRVTGGGAM      78\n",
       "YLQPRTFLL       78\n",
       "Name: Peptide, dtype: int64"
      ]
     },
     "execution_count": 2134,
     "metadata": {},
     "output_type": "execute_result"
    }
   ],
   "source": [
    "tt.Peptide.value_counts()"
   ]
  },
  {
   "cell_type": "code",
   "execution_count": 2135,
   "id": "37767d8b-baa7-44a0-abcb-688aad5d8bdd",
   "metadata": {
    "tags": []
   },
   "outputs": [
    {
     "data": {
      "text/plain": [
       "((2568, 17), (1999, 4))"
      ]
     },
     "execution_count": 2135,
     "metadata": {},
     "output_type": "execute_result"
    }
   ],
   "source": [
    "tt.shape, synthetic_test.shape"
   ]
  },
  {
   "cell_type": "code",
   "execution_count": 2136,
   "id": "cfa0c511-a063-476b-9185-69138bd4285a",
   "metadata": {
    "tags": []
   },
   "outputs": [
    {
     "data": {
      "text/plain": [
       "<AxesSubplot:xlabel='CDR3a_extended,CDR3b_extended'>"
      ]
     },
     "execution_count": 2136,
     "metadata": {},
     "output_type": "execute_result"
    },
    {
     "data": {
      "image/png": "[encoded data removed]",
      "text/plain": [
       "<Figure size 640x480 with 1 Axes>"
      ]
     },
     "metadata": {},
     "output_type": "display_data"
    }
   ],
   "source": [
    "synthetic_test[[\"CDR3a_extended\", \"CDR3b_extended\"]].value_counts().plot()"
   ]
  },
  {
   "cell_type": "code",
   "execution_count": 2137,
   "id": "23140ac4-7a75-45f6-8e2e-d84880e0de22",
   "metadata": {
    "tags": []
   },
   "outputs": [
    {
     "data": {
      "text/plain": [
       "<AxesSubplot:>"
      ]
     },
     "execution_count": 2137,
     "metadata": {},
     "output_type": "execute_result"
    },
    {
     "data": {
      "image/png": "[encoded data removed]",
      "text/plain": [
       "<Figure size 640x480 with 1 Axes>"
      ]
     },
     "metadata": {},
     "output_type": "display_data"
    }
   ],
   "source": [
    "synthetic_test[[\"CDR3a_extended\", \"CDR3b_extended\"]].value_counts().hist()"
   ]
  },
  {
   "cell_type": "code",
   "execution_count": 2138,
   "id": "5f3b0073-912d-45c9-a6d3-996620658913",
   "metadata": {
    "tags": []
   },
   "outputs": [],
   "source": [
    "vc = train_vdjdb.Peptide.value_counts()\n",
    "tt = test[test.Peptide.isin(vc[vc>=10].index)]"
   ]
  },
  {
   "cell_type": "code",
   "execution_count": 2139,
   "id": "f5333674-73c7-4a28-ab6e-14be30b8c53b",
   "metadata": {
    "tags": []
   },
   "outputs": [
    {
     "data": {
      "text/plain": [
       "<AxesSubplot:>"
      ]
     },
     "execution_count": 2139,
     "metadata": {},
     "output_type": "execute_result"
    },
    {
     "data": {
      "image/png": "[encoded data removed]",
      "text/plain": [
       "<Figure size 640x480 with 1 Axes>"
      ]
     },
     "metadata": {},
     "output_type": "display_data"
    }
   ],
   "source": [
    "tt[[\"CDR3a_extended\", \"CDR3b_extended\"]].value_counts().hist()"
   ]
  },
  {
   "cell_type": "code",
   "execution_count": 2140,
   "id": "7c3d0247-a927-40d5-b6a2-d4516462cffb",
   "metadata": {
    "tags": []
   },
   "outputs": [
    {
     "data": {
      "text/plain": [
       "<AxesSubplot:xlabel='CDR3a_extended,CDR3b_extended'>"
      ]
     },
     "execution_count": 2140,
     "metadata": {},
     "output_type": "execute_result"
    },
    {
     "data": {
      "image/png": "[encoded data removed]",
      "text/plain": [
       "<Figure size 640x480 with 1 Axes>"
      ]
     },
     "metadata": {},
     "output_type": "display_data"
    }
   ],
   "source": [
    "tt[[\"CDR3a_extended\", \"CDR3b_extended\"]].value_counts().plot()"
   ]
  },
  {
   "cell_type": "markdown",
   "id": "fcb2fae8-f02b-4427-b6a7-4284a54274a5",
   "metadata": {},
   "source": [
    "## Peptide vs repetitions"
   ]
  },
  {
   "cell_type": "code",
   "execution_count": 2079,
   "id": "32c9f197-23e7-4b83-972a-52a4213f012d",
   "metadata": {
    "tags": []
   },
   "outputs": [],
   "source": [
    "tt = test[test.Peptide.isin(train_vdjdb.Peptide)]"
   ]
  },
  {
   "cell_type": "code",
   "execution_count": 2080,
   "id": "93a8c91b-7078-4e13-b19a-cbcd8095c29d",
   "metadata": {
    "tags": []
   },
   "outputs": [],
   "source": [
    "def get_counts(tt):\n",
    "\n",
    "    vc = tt[cdrcols].value_counts().reset_index().rename(columns={0: 'count'})\n",
    "\n",
    "    peplist = []\n",
    "    for c, sdf in vc.groupby('count'):\n",
    "        pep = tt.set_index(cdrcols).Peptide.loc[pd.MultiIndex.from_frame(sdf)]\n",
    "        pep.name = str(c)\n",
    "        peplist.append(pep.value_counts())\n",
    "\n",
    "    counts = pd.concat(peplist, axis=1).fillna(0).astype(int)\n",
    "\n",
    "    return counts"
   ]
  },
  {
   "cell_type": "code",
   "execution_count": 2081,
   "id": "37b90650-f09f-44b8-ab13-58adda25fbf9",
   "metadata": {
    "tags": []
   },
   "outputs": [
    {
     "data": {
      "text/plain": [
       "GILGFVFTL      526\n",
       "RAKFKQLL       362\n",
       "EPLPQGQLTAY    288\n",
       "NLVPMVATV      258\n",
       "YVLDHLIVV      204\n",
       "VTEHDTLLY      150\n",
       "GLCTLVAML      144\n",
       "RPHERNGFTVL    114\n",
       "IPSINVHHY       96\n",
       "QIKVRVDMV       96\n",
       "RPPIFIRRL       90\n",
       "IVTDFSVIK       84\n",
       "TPRVTGGGAM      78\n",
       "YLQPRTFLL       78\n",
       "Name: Peptide, dtype: int64"
      ]
     },
     "execution_count": 2081,
     "metadata": {},
     "output_type": "execute_result"
    }
   ],
   "source": [
    "tt.Peptide.value_counts()"
   ]
  },
  {
   "cell_type": "code",
   "execution_count": 2082,
   "id": "18365648-4edc-4ef8-817e-c9ec4ccb59f8",
   "metadata": {
    "tags": []
   },
   "outputs": [
    {
     "data": {
      "text/html": [
       "<div>\n",
       "<style scoped>\n",
       "    .dataframe tbody tr th:only-of-type {\n",
       "        vertical-align: middle;\n",
       "    }\n",
       "\n",
       "    .dataframe tbody tr th {\n",
       "        vertical-align: top;\n",
       "    }\n",
       "\n",
       "    .dataframe thead th {\n",
       "        text-align: right;\n",
       "    }\n",
       "</style>\n",
       "<table border=\"1\" class=\"dataframe\">\n",
       "  <thead>\n",
       "    <tr style=\"text-align: right;\">\n",
       "      <th></th>\n",
       "      <th>1</th>\n",
       "      <th>2</th>\n",
       "      <th>3</th>\n",
       "      <th>4</th>\n",
       "      <th>5</th>\n",
       "      <th>6</th>\n",
       "      <th>7</th>\n",
       "      <th>8</th>\n",
       "      <th>9</th>\n",
       "      <th>10</th>\n",
       "      <th>11</th>\n",
       "      <th>12</th>\n",
       "      <th>14</th>\n",
       "    </tr>\n",
       "  </thead>\n",
       "  <tbody>\n",
       "    <tr>\n",
       "      <th>GILGFVFTL</th>\n",
       "      <td>93</td>\n",
       "      <td>119</td>\n",
       "      <td>81</td>\n",
       "      <td>72</td>\n",
       "      <td>58</td>\n",
       "      <td>26</td>\n",
       "      <td>19</td>\n",
       "      <td>15</td>\n",
       "      <td>4</td>\n",
       "      <td>4</td>\n",
       "      <td>5</td>\n",
       "      <td>3</td>\n",
       "      <td>27</td>\n",
       "    </tr>\n",
       "    <tr>\n",
       "      <th>RAKFKQLL</th>\n",
       "      <td>28</td>\n",
       "      <td>81</td>\n",
       "      <td>59</td>\n",
       "      <td>54</td>\n",
       "      <td>47</td>\n",
       "      <td>16</td>\n",
       "      <td>19</td>\n",
       "      <td>13</td>\n",
       "      <td>6</td>\n",
       "      <td>4</td>\n",
       "      <td>5</td>\n",
       "      <td>3</td>\n",
       "      <td>27</td>\n",
       "    </tr>\n",
       "    <tr>\n",
       "      <th>EPLPQGQLTAY</th>\n",
       "      <td>9</td>\n",
       "      <td>32</td>\n",
       "      <td>52</td>\n",
       "      <td>58</td>\n",
       "      <td>47</td>\n",
       "      <td>15</td>\n",
       "      <td>16</td>\n",
       "      <td>14</td>\n",
       "      <td>6</td>\n",
       "      <td>4</td>\n",
       "      <td>5</td>\n",
       "      <td>3</td>\n",
       "      <td>27</td>\n",
       "    </tr>\n",
       "    <tr>\n",
       "      <th>NLVPMVATV</th>\n",
       "      <td>7</td>\n",
       "      <td>16</td>\n",
       "      <td>39</td>\n",
       "      <td>56</td>\n",
       "      <td>47</td>\n",
       "      <td>17</td>\n",
       "      <td>15</td>\n",
       "      <td>15</td>\n",
       "      <td>6</td>\n",
       "      <td>4</td>\n",
       "      <td>6</td>\n",
       "      <td>3</td>\n",
       "      <td>27</td>\n",
       "    </tr>\n",
       "    <tr>\n",
       "      <th>YVLDHLIVV</th>\n",
       "      <td>6</td>\n",
       "      <td>12</td>\n",
       "      <td>36</td>\n",
       "      <td>18</td>\n",
       "      <td>41</td>\n",
       "      <td>16</td>\n",
       "      <td>16</td>\n",
       "      <td>14</td>\n",
       "      <td>6</td>\n",
       "      <td>4</td>\n",
       "      <td>5</td>\n",
       "      <td>3</td>\n",
       "      <td>27</td>\n",
       "    </tr>\n",
       "    <tr>\n",
       "      <th>VTEHDTLLY</th>\n",
       "      <td>2</td>\n",
       "      <td>6</td>\n",
       "      <td>20</td>\n",
       "      <td>23</td>\n",
       "      <td>14</td>\n",
       "      <td>16</td>\n",
       "      <td>14</td>\n",
       "      <td>10</td>\n",
       "      <td>6</td>\n",
       "      <td>4</td>\n",
       "      <td>5</td>\n",
       "      <td>3</td>\n",
       "      <td>27</td>\n",
       "    </tr>\n",
       "    <tr>\n",
       "      <th>GLCTLVAML</th>\n",
       "      <td>3</td>\n",
       "      <td>13</td>\n",
       "      <td>18</td>\n",
       "      <td>9</td>\n",
       "      <td>17</td>\n",
       "      <td>14</td>\n",
       "      <td>15</td>\n",
       "      <td>11</td>\n",
       "      <td>4</td>\n",
       "      <td>4</td>\n",
       "      <td>6</td>\n",
       "      <td>3</td>\n",
       "      <td>27</td>\n",
       "    </tr>\n",
       "    <tr>\n",
       "      <th>RPHERNGFTVL</th>\n",
       "      <td>1</td>\n",
       "      <td>11</td>\n",
       "      <td>13</td>\n",
       "      <td>11</td>\n",
       "      <td>12</td>\n",
       "      <td>9</td>\n",
       "      <td>3</td>\n",
       "      <td>12</td>\n",
       "      <td>3</td>\n",
       "      <td>4</td>\n",
       "      <td>5</td>\n",
       "      <td>3</td>\n",
       "      <td>27</td>\n",
       "    </tr>\n",
       "    <tr>\n",
       "      <th>IPSINVHHY</th>\n",
       "      <td>1</td>\n",
       "      <td>6</td>\n",
       "      <td>8</td>\n",
       "      <td>11</td>\n",
       "      <td>10</td>\n",
       "      <td>9</td>\n",
       "      <td>3</td>\n",
       "      <td>7</td>\n",
       "      <td>4</td>\n",
       "      <td>3</td>\n",
       "      <td>4</td>\n",
       "      <td>3</td>\n",
       "      <td>27</td>\n",
       "    </tr>\n",
       "    <tr>\n",
       "      <th>QIKVRVDMV</th>\n",
       "      <td>0</td>\n",
       "      <td>5</td>\n",
       "      <td>8</td>\n",
       "      <td>10</td>\n",
       "      <td>10</td>\n",
       "      <td>11</td>\n",
       "      <td>4</td>\n",
       "      <td>7</td>\n",
       "      <td>4</td>\n",
       "      <td>3</td>\n",
       "      <td>4</td>\n",
       "      <td>3</td>\n",
       "      <td>27</td>\n",
       "    </tr>\n",
       "    <tr>\n",
       "      <th>RPPIFIRRL</th>\n",
       "      <td>1</td>\n",
       "      <td>6</td>\n",
       "      <td>14</td>\n",
       "      <td>8</td>\n",
       "      <td>13</td>\n",
       "      <td>6</td>\n",
       "      <td>1</td>\n",
       "      <td>7</td>\n",
       "      <td>0</td>\n",
       "      <td>0</td>\n",
       "      <td>4</td>\n",
       "      <td>3</td>\n",
       "      <td>27</td>\n",
       "    </tr>\n",
       "    <tr>\n",
       "      <th>IVTDFSVIK</th>\n",
       "      <td>1</td>\n",
       "      <td>5</td>\n",
       "      <td>9</td>\n",
       "      <td>8</td>\n",
       "      <td>8</td>\n",
       "      <td>12</td>\n",
       "      <td>2</td>\n",
       "      <td>5</td>\n",
       "      <td>3</td>\n",
       "      <td>0</td>\n",
       "      <td>1</td>\n",
       "      <td>3</td>\n",
       "      <td>27</td>\n",
       "    </tr>\n",
       "    <tr>\n",
       "      <th>TPRVTGGGAM</th>\n",
       "      <td>2</td>\n",
       "      <td>1</td>\n",
       "      <td>4</td>\n",
       "      <td>9</td>\n",
       "      <td>15</td>\n",
       "      <td>9</td>\n",
       "      <td>2</td>\n",
       "      <td>7</td>\n",
       "      <td>1</td>\n",
       "      <td>1</td>\n",
       "      <td>0</td>\n",
       "      <td>0</td>\n",
       "      <td>27</td>\n",
       "    </tr>\n",
       "    <tr>\n",
       "      <th>YLQPRTFLL</th>\n",
       "      <td>0</td>\n",
       "      <td>3</td>\n",
       "      <td>5</td>\n",
       "      <td>9</td>\n",
       "      <td>11</td>\n",
       "      <td>10</td>\n",
       "      <td>4</td>\n",
       "      <td>7</td>\n",
       "      <td>1</td>\n",
       "      <td>1</td>\n",
       "      <td>0</td>\n",
       "      <td>0</td>\n",
       "      <td>27</td>\n",
       "    </tr>\n",
       "  </tbody>\n",
       "</table>\n",
       "</div>"
      ],
      "text/plain": [
       "              1    2   3   4   5   6   7   8  9  10  11  12  14\n",
       "GILGFVFTL    93  119  81  72  58  26  19  15  4   4   5   3  27\n",
       "RAKFKQLL     28   81  59  54  47  16  19  13  6   4   5   3  27\n",
       "EPLPQGQLTAY   9   32  52  58  47  15  16  14  6   4   5   3  27\n",
       "NLVPMVATV     7   16  39  56  47  17  15  15  6   4   6   3  27\n",
       "YVLDHLIVV     6   12  36  18  41  16  16  14  6   4   5   3  27\n",
       "VTEHDTLLY     2    6  20  23  14  16  14  10  6   4   5   3  27\n",
       "GLCTLVAML     3   13  18   9  17  14  15  11  4   4   6   3  27\n",
       "RPHERNGFTVL   1   11  13  11  12   9   3  12  3   4   5   3  27\n",
       "IPSINVHHY     1    6   8  11  10   9   3   7  4   3   4   3  27\n",
       "QIKVRVDMV     0    5   8  10  10  11   4   7  4   3   4   3  27\n",
       "RPPIFIRRL     1    6  14   8  13   6   1   7  0   0   4   3  27\n",
       "IVTDFSVIK     1    5   9   8   8  12   2   5  3   0   1   3  27\n",
       "TPRVTGGGAM    2    1   4   9  15   9   2   7  1   1   0   0  27\n",
       "YLQPRTFLL     0    3   5   9  11  10   4   7  1   1   0   0  27"
      ]
     },
     "execution_count": 2082,
     "metadata": {},
     "output_type": "execute_result"
    }
   ],
   "source": [
    "get_counts(tt).loc[tt.Peptide.value_counts().index]"
   ]
  },
  {
   "cell_type": "code",
   "execution_count": 2083,
   "id": "1c3485e2-1bb8-42c6-a027-28ac0bbf044f",
   "metadata": {
    "tags": []
   },
   "outputs": [
    {
     "data": {
      "text/html": [
       "<div>\n",
       "<style scoped>\n",
       "    .dataframe tbody tr th:only-of-type {\n",
       "        vertical-align: middle;\n",
       "    }\n",
       "\n",
       "    .dataframe tbody tr th {\n",
       "        vertical-align: top;\n",
       "    }\n",
       "\n",
       "    .dataframe thead th {\n",
       "        text-align: right;\n",
       "    }\n",
       "</style>\n",
       "<table border=\"1\" class=\"dataframe\">\n",
       "  <thead>\n",
       "    <tr style=\"text-align: right;\">\n",
       "      <th></th>\n",
       "      <th>1</th>\n",
       "      <th>2</th>\n",
       "      <th>3</th>\n",
       "      <th>4</th>\n",
       "      <th>5</th>\n",
       "      <th>6</th>\n",
       "      <th>7</th>\n",
       "      <th>8</th>\n",
       "    </tr>\n",
       "  </thead>\n",
       "  <tbody>\n",
       "    <tr>\n",
       "      <th>GILGFVFTL</th>\n",
       "      <td>91</td>\n",
       "      <td>74</td>\n",
       "      <td>95</td>\n",
       "      <td>95</td>\n",
       "      <td>37</td>\n",
       "      <td>20</td>\n",
       "      <td>7</td>\n",
       "      <td>2</td>\n",
       "    </tr>\n",
       "    <tr>\n",
       "      <th>RAKFKQLL</th>\n",
       "      <td>52</td>\n",
       "      <td>47</td>\n",
       "      <td>75</td>\n",
       "      <td>66</td>\n",
       "      <td>28</td>\n",
       "      <td>17</td>\n",
       "      <td>7</td>\n",
       "      <td>2</td>\n",
       "    </tr>\n",
       "    <tr>\n",
       "      <th>IVTDFSVIK</th>\n",
       "      <td>61</td>\n",
       "      <td>40</td>\n",
       "      <td>48</td>\n",
       "      <td>60</td>\n",
       "      <td>29</td>\n",
       "      <td>11</td>\n",
       "      <td>8</td>\n",
       "      <td>1</td>\n",
       "    </tr>\n",
       "    <tr>\n",
       "      <th>NLVPMVATV</th>\n",
       "      <td>31</td>\n",
       "      <td>18</td>\n",
       "      <td>49</td>\n",
       "      <td>54</td>\n",
       "      <td>24</td>\n",
       "      <td>14</td>\n",
       "      <td>2</td>\n",
       "      <td>0</td>\n",
       "    </tr>\n",
       "    <tr>\n",
       "      <th>GLCTLVAML</th>\n",
       "      <td>24</td>\n",
       "      <td>20</td>\n",
       "      <td>41</td>\n",
       "      <td>47</td>\n",
       "      <td>17</td>\n",
       "      <td>18</td>\n",
       "      <td>5</td>\n",
       "      <td>2</td>\n",
       "    </tr>\n",
       "    <tr>\n",
       "      <th>YVLDHLIVV</th>\n",
       "      <td>7</td>\n",
       "      <td>17</td>\n",
       "      <td>28</td>\n",
       "      <td>42</td>\n",
       "      <td>20</td>\n",
       "      <td>10</td>\n",
       "      <td>7</td>\n",
       "      <td>1</td>\n",
       "    </tr>\n",
       "    <tr>\n",
       "      <th>YLQPRTFLL</th>\n",
       "      <td>27</td>\n",
       "      <td>14</td>\n",
       "      <td>20</td>\n",
       "      <td>30</td>\n",
       "      <td>20</td>\n",
       "      <td>4</td>\n",
       "      <td>3</td>\n",
       "      <td>2</td>\n",
       "    </tr>\n",
       "    <tr>\n",
       "      <th>TPRVTGGGAM</th>\n",
       "      <td>13</td>\n",
       "      <td>16</td>\n",
       "      <td>26</td>\n",
       "      <td>29</td>\n",
       "      <td>14</td>\n",
       "      <td>11</td>\n",
       "      <td>3</td>\n",
       "      <td>2</td>\n",
       "    </tr>\n",
       "    <tr>\n",
       "      <th>RPPIFIRRL</th>\n",
       "      <td>13</td>\n",
       "      <td>13</td>\n",
       "      <td>16</td>\n",
       "      <td>25</td>\n",
       "      <td>20</td>\n",
       "      <td>8</td>\n",
       "      <td>6</td>\n",
       "      <td>1</td>\n",
       "    </tr>\n",
       "    <tr>\n",
       "      <th>VTEHDTLLY</th>\n",
       "      <td>13</td>\n",
       "      <td>7</td>\n",
       "      <td>22</td>\n",
       "      <td>27</td>\n",
       "      <td>18</td>\n",
       "      <td>9</td>\n",
       "      <td>4</td>\n",
       "      <td>2</td>\n",
       "    </tr>\n",
       "    <tr>\n",
       "      <th>RPHERNGFTVL</th>\n",
       "      <td>8</td>\n",
       "      <td>12</td>\n",
       "      <td>18</td>\n",
       "      <td>29</td>\n",
       "      <td>8</td>\n",
       "      <td>10</td>\n",
       "      <td>4</td>\n",
       "      <td>1</td>\n",
       "    </tr>\n",
       "  </tbody>\n",
       "</table>\n",
       "</div>"
      ],
      "text/plain": [
       "              1   2   3   4   5   6  7  8\n",
       "GILGFVFTL    91  74  95  95  37  20  7  2\n",
       "RAKFKQLL     52  47  75  66  28  17  7  2\n",
       "IVTDFSVIK    61  40  48  60  29  11  8  1\n",
       "NLVPMVATV    31  18  49  54  24  14  2  0\n",
       "GLCTLVAML    24  20  41  47  17  18  5  2\n",
       "YVLDHLIVV     7  17  28  42  20  10  7  1\n",
       "YLQPRTFLL    27  14  20  30  20   4  3  2\n",
       "TPRVTGGGAM   13  16  26  29  14  11  3  2\n",
       "RPPIFIRRL    13  13  16  25  20   8  6  1\n",
       "VTEHDTLLY    13   7  22  27  18   9  4  2\n",
       "RPHERNGFTVL   8  12  18  29   8  10  4  1"
      ]
     },
     "execution_count": 2083,
     "metadata": {},
     "output_type": "execute_result"
    }
   ],
   "source": [
    "get_counts(synthetic_test).loc[synthetic_test.Peptide.value_counts().index]"
   ]
  },
  {
   "cell_type": "code",
   "execution_count": 2084,
   "id": "fa791b97-d1fb-4552-81db-7a88d17681a5",
   "metadata": {
    "tags": []
   },
   "outputs": [],
   "source": [
    "# synthetic_test = pep_sample_negatives2(train_vdjdb, test)"
   ]
  },
  {
   "cell_type": "code",
   "execution_count": 2085,
   "id": "b02b7624-344b-4efc-84ef-1ae17b17b428",
   "metadata": {
    "tags": []
   },
   "outputs": [],
   "source": [
    "pp = np.intersect1d(tt.Peptide, synthetic_test.Peptide)"
   ]
  },
  {
   "cell_type": "code",
   "execution_count": 2086,
   "id": "69964fae-047f-41b1-8db5-a443018e56d2",
   "metadata": {
    "tags": []
   },
   "outputs": [],
   "source": [
    "pp = synthetic_test.Peptide.value_counts().index"
   ]
  },
  {
   "cell_type": "code",
   "execution_count": 2087,
   "id": "5ec47221-b877-453c-8fe7-8440f66833ea",
   "metadata": {
    "tags": []
   },
   "outputs": [
    {
     "data": {
      "text/html": [
       "<div>\n",
       "<style scoped>\n",
       "    .dataframe tbody tr th:only-of-type {\n",
       "        vertical-align: middle;\n",
       "    }\n",
       "\n",
       "    .dataframe tbody tr th {\n",
       "        vertical-align: top;\n",
       "    }\n",
       "\n",
       "    .dataframe thead th {\n",
       "        text-align: right;\n",
       "    }\n",
       "</style>\n",
       "<table border=\"1\" class=\"dataframe\">\n",
       "  <thead>\n",
       "    <tr style=\"text-align: right;\">\n",
       "      <th></th>\n",
       "      <th>Peptide</th>\n",
       "      <th>Peptide</th>\n",
       "    </tr>\n",
       "  </thead>\n",
       "  <tbody>\n",
       "    <tr>\n",
       "      <th>GILGFVFTL</th>\n",
       "      <td>421</td>\n",
       "      <td>526</td>\n",
       "    </tr>\n",
       "    <tr>\n",
       "      <th>RAKFKQLL</th>\n",
       "      <td>294</td>\n",
       "      <td>362</td>\n",
       "    </tr>\n",
       "    <tr>\n",
       "      <th>IVTDFSVIK</th>\n",
       "      <td>258</td>\n",
       "      <td>84</td>\n",
       "    </tr>\n",
       "    <tr>\n",
       "      <th>NLVPMVATV</th>\n",
       "      <td>192</td>\n",
       "      <td>258</td>\n",
       "    </tr>\n",
       "    <tr>\n",
       "      <th>GLCTLVAML</th>\n",
       "      <td>174</td>\n",
       "      <td>144</td>\n",
       "    </tr>\n",
       "    <tr>\n",
       "      <th>YVLDHLIVV</th>\n",
       "      <td>132</td>\n",
       "      <td>204</td>\n",
       "    </tr>\n",
       "    <tr>\n",
       "      <th>YLQPRTFLL</th>\n",
       "      <td>120</td>\n",
       "      <td>78</td>\n",
       "    </tr>\n",
       "    <tr>\n",
       "      <th>TPRVTGGGAM</th>\n",
       "      <td>114</td>\n",
       "      <td>78</td>\n",
       "    </tr>\n",
       "    <tr>\n",
       "      <th>RPPIFIRRL</th>\n",
       "      <td>102</td>\n",
       "      <td>90</td>\n",
       "    </tr>\n",
       "    <tr>\n",
       "      <th>VTEHDTLLY</th>\n",
       "      <td>102</td>\n",
       "      <td>150</td>\n",
       "    </tr>\n",
       "    <tr>\n",
       "      <th>RPHERNGFTVL</th>\n",
       "      <td>90</td>\n",
       "      <td>114</td>\n",
       "    </tr>\n",
       "  </tbody>\n",
       "</table>\n",
       "</div>"
      ],
      "text/plain": [
       "             Peptide  Peptide\n",
       "GILGFVFTL        421      526\n",
       "RAKFKQLL         294      362\n",
       "IVTDFSVIK        258       84\n",
       "NLVPMVATV        192      258\n",
       "GLCTLVAML        174      144\n",
       "YVLDHLIVV        132      204\n",
       "YLQPRTFLL        120       78\n",
       "TPRVTGGGAM       114       78\n",
       "RPPIFIRRL        102       90\n",
       "VTEHDTLLY        102      150\n",
       "RPHERNGFTVL       90      114"
      ]
     },
     "execution_count": 2087,
     "metadata": {},
     "output_type": "execute_result"
    }
   ],
   "source": [
    "pd.concat([synthetic_test.Peptide.value_counts()[pp], tt.Peptide.value_counts()[pp]], axis=1)"
   ]
  },
  {
   "cell_type": "code",
   "execution_count": null,
   "id": "184db79a-bfe8-4ce0-ae3c-de0f7a6f57c3",
   "metadata": {},
   "outputs": [],
   "source": []
  },
  {
   "cell_type": "code",
   "execution_count": 2088,
   "id": "7006254f-d984-4368-9ee9-b8b0381f80f8",
   "metadata": {
    "tags": []
   },
   "outputs": [
    {
     "data": {
      "text/plain": [
       "(11,)"
      ]
     },
     "execution_count": 2088,
     "metadata": {},
     "output_type": "execute_result"
    }
   ],
   "source": [
    "synthetic_test.Peptide.value_counts().shape"
   ]
  },
  {
   "cell_type": "code",
   "execution_count": 2089,
   "id": "97b7905f-04c9-4a72-9d63-7dd2869bf29b",
   "metadata": {
    "tags": []
   },
   "outputs": [
    {
     "data": {
      "text/plain": [
       "GILGFVFTL      94\n",
       "RAKFKQLL       49\n",
       "IVTDFSVIK      43\n",
       "NLVPMVATV      32\n",
       "GLCTLVAML      29\n",
       "YVLDHLIVV      22\n",
       "YLQPRTFLL      20\n",
       "TPRVTGGGAM     19\n",
       "RPPIFIRRL      17\n",
       "VTEHDTLLY      17\n",
       "RPHERNGFTVL    15\n",
       "Name: Peptide, dtype: int64"
      ]
     },
     "execution_count": 2089,
     "metadata": {},
     "output_type": "execute_result"
    }
   ],
   "source": [
    "synthetic_test[synthetic_test.y==1].Peptide.value_counts()"
   ]
  },
  {
   "cell_type": "markdown",
   "id": "d93df03c-fcdd-49a8-ac47-26158e8f3e65",
   "metadata": {},
   "source": [
    "## Exit time analysis"
   ]
  },
  {
   "cell_type": "code",
   "execution_count": 2107,
   "id": "4401c0ee-91ea-4f39-ac52-6d2815cd438e",
   "metadata": {
    "tags": []
   },
   "outputs": [],
   "source": [
    "from collections import defaultdict\n",
    "\n",
    "def exit_time_analysis(tt):\n",
    "    \n",
    "    vc = tt[cdrcols].value_counts()\n",
    "\n",
    "    p_old = None\n",
    "    pep_counts = defaultdict(set)\n",
    "    for (cdra, cdrb), v in vc.iteritems():\n",
    "        p_current = tt.query(f'CDR3a_extended == \"{cdra}\" and CDR3b_extended == \"{cdrb}\"').Peptide.unique()\n",
    "        for p in p_current:\n",
    "            pep_counts[p].add(v)\n",
    "        if p_old is not None:\n",
    "            missing = np.setdiff1d(p_old, p_current)\n",
    "            new = np.setdiff1d(p_current, p_old)\n",
    "            print(len(p_old), len(p_current), missing, new, v)\n",
    "            # if len(diff) > 0:\n",
    "            #     print(diff)\n",
    "\n",
    "        p_old = p_current\n",
    "    return pep_counts"
   ]
  },
  {
   "cell_type": "code",
   "execution_count": 2108,
   "id": "1d6c0b56-cf95-4800-b2d7-5930766fb3c2",
   "metadata": {
    "scrolled": true,
    "tags": []
   },
   "outputs": [
    {
     "name": "stdout",
     "output_type": "stream",
     "text": [
      "14 14 [] [] 14\n",
      "14 14 [] [] 14\n",
      "14 14 [] [] 14\n",
      "14 14 [] [] 14\n",
      "14 14 [] [] 14\n",
      "14 14 [] [] 14\n",
      "14 14 [] [] 14\n",
      "14 14 [] [] 14\n",
      "14 14 [] [] 14\n",
      "14 14 [] [] 14\n",
      "14 14 [] [] 14\n",
      "14 14 [] [] 14\n",
      "14 14 [] [] 14\n",
      "14 14 [] [] 14\n",
      "14 14 [] [] 14\n",
      "14 14 [] [] 14\n",
      "14 14 [] [] 14\n",
      "14 14 [] [] 14\n",
      "14 14 [] [] 14\n",
      "14 14 [] [] 14\n",
      "14 14 [] [] 14\n",
      "14 14 [] [] 14\n",
      "14 14 [] [] 14\n",
      "14 14 [] [] 14\n",
      "14 14 [] [] 14\n",
      "14 14 [] [] 14\n",
      "14 12 ['TPRVTGGGAM' 'YLQPRTFLL'] [] 12\n",
      "12 12 [] [] 12\n",
      "12 12 [] [] 12\n",
      "12 11 ['RPPIFIRRL'] [] 11\n",
      "11 11 ['IVTDFSVIK'] ['RPPIFIRRL'] 11\n",
      "11 11 [] [] 11\n",
      "11 11 [] [] 11\n",
      "11 9 ['IPSINVHHY' 'QIKVRVDMV'] [] 11\n",
      "9 10 ['RPPIFIRRL'] ['IPSINVHHY' 'QIKVRVDMV'] 10\n",
      "10 10 [] [] 10\n",
      "10 10 [] [] 10\n",
      "10 10 ['IPSINVHHY' 'QIKVRVDMV'] ['TPRVTGGGAM' 'YLQPRTFLL'] 10\n",
      "10 9 ['RPHERNGFTVL' 'TPRVTGGGAM' 'YLQPRTFLL'] ['IPSINVHHY' 'QIKVRVDMV'] 9\n",
      "9 9 ['GLCTLVAML'] ['IVTDFSVIK'] 9\n",
      "9 9 ['IPSINVHHY' 'QIKVRVDMV'] ['GLCTLVAML' 'RPHERNGFTVL'] 9\n",
      "9 9 ['GLCTLVAML' 'IVTDFSVIK'] ['IPSINVHHY' 'QIKVRVDMV'] 9\n",
      "9 9 ['GILGFVFTL' 'IPSINVHHY' 'QIKVRVDMV' 'RPHERNGFTVL'] ['GLCTLVAML' 'IVTDFSVIK' 'TPRVTGGGAM' 'YLQPRTFLL'] 9\n",
      "9 9 ['IVTDFSVIK' 'TPRVTGGGAM' 'YLQPRTFLL'] ['IPSINVHHY' 'QIKVRVDMV' 'RPHERNGFTVL'] 9\n",
      "9 8 ['GLCTLVAML' 'IPSINVHHY' 'QIKVRVDMV' 'RPHERNGFTVL' 'VTEHDTLLY'] ['GILGFVFTL' 'RPPIFIRRL' 'TPRVTGGGAM' 'YLQPRTFLL'] 8\n",
      "8 8 ['RPPIFIRRL' 'TPRVTGGGAM' 'YLQPRTFLL'] ['GLCTLVAML' 'RPHERNGFTVL' 'VTEHDTLLY'] 8\n",
      "8 8 ['GLCTLVAML' 'RAKFKQLL' 'VTEHDTLLY'] ['IPSINVHHY' 'IVTDFSVIK' 'QIKVRVDMV'] 8\n",
      "8 8 ['EPLPQGQLTAY' 'RPHERNGFTVL'] ['RAKFKQLL' 'RPPIFIRRL'] 8\n",
      "8 8 ['IVTDFSVIK' 'NLVPMVATV' 'RPPIFIRRL' 'YVLDHLIVV'] ['EPLPQGQLTAY' 'RPHERNGFTVL' 'TPRVTGGGAM' 'YLQPRTFLL'] 8\n",
      "8 8 ['EPLPQGQLTAY' 'RAKFKQLL' 'RPHERNGFTVL'] ['GLCTLVAML' 'NLVPMVATV' 'VTEHDTLLY'] 8\n",
      "8 8 ['IPSINVHHY' 'QIKVRVDMV' 'TPRVTGGGAM' 'YLQPRTFLL'] ['EPLPQGQLTAY' 'RPHERNGFTVL' 'RPPIFIRRL' 'YVLDHLIVV'] 8\n",
      "8 8 ['RPPIFIRRL'] ['RAKFKQLL'] 8\n",
      "8 8 ['EPLPQGQLTAY' 'GLCTLVAML' 'NLVPMVATV' 'RPHERNGFTVL'] ['IPSINVHHY' 'IVTDFSVIK' 'QIKVRVDMV' 'RPPIFIRRL'] 8\n",
      "8 8 ['IPSINVHHY' 'IVTDFSVIK' 'QIKVRVDMV' 'VTEHDTLLY'] ['EPLPQGQLTAY' 'NLVPMVATV' 'TPRVTGGGAM' 'YLQPRTFLL'] 8\n",
      "8 8 ['RPPIFIRRL' 'TPRVTGGGAM' 'YLQPRTFLL'] ['GLCTLVAML' 'RPHERNGFTVL' 'VTEHDTLLY'] 8\n",
      "8 8 ['EPLPQGQLTAY' 'GILGFVFTL' 'GLCTLVAML' 'RAKFKQLL' 'VTEHDTLLY' 'YVLDHLIVV'] ['IPSINVHHY' 'IVTDFSVIK' 'QIKVRVDMV' 'RPPIFIRRL' 'TPRVTGGGAM' 'YLQPRTFLL'] 8\n",
      "8 8 ['IPSINVHHY' 'IVTDFSVIK' 'QIKVRVDMV' 'RPPIFIRRL' 'TPRVTGGGAM' 'YLQPRTFLL'] ['EPLPQGQLTAY' 'GILGFVFTL' 'GLCTLVAML' 'RAKFKQLL' 'VTEHDTLLY' 'YVLDHLIVV'] 8\n",
      "8 8 [] [] 8\n",
      "8 8 ['GILGFVFTL' 'YVLDHLIVV'] ['TPRVTGGGAM' 'YLQPRTFLL'] 8\n",
      "8 8 ['NLVPMVATV' 'RAKFKQLL' 'TPRVTGGGAM' 'VTEHDTLLY' 'YLQPRTFLL'] ['GILGFVFTL' 'IPSINVHHY' 'QIKVRVDMV' 'RPPIFIRRL' 'YVLDHLIVV'] 8\n",
      "8 8 ['GILGFVFTL' 'IPSINVHHY' 'QIKVRVDMV' 'RPHERNGFTVL' 'RPPIFIRRL'] ['IVTDFSVIK' 'NLVPMVATV' 'RAKFKQLL' 'TPRVTGGGAM' 'YLQPRTFLL'] 8\n",
      "8 8 ['IVTDFSVIK' 'TPRVTGGGAM' 'YLQPRTFLL'] ['GILGFVFTL' 'RPHERNGFTVL' 'VTEHDTLLY'] 8\n",
      "8 7 ['RPHERNGFTVL'] [] 7\n",
      "7 7 ['GLCTLVAML' 'VTEHDTLLY' 'YVLDHLIVV'] ['IPSINVHHY' 'QIKVRVDMV' 'YLQPRTFLL'] 7\n",
      "7 7 ['IPSINVHHY' 'QIKVRVDMV' 'YLQPRTFLL'] ['GLCTLVAML' 'VTEHDTLLY' 'YVLDHLIVV'] 7\n",
      "7 7 [] [] 7\n",
      "7 7 ['NLVPMVATV' 'VTEHDTLLY'] ['IVTDFSVIK' 'RPHERNGFTVL'] 7\n",
      "7 7 ['EPLPQGQLTAY' 'IVTDFSVIK' 'RPHERNGFTVL'] ['IPSINVHHY' 'NLVPMVATV' 'QIKVRVDMV'] 7\n",
      "7 7 ['IPSINVHHY' 'QIKVRVDMV'] ['EPLPQGQLTAY' 'VTEHDTLLY'] 7\n",
      "7 7 ['GLCTLVAML' 'NLVPMVATV' 'YVLDHLIVV'] ['IPSINVHHY' 'QIKVRVDMV' 'YLQPRTFLL'] 7\n",
      "7 7 ['EPLPQGQLTAY' 'IPSINVHHY' 'QIKVRVDMV'] ['NLVPMVATV' 'RPHERNGFTVL' 'TPRVTGGGAM'] 7\n",
      "7 7 ['NLVPMVATV' 'RPHERNGFTVL' 'VTEHDTLLY'] ['EPLPQGQLTAY' 'RPPIFIRRL' 'YVLDHLIVV'] 7\n",
      "7 7 ['RPPIFIRRL' 'TPRVTGGGAM' 'YLQPRTFLL'] ['GLCTLVAML' 'NLVPMVATV' 'VTEHDTLLY'] 7\n",
      "7 7 ['NLVPMVATV'] ['IVTDFSVIK'] 7\n",
      "7 7 ['EPLPQGQLTAY' 'IVTDFSVIK' 'VTEHDTLLY'] ['NLVPMVATV' 'QIKVRVDMV' 'RPHERNGFTVL'] 7\n",
      "7 7 ['QIKVRVDMV' 'RPHERNGFTVL'] ['EPLPQGQLTAY' 'VTEHDTLLY'] 7\n",
      "7 7 [] [] 7\n",
      "7 7 [] [] 7\n",
      "7 7 [] [] 7\n",
      "7 7 [] [] 7\n",
      "7 7 [] [] 7\n",
      "7 6 ['GLCTLVAML' 'VTEHDTLLY' 'YVLDHLIVV'] ['IPSINVHHY' 'QIKVRVDMV'] 6\n",
      "6 6 ['EPLPQGQLTAY' 'IPSINVHHY' 'NLVPMVATV' 'QIKVRVDMV' 'RAKFKQLL'] ['GLCTLVAML' 'RPPIFIRRL' 'TPRVTGGGAM' 'VTEHDTLLY' 'YLQPRTFLL'] 6\n",
      "6 6 ['GILGFVFTL' 'TPRVTGGGAM' 'VTEHDTLLY' 'YLQPRTFLL'] ['IPSINVHHY' 'NLVPMVATV' 'QIKVRVDMV' 'RAKFKQLL'] 6\n",
      "6 6 ['GLCTLVAML' 'IPSINVHHY' 'NLVPMVATV' 'RPPIFIRRL'] ['GILGFVFTL' 'RPHERNGFTVL' 'TPRVTGGGAM' 'YLQPRTFLL'] 6\n",
      "6 6 ['RAKFKQLL' 'RPHERNGFTVL' 'TPRVTGGGAM' 'YLQPRTFLL'] ['EPLPQGQLTAY' 'IPSINVHHY' 'IVTDFSVIK' 'NLVPMVATV'] 6\n",
      "6 6 ['EPLPQGQLTAY' 'IPSINVHHY' 'IVTDFSVIK' 'QIKVRVDMV'] ['RAKFKQLL' 'RPPIFIRRL' 'VTEHDTLLY' 'YVLDHLIVV'] 6\n",
      "6 6 ['NLVPMVATV' 'RAKFKQLL' 'RPPIFIRRL' 'YVLDHLIVV'] ['GLCTLVAML' 'IPSINVHHY' 'QIKVRVDMV' 'RPHERNGFTVL'] 6\n",
      "6 6 ['IPSINVHHY' 'QIKVRVDMV' 'RPHERNGFTVL' 'VTEHDTLLY'] ['EPLPQGQLTAY' 'IVTDFSVIK' 'NLVPMVATV' 'RAKFKQLL'] 6\n",
      "6 6 ['GILGFVFTL' 'IVTDFSVIK' 'RAKFKQLL'] ['RPHERNGFTVL' 'VTEHDTLLY' 'YVLDHLIVV'] 6\n",
      "6 6 ['EPLPQGQLTAY' 'NLVPMVATV' 'RPHERNGFTVL' 'YVLDHLIVV'] ['GILGFVFTL' 'RAKFKQLL' 'TPRVTGGGAM' 'YLQPRTFLL'] 6\n",
      "6 6 ['GLCTLVAML' 'RAKFKQLL' 'VTEHDTLLY'] ['EPLPQGQLTAY' 'IVTDFSVIK' 'YVLDHLIVV'] 6\n",
      "6 6 ['TPRVTGGGAM' 'YLQPRTFLL'] ['GLCTLVAML' 'NLVPMVATV'] 6\n",
      "6 6 ['EPLPQGQLTAY' 'GLCTLVAML' 'NLVPMVATV'] ['QIKVRVDMV' 'TPRVTGGGAM' 'YLQPRTFLL'] 6\n",
      "6 6 ['IVTDFSVIK' 'QIKVRVDMV' 'TPRVTGGGAM' 'YLQPRTFLL'] ['EPLPQGQLTAY' 'NLVPMVATV' 'RAKFKQLL' 'VTEHDTLLY'] 6\n",
      "6 6 ['EPLPQGQLTAY' 'RAKFKQLL'] ['GLCTLVAML' 'RPHERNGFTVL'] 6\n",
      "6 6 ['GLCTLVAML' 'RPHERNGFTVL' 'VTEHDTLLY'] ['EPLPQGQLTAY' 'IPSINVHHY' 'QIKVRVDMV'] 6\n",
      "6 6 ['EPLPQGQLTAY' 'IPSINVHHY' 'NLVPMVATV' 'QIKVRVDMV'] ['RAKFKQLL' 'RPHERNGFTVL' 'VTEHDTLLY' 'YLQPRTFLL'] 6\n",
      "6 6 ['GILGFVFTL' 'VTEHDTLLY' 'YVLDHLIVV'] ['IVTDFSVIK' 'RPPIFIRRL' 'TPRVTGGGAM'] 6\n",
      "6 6 ['IVTDFSVIK' 'RPHERNGFTVL' 'TPRVTGGGAM' 'YLQPRTFLL'] ['EPLPQGQLTAY' 'GLCTLVAML' 'NLVPMVATV' 'VTEHDTLLY'] 6\n",
      "6 6 ['GLCTLVAML' 'RPPIFIRRL'] ['GILGFVFTL' 'YVLDHLIVV'] 6\n",
      "6 6 ['EPLPQGQLTAY' 'RAKFKQLL' 'VTEHDTLLY'] ['GLCTLVAML' 'IPSINVHHY' 'QIKVRVDMV'] 6\n",
      "6 6 ['GLCTLVAML' 'IPSINVHHY' 'NLVPMVATV' 'QIKVRVDMV' 'YVLDHLIVV'] ['EPLPQGQLTAY' 'IVTDFSVIK' 'RAKFKQLL' 'RPHERNGFTVL' 'VTEHDTLLY'] 6\n",
      "6 6 ['IVTDFSVIK' 'RPHERNGFTVL' 'VTEHDTLLY'] ['NLVPMVATV' 'TPRVTGGGAM' 'YLQPRTFLL'] 6\n",
      "6 6 ['EPLPQGQLTAY' 'RAKFKQLL' 'TPRVTGGGAM'] ['IVTDFSVIK' 'RPHERNGFTVL' 'VTEHDTLLY'] 6\n",
      "6 6 ['NLVPMVATV' 'VTEHDTLLY' 'YLQPRTFLL'] ['IPSINVHHY' 'QIKVRVDMV' 'RPPIFIRRL'] 6\n",
      "6 6 ['IPSINVHHY' 'QIKVRVDMV' 'RPHERNGFTVL' 'RPPIFIRRL'] ['EPLPQGQLTAY' 'GLCTLVAML' 'NLVPMVATV' 'TPRVTGGGAM'] 6\n",
      "6 6 ['GLCTLVAML' 'IVTDFSVIK' 'TPRVTGGGAM'] ['RAKFKQLL' 'VTEHDTLLY' 'YVLDHLIVV'] 6\n",
      "6 6 ['EPLPQGQLTAY' 'NLVPMVATV' 'RAKFKQLL'] ['GLCTLVAML' 'TPRVTGGGAM' 'YLQPRTFLL'] 6\n",
      "6 6 ['GLCTLVAML' 'TPRVTGGGAM' 'YLQPRTFLL'] ['IPSINVHHY' 'QIKVRVDMV' 'RAKFKQLL'] 6\n",
      "6 6 ['IPSINVHHY' 'QIKVRVDMV'] ['GLCTLVAML' 'IVTDFSVIK'] 6\n",
      "6 6 ['GILGFVFTL' 'RAKFKQLL' 'VTEHDTLLY'] ['EPLPQGQLTAY' 'IPSINVHHY' 'QIKVRVDMV'] 6\n",
      "6 5 ['GLCTLVAML' 'IPSINVHHY' 'IVTDFSVIK' 'QIKVRVDMV'] ['GILGFVFTL' 'NLVPMVATV' 'RAKFKQLL'] 5\n",
      "5 5 ['NLVPMVATV' 'RAKFKQLL'] ['RPHERNGFTVL' 'RPPIFIRRL'] 5\n",
      "5 5 ['RPHERNGFTVL' 'RPPIFIRRL'] ['RAKFKQLL' 'TPRVTGGGAM'] 5\n",
      "5 5 ['TPRVTGGGAM'] ['NLVPMVATV'] 5\n",
      "5 5 ['RAKFKQLL' 'YVLDHLIVV'] ['IVTDFSVIK' 'RPPIFIRRL'] 5\n",
      "5 5 ['EPLPQGQLTAY' 'IVTDFSVIK' 'NLVPMVATV'] ['IPSINVHHY' 'QIKVRVDMV' 'VTEHDTLLY'] 5\n",
      "5 5 ['IPSINVHHY' 'QIKVRVDMV' 'RPPIFIRRL' 'VTEHDTLLY'] ['EPLPQGQLTAY' 'NLVPMVATV' 'RAKFKQLL' 'YVLDHLIVV'] 5\n",
      "5 5 [] [] 5\n",
      "5 5 [] [] 5\n",
      "5 5 [] [] 5\n",
      "5 5 ['RAKFKQLL' 'YVLDHLIVV'] ['TPRVTGGGAM' 'YLQPRTFLL'] 5\n",
      "5 5 ['EPLPQGQLTAY' 'TPRVTGGGAM' 'YLQPRTFLL'] ['GLCTLVAML' 'VTEHDTLLY' 'YVLDHLIVV'] 5\n",
      "5 5 ['VTEHDTLLY' 'YVLDHLIVV'] ['EPLPQGQLTAY' 'RPPIFIRRL'] 5\n",
      "5 5 ['GILGFVFTL' 'GLCTLVAML'] ['IPSINVHHY' 'QIKVRVDMV'] 5\n",
      "5 5 ['EPLPQGQLTAY' 'IPSINVHHY' 'NLVPMVATV' 'QIKVRVDMV'] ['RAKFKQLL' 'TPRVTGGGAM' 'VTEHDTLLY' 'YVLDHLIVV'] 5\n",
      "5 5 ['RPPIFIRRL' 'TPRVTGGGAM' 'YVLDHLIVV'] ['EPLPQGQLTAY' 'GILGFVFTL' 'RPHERNGFTVL'] 5\n",
      "5 5 ['RPHERNGFTVL'] ['IVTDFSVIK'] 5\n",
      "5 5 ['EPLPQGQLTAY' 'IVTDFSVIK' 'RAKFKQLL' 'VTEHDTLLY'] ['IPSINVHHY' 'NLVPMVATV' 'QIKVRVDMV' 'RPPIFIRRL'] 5\n",
      "5 5 ['GILGFVFTL' 'IPSINVHHY' 'QIKVRVDMV' 'RPPIFIRRL'] ['EPLPQGQLTAY' 'GLCTLVAML' 'RAKFKQLL' 'VTEHDTLLY'] 5\n",
      "5 5 ['RAKFKQLL' 'VTEHDTLLY'] ['GILGFVFTL' 'RPHERNGFTVL'] 5\n",
      "5 5 ['GLCTLVAML' 'RPHERNGFTVL'] ['RAKFKQLL' 'YVLDHLIVV'] 5\n",
      "5 5 ['EPLPQGQLTAY' 'RAKFKQLL' 'YVLDHLIVV'] ['TPRVTGGGAM' 'VTEHDTLLY' 'YLQPRTFLL'] 5\n",
      "5 5 ['TPRVTGGGAM' 'VTEHDTLLY' 'YLQPRTFLL'] ['EPLPQGQLTAY' 'RAKFKQLL' 'YVLDHLIVV'] 5\n",
      "5 5 ['NLVPMVATV' 'YVLDHLIVV'] ['TPRVTGGGAM' 'YLQPRTFLL'] 5\n",
      "5 5 ['RAKFKQLL' 'YLQPRTFLL'] ['GLCTLVAML' 'NLVPMVATV'] 5\n",
      "5 5 ['GLCTLVAML' 'TPRVTGGGAM'] ['RAKFKQLL' 'YVLDHLIVV'] 5\n",
      "5 5 [] [] 5\n",
      "5 5 [] [] 5\n",
      "5 5 [] [] 5\n",
      "5 5 ['YVLDHLIVV'] ['GLCTLVAML'] 5\n",
      "5 5 ['GLCTLVAML' 'NLVPMVATV'] ['RPHERNGFTVL' 'YVLDHLIVV'] 5\n",
      "5 5 ['RAKFKQLL' 'YVLDHLIVV'] ['IVTDFSVIK' 'VTEHDTLLY'] 5\n",
      "5 5 ['IVTDFSVIK' 'RPHERNGFTVL' 'VTEHDTLLY'] ['NLVPMVATV' 'RAKFKQLL' 'YVLDHLIVV'] 5\n",
      "5 5 ['NLVPMVATV' 'YVLDHLIVV'] ['GLCTLVAML' 'IVTDFSVIK'] 5\n",
      "5 5 ['GILGFVFTL' 'GLCTLVAML' 'IVTDFSVIK' 'RAKFKQLL'] ['NLVPMVATV' 'RPHERNGFTVL' 'TPRVTGGGAM' 'YLQPRTFLL'] 5\n",
      "5 5 ['RPHERNGFTVL' 'TPRVTGGGAM' 'YLQPRTFLL'] ['GILGFVFTL' 'VTEHDTLLY' 'YVLDHLIVV'] 5\n",
      "5 5 ['EPLPQGQLTAY' 'NLVPMVATV' 'VTEHDTLLY'] ['IPSINVHHY' 'QIKVRVDMV' 'RPPIFIRRL'] 5\n",
      "5 5 ['IPSINVHHY' 'QIKVRVDMV' 'RPPIFIRRL' 'YVLDHLIVV'] ['EPLPQGQLTAY' 'NLVPMVATV' 'RAKFKQLL' 'TPRVTGGGAM'] 5\n",
      "5 5 ['EPLPQGQLTAY' 'NLVPMVATV' 'RAKFKQLL' 'TPRVTGGGAM'] ['IPSINVHHY' 'QIKVRVDMV' 'RPHERNGFTVL' 'VTEHDTLLY'] 5\n",
      "5 5 ['IPSINVHHY' 'QIKVRVDMV' 'RPHERNGFTVL' 'VTEHDTLLY'] ['EPLPQGQLTAY' 'GLCTLVAML' 'NLVPMVATV' 'YVLDHLIVV'] 5\n",
      "5 5 ['EPLPQGQLTAY' 'GLCTLVAML'] ['RAKFKQLL' 'RPHERNGFTVL'] 5\n",
      "5 5 ['RAKFKQLL' 'RPHERNGFTVL'] ['GLCTLVAML' 'RPPIFIRRL'] 5\n",
      "5 5 ['RPPIFIRRL'] ['RAKFKQLL'] 5\n",
      "5 5 ['GLCTLVAML'] ['EPLPQGQLTAY'] 5\n",
      "5 5 ['GILGFVFTL' 'NLVPMVATV'] ['RPHERNGFTVL' 'RPPIFIRRL'] 5\n",
      "5 5 ['EPLPQGQLTAY' 'RPHERNGFTVL' 'RPPIFIRRL'] ['QIKVRVDMV' 'TPRVTGGGAM' 'YLQPRTFLL'] 5\n",
      "5 5 ['QIKVRVDMV' 'TPRVTGGGAM' 'YLQPRTFLL'] ['EPLPQGQLTAY' 'GILGFVFTL' 'NLVPMVATV'] 5\n",
      "5 5 ['NLVPMVATV' 'RAKFKQLL' 'YVLDHLIVV'] ['GLCTLVAML' 'RPPIFIRRL' 'VTEHDTLLY'] 5\n",
      "5 5 ['EPLPQGQLTAY' 'GILGFVFTL' 'RPPIFIRRL' 'VTEHDTLLY'] ['RAKFKQLL' 'TPRVTGGGAM' 'YLQPRTFLL' 'YVLDHLIVV'] 5\n",
      "5 5 ['GLCTLVAML' 'RAKFKQLL' 'TPRVTGGGAM' 'YLQPRTFLL' 'YVLDHLIVV'] ['GILGFVFTL' 'IPSINVHHY' 'IVTDFSVIK' 'NLVPMVATV' 'RPPIFIRRL'] 5\n",
      "5 5 ['IVTDFSVIK' 'NLVPMVATV' 'RPPIFIRRL'] ['QIKVRVDMV' 'RPHERNGFTVL' 'YVLDHLIVV'] 5\n",
      "5 5 ['IPSINVHHY' 'QIKVRVDMV' 'RPHERNGFTVL'] ['EPLPQGQLTAY' 'NLVPMVATV' 'RAKFKQLL'] 5\n",
      "5 5 ['EPLPQGQLTAY'] ['IVTDFSVIK'] 5\n",
      "5 5 ['IVTDFSVIK'] ['EPLPQGQLTAY'] 5\n",
      "5 5 ['EPLPQGQLTAY' 'NLVPMVATV' 'YVLDHLIVV'] ['GLCTLVAML' 'IPSINVHHY' 'IVTDFSVIK'] 5\n",
      "5 5 ['GILGFVFTL' 'IPSINVHHY' 'IVTDFSVIK'] ['NLVPMVATV' 'QIKVRVDMV' 'YVLDHLIVV'] 5\n",
      "5 5 ['GLCTLVAML' 'QIKVRVDMV'] ['EPLPQGQLTAY' 'GILGFVFTL'] 5\n",
      "5 5 [] [] 5\n",
      "5 5 ['EPLPQGQLTAY' 'GILGFVFTL' 'YVLDHLIVV'] ['TPRVTGGGAM' 'VTEHDTLLY' 'YLQPRTFLL'] 5\n",
      "5 5 ['NLVPMVATV' 'VTEHDTLLY'] ['GILGFVFTL' 'RPPIFIRRL'] 5\n",
      "5 5 ['RPPIFIRRL' 'TPRVTGGGAM' 'YLQPRTFLL'] ['EPLPQGQLTAY' 'NLVPMVATV' 'YVLDHLIVV'] 5\n",
      "5 5 ['EPLPQGQLTAY' 'NLVPMVATV' 'YVLDHLIVV'] ['IPSINVHHY' 'QIKVRVDMV' 'RPHERNGFTVL'] 5\n",
      "5 5 ['GILGFVFTL' 'IPSINVHHY' 'QIKVRVDMV' 'RAKFKQLL' 'RPHERNGFTVL'] ['GLCTLVAML' 'NLVPMVATV' 'TPRVTGGGAM' 'VTEHDTLLY' 'YLQPRTFLL'] 5\n",
      "5 5 ['GLCTLVAML' 'TPRVTGGGAM' 'VTEHDTLLY' 'YLQPRTFLL'] ['EPLPQGQLTAY' 'GILGFVFTL' 'RAKFKQLL' 'YVLDHLIVV'] 5\n",
      "5 5 [] [] 5\n",
      "5 5 ['NLVPMVATV' 'RAKFKQLL' 'YVLDHLIVV'] ['IVTDFSVIK' 'TPRVTGGGAM' 'YLQPRTFLL'] 5\n",
      "5 5 ['EPLPQGQLTAY' 'GILGFVFTL' 'IVTDFSVIK'] ['GLCTLVAML' 'RAKFKQLL' 'VTEHDTLLY'] 5\n",
      "5 5 ['TPRVTGGGAM' 'VTEHDTLLY' 'YLQPRTFLL'] ['EPLPQGQLTAY' 'RPHERNGFTVL' 'YVLDHLIVV'] 5\n",
      "5 5 ['EPLPQGQLTAY' 'GLCTLVAML' 'RPHERNGFTVL' 'YVLDHLIVV'] ['GILGFVFTL' 'IPSINVHHY' 'NLVPMVATV' 'QIKVRVDMV'] 5\n",
      "5 5 ['IPSINVHHY' 'QIKVRVDMV'] ['EPLPQGQLTAY' 'YVLDHLIVV'] 5\n",
      "5 4 ['EPLPQGQLTAY' 'NLVPMVATV' 'RAKFKQLL' 'YVLDHLIVV'] ['TPRVTGGGAM' 'VTEHDTLLY' 'YLQPRTFLL'] 4\n",
      "4 4 ['TPRVTGGGAM' 'VTEHDTLLY' 'YLQPRTFLL'] ['IVTDFSVIK' 'NLVPMVATV' 'YVLDHLIVV'] 4\n",
      "4 4 ['IVTDFSVIK' 'NLVPMVATV' 'YVLDHLIVV'] ['EPLPQGQLTAY' 'RAKFKQLL' 'RPHERNGFTVL'] 4\n",
      "4 4 ['RPHERNGFTVL'] ['NLVPMVATV'] 4\n",
      "4 4 [] [] 4\n",
      "4 4 [] [] 4\n",
      "4 4 ['GILGFVFTL'] ['VTEHDTLLY'] 4\n",
      "4 4 ['RAKFKQLL'] ['RPHERNGFTVL'] 4\n",
      "4 4 ['EPLPQGQLTAY' 'NLVPMVATV' 'VTEHDTLLY'] ['GILGFVFTL' 'GLCTLVAML' 'YLQPRTFLL'] 4\n",
      "4 4 ['GLCTLVAML' 'RPHERNGFTVL' 'YLQPRTFLL'] ['EPLPQGQLTAY' 'NLVPMVATV' 'RAKFKQLL'] 4\n",
      "4 4 ['EPLPQGQLTAY' 'NLVPMVATV'] ['RPHERNGFTVL' 'YVLDHLIVV'] 4\n",
      "4 4 ['RAKFKQLL' 'RPHERNGFTVL' 'YVLDHLIVV'] ['NLVPMVATV' 'RPPIFIRRL' 'VTEHDTLLY'] 4\n",
      "4 4 ['RPPIFIRRL' 'VTEHDTLLY'] ['EPLPQGQLTAY' 'RAKFKQLL'] 4\n",
      "4 4 [] [] 4\n",
      "4 4 [] [] 4\n",
      "4 4 [] [] 4\n",
      "4 4 ['EPLPQGQLTAY' 'NLVPMVATV' 'RAKFKQLL'] ['TPRVTGGGAM' 'VTEHDTLLY' 'YLQPRTFLL'] 4\n",
      "4 4 ['GILGFVFTL' 'VTEHDTLLY'] ['IPSINVHHY' 'QIKVRVDMV'] 4\n",
      "4 4 ['IPSINVHHY' 'QIKVRVDMV' 'TPRVTGGGAM' 'YLQPRTFLL'] ['EPLPQGQLTAY' 'RAKFKQLL' 'RPHERNGFTVL' 'VTEHDTLLY'] 4\n",
      "4 4 ['RPHERNGFTVL' 'VTEHDTLLY'] ['GILGFVFTL' 'NLVPMVATV'] 4\n",
      "4 4 [] [] 4\n",
      "4 4 ['NLVPMVATV' 'RAKFKQLL'] ['VTEHDTLLY' 'YVLDHLIVV'] 4\n",
      "4 4 ['VTEHDTLLY' 'YVLDHLIVV'] ['NLVPMVATV' 'RAKFKQLL'] 4\n",
      "4 4 ['RAKFKQLL'] ['VTEHDTLLY'] 4\n",
      "4 4 ['NLVPMVATV' 'VTEHDTLLY'] ['RAKFKQLL' 'RPHERNGFTVL'] 4\n",
      "4 4 ['RAKFKQLL' 'RPHERNGFTVL'] ['NLVPMVATV' 'VTEHDTLLY'] 4\n",
      "4 4 ['EPLPQGQLTAY' 'NLVPMVATV' 'VTEHDTLLY'] ['IPSINVHHY' 'IVTDFSVIK' 'QIKVRVDMV'] 4\n",
      "4 4 ['GILGFVFTL' 'IPSINVHHY' 'IVTDFSVIK' 'QIKVRVDMV'] ['GLCTLVAML' 'NLVPMVATV' 'RAKFKQLL' 'YVLDHLIVV'] 4\n",
      "4 4 ['GLCTLVAML' 'NLVPMVATV' 'YVLDHLIVV'] ['EPLPQGQLTAY' 'GILGFVFTL' 'RPPIFIRRL'] 4\n",
      "4 4 ['EPLPQGQLTAY' 'RAKFKQLL' 'RPPIFIRRL'] ['IPSINVHHY' 'QIKVRVDMV' 'VTEHDTLLY'] 4\n",
      "4 4 ['QIKVRVDMV' 'VTEHDTLLY'] ['EPLPQGQLTAY' 'YVLDHLIVV'] 4\n",
      "4 4 ['IPSINVHHY' 'YVLDHLIVV'] ['NLVPMVATV' 'RAKFKQLL'] 4\n",
      "4 4 ['EPLPQGQLTAY' 'RAKFKQLL'] ['GLCTLVAML' 'IVTDFSVIK'] 4\n",
      "4 4 ['GLCTLVAML' 'IVTDFSVIK'] ['EPLPQGQLTAY' 'RAKFKQLL'] 4\n",
      "4 4 ['RAKFKQLL'] ['VTEHDTLLY'] 4\n",
      "4 4 ['GILGFVFTL' 'VTEHDTLLY'] ['RAKFKQLL' 'YVLDHLIVV'] 4\n",
      "4 4 ['NLVPMVATV'] ['RPHERNGFTVL'] 4\n",
      "4 4 ['EPLPQGQLTAY' 'RAKFKQLL' 'RPHERNGFTVL' 'YVLDHLIVV'] ['IPSINVHHY' 'NLVPMVATV' 'TPRVTGGGAM' 'YLQPRTFLL'] 4\n",
      "4 4 ['IPSINVHHY' 'TPRVTGGGAM' 'YLQPRTFLL'] ['EPLPQGQLTAY' 'GILGFVFTL' 'RAKFKQLL'] 4\n",
      "4 4 ['GILGFVFTL' 'NLVPMVATV' 'RAKFKQLL'] ['QIKVRVDMV' 'RPHERNGFTVL' 'VTEHDTLLY'] 4\n",
      "4 4 ['QIKVRVDMV' 'RPHERNGFTVL' 'VTEHDTLLY'] ['GILGFVFTL' 'NLVPMVATV' 'RAKFKQLL'] 4\n",
      "4 4 [] [] 4\n",
      "4 4 ['EPLPQGQLTAY' 'NLVPMVATV' 'RAKFKQLL'] ['IPSINVHHY' 'QIKVRVDMV' 'YVLDHLIVV'] 4\n",
      "4 4 ['IPSINVHHY' 'QIKVRVDMV' 'YVLDHLIVV'] ['EPLPQGQLTAY' 'NLVPMVATV' 'RAKFKQLL'] 4\n",
      "4 4 [] [] 4\n",
      "4 4 ['EPLPQGQLTAY' 'NLVPMVATV'] ['TPRVTGGGAM' 'YLQPRTFLL'] 4\n",
      "4 4 ['TPRVTGGGAM' 'YLQPRTFLL'] ['GLCTLVAML' 'RPHERNGFTVL'] 4\n",
      "4 4 ['GILGFVFTL' 'RAKFKQLL' 'RPHERNGFTVL'] ['IVTDFSVIK' 'TPRVTGGGAM' 'YLQPRTFLL'] 4\n",
      "4 4 ['GLCTLVAML' 'TPRVTGGGAM' 'YLQPRTFLL'] ['EPLPQGQLTAY' 'RAKFKQLL' 'VTEHDTLLY'] 4\n",
      "4 4 ['IVTDFSVIK' 'RAKFKQLL'] ['GILGFVFTL' 'NLVPMVATV'] 4\n",
      "4 4 ['VTEHDTLLY'] ['RAKFKQLL'] 4\n",
      "4 4 ['NLVPMVATV'] ['TPRVTGGGAM'] 4\n",
      "4 4 ['RAKFKQLL' 'TPRVTGGGAM'] ['QIKVRVDMV' 'VTEHDTLLY'] 4\n",
      "4 4 ['QIKVRVDMV' 'VTEHDTLLY'] ['NLVPMVATV' 'RAKFKQLL'] 4\n",
      "4 4 [] [] 4\n",
      "4 4 [] [] 4\n",
      "4 4 ['RAKFKQLL'] ['IPSINVHHY'] 4\n",
      "4 4 ['IPSINVHHY' 'NLVPMVATV'] ['IVTDFSVIK' 'RPPIFIRRL'] 4\n",
      "4 4 ['EPLPQGQLTAY' 'IVTDFSVIK'] ['RAKFKQLL' 'YVLDHLIVV'] 4\n",
      "4 4 ['RAKFKQLL' 'RPPIFIRRL'] ['IVTDFSVIK' 'VTEHDTLLY'] 4\n",
      "4 4 ['IVTDFSVIK' 'VTEHDTLLY'] ['QIKVRVDMV' 'RAKFKQLL'] 4\n",
      "4 4 ['RAKFKQLL' 'YVLDHLIVV'] ['IPSINVHHY' 'RPPIFIRRL'] 4\n",
      "4 4 ['GILGFVFTL' 'IPSINVHHY' 'QIKVRVDMV'] ['GLCTLVAML' 'RAKFKQLL' 'VTEHDTLLY'] 4\n",
      "4 4 ['GLCTLVAML' 'RPPIFIRRL' 'VTEHDTLLY'] ['EPLPQGQLTAY' 'GILGFVFTL' 'NLVPMVATV'] 4\n",
      "4 4 ['EPLPQGQLTAY' 'NLVPMVATV' 'RAKFKQLL'] ['IPSINVHHY' 'TPRVTGGGAM' 'YLQPRTFLL'] 4\n",
      "4 4 ['IPSINVHHY' 'TPRVTGGGAM' 'YLQPRTFLL'] ['EPLPQGQLTAY' 'NLVPMVATV' 'RAKFKQLL'] 4\n",
      "4 4 ['EPLPQGQLTAY' 'GILGFVFTL' 'RAKFKQLL'] ['RPHERNGFTVL' 'RPPIFIRRL' 'VTEHDTLLY'] 4\n",
      "4 4 ['NLVPMVATV' 'RPHERNGFTVL' 'RPPIFIRRL'] ['EPLPQGQLTAY' 'GILGFVFTL' 'YVLDHLIVV'] 4\n",
      "4 4 ['EPLPQGQLTAY' 'VTEHDTLLY'] ['NLVPMVATV' 'RPHERNGFTVL'] 4\n",
      "4 4 ['RPHERNGFTVL' 'YVLDHLIVV'] ['EPLPQGQLTAY' 'RAKFKQLL'] 4\n",
      "4 4 ['EPLPQGQLTAY' 'RAKFKQLL'] ['VTEHDTLLY' 'YVLDHLIVV'] 4\n",
      "4 4 ['VTEHDTLLY' 'YVLDHLIVV'] ['EPLPQGQLTAY' 'RAKFKQLL'] 4\n",
      "4 4 ['RAKFKQLL'] ['VTEHDTLLY'] 4\n",
      "4 4 ['EPLPQGQLTAY' 'NLVPMVATV'] ['GLCTLVAML' 'YVLDHLIVV'] 4\n",
      "4 4 ['GILGFVFTL' 'GLCTLVAML' 'VTEHDTLLY' 'YVLDHLIVV'] ['IVTDFSVIK' 'RAKFKQLL' 'TPRVTGGGAM' 'YLQPRTFLL'] 4\n",
      "4 4 ['IVTDFSVIK' 'TPRVTGGGAM' 'YLQPRTFLL'] ['EPLPQGQLTAY' 'GILGFVFTL' 'NLVPMVATV'] 4\n",
      "4 4 ['EPLPQGQLTAY' 'RAKFKQLL'] ['GLCTLVAML' 'YVLDHLIVV'] 4\n",
      "4 4 ['GLCTLVAML' 'YVLDHLIVV'] ['EPLPQGQLTAY' 'RAKFKQLL'] 4\n",
      "4 4 ['GILGFVFTL' 'RAKFKQLL'] ['VTEHDTLLY' 'YVLDHLIVV'] 4\n",
      "4 4 ['EPLPQGQLTAY' 'VTEHDTLLY' 'YVLDHLIVV'] ['GILGFVFTL' 'GLCTLVAML' 'RAKFKQLL'] 4\n",
      "4 4 ['GILGFVFTL' 'GLCTLVAML' 'NLVPMVATV'] ['EPLPQGQLTAY' 'IPSINVHHY' 'QIKVRVDMV'] 4\n",
      "4 4 ['IPSINVHHY' 'QIKVRVDMV'] ['GILGFVFTL' 'NLVPMVATV'] 4\n",
      "4 4 ['EPLPQGQLTAY' 'GILGFVFTL' 'RAKFKQLL'] ['IPSINVHHY' 'QIKVRVDMV' 'YVLDHLIVV'] 4\n",
      "4 4 ['IPSINVHHY' 'QIKVRVDMV' 'YVLDHLIVV'] ['EPLPQGQLTAY' 'GILGFVFTL' 'RAKFKQLL'] 4\n",
      "4 4 [] [] 4\n",
      "4 4 [] [] 4\n",
      "4 4 [] [] 4\n",
      "4 4 [] [] 4\n",
      "4 4 ['EPLPQGQLTAY'] ['RPPIFIRRL'] 4\n",
      "4 3 ['GILGFVFTL' 'RAKFKQLL' 'RPPIFIRRL'] ['EPLPQGQLTAY' 'RPHERNGFTVL'] 3\n",
      "3 3 ['NLVPMVATV' 'RPHERNGFTVL'] ['RAKFKQLL' 'YLQPRTFLL'] 3\n",
      "3 3 ['EPLPQGQLTAY' 'YLQPRTFLL'] ['GILGFVFTL' 'RPHERNGFTVL'] 3\n",
      "3 3 ['RAKFKQLL' 'RPHERNGFTVL'] ['NLVPMVATV' 'RPPIFIRRL'] 3\n",
      "3 3 ['NLVPMVATV' 'RPPIFIRRL'] ['QIKVRVDMV' 'YVLDHLIVV'] 3\n",
      "3 3 ['QIKVRVDMV' 'YVLDHLIVV'] ['EPLPQGQLTAY' 'NLVPMVATV'] 3\n",
      "3 3 ['GILGFVFTL'] ['RAKFKQLL'] 3\n",
      "3 3 ['RAKFKQLL'] ['IVTDFSVIK'] 3\n",
      "3 3 ['IVTDFSVIK' 'NLVPMVATV'] ['GILGFVFTL' 'RAKFKQLL'] 3\n",
      "3 3 [] [] 3\n",
      "3 3 ['EPLPQGQLTAY' 'RAKFKQLL'] ['NLVPMVATV' 'YVLDHLIVV'] 3\n",
      "3 3 [] [] 3\n",
      "3 3 ['YVLDHLIVV'] ['VTEHDTLLY'] 3\n",
      "3 3 ['VTEHDTLLY'] ['EPLPQGQLTAY'] 3\n",
      "3 3 ['GILGFVFTL'] ['YVLDHLIVV'] 3\n",
      "3 3 ['NLVPMVATV' 'YVLDHLIVV'] ['GILGFVFTL' 'RAKFKQLL'] 3\n",
      "3 3 ['EPLPQGQLTAY' 'GILGFVFTL' 'RAKFKQLL'] ['GLCTLVAML' 'RPHERNGFTVL' 'YVLDHLIVV'] 3\n",
      "3 3 ['GLCTLVAML' 'RPHERNGFTVL' 'YVLDHLIVV'] ['GILGFVFTL' 'NLVPMVATV' 'RAKFKQLL'] 3\n",
      "3 3 ['GILGFVFTL' 'RAKFKQLL'] ['GLCTLVAML' 'VTEHDTLLY'] 3\n",
      "3 3 ['GLCTLVAML' 'VTEHDTLLY'] ['GILGFVFTL' 'RAKFKQLL'] 3\n",
      "3 3 ['GILGFVFTL' 'NLVPMVATV' 'RAKFKQLL'] ['GLCTLVAML' 'IPSINVHHY' 'QIKVRVDMV'] 3\n",
      "3 3 ['GLCTLVAML' 'IPSINVHHY' 'QIKVRVDMV'] ['EPLPQGQLTAY' 'GILGFVFTL' 'RAKFKQLL'] 3\n",
      "3 3 ['GILGFVFTL' 'RAKFKQLL'] ['IVTDFSVIK' 'NLVPMVATV'] 3\n",
      "3 3 ['EPLPQGQLTAY' 'IVTDFSVIK' 'NLVPMVATV'] ['GLCTLVAML' 'RAKFKQLL' 'YVLDHLIVV'] 3\n",
      "3 3 ['GLCTLVAML' 'RAKFKQLL' 'YVLDHLIVV'] ['EPLPQGQLTAY' 'GILGFVFTL' 'YLQPRTFLL'] 3\n",
      "3 3 ['GILGFVFTL' 'YLQPRTFLL'] ['RAKFKQLL' 'YVLDHLIVV'] 3\n",
      "3 3 ['EPLPQGQLTAY'] ['GILGFVFTL'] 3\n",
      "3 3 ['YVLDHLIVV'] ['EPLPQGQLTAY'] 3\n",
      "3 3 ['EPLPQGQLTAY' 'GILGFVFTL'] ['TPRVTGGGAM' 'VTEHDTLLY'] 3\n",
      "3 3 ['RAKFKQLL' 'VTEHDTLLY'] ['IPSINVHHY' 'QIKVRVDMV'] 3\n",
      "3 3 ['IPSINVHHY' 'QIKVRVDMV' 'TPRVTGGGAM'] ['NLVPMVATV' 'RAKFKQLL' 'RPPIFIRRL'] 3\n",
      "3 3 ['NLVPMVATV' 'RPPIFIRRL'] ['GILGFVFTL' 'RPHERNGFTVL'] 3\n",
      "3 3 ['RAKFKQLL' 'RPHERNGFTVL'] ['EPLPQGQLTAY' 'VTEHDTLLY'] 3\n",
      "3 3 ['EPLPQGQLTAY' 'VTEHDTLLY'] ['RAKFKQLL' 'YVLDHLIVV'] 3\n",
      "3 3 ['YVLDHLIVV'] ['EPLPQGQLTAY'] 3\n",
      "3 3 ['EPLPQGQLTAY' 'GILGFVFTL'] ['GLCTLVAML' 'NLVPMVATV'] 3\n",
      "3 3 ['GLCTLVAML' 'RAKFKQLL'] ['IPSINVHHY' 'RPHERNGFTVL'] 3\n",
      "3 3 ['IPSINVHHY' 'NLVPMVATV' 'RPHERNGFTVL'] ['GILGFVFTL' 'RAKFKQLL' 'YVLDHLIVV'] 3\n",
      "3 3 ['RAKFKQLL' 'YVLDHLIVV'] ['IVTDFSVIK' 'RPHERNGFTVL'] 3\n",
      "3 3 ['IVTDFSVIK' 'RPHERNGFTVL'] ['NLVPMVATV' 'VTEHDTLLY'] 3\n",
      "3 3 ['NLVPMVATV' 'VTEHDTLLY'] ['EPLPQGQLTAY' 'RAKFKQLL'] 3\n",
      "3 3 ['EPLPQGQLTAY' 'RAKFKQLL'] ['IVTDFSVIK' 'RPPIFIRRL'] 3\n",
      "3 3 ['GILGFVFTL' 'IVTDFSVIK' 'RPPIFIRRL'] ['EPLPQGQLTAY' 'GLCTLVAML' 'RAKFKQLL'] 3\n",
      "3 3 [] [] 3\n",
      "3 3 ['GLCTLVAML' 'RAKFKQLL'] ['GILGFVFTL' 'QIKVRVDMV'] 3\n",
      "3 3 ['QIKVRVDMV'] ['RAKFKQLL'] 3\n",
      "3 3 ['EPLPQGQLTAY' 'RAKFKQLL'] ['YLQPRTFLL' 'YVLDHLIVV'] 3\n",
      "3 3 ['YLQPRTFLL' 'YVLDHLIVV'] ['RAKFKQLL' 'TPRVTGGGAM'] 3\n",
      "3 3 ['GILGFVFTL' 'RAKFKQLL' 'TPRVTGGGAM'] ['EPLPQGQLTAY' 'GLCTLVAML' 'YVLDHLIVV'] 3\n",
      "3 3 ['YVLDHLIVV'] ['GILGFVFTL'] 3\n",
      "3 3 ['EPLPQGQLTAY' 'GILGFVFTL' 'GLCTLVAML'] ['RPPIFIRRL' 'VTEHDTLLY' 'YVLDHLIVV'] 3\n",
      "3 3 ['RPPIFIRRL' 'YVLDHLIVV'] ['IPSINVHHY' 'QIKVRVDMV'] 3\n",
      "3 3 ['IPSINVHHY' 'QIKVRVDMV' 'VTEHDTLLY'] ['EPLPQGQLTAY' 'RAKFKQLL' 'YVLDHLIVV'] 3\n",
      "3 3 ['RAKFKQLL' 'YVLDHLIVV'] ['GILGFVFTL' 'RPPIFIRRL'] 3\n",
      "3 3 ['EPLPQGQLTAY'] ['RAKFKQLL'] 3\n",
      "3 3 ['GILGFVFTL' 'RAKFKQLL'] ['GLCTLVAML' 'NLVPMVATV'] 3\n",
      "3 3 ['GLCTLVAML' 'NLVPMVATV' 'RPPIFIRRL'] ['EPLPQGQLTAY' 'GILGFVFTL' 'RAKFKQLL'] 3\n",
      "3 3 [] [] 3\n",
      "3 3 ['EPLPQGQLTAY' 'RAKFKQLL'] ['NLVPMVATV' 'RPHERNGFTVL'] 3\n",
      "3 3 ['NLVPMVATV' 'RPHERNGFTVL'] ['RAKFKQLL' 'YVLDHLIVV'] 3\n",
      "3 3 ['YVLDHLIVV'] ['EPLPQGQLTAY'] 3\n",
      "3 3 ['EPLPQGQLTAY'] ['YVLDHLIVV'] 3\n",
      "3 3 ['GILGFVFTL' 'RAKFKQLL' 'YVLDHLIVV'] ['IPSINVHHY' 'IVTDFSVIK' 'QIKVRVDMV'] 3\n",
      "3 3 ['IPSINVHHY' 'IVTDFSVIK' 'QIKVRVDMV'] ['GILGFVFTL' 'NLVPMVATV' 'RPPIFIRRL'] 3\n",
      "3 3 ['GILGFVFTL' 'NLVPMVATV' 'RPPIFIRRL'] ['RPHERNGFTVL' 'VTEHDTLLY' 'YVLDHLIVV'] 3\n",
      "3 3 ['RPHERNGFTVL' 'VTEHDTLLY'] ['GILGFVFTL' 'RPPIFIRRL'] 3\n",
      "3 3 ['GILGFVFTL' 'RPPIFIRRL' 'YVLDHLIVV'] ['GLCTLVAML' 'TPRVTGGGAM' 'YLQPRTFLL'] 3\n",
      "3 3 ['GLCTLVAML' 'TPRVTGGGAM' 'YLQPRTFLL'] ['GILGFVFTL' 'NLVPMVATV' 'RAKFKQLL'] 3\n",
      "3 3 ['RAKFKQLL'] ['YVLDHLIVV'] 3\n",
      "3 3 ['NLVPMVATV'] ['EPLPQGQLTAY'] 3\n",
      "3 3 ['YVLDHLIVV'] ['RAKFKQLL'] 3\n",
      "3 3 [] [] 3\n",
      "3 3 [] [] 3\n",
      "3 3 [] [] 3\n",
      "3 3 ['EPLPQGQLTAY' 'RAKFKQLL'] ['NLVPMVATV' 'VTEHDTLLY'] 3\n",
      "3 3 [] [] 3\n",
      "3 3 ['NLVPMVATV' 'VTEHDTLLY'] ['RAKFKQLL' 'YVLDHLIVV'] 3\n",
      "3 3 ['YVLDHLIVV'] ['EPLPQGQLTAY'] 3\n",
      "3 3 [] [] 3\n",
      "3 3 ['EPLPQGQLTAY' 'RAKFKQLL'] ['NLVPMVATV' 'YVLDHLIVV'] 3\n",
      "3 3 ['NLVPMVATV' 'YVLDHLIVV'] ['EPLPQGQLTAY' 'RAKFKQLL'] 3\n",
      "3 3 ['EPLPQGQLTAY' 'GILGFVFTL'] ['IPSINVHHY' 'QIKVRVDMV'] 3\n",
      "3 3 ['IPSINVHHY' 'QIKVRVDMV' 'RAKFKQLL'] ['GILGFVFTL' 'NLVPMVATV' 'YLQPRTFLL'] 3\n",
      "3 3 ['YLQPRTFLL'] ['RAKFKQLL'] 3\n",
      "3 3 ['GILGFVFTL'] ['EPLPQGQLTAY'] 3\n",
      "3 3 ['EPLPQGQLTAY' 'NLVPMVATV'] ['IVTDFSVIK' 'VTEHDTLLY'] 3\n",
      "3 3 ['RAKFKQLL' 'VTEHDTLLY'] ['GILGFVFTL' 'GLCTLVAML'] 3\n",
      "3 3 ['GILGFVFTL' 'IVTDFSVIK'] ['NLVPMVATV' 'RPHERNGFTVL'] 3\n",
      "3 3 ['GLCTLVAML' 'NLVPMVATV' 'RPHERNGFTVL'] ['EPLPQGQLTAY' 'GILGFVFTL' 'YVLDHLIVV'] 3\n",
      "3 3 ['EPLPQGQLTAY' 'GILGFVFTL'] ['RPPIFIRRL' 'VTEHDTLLY'] 3\n",
      "3 3 ['RPPIFIRRL'] ['NLVPMVATV'] 3\n",
      "3 3 ['NLVPMVATV'] ['GILGFVFTL'] 3\n",
      "3 3 ['VTEHDTLLY' 'YVLDHLIVV'] ['NLVPMVATV' 'RAKFKQLL'] 3\n",
      "3 3 ['NLVPMVATV'] ['YVLDHLIVV'] 3\n",
      "3 3 ['YVLDHLIVV'] ['EPLPQGQLTAY'] 3\n",
      "3 3 ['GILGFVFTL' 'RAKFKQLL'] ['NLVPMVATV' 'RPPIFIRRL'] 3\n",
      "3 3 ['EPLPQGQLTAY' 'NLVPMVATV' 'RPPIFIRRL'] ['GILGFVFTL' 'GLCTLVAML' 'VTEHDTLLY'] 3\n",
      "3 3 ['GILGFVFTL' 'GLCTLVAML' 'VTEHDTLLY'] ['EPLPQGQLTAY' 'RAKFKQLL' 'YVLDHLIVV'] 3\n",
      "3 3 ['EPLPQGQLTAY' 'RAKFKQLL' 'YVLDHLIVV'] ['GILGFVFTL' 'NLVPMVATV' 'RPPIFIRRL'] 3\n",
      "3 3 ['NLVPMVATV'] ['IPSINVHHY'] 3\n",
      "3 3 ['GILGFVFTL' 'IPSINVHHY' 'RPPIFIRRL'] ['EPLPQGQLTAY' 'RAKFKQLL' 'YVLDHLIVV'] 3\n",
      "3 3 ['RAKFKQLL' 'YVLDHLIVV'] ['GILGFVFTL' 'RPHERNGFTVL'] 3\n",
      "3 3 ['EPLPQGQLTAY' 'RPHERNGFTVL'] ['NLVPMVATV' 'RAKFKQLL'] 3\n",
      "3 3 ['NLVPMVATV' 'RAKFKQLL'] ['EPLPQGQLTAY' 'RPHERNGFTVL'] 3\n",
      "3 3 ['EPLPQGQLTAY' 'GILGFVFTL' 'RPHERNGFTVL'] ['NLVPMVATV' 'RAKFKQLL' 'YVLDHLIVV'] 3\n",
      "3 3 ['NLVPMVATV' 'RAKFKQLL'] ['GILGFVFTL' 'GLCTLVAML'] 3\n",
      "3 3 ['GLCTLVAML' 'YVLDHLIVV'] ['EPLPQGQLTAY' 'RAKFKQLL'] 3\n",
      "3 3 ['EPLPQGQLTAY' 'GILGFVFTL' 'RAKFKQLL'] ['IVTDFSVIK' 'VTEHDTLLY' 'YVLDHLIVV'] 3\n",
      "3 3 ['IVTDFSVIK' 'YVLDHLIVV'] ['GILGFVFTL' 'RPHERNGFTVL'] 3\n",
      "3 3 ['RPHERNGFTVL'] ['RPPIFIRRL'] 3\n",
      "3 3 ['RPPIFIRRL' 'VTEHDTLLY'] ['RAKFKQLL' 'YVLDHLIVV'] 3\n",
      "3 3 ['RAKFKQLL' 'YVLDHLIVV'] ['GLCTLVAML' 'NLVPMVATV'] 3\n",
      "3 3 ['GILGFVFTL' 'NLVPMVATV'] ['EPLPQGQLTAY' 'RAKFKQLL'] 3\n",
      "3 3 ['GLCTLVAML'] ['GILGFVFTL'] 3\n",
      "3 3 ['EPLPQGQLTAY' 'RAKFKQLL'] ['RPHERNGFTVL' 'YVLDHLIVV'] 3\n",
      "3 3 ['RPHERNGFTVL' 'YVLDHLIVV'] ['NLVPMVATV' 'RAKFKQLL'] 3\n",
      "3 3 ['NLVPMVATV'] ['EPLPQGQLTAY'] 3\n",
      "3 3 ['EPLPQGQLTAY' 'GILGFVFTL' 'RAKFKQLL'] ['GLCTLVAML' 'VTEHDTLLY' 'YVLDHLIVV'] 3\n",
      "3 3 ['GLCTLVAML' 'VTEHDTLLY' 'YVLDHLIVV'] ['EPLPQGQLTAY' 'IVTDFSVIK' 'RAKFKQLL'] 3\n",
      "3 3 ['IVTDFSVIK' 'RAKFKQLL'] ['GILGFVFTL' 'NLVPMVATV'] 3\n",
      "3 3 ['NLVPMVATV'] ['YVLDHLIVV'] 3\n",
      "3 3 ['EPLPQGQLTAY' 'GILGFVFTL' 'YVLDHLIVV'] ['IPSINVHHY' 'QIKVRVDMV' 'VTEHDTLLY'] 3\n",
      "3 2 ['IPSINVHHY' 'QIKVRVDMV' 'VTEHDTLLY'] ['GILGFVFTL' 'RAKFKQLL'] 2\n",
      "2 2 ['RAKFKQLL'] ['EPLPQGQLTAY'] 2\n",
      "2 2 ['EPLPQGQLTAY'] ['RAKFKQLL'] 2\n",
      "2 2 ['RAKFKQLL'] ['GLCTLVAML'] 2\n",
      "2 2 ['GLCTLVAML'] ['RAKFKQLL'] 2\n",
      "2 2 ['GILGFVFTL' 'RAKFKQLL'] ['EPLPQGQLTAY' 'YLQPRTFLL'] 2\n",
      "2 2 ['EPLPQGQLTAY' 'YLQPRTFLL'] ['GILGFVFTL' 'RAKFKQLL'] 2\n",
      "2 2 [] [] 2\n",
      "2 2 [] [] 2\n",
      "2 2 ['RAKFKQLL'] ['IVTDFSVIK'] 2\n",
      "2 2 ['IVTDFSVIK'] ['RAKFKQLL'] 2\n",
      "2 2 ['GILGFVFTL'] ['EPLPQGQLTAY'] 2\n",
      "2 2 ['EPLPQGQLTAY'] ['GILGFVFTL'] 2\n",
      "2 2 ['RAKFKQLL'] ['QIKVRVDMV'] 2\n",
      "2 2 ['QIKVRVDMV'] ['NLVPMVATV'] 2\n",
      "2 2 ['GILGFVFTL' 'NLVPMVATV'] ['EPLPQGQLTAY' 'IPSINVHHY'] 2\n",
      "2 2 ['EPLPQGQLTAY' 'IPSINVHHY'] ['GILGFVFTL' 'GLCTLVAML'] 2\n",
      "2 2 ['GLCTLVAML'] ['EPLPQGQLTAY'] 2\n",
      "2 2 ['EPLPQGQLTAY'] ['RAKFKQLL'] 2\n",
      "2 2 [] [] 2\n",
      "2 2 ['RAKFKQLL'] ['YLQPRTFLL'] 2\n",
      "2 2 ['YLQPRTFLL'] ['RAKFKQLL'] 2\n",
      "2 2 ['GILGFVFTL' 'RAKFKQLL'] ['NLVPMVATV' 'YVLDHLIVV'] 2\n",
      "2 2 ['NLVPMVATV' 'YVLDHLIVV'] ['GILGFVFTL' 'RAKFKQLL'] 2\n",
      "2 2 ['RAKFKQLL'] ['EPLPQGQLTAY'] 2\n",
      "2 2 ['EPLPQGQLTAY'] ['RAKFKQLL'] 2\n",
      "2 2 ['RAKFKQLL'] ['TPRVTGGGAM'] 2\n",
      "2 2 ['GILGFVFTL' 'TPRVTGGGAM'] ['IPSINVHHY' 'QIKVRVDMV'] 2\n",
      "2 2 ['IPSINVHHY' 'QIKVRVDMV'] ['GILGFVFTL' 'RAKFKQLL'] 2\n",
      "2 2 ['RAKFKQLL'] ['EPLPQGQLTAY'] 2\n",
      "2 2 ['EPLPQGQLTAY'] ['RPPIFIRRL'] 2\n",
      "2 2 ['RPPIFIRRL'] ['EPLPQGQLTAY'] 2\n",
      "2 2 ['EPLPQGQLTAY'] ['RAKFKQLL'] 2\n",
      "2 2 ['RAKFKQLL'] ['EPLPQGQLTAY'] 2\n",
      "2 2 ['EPLPQGQLTAY'] ['RAKFKQLL'] 2\n",
      "2 2 [] [] 2\n",
      "2 2 ['RAKFKQLL'] ['NLVPMVATV'] 2\n",
      "2 2 ['NLVPMVATV'] ['RAKFKQLL'] 2\n",
      "2 2 ['GILGFVFTL' 'RAKFKQLL'] ['IPSINVHHY' 'QIKVRVDMV'] 2\n",
      "2 2 ['IPSINVHHY' 'QIKVRVDMV'] ['NLVPMVATV' 'RPPIFIRRL'] 2\n",
      "2 2 ['NLVPMVATV' 'RPPIFIRRL'] ['EPLPQGQLTAY' 'GILGFVFTL'] 2\n",
      "2 2 ['EPLPQGQLTAY'] ['RAKFKQLL'] 2\n",
      "2 2 ['RAKFKQLL'] ['NLVPMVATV'] 2\n",
      "2 2 ['GILGFVFTL' 'NLVPMVATV'] ['RAKFKQLL' 'RPHERNGFTVL'] 2\n",
      "2 2 ['RAKFKQLL' 'RPHERNGFTVL'] ['GILGFVFTL' 'NLVPMVATV'] 2\n",
      "2 2 ['NLVPMVATV'] ['EPLPQGQLTAY'] 2\n",
      "2 2 ['EPLPQGQLTAY'] ['RAKFKQLL'] 2\n",
      "2 2 [] [] 2\n",
      "2 2 ['RAKFKQLL'] ['EPLPQGQLTAY'] 2\n",
      "2 2 ['EPLPQGQLTAY'] ['RPPIFIRRL'] 2\n",
      "2 2 ['GILGFVFTL'] ['IPSINVHHY'] 2\n",
      "2 2 ['IPSINVHHY' 'RPPIFIRRL'] ['GILGFVFTL' 'RAKFKQLL'] 2\n",
      "2 2 ['GILGFVFTL' 'RAKFKQLL'] ['RPHERNGFTVL' 'YVLDHLIVV'] 2\n",
      "2 2 ['RPHERNGFTVL' 'YVLDHLIVV'] ['EPLPQGQLTAY' 'GILGFVFTL'] 2\n",
      "2 2 ['EPLPQGQLTAY'] ['GLCTLVAML'] 2\n",
      "2 2 ['GLCTLVAML'] ['RAKFKQLL'] 2\n",
      "2 2 ['GILGFVFTL' 'RAKFKQLL'] ['EPLPQGQLTAY' 'IPSINVHHY'] 2\n",
      "2 2 ['EPLPQGQLTAY' 'IPSINVHHY'] ['GILGFVFTL' 'RAKFKQLL'] 2\n",
      "2 2 ['GILGFVFTL' 'RAKFKQLL'] ['EPLPQGQLTAY' 'NLVPMVATV'] 2\n",
      "2 2 ['EPLPQGQLTAY' 'NLVPMVATV'] ['GILGFVFTL' 'VTEHDTLLY'] 2\n",
      "2 2 ['VTEHDTLLY'] ['RAKFKQLL'] 2\n",
      "2 2 ['GILGFVFTL'] ['EPLPQGQLTAY'] 2\n",
      "2 2 ['EPLPQGQLTAY'] ['GILGFVFTL'] 2\n",
      "2 2 [] [] 2\n",
      "2 2 ['GILGFVFTL' 'RAKFKQLL'] ['GLCTLVAML' 'YVLDHLIVV'] 2\n",
      "2 2 ['GLCTLVAML' 'YVLDHLIVV'] ['RPHERNGFTVL' 'VTEHDTLLY'] 2\n",
      "2 2 ['RPHERNGFTVL' 'VTEHDTLLY'] ['GLCTLVAML' 'RAKFKQLL'] 2\n",
      "2 2 ['GLCTLVAML'] ['GILGFVFTL'] 2\n",
      "2 2 ['RAKFKQLL'] ['VTEHDTLLY'] 2\n",
      "2 2 ['GILGFVFTL' 'VTEHDTLLY'] ['IVTDFSVIK' 'RPHERNGFTVL'] 2\n",
      "2 2 ['IVTDFSVIK' 'RPHERNGFTVL'] ['EPLPQGQLTAY' 'GILGFVFTL'] 2\n",
      "2 2 ['EPLPQGQLTAY'] ['RAKFKQLL'] 2\n",
      "2 2 ['RAKFKQLL'] ['EPLPQGQLTAY'] 2\n",
      "2 2 ['EPLPQGQLTAY' 'GILGFVFTL'] ['IVTDFSVIK' 'QIKVRVDMV'] 2\n",
      "2 2 ['IVTDFSVIK' 'QIKVRVDMV'] ['GILGFVFTL' 'GLCTLVAML'] 2\n",
      "2 2 ['GLCTLVAML'] ['RPHERNGFTVL'] 2\n",
      "2 2 ['RPHERNGFTVL'] ['RAKFKQLL'] 2\n",
      "2 2 ['GILGFVFTL' 'RAKFKQLL'] ['EPLPQGQLTAY' 'RPHERNGFTVL'] 2\n",
      "2 2 ['EPLPQGQLTAY' 'RPHERNGFTVL'] ['GILGFVFTL' 'RAKFKQLL'] 2\n",
      "2 2 [] [] 2\n",
      "2 2 ['GILGFVFTL'] ['EPLPQGQLTAY'] 2\n",
      "2 2 ['EPLPQGQLTAY'] ['GILGFVFTL'] 2\n",
      "2 2 ['GILGFVFTL'] ['IPSINVHHY'] 2\n",
      "2 2 ['IPSINVHHY' 'RAKFKQLL'] ['EPLPQGQLTAY' 'GILGFVFTL'] 2\n",
      "2 2 ['EPLPQGQLTAY'] ['RAKFKQLL'] 2\n",
      "2 2 ['GILGFVFTL' 'RAKFKQLL'] ['EPLPQGQLTAY' 'NLVPMVATV'] 2\n",
      "2 2 ['EPLPQGQLTAY' 'NLVPMVATV'] ['GILGFVFTL' 'GLCTLVAML'] 2\n",
      "2 2 ['GLCTLVAML'] ['RAKFKQLL'] 2\n",
      "2 2 ['RAKFKQLL'] ['NLVPMVATV'] 2\n",
      "2 2 ['NLVPMVATV'] ['EPLPQGQLTAY'] 2\n",
      "2 2 ['EPLPQGQLTAY' 'GILGFVFTL'] ['GLCTLVAML' 'RAKFKQLL'] 2\n",
      "2 2 ['GLCTLVAML'] ['EPLPQGQLTAY'] 2\n",
      "2 2 ['EPLPQGQLTAY' 'RAKFKQLL'] ['GILGFVFTL' 'NLVPMVATV'] 2\n",
      "2 2 ['NLVPMVATV'] ['RAKFKQLL'] 2\n",
      "2 2 [] [] 2\n",
      "2 2 ['RAKFKQLL'] ['EPLPQGQLTAY'] 2\n",
      "2 2 ['EPLPQGQLTAY'] ['RAKFKQLL'] 2\n",
      "2 2 ['GILGFVFTL' 'RAKFKQLL'] ['NLVPMVATV' 'RPHERNGFTVL'] 2\n",
      "2 2 ['NLVPMVATV' 'RPHERNGFTVL'] ['GILGFVFTL' 'GLCTLVAML'] 2\n",
      "2 2 [] [] 2\n",
      "2 2 ['GLCTLVAML'] ['RAKFKQLL'] 2\n",
      "2 2 ['GILGFVFTL' 'RAKFKQLL'] ['EPLPQGQLTAY' 'YVLDHLIVV'] 2\n",
      "2 2 ['YVLDHLIVV'] ['GILGFVFTL'] 2\n",
      "2 2 ['EPLPQGQLTAY'] ['RAKFKQLL'] 2\n",
      "2 2 ['GILGFVFTL' 'RAKFKQLL'] ['GLCTLVAML' 'RPPIFIRRL'] 2\n",
      "2 2 ['GLCTLVAML' 'RPPIFIRRL'] ['GILGFVFTL' 'RAKFKQLL'] 2\n",
      "2 2 [] [] 2\n",
      "2 2 [] [] 2\n",
      "2 2 ['RAKFKQLL'] ['NLVPMVATV'] 2\n",
      "2 2 ['NLVPMVATV'] ['RAKFKQLL'] 2\n",
      "2 2 [] [] 2\n",
      "2 2 [] [] 2\n",
      "2 2 [] [] 2\n",
      "2 2 ['RAKFKQLL'] ['YVLDHLIVV'] 2\n",
      "2 2 ['YVLDHLIVV'] ['RAKFKQLL'] 2\n",
      "2 2 [] [] 2\n",
      "2 2 [] [] 2\n",
      "2 2 ['GILGFVFTL' 'RAKFKQLL'] ['GLCTLVAML' 'RPHERNGFTVL'] 2\n",
      "2 2 ['GLCTLVAML'] ['RAKFKQLL'] 2\n",
      "2 2 ['RPHERNGFTVL'] ['GILGFVFTL'] 2\n",
      "2 2 [] [] 2\n",
      "2 2 ['RAKFKQLL'] ['IVTDFSVIK'] 2\n",
      "2 2 ['IVTDFSVIK'] ['YVLDHLIVV'] 2\n",
      "2 2 ['GILGFVFTL'] ['RPHERNGFTVL'] 2\n",
      "2 2 ['YVLDHLIVV'] ['GILGFVFTL'] 2\n",
      "2 2 ['GILGFVFTL' 'RPHERNGFTVL'] ['EPLPQGQLTAY' 'QIKVRVDMV'] 2\n",
      "2 2 ['EPLPQGQLTAY' 'QIKVRVDMV'] ['GILGFVFTL' 'YLQPRTFLL'] 2\n",
      "2 2 ['YLQPRTFLL'] ['YVLDHLIVV'] 2\n",
      "2 2 ['GILGFVFTL'] ['NLVPMVATV'] 2\n",
      "2 2 ['NLVPMVATV' 'YVLDHLIVV'] ['GILGFVFTL' 'RAKFKQLL'] 2\n",
      "2 2 [] [] 2\n",
      "2 2 [] [] 2\n",
      "2 2 ['GILGFVFTL' 'RAKFKQLL'] ['VTEHDTLLY' 'YVLDHLIVV'] 2\n",
      "2 2 ['VTEHDTLLY' 'YVLDHLIVV'] ['GILGFVFTL' 'RAKFKQLL'] 2\n",
      "2 2 [] [] 2\n",
      "2 2 [] [] 2\n",
      "2 2 ['GILGFVFTL' 'RAKFKQLL'] ['RPPIFIRRL' 'YVLDHLIVV'] 2\n",
      "2 2 ['RPPIFIRRL' 'YVLDHLIVV'] ['NLVPMVATV' 'VTEHDTLLY'] 2\n",
      "2 2 ['NLVPMVATV' 'VTEHDTLLY'] ['EPLPQGQLTAY' 'GILGFVFTL'] 2\n",
      "2 2 ['EPLPQGQLTAY'] ['RAKFKQLL'] 2\n",
      "2 2 [] [] 2\n",
      "2 2 [] [] 2\n",
      "2 2 ['GILGFVFTL' 'RAKFKQLL'] ['NLVPMVATV' 'YVLDHLIVV'] 2\n",
      "2 2 ['NLVPMVATV' 'YVLDHLIVV'] ['GILGFVFTL' 'RAKFKQLL'] 2\n",
      "2 2 ['RAKFKQLL'] ['EPLPQGQLTAY'] 2\n",
      "2 2 [] [] 2\n",
      "2 2 ['EPLPQGQLTAY'] ['RAKFKQLL'] 2\n",
      "2 2 ['RAKFKQLL'] ['EPLPQGQLTAY'] 2\n",
      "2 2 ['EPLPQGQLTAY'] ['NLVPMVATV'] 2\n",
      "2 2 ['NLVPMVATV'] ['RAKFKQLL'] 2\n",
      "2 2 ['GILGFVFTL'] ['IVTDFSVIK'] 2\n",
      "2 2 ['IVTDFSVIK'] ['GILGFVFTL'] 2\n",
      "2 2 [] [] 2\n",
      "2 2 ['GILGFVFTL'] ['VTEHDTLLY'] 2\n",
      "2 2 ['VTEHDTLLY'] ['GLCTLVAML'] 2\n",
      "2 2 ['GLCTLVAML'] ['GILGFVFTL'] 2\n",
      "2 2 [] [] 2\n",
      "2 2 [] [] 2\n",
      "2 1 ['RAKFKQLL'] [] 1\n",
      "1 1 [] [] 1\n",
      "1 1 [] [] 1\n",
      "1 1 ['GILGFVFTL'] ['RAKFKQLL'] 1\n",
      "1 1 ['RAKFKQLL'] ['GILGFVFTL'] 1\n",
      "1 1 ['GILGFVFTL'] ['RAKFKQLL'] 1\n",
      "1 1 ['RAKFKQLL'] ['NLVPMVATV'] 1\n",
      "1 1 ['NLVPMVATV'] ['GILGFVFTL'] 1\n",
      "1 1 [] [] 1\n",
      "1 1 ['GILGFVFTL'] ['EPLPQGQLTAY'] 1\n",
      "1 1 ['EPLPQGQLTAY'] ['RAKFKQLL'] 1\n",
      "1 1 ['RAKFKQLL'] ['GILGFVFTL'] 1\n",
      "1 1 [] [] 1\n",
      "1 1 [] [] 1\n",
      "1 1 ['GILGFVFTL'] ['RAKFKQLL'] 1\n",
      "1 1 ['RAKFKQLL'] ['GILGFVFTL'] 1\n",
      "1 1 [] [] 1\n",
      "1 1 [] [] 1\n",
      "1 1 ['GILGFVFTL'] ['RAKFKQLL'] 1\n",
      "1 1 [] [] 1\n",
      "1 1 ['RAKFKQLL'] ['GILGFVFTL'] 1\n",
      "1 1 [] [] 1\n",
      "1 1 ['GILGFVFTL'] ['RAKFKQLL'] 1\n",
      "1 1 ['RAKFKQLL'] ['GILGFVFTL'] 1\n",
      "1 1 [] [] 1\n",
      "1 1 ['GILGFVFTL'] ['EPLPQGQLTAY'] 1\n",
      "1 1 ['EPLPQGQLTAY'] ['RAKFKQLL'] 1\n",
      "1 1 ['RAKFKQLL'] ['GILGFVFTL'] 1\n",
      "1 1 [] [] 1\n",
      "1 1 ['GILGFVFTL'] ['EPLPQGQLTAY'] 1\n",
      "1 1 ['EPLPQGQLTAY'] ['RAKFKQLL'] 1\n",
      "1 1 ['RAKFKQLL'] ['GILGFVFTL'] 1\n",
      "1 1 [] [] 1\n",
      "1 1 [] [] 1\n",
      "1 1 ['GILGFVFTL'] ['VTEHDTLLY'] 1\n",
      "1 1 ['VTEHDTLLY'] ['RAKFKQLL'] 1\n",
      "1 1 [] [] 1\n",
      "1 1 [] [] 1\n",
      "1 1 ['RAKFKQLL'] ['GILGFVFTL'] 1\n",
      "1 1 [] [] 1\n",
      "1 1 [] [] 1\n",
      "1 1 [] [] 1\n",
      "1 1 [] [] 1\n",
      "1 1 [] [] 1\n",
      "1 1 ['GILGFVFTL'] ['NLVPMVATV'] 1\n",
      "1 1 [] [] 1\n",
      "1 1 ['NLVPMVATV'] ['RAKFKQLL'] 1\n",
      "1 1 ['RAKFKQLL'] ['GILGFVFTL'] 1\n",
      "1 1 [] [] 1\n",
      "1 1 ['GILGFVFTL'] ['YVLDHLIVV'] 1\n",
      "1 1 ['YVLDHLIVV'] ['GILGFVFTL'] 1\n",
      "1 1 ['GILGFVFTL'] ['GLCTLVAML'] 1\n",
      "1 1 ['GLCTLVAML'] ['GILGFVFTL'] 1\n",
      "1 1 [] [] 1\n",
      "1 1 [] [] 1\n",
      "1 1 ['GILGFVFTL'] ['EPLPQGQLTAY'] 1\n",
      "1 1 ['EPLPQGQLTAY'] ['GLCTLVAML'] 1\n",
      "1 1 ['GLCTLVAML'] ['EPLPQGQLTAY'] 1\n",
      "1 1 ['EPLPQGQLTAY'] ['NLVPMVATV'] 1\n",
      "1 1 ['NLVPMVATV'] ['GILGFVFTL'] 1\n",
      "1 1 ['GILGFVFTL'] ['RAKFKQLL'] 1\n",
      "1 1 [] [] 1\n",
      "1 1 ['RAKFKQLL'] ['GILGFVFTL'] 1\n",
      "1 1 [] [] 1\n",
      "1 1 ['GILGFVFTL'] ['RAKFKQLL'] 1\n",
      "1 1 ['RAKFKQLL'] ['GILGFVFTL'] 1\n",
      "1 1 ['GILGFVFTL'] ['EPLPQGQLTAY'] 1\n",
      "1 1 ['EPLPQGQLTAY'] ['GILGFVFTL'] 1\n",
      "1 1 ['GILGFVFTL'] ['RAKFKQLL'] 1\n",
      "1 1 ['RAKFKQLL'] ['GILGFVFTL'] 1\n",
      "1 1 ['GILGFVFTL'] ['RAKFKQLL'] 1\n",
      "1 1 [] [] 1\n",
      "1 1 [] [] 1\n",
      "1 1 ['RAKFKQLL'] ['GILGFVFTL'] 1\n",
      "1 1 ['GILGFVFTL'] ['RAKFKQLL'] 1\n",
      "1 1 ['RAKFKQLL'] ['NLVPMVATV'] 1\n",
      "1 1 ['NLVPMVATV'] ['RAKFKQLL'] 1\n",
      "1 1 ['RAKFKQLL'] ['TPRVTGGGAM'] 1\n",
      "1 1 ['TPRVTGGGAM'] ['GILGFVFTL'] 1\n",
      "1 1 [] [] 1\n",
      "1 1 ['GILGFVFTL'] ['RPHERNGFTVL'] 1\n",
      "1 1 ['RPHERNGFTVL'] ['GILGFVFTL'] 1\n",
      "1 1 ['GILGFVFTL'] ['YVLDHLIVV'] 1\n",
      "1 1 ['YVLDHLIVV'] ['GILGFVFTL'] 1\n",
      "1 1 [] [] 1\n",
      "1 1 [] [] 1\n",
      "1 1 [] [] 1\n",
      "1 1 [] [] 1\n",
      "1 1 ['GILGFVFTL'] ['YVLDHLIVV'] 1\n",
      "1 1 ['YVLDHLIVV'] ['GILGFVFTL'] 1\n",
      "1 1 [] [] 1\n",
      "1 1 ['GILGFVFTL'] ['YVLDHLIVV'] 1\n",
      "1 1 [] [] 1\n",
      "1 1 ['YVLDHLIVV'] ['GILGFVFTL'] 1\n",
      "1 1 ['GILGFVFTL'] ['NLVPMVATV'] 1\n",
      "1 1 ['NLVPMVATV'] ['EPLPQGQLTAY'] 1\n",
      "1 1 ['EPLPQGQLTAY'] ['IPSINVHHY'] 1\n",
      "1 1 ['IPSINVHHY'] ['EPLPQGQLTAY'] 1\n",
      "1 1 [] [] 1\n",
      "1 1 ['EPLPQGQLTAY'] ['GILGFVFTL'] 1\n",
      "1 1 ['GILGFVFTL'] ['RAKFKQLL'] 1\n",
      "1 1 ['RAKFKQLL'] ['GILGFVFTL'] 1\n",
      "1 1 [] [] 1\n",
      "1 1 ['GILGFVFTL'] ['VTEHDTLLY'] 1\n",
      "1 1 ['VTEHDTLLY'] ['GILGFVFTL'] 1\n",
      "1 1 [] [] 1\n",
      "1 1 [] [] 1\n",
      "1 1 [] [] 1\n",
      "1 1 [] [] 1\n",
      "1 1 [] [] 1\n",
      "1 1 [] [] 1\n",
      "1 1 [] [] 1\n",
      "1 1 [] [] 1\n",
      "1 1 ['GILGFVFTL'] ['IVTDFSVIK'] 1\n",
      "1 1 ['IVTDFSVIK'] ['GILGFVFTL'] 1\n",
      "1 1 [] [] 1\n",
      "1 1 [] [] 1\n",
      "1 1 [] [] 1\n",
      "1 1 [] [] 1\n",
      "1 1 [] [] 1\n",
      "1 1 [] [] 1\n",
      "1 1 [] [] 1\n",
      "1 1 [] [] 1\n",
      "1 1 [] [] 1\n",
      "1 1 [] [] 1\n",
      "1 1 [] [] 1\n",
      "1 1 [] [] 1\n",
      "1 1 [] [] 1\n",
      "1 1 [] [] 1\n",
      "1 1 [] [] 1\n",
      "1 1 ['GILGFVFTL'] ['RAKFKQLL'] 1\n",
      "1 1 [] [] 1\n",
      "1 1 ['RAKFKQLL'] ['GILGFVFTL'] 1\n",
      "1 1 ['GILGFVFTL'] ['YVLDHLIVV'] 1\n",
      "1 1 ['YVLDHLIVV'] ['RAKFKQLL'] 1\n",
      "1 1 ['RAKFKQLL'] ['GILGFVFTL'] 1\n",
      "1 1 [] [] 1\n",
      "1 1 [] [] 1\n",
      "1 1 ['GILGFVFTL'] ['GLCTLVAML'] 1\n",
      "1 1 ['GLCTLVAML'] ['GILGFVFTL'] 1\n",
      "1 1 [] [] 1\n",
      "1 1 [] [] 1\n",
      "1 1 ['GILGFVFTL'] ['TPRVTGGGAM'] 1\n",
      "1 1 ['TPRVTGGGAM'] ['RAKFKQLL'] 1\n",
      "1 1 ['RAKFKQLL'] ['GILGFVFTL'] 1\n",
      "1 1 ['GILGFVFTL'] ['NLVPMVATV'] 1\n",
      "1 1 ['NLVPMVATV'] ['GILGFVFTL'] 1\n",
      "1 1 [] [] 1\n",
      "1 1 [] [] 1\n",
      "1 1 [] [] 1\n",
      "1 1 [] [] 1\n",
      "1 1 [] [] 1\n",
      "1 1 ['GILGFVFTL'] ['RPPIFIRRL'] 1\n",
      "1 1 ['RPPIFIRRL'] ['RAKFKQLL'] 1\n"
     ]
    }
   ],
   "source": [
    "r = exit_time_analysis(tt)"
   ]
  },
  {
   "cell_type": "code",
   "execution_count": 2109,
   "id": "9d0f96cc-53fd-4610-91cf-0108ea881201",
   "metadata": {
    "tags": []
   },
   "outputs": [
    {
     "data": {
      "text/plain": [
       "defaultdict(set,\n",
       "            {'RAKFKQLL': {1, 2, 3, 4, 5, 6, 7, 8, 9, 10, 11, 12, 14},\n",
       "             'RPHERNGFTVL': {1, 2, 3, 4, 5, 6, 7, 8, 9, 10, 11, 12, 14},\n",
       "             'EPLPQGQLTAY': {1, 2, 3, 4, 5, 6, 7, 8, 9, 10, 11, 12, 14},\n",
       "             'NLVPMVATV': {1, 2, 3, 4, 5, 6, 7, 8, 9, 10, 11, 12, 14},\n",
       "             'IVTDFSVIK': {1, 2, 3, 4, 5, 6, 7, 8, 9, 11, 12, 14},\n",
       "             'QIKVRVDMV': {2, 3, 4, 5, 6, 7, 8, 9, 10, 11, 12, 14},\n",
       "             'IPSINVHHY': {1, 2, 3, 4, 5, 6, 7, 8, 9, 10, 11, 12, 14},\n",
       "             'GILGFVFTL': {1, 2, 3, 4, 5, 6, 7, 8, 9, 10, 11, 12, 14},\n",
       "             'YVLDHLIVV': {1, 2, 3, 4, 5, 6, 7, 8, 9, 10, 11, 12, 14},\n",
       "             'YLQPRTFLL': {2, 3, 4, 5, 6, 7, 8, 9, 10, 14},\n",
       "             'TPRVTGGGAM': {1, 2, 3, 4, 5, 6, 7, 8, 9, 10, 14},\n",
       "             'GLCTLVAML': {1, 2, 3, 4, 5, 6, 7, 8, 9, 10, 11, 12, 14},\n",
       "             'RPPIFIRRL': {1, 2, 3, 4, 5, 6, 7, 8, 11, 12, 14},\n",
       "             'VTEHDTLLY': {1, 2, 3, 4, 5, 6, 7, 8, 9, 10, 11, 12, 14}})"
      ]
     },
     "execution_count": 2109,
     "metadata": {},
     "output_type": "execute_result"
    }
   ],
   "source": [
    "r"
   ]
  },
  {
   "cell_type": "code",
   "execution_count": 2110,
   "id": "e503a8d1-3b86-41fc-836a-14961a61eb0f",
   "metadata": {
    "scrolled": true,
    "tags": []
   },
   "outputs": [
    {
     "name": "stdout",
     "output_type": "stream",
     "text": [
      "8 8 ['IVTDFSVIK' 'RPHERNGFTVL'] ['RPPIFIRRL' 'YVLDHLIVV'] 8\n",
      "8 7 ['GLCTLVAML' 'TPRVTGGGAM' 'YLQPRTFLL'] ['IVTDFSVIK' 'RPHERNGFTVL'] 7\n",
      "7 7 ['RPHERNGFTVL' 'VTEHDTLLY' 'YVLDHLIVV'] ['GLCTLVAML' 'NLVPMVATV' 'YLQPRTFLL'] 7\n",
      "7 7 ['NLVPMVATV' 'RAKFKQLL' 'RPPIFIRRL'] ['RPHERNGFTVL' 'VTEHDTLLY' 'YVLDHLIVV'] 7\n",
      "7 7 ['GLCTLVAML' 'YLQPRTFLL'] ['RAKFKQLL' 'RPPIFIRRL'] 7\n",
      "7 7 ['GILGFVFTL' 'VTEHDTLLY'] ['GLCTLVAML' 'TPRVTGGGAM'] 7\n",
      "7 7 ['GLCTLVAML' 'RPHERNGFTVL' 'RPPIFIRRL'] ['GILGFVFTL' 'NLVPMVATV' 'YLQPRTFLL'] 7\n",
      "7 7 ['NLVPMVATV' 'TPRVTGGGAM' 'YLQPRTFLL'] ['GLCTLVAML' 'RPPIFIRRL' 'VTEHDTLLY'] 7\n",
      "7 7 ['VTEHDTLLY'] ['TPRVTGGGAM'] 7\n",
      "7 6 ['GLCTLVAML' 'IVTDFSVIK' 'RPPIFIRRL' 'TPRVTGGGAM' 'YVLDHLIVV'] ['NLVPMVATV' 'RPHERNGFTVL' 'VTEHDTLLY' 'YLQPRTFLL'] 6\n",
      "6 6 ['RAKFKQLL' 'YLQPRTFLL'] ['GLCTLVAML' 'IVTDFSVIK'] 6\n",
      "6 6 ['NLVPMVATV' 'VTEHDTLLY'] ['RAKFKQLL' 'YVLDHLIVV'] 6\n",
      "6 6 ['GILGFVFTL' 'YVLDHLIVV'] ['TPRVTGGGAM' 'VTEHDTLLY'] 6\n",
      "6 6 ['IVTDFSVIK' 'RPHERNGFTVL' 'VTEHDTLLY'] ['GILGFVFTL' 'YLQPRTFLL' 'YVLDHLIVV'] 6\n",
      "6 6 ['TPRVTGGGAM' 'YLQPRTFLL' 'YVLDHLIVV'] ['IVTDFSVIK' 'NLVPMVATV' 'RPHERNGFTVL'] 6\n",
      "6 6 ['RAKFKQLL' 'RPHERNGFTVL'] ['TPRVTGGGAM' 'YVLDHLIVV'] 6\n",
      "6 6 ['GLCTLVAML' 'YVLDHLIVV'] ['RAKFKQLL' 'RPPIFIRRL'] 6\n",
      "6 6 ['IVTDFSVIK' 'NLVPMVATV' 'RPPIFIRRL'] ['GLCTLVAML' 'VTEHDTLLY' 'YVLDHLIVV'] 6\n",
      "6 6 ['VTEHDTLLY' 'YVLDHLIVV'] ['NLVPMVATV' 'RPHERNGFTVL'] 6\n",
      "6 6 ['GLCTLVAML' 'NLVPMVATV' 'RAKFKQLL' 'RPHERNGFTVL'] ['IVTDFSVIK' 'RPPIFIRRL' 'VTEHDTLLY' 'YVLDHLIVV'] 6\n",
      "6 6 ['IVTDFSVIK' 'RPPIFIRRL' 'VTEHDTLLY' 'YVLDHLIVV'] ['GLCTLVAML' 'NLVPMVATV' 'RAKFKQLL' 'RPHERNGFTVL'] 6\n",
      "6 6 ['NLVPMVATV' 'RPHERNGFTVL'] ['IVTDFSVIK' 'YLQPRTFLL'] 6\n",
      "6 6 ['TPRVTGGGAM' 'YLQPRTFLL'] ['NLVPMVATV' 'YVLDHLIVV'] 6\n",
      "6 6 ['GILGFVFTL' 'YVLDHLIVV'] ['RPPIFIRRL' 'VTEHDTLLY'] 6\n",
      "6 6 ['IVTDFSVIK' 'NLVPMVATV' 'RAKFKQLL'] ['GILGFVFTL' 'YLQPRTFLL' 'YVLDHLIVV'] 6\n",
      "6 6 ['GLCTLVAML' 'YLQPRTFLL'] ['NLVPMVATV' 'RAKFKQLL'] 6\n",
      "6 6 ['VTEHDTLLY'] ['GLCTLVAML'] 6\n",
      "6 6 ['RPPIFIRRL'] ['RPHERNGFTVL'] 6\n",
      "6 6 ['RPHERNGFTVL' 'YVLDHLIVV'] ['TPRVTGGGAM' 'VTEHDTLLY'] 6\n",
      "6 6 ['NLVPMVATV' 'TPRVTGGGAM' 'VTEHDTLLY'] ['IVTDFSVIK' 'RPHERNGFTVL' 'RPPIFIRRL'] 6\n",
      "6 6 ['IVTDFSVIK' 'RAKFKQLL'] ['NLVPMVATV' 'TPRVTGGGAM'] 6\n",
      "6 5 ['GLCTLVAML' 'NLVPMVATV' 'RPHERNGFTVL' 'TPRVTGGGAM'] ['RAKFKQLL' 'YLQPRTFLL' 'YVLDHLIVV'] 5\n",
      "5 5 ['YVLDHLIVV'] ['NLVPMVATV'] 5\n",
      "5 5 ['NLVPMVATV' 'YLQPRTFLL'] ['IVTDFSVIK' 'YVLDHLIVV'] 5\n",
      "5 5 ['RPPIFIRRL'] ['GLCTLVAML'] 5\n",
      "5 5 ['IVTDFSVIK'] ['VTEHDTLLY'] 5\n",
      "5 5 ['GILGFVFTL' 'GLCTLVAML' 'YVLDHLIVV'] ['IVTDFSVIK' 'TPRVTGGGAM' 'YLQPRTFLL'] 5\n",
      "5 5 ['IVTDFSVIK' 'YLQPRTFLL'] ['NLVPMVATV' 'RPPIFIRRL'] 5\n",
      "5 5 ['NLVPMVATV' 'RAKFKQLL' 'RPPIFIRRL' 'TPRVTGGGAM'] ['GILGFVFTL' 'IVTDFSVIK' 'RPHERNGFTVL' 'YVLDHLIVV'] 5\n",
      "5 5 ['IVTDFSVIK' 'RPHERNGFTVL'] ['NLVPMVATV' 'RAKFKQLL'] 5\n",
      "5 5 ['NLVPMVATV' 'VTEHDTLLY' 'YVLDHLIVV'] ['GLCTLVAML' 'RPPIFIRRL' 'TPRVTGGGAM'] 5\n",
      "5 5 ['GILGFVFTL' 'GLCTLVAML' 'RPPIFIRRL' 'TPRVTGGGAM'] ['IVTDFSVIK' 'NLVPMVATV' 'YLQPRTFLL' 'YVLDHLIVV'] 5\n",
      "5 5 ['IVTDFSVIK' 'NLVPMVATV' 'YLQPRTFLL' 'YVLDHLIVV'] ['GILGFVFTL' 'GLCTLVAML' 'RPPIFIRRL' 'VTEHDTLLY'] 5\n",
      "5 5 ['RAKFKQLL' 'RPPIFIRRL' 'VTEHDTLLY'] ['IVTDFSVIK' 'NLVPMVATV' 'YLQPRTFLL'] 5\n",
      "5 5 ['IVTDFSVIK' 'NLVPMVATV' 'YLQPRTFLL'] ['RAKFKQLL' 'RPPIFIRRL' 'YVLDHLIVV'] 5\n",
      "5 5 ['GLCTLVAML' 'RAKFKQLL' 'RPPIFIRRL' 'YVLDHLIVV'] ['NLVPMVATV' 'RPHERNGFTVL' 'TPRVTGGGAM' 'YLQPRTFLL'] 5\n",
      "5 5 ['NLVPMVATV' 'TPRVTGGGAM' 'YLQPRTFLL'] ['IVTDFSVIK' 'VTEHDTLLY' 'YVLDHLIVV'] 5\n",
      "5 5 ['RPHERNGFTVL' 'VTEHDTLLY'] ['RAKFKQLL' 'YLQPRTFLL'] 5\n",
      "5 5 ['YLQPRTFLL' 'YVLDHLIVV'] ['GLCTLVAML' 'NLVPMVATV'] 5\n",
      "5 5 ['GLCTLVAML' 'NLVPMVATV' 'RAKFKQLL'] ['RPHERNGFTVL' 'VTEHDTLLY' 'YVLDHLIVV'] 5\n",
      "5 5 ['RPHERNGFTVL' 'VTEHDTLLY' 'YVLDHLIVV'] ['NLVPMVATV' 'RAKFKQLL' 'RPPIFIRRL'] 5\n",
      "5 5 ['RPPIFIRRL'] ['VTEHDTLLY'] 5\n",
      "5 5 ['NLVPMVATV' 'RAKFKQLL' 'VTEHDTLLY'] ['TPRVTGGGAM' 'YLQPRTFLL' 'YVLDHLIVV'] 5\n",
      "5 5 ['TPRVTGGGAM' 'YLQPRTFLL' 'YVLDHLIVV'] ['NLVPMVATV' 'RAKFKQLL' 'RPHERNGFTVL'] 5\n",
      "5 5 ['GILGFVFTL' 'NLVPMVATV' 'RPHERNGFTVL'] ['GLCTLVAML' 'VTEHDTLLY' 'YLQPRTFLL'] 5\n",
      "5 5 ['GLCTLVAML' 'RAKFKQLL' 'YLQPRTFLL'] ['GILGFVFTL' 'NLVPMVATV' 'RPPIFIRRL'] 5\n",
      "5 5 ['VTEHDTLLY'] ['YLQPRTFLL'] 5\n",
      "5 5 ['GILGFVFTL' 'NLVPMVATV'] ['RPHERNGFTVL' 'YVLDHLIVV'] 5\n",
      "5 5 ['RPHERNGFTVL' 'YVLDHLIVV'] ['GLCTLVAML' 'TPRVTGGGAM'] 5\n",
      "5 5 ['GLCTLVAML' 'RPPIFIRRL' 'YLQPRTFLL'] ['NLVPMVATV' 'RAKFKQLL' 'VTEHDTLLY'] 5\n",
      "5 5 ['NLVPMVATV' 'VTEHDTLLY'] ['GLCTLVAML' 'YVLDHLIVV'] 5\n",
      "5 5 ['GLCTLVAML' 'IVTDFSVIK' 'TPRVTGGGAM' 'YVLDHLIVV'] ['GILGFVFTL' 'RPPIFIRRL' 'VTEHDTLLY' 'YLQPRTFLL'] 5\n",
      "5 5 ['RAKFKQLL' 'RPPIFIRRL' 'VTEHDTLLY'] ['IVTDFSVIK' 'NLVPMVATV' 'RPHERNGFTVL'] 5\n",
      "5 5 ['IVTDFSVIK' 'RPHERNGFTVL' 'YLQPRTFLL'] ['RAKFKQLL' 'TPRVTGGGAM' 'YVLDHLIVV'] 5\n",
      "5 5 ['TPRVTGGGAM'] ['GLCTLVAML'] 5\n",
      "5 5 ['NLVPMVATV' 'YVLDHLIVV'] ['RPPIFIRRL' 'TPRVTGGGAM'] 5\n",
      "5 5 ['GLCTLVAML' 'RAKFKQLL'] ['VTEHDTLLY' 'YVLDHLIVV'] 5\n",
      "5 5 ['TPRVTGGGAM' 'VTEHDTLLY' 'YVLDHLIVV'] ['IVTDFSVIK' 'NLVPMVATV' 'YLQPRTFLL'] 5\n",
      "5 5 ['IVTDFSVIK' 'NLVPMVATV'] ['GLCTLVAML' 'RAKFKQLL'] 5\n",
      "5 5 ['RAKFKQLL'] ['NLVPMVATV'] 5\n",
      "5 5 ['GLCTLVAML' 'RPPIFIRRL'] ['IVTDFSVIK' 'VTEHDTLLY'] 5\n",
      "5 5 ['IVTDFSVIK' 'VTEHDTLLY' 'YLQPRTFLL'] ['GLCTLVAML' 'RAKFKQLL' 'YVLDHLIVV'] 5\n",
      "5 5 ['GLCTLVAML' 'RAKFKQLL' 'YVLDHLIVV'] ['RPHERNGFTVL' 'VTEHDTLLY' 'YLQPRTFLL'] 5\n",
      "5 5 ['GILGFVFTL' 'RPHERNGFTVL' 'VTEHDTLLY' 'YLQPRTFLL'] ['GLCTLVAML' 'IVTDFSVIK' 'RPPIFIRRL' 'TPRVTGGGAM'] 5\n",
      "5 5 ['GLCTLVAML' 'NLVPMVATV' 'RPPIFIRRL'] ['GILGFVFTL' 'VTEHDTLLY' 'YVLDHLIVV'] 5\n",
      "5 5 ['VTEHDTLLY' 'YVLDHLIVV'] ['NLVPMVATV' 'RAKFKQLL'] 5\n",
      "5 5 ['NLVPMVATV' 'RAKFKQLL' 'TPRVTGGGAM'] ['GLCTLVAML' 'RPPIFIRRL' 'VTEHDTLLY'] 5\n",
      "5 5 ['GILGFVFTL' 'GLCTLVAML' 'RPPIFIRRL' 'VTEHDTLLY'] ['NLVPMVATV' 'RAKFKQLL' 'YLQPRTFLL' 'YVLDHLIVV'] 5\n",
      "5 4 ['IVTDFSVIK' 'NLVPMVATV' 'RAKFKQLL' 'YVLDHLIVV'] ['GILGFVFTL' 'RPHERNGFTVL' 'RPPIFIRRL'] 4\n",
      "4 4 ['RPHERNGFTVL' 'RPPIFIRRL' 'YLQPRTFLL'] ['GLCTLVAML' 'IVTDFSVIK' 'RAKFKQLL'] 4\n",
      "4 4 [] [] 4\n",
      "4 4 ['IVTDFSVIK'] ['RPHERNGFTVL'] 4\n",
      "4 4 ['GLCTLVAML' 'RPHERNGFTVL'] ['VTEHDTLLY' 'YLQPRTFLL'] 4\n",
      "4 4 ['VTEHDTLLY'] ['NLVPMVATV'] 4\n",
      "4 4 ['GILGFVFTL' 'NLVPMVATV' 'YLQPRTFLL'] ['GLCTLVAML' 'IVTDFSVIK' 'YVLDHLIVV'] 4\n",
      "4 4 ['IVTDFSVIK' 'YVLDHLIVV'] ['GILGFVFTL' 'RPHERNGFTVL'] 4\n",
      "4 4 ['GLCTLVAML' 'RAKFKQLL' 'RPHERNGFTVL'] ['NLVPMVATV' 'YLQPRTFLL' 'YVLDHLIVV'] 4\n",
      "4 4 ['NLVPMVATV' 'YLQPRTFLL'] ['IVTDFSVIK' 'RAKFKQLL'] 4\n",
      "4 4 ['RAKFKQLL'] ['VTEHDTLLY'] 4\n",
      "4 4 ['IVTDFSVIK' 'VTEHDTLLY'] ['RPHERNGFTVL' 'RPPIFIRRL'] 4\n",
      "4 4 ['RPHERNGFTVL' 'RPPIFIRRL' 'YVLDHLIVV'] ['IVTDFSVIK' 'RAKFKQLL' 'VTEHDTLLY'] 4\n",
      "4 4 ['IVTDFSVIK' 'VTEHDTLLY'] ['RPHERNGFTVL' 'YLQPRTFLL'] 4\n",
      "4 4 ['RAKFKQLL' 'YLQPRTFLL'] ['GLCTLVAML' 'YVLDHLIVV'] 4\n",
      "4 4 ['YVLDHLIVV'] ['IVTDFSVIK'] 4\n",
      "4 4 ['GILGFVFTL' 'RPHERNGFTVL'] ['NLVPMVATV' 'RAKFKQLL'] 4\n",
      "4 4 ['IVTDFSVIK' 'NLVPMVATV' 'RAKFKQLL'] ['GILGFVFTL' 'RPPIFIRRL' 'TPRVTGGGAM'] 4\n",
      "4 4 ['GLCTLVAML' 'TPRVTGGGAM'] ['RAKFKQLL' 'YVLDHLIVV'] 4\n",
      "4 4 ['GILGFVFTL' 'RAKFKQLL' 'RPPIFIRRL' 'YVLDHLIVV'] ['GLCTLVAML' 'IVTDFSVIK' 'NLVPMVATV' 'TPRVTGGGAM'] 4\n",
      "4 4 ['TPRVTGGGAM'] ['GILGFVFTL'] 4\n",
      "4 4 ['GILGFVFTL' 'GLCTLVAML'] ['YLQPRTFLL' 'YVLDHLIVV'] 4\n",
      "4 4 ['IVTDFSVIK' 'YVLDHLIVV'] ['GILGFVFTL' 'TPRVTGGGAM'] 4\n",
      "4 4 ['NLVPMVATV' 'TPRVTGGGAM'] ['RAKFKQLL' 'VTEHDTLLY'] 4\n",
      "4 4 ['VTEHDTLLY' 'YLQPRTFLL'] ['NLVPMVATV' 'YVLDHLIVV'] 4\n",
      "4 4 ['GILGFVFTL' 'RAKFKQLL' 'YVLDHLIVV'] ['GLCTLVAML' 'RPHERNGFTVL' 'TPRVTGGGAM'] 4\n",
      "4 4 ['GLCTLVAML' 'NLVPMVATV' 'RPHERNGFTVL' 'TPRVTGGGAM'] ['GILGFVFTL' 'IVTDFSVIK' 'VTEHDTLLY' 'YVLDHLIVV'] 4\n",
      "4 4 ['IVTDFSVIK' 'VTEHDTLLY' 'YVLDHLIVV'] ['GLCTLVAML' 'RAKFKQLL' 'TPRVTGGGAM'] 4\n",
      "4 4 ['GILGFVFTL'] ['YVLDHLIVV'] 4\n",
      "4 4 ['GLCTLVAML' 'TPRVTGGGAM' 'YVLDHLIVV'] ['GILGFVFTL' 'IVTDFSVIK' 'NLVPMVATV'] 4\n",
      "4 4 ['NLVPMVATV'] ['GLCTLVAML'] 4\n",
      "4 4 ['GLCTLVAML' 'IVTDFSVIK' 'RAKFKQLL'] ['NLVPMVATV' 'VTEHDTLLY' 'YVLDHLIVV'] 4\n",
      "4 4 ['VTEHDTLLY' 'YVLDHLIVV'] ['IVTDFSVIK' 'RAKFKQLL'] 4\n",
      "4 4 ['GILGFVFTL' 'NLVPMVATV'] ['GLCTLVAML' 'RPHERNGFTVL'] 4\n",
      "4 4 ['GLCTLVAML' 'RAKFKQLL' 'RPHERNGFTVL'] ['RPPIFIRRL' 'YLQPRTFLL' 'YVLDHLIVV'] 4\n",
      "4 4 ['RPPIFIRRL' 'YLQPRTFLL' 'YVLDHLIVV'] ['GILGFVFTL' 'RAKFKQLL' 'TPRVTGGGAM'] 4\n",
      "4 4 ['GILGFVFTL'] ['YLQPRTFLL'] 4\n",
      "4 4 ['IVTDFSVIK'] ['NLVPMVATV'] 4\n",
      "4 4 ['NLVPMVATV' 'RAKFKQLL' 'TPRVTGGGAM'] ['GLCTLVAML' 'IVTDFSVIK' 'RPHERNGFTVL'] 4\n",
      "4 4 ['IVTDFSVIK' 'RPHERNGFTVL' 'YLQPRTFLL'] ['GILGFVFTL' 'NLVPMVATV' 'YVLDHLIVV'] 4\n",
      "4 4 ['GLCTLVAML'] ['IVTDFSVIK'] 4\n",
      "4 4 ['NLVPMVATV'] ['RAKFKQLL'] 4\n",
      "4 4 ['RAKFKQLL' 'YVLDHLIVV'] ['RPPIFIRRL' 'VTEHDTLLY'] 4\n",
      "4 4 ['GILGFVFTL' 'IVTDFSVIK' 'VTEHDTLLY'] ['NLVPMVATV' 'TPRVTGGGAM' 'YLQPRTFLL'] 4\n",
      "4 4 ['RPPIFIRRL' 'TPRVTGGGAM' 'YLQPRTFLL'] ['GILGFVFTL' 'IVTDFSVIK' 'RAKFKQLL'] 4\n",
      "4 4 ['IVTDFSVIK' 'NLVPMVATV'] ['GLCTLVAML' 'YLQPRTFLL'] 4\n",
      "4 4 ['GLCTLVAML' 'YLQPRTFLL'] ['TPRVTGGGAM' 'VTEHDTLLY'] 4\n",
      "4 4 ['GILGFVFTL' 'RAKFKQLL' 'VTEHDTLLY'] ['GLCTLVAML' 'NLVPMVATV' 'RPHERNGFTVL'] 4\n",
      "4 4 ['GLCTLVAML' 'RPHERNGFTVL' 'TPRVTGGGAM'] ['GILGFVFTL' 'IVTDFSVIK' 'VTEHDTLLY'] 4\n",
      "4 4 ['IVTDFSVIK' 'NLVPMVATV'] ['RPHERNGFTVL' 'YLQPRTFLL'] 4\n",
      "4 4 ['RPHERNGFTVL' 'VTEHDTLLY' 'YLQPRTFLL'] ['GLCTLVAML' 'IVTDFSVIK' 'YVLDHLIVV'] 4\n",
      "4 4 ['GILGFVFTL' 'YVLDHLIVV'] ['RAKFKQLL' 'RPPIFIRRL'] 4\n",
      "4 4 ['GLCTLVAML' 'IVTDFSVIK' 'RPPIFIRRL'] ['GILGFVFTL' 'TPRVTGGGAM' 'YVLDHLIVV'] 4\n",
      "4 4 ['GILGFVFTL' 'RAKFKQLL' 'TPRVTGGGAM' 'YVLDHLIVV'] ['GLCTLVAML' 'IVTDFSVIK' 'RPHERNGFTVL' 'RPPIFIRRL'] 4\n",
      "4 4 ['GLCTLVAML' 'IVTDFSVIK' 'RPHERNGFTVL' 'RPPIFIRRL'] ['GILGFVFTL' 'RAKFKQLL' 'VTEHDTLLY' 'YVLDHLIVV'] 4\n",
      "4 4 ['GILGFVFTL' 'VTEHDTLLY'] ['NLVPMVATV' 'RPHERNGFTVL'] 4\n",
      "4 4 ['NLVPMVATV' 'RAKFKQLL' 'YVLDHLIVV'] ['GILGFVFTL' 'GLCTLVAML' 'IVTDFSVIK'] 4\n",
      "4 4 ['GLCTLVAML' 'RPHERNGFTVL'] ['RAKFKQLL' 'YLQPRTFLL'] 4\n",
      "4 4 ['GILGFVFTL' 'IVTDFSVIK'] ['GLCTLVAML' 'NLVPMVATV'] 4\n",
      "4 4 ['GLCTLVAML' 'RAKFKQLL' 'YLQPRTFLL'] ['GILGFVFTL' 'IVTDFSVIK' 'YVLDHLIVV'] 4\n",
      "4 4 ['IVTDFSVIK' 'YVLDHLIVV'] ['GLCTLVAML' 'RAKFKQLL'] 4\n",
      "4 4 ['GLCTLVAML'] ['IVTDFSVIK'] 4\n",
      "4 4 ['GILGFVFTL'] ['GLCTLVAML'] 4\n",
      "4 4 ['GLCTLVAML' 'RAKFKQLL'] ['GILGFVFTL' 'RPPIFIRRL'] 4\n",
      "4 4 ['IVTDFSVIK' 'NLVPMVATV' 'RPPIFIRRL'] ['GLCTLVAML' 'RAKFKQLL' 'TPRVTGGGAM'] 4\n",
      "4 4 ['RAKFKQLL' 'TPRVTGGGAM'] ['NLVPMVATV' 'YLQPRTFLL'] 4\n",
      "4 4 ['GLCTLVAML' 'YLQPRTFLL'] ['RPHERNGFTVL' 'TPRVTGGGAM'] 4\n",
      "4 4 ['NLVPMVATV' 'RPHERNGFTVL' 'TPRVTGGGAM'] ['VTEHDTLLY' 'YLQPRTFLL' 'YVLDHLIVV'] 4\n",
      "4 4 ['VTEHDTLLY' 'YLQPRTFLL' 'YVLDHLIVV'] ['NLVPMVATV' 'RAKFKQLL' 'TPRVTGGGAM'] 4\n",
      "4 4 ['NLVPMVATV' 'RAKFKQLL' 'TPRVTGGGAM'] ['GLCTLVAML' 'IVTDFSVIK' 'YVLDHLIVV'] 4\n",
      "4 4 ['GILGFVFTL' 'GLCTLVAML'] ['TPRVTGGGAM' 'YLQPRTFLL'] 4\n",
      "4 4 ['IVTDFSVIK' 'YLQPRTFLL' 'YVLDHLIVV'] ['GILGFVFTL' 'GLCTLVAML' 'VTEHDTLLY'] 4\n",
      "4 4 ['GLCTLVAML' 'VTEHDTLLY'] ['RAKFKQLL' 'RPHERNGFTVL'] 4\n",
      "4 4 ['TPRVTGGGAM'] ['YLQPRTFLL'] 4\n",
      "4 4 ['RAKFKQLL' 'YLQPRTFLL'] ['VTEHDTLLY' 'YVLDHLIVV'] 4\n",
      "4 4 ['RPHERNGFTVL' 'VTEHDTLLY'] ['GLCTLVAML' 'NLVPMVATV'] 4\n",
      "4 4 ['GLCTLVAML' 'NLVPMVATV' 'YVLDHLIVV'] ['IVTDFSVIK' 'TPRVTGGGAM' 'YLQPRTFLL'] 4\n",
      "4 4 ['IVTDFSVIK' 'TPRVTGGGAM' 'YLQPRTFLL'] ['GLCTLVAML' 'RPPIFIRRL' 'YVLDHLIVV'] 4\n",
      "4 4 ['GLCTLVAML' 'RPPIFIRRL' 'YVLDHLIVV'] ['IVTDFSVIK' 'RAKFKQLL' 'TPRVTGGGAM'] 4\n",
      "4 4 ['TPRVTGGGAM'] ['YVLDHLIVV'] 4\n",
      "4 4 ['RAKFKQLL' 'YVLDHLIVV'] ['GLCTLVAML' 'RPPIFIRRL'] 4\n",
      "4 4 ['IVTDFSVIK'] ['RAKFKQLL'] 4\n",
      "4 4 ['GLCTLVAML' 'RAKFKQLL' 'RPPIFIRRL'] ['NLVPMVATV' 'RPHERNGFTVL' 'TPRVTGGGAM'] 4\n",
      "4 4 ['TPRVTGGGAM'] ['RAKFKQLL'] 4\n",
      "4 4 ['RPHERNGFTVL'] ['YVLDHLIVV'] 4\n",
      "4 4 ['NLVPMVATV' 'RAKFKQLL' 'YVLDHLIVV'] ['GLCTLVAML' 'IVTDFSVIK' 'VTEHDTLLY'] 4\n",
      "4 4 ['GLCTLVAML' 'VTEHDTLLY'] ['NLVPMVATV' 'RPPIFIRRL'] 4\n",
      "4 4 ['IVTDFSVIK' 'NLVPMVATV' 'RPPIFIRRL'] ['RAKFKQLL' 'TPRVTGGGAM' 'YLQPRTFLL'] 4\n",
      "4 4 ['RAKFKQLL' 'TPRVTGGGAM'] ['NLVPMVATV' 'RPPIFIRRL'] 4\n",
      "4 4 ['NLVPMVATV' 'RPPIFIRRL' 'YLQPRTFLL'] ['GLCTLVAML' 'IVTDFSVIK' 'RAKFKQLL'] 4\n",
      "4 4 ['GILGFVFTL' 'RAKFKQLL'] ['NLVPMVATV' 'VTEHDTLLY'] 4\n",
      "4 4 ['GLCTLVAML' 'IVTDFSVIK' 'VTEHDTLLY'] ['GILGFVFTL' 'RAKFKQLL' 'RPPIFIRRL'] 4\n",
      "4 4 ['GILGFVFTL' 'RAKFKQLL' 'RPPIFIRRL'] ['IVTDFSVIK' 'VTEHDTLLY' 'YLQPRTFLL'] 4\n",
      "4 4 ['VTEHDTLLY' 'YLQPRTFLL'] ['RPHERNGFTVL' 'YVLDHLIVV'] 4\n",
      "4 4 ['NLVPMVATV'] ['RAKFKQLL'] 4\n",
      "4 4 ['IVTDFSVIK' 'RPHERNGFTVL' 'YVLDHLIVV'] ['GILGFVFTL' 'NLVPMVATV' 'RPPIFIRRL'] 4\n",
      "4 4 ['RAKFKQLL'] ['YVLDHLIVV'] 4\n",
      "4 4 ['GILGFVFTL' 'NLVPMVATV' 'YVLDHLIVV'] ['RAKFKQLL' 'RPHERNGFTVL' 'YLQPRTFLL'] 4\n",
      "4 4 ['RPHERNGFTVL' 'RPPIFIRRL' 'YLQPRTFLL'] ['GILGFVFTL' 'NLVPMVATV' 'VTEHDTLLY'] 4\n",
      "4 4 ['RAKFKQLL' 'VTEHDTLLY'] ['GLCTLVAML' 'IVTDFSVIK'] 4\n",
      "4 4 ['GLCTLVAML'] ['RAKFKQLL'] 4\n",
      "4 4 ['IVTDFSVIK'] ['RPHERNGFTVL'] 4\n",
      "4 4 ['NLVPMVATV' 'RPHERNGFTVL'] ['RPPIFIRRL' 'TPRVTGGGAM'] 4\n",
      "4 4 ['RAKFKQLL' 'RPPIFIRRL'] ['GLCTLVAML' 'VTEHDTLLY'] 4\n",
      "4 4 ['GLCTLVAML' 'TPRVTGGGAM'] ['NLVPMVATV' 'YVLDHLIVV'] 4\n",
      "4 4 ['NLVPMVATV' 'VTEHDTLLY' 'YVLDHLIVV'] ['GLCTLVAML' 'RAKFKQLL' 'TPRVTGGGAM'] 4\n",
      "4 4 ['RAKFKQLL' 'TPRVTGGGAM'] ['RPHERNGFTVL' 'YVLDHLIVV'] 4\n",
      "4 4 ['GLCTLVAML' 'RPHERNGFTVL' 'YVLDHLIVV'] ['IVTDFSVIK' 'TPRVTGGGAM' 'YLQPRTFLL'] 4\n",
      "4 4 ['IVTDFSVIK' 'TPRVTGGGAM'] ['NLVPMVATV' 'VTEHDTLLY'] 4\n",
      "4 4 ['NLVPMVATV' 'YLQPRTFLL'] ['GLCTLVAML' 'RAKFKQLL'] 4\n",
      "4 4 ['GLCTLVAML'] ['IVTDFSVIK'] 4\n",
      "4 4 ['GILGFVFTL' 'VTEHDTLLY'] ['NLVPMVATV' 'YVLDHLIVV'] 4\n",
      "4 4 ['NLVPMVATV' 'RAKFKQLL'] ['GLCTLVAML' 'VTEHDTLLY'] 4\n",
      "4 4 ['GLCTLVAML' 'VTEHDTLLY'] ['GILGFVFTL' 'NLVPMVATV'] 4\n",
      "4 4 ['IVTDFSVIK' 'NLVPMVATV' 'YVLDHLIVV'] ['RAKFKQLL' 'RPHERNGFTVL' 'YLQPRTFLL'] 4\n",
      "4 4 ['RPHERNGFTVL' 'YLQPRTFLL'] ['NLVPMVATV' 'RPPIFIRRL'] 4\n",
      "4 4 ['GILGFVFTL' 'NLVPMVATV' 'RPPIFIRRL'] ['IVTDFSVIK' 'VTEHDTLLY' 'YVLDHLIVV'] 4\n",
      "4 4 ['YVLDHLIVV'] ['GLCTLVAML'] 4\n",
      "4 4 ['GLCTLVAML' 'RAKFKQLL' 'VTEHDTLLY'] ['GILGFVFTL' 'RPPIFIRRL' 'YVLDHLIVV'] 4\n",
      "4 4 ['GILGFVFTL' 'IVTDFSVIK' 'RPPIFIRRL' 'YVLDHLIVV'] ['NLVPMVATV' 'TPRVTGGGAM' 'VTEHDTLLY' 'YLQPRTFLL'] 4\n",
      "4 4 ['TPRVTGGGAM' 'VTEHDTLLY' 'YLQPRTFLL'] ['GILGFVFTL' 'IVTDFSVIK' 'YVLDHLIVV'] 4\n",
      "4 4 ['IVTDFSVIK' 'NLVPMVATV'] ['GLCTLVAML' 'RPPIFIRRL'] 4\n",
      "4 4 ['GILGFVFTL' 'RPPIFIRRL' 'YVLDHLIVV'] ['NLVPMVATV' 'RAKFKQLL' 'RPHERNGFTVL'] 4\n",
      "4 4 ['GLCTLVAML' 'NLVPMVATV' 'RPHERNGFTVL'] ['GILGFVFTL' 'IVTDFSVIK' 'RPPIFIRRL'] 4\n",
      "4 4 ['GILGFVFTL' 'IVTDFSVIK'] ['NLVPMVATV' 'RPHERNGFTVL'] 4\n",
      "4 4 ['NLVPMVATV' 'RAKFKQLL' 'RPHERNGFTVL' 'RPPIFIRRL'] ['GILGFVFTL' 'IVTDFSVIK' 'TPRVTGGGAM' 'YVLDHLIVV'] 4\n",
      "4 3 ['IVTDFSVIK' 'TPRVTGGGAM' 'YVLDHLIVV'] ['GLCTLVAML' 'NLVPMVATV'] 3\n",
      "3 3 ['GLCTLVAML'] ['RAKFKQLL'] 3\n",
      "3 3 ['GILGFVFTL' 'NLVPMVATV' 'RAKFKQLL'] ['GLCTLVAML' 'IVTDFSVIK' 'YVLDHLIVV'] 3\n",
      "3 3 ['GLCTLVAML' 'IVTDFSVIK' 'YVLDHLIVV'] ['NLVPMVATV' 'RPHERNGFTVL' 'TPRVTGGGAM'] 3\n",
      "3 3 ['NLVPMVATV' 'RPHERNGFTVL' 'TPRVTGGGAM'] ['GILGFVFTL' 'IVTDFSVIK' 'RAKFKQLL'] 3\n",
      "3 3 [] [] 3\n",
      "3 3 ['IVTDFSVIK'] ['YVLDHLIVV'] 3\n",
      "3 3 ['YVLDHLIVV'] ['GLCTLVAML'] 3\n",
      "3 3 ['GILGFVFTL' 'GLCTLVAML'] ['YLQPRTFLL' 'YVLDHLIVV'] 3\n",
      "3 3 ['YLQPRTFLL' 'YVLDHLIVV'] ['IVTDFSVIK' 'NLVPMVATV'] 3\n",
      "3 3 ['IVTDFSVIK' 'NLVPMVATV'] ['GILGFVFTL' 'GLCTLVAML'] 3\n",
      "3 3 ['GLCTLVAML' 'RAKFKQLL'] ['RPPIFIRRL' 'VTEHDTLLY'] 3\n",
      "3 3 ['RPPIFIRRL' 'VTEHDTLLY'] ['RAKFKQLL' 'TPRVTGGGAM'] 3\n",
      "3 3 ['TPRVTGGGAM'] ['IVTDFSVIK'] 3\n",
      "3 3 ['IVTDFSVIK' 'RAKFKQLL'] ['GLCTLVAML' 'YLQPRTFLL'] 3\n",
      "3 3 ['GLCTLVAML' 'YLQPRTFLL'] ['RPHERNGFTVL' 'YVLDHLIVV'] 3\n",
      "3 3 [] [] 3\n",
      "3 3 ['RPHERNGFTVL' 'YVLDHLIVV'] ['NLVPMVATV' 'RAKFKQLL'] 3\n",
      "3 3 ['NLVPMVATV' 'RAKFKQLL'] ['TPRVTGGGAM' 'YLQPRTFLL'] 3\n",
      "3 3 ['TPRVTGGGAM' 'YLQPRTFLL'] ['RAKFKQLL' 'RPPIFIRRL'] 3\n",
      "3 3 ['RAKFKQLL' 'RPPIFIRRL'] ['IVTDFSVIK' 'YVLDHLIVV'] 3\n",
      "3 3 ['IVTDFSVIK' 'YVLDHLIVV'] ['GLCTLVAML' 'RPHERNGFTVL'] 3\n",
      "3 3 ['GLCTLVAML' 'RPHERNGFTVL'] ['NLVPMVATV' 'RAKFKQLL'] 3\n",
      "3 3 ['NLVPMVATV'] ['YVLDHLIVV'] 3\n",
      "3 3 ['GILGFVFTL' 'RAKFKQLL'] ['IVTDFSVIK' 'NLVPMVATV'] 3\n",
      "3 3 ['IVTDFSVIK' 'NLVPMVATV' 'YVLDHLIVV'] ['RAKFKQLL' 'RPHERNGFTVL' 'YLQPRTFLL'] 3\n",
      "3 3 ['RPHERNGFTVL' 'YLQPRTFLL'] ['GILGFVFTL' 'TPRVTGGGAM'] 3\n",
      "3 3 ['GILGFVFTL' 'RAKFKQLL' 'TPRVTGGGAM'] ['GLCTLVAML' 'NLVPMVATV' 'VTEHDTLLY'] 3\n",
      "3 3 ['GLCTLVAML' 'NLVPMVATV' 'VTEHDTLLY'] ['RAKFKQLL' 'RPHERNGFTVL' 'YLQPRTFLL'] 3\n",
      "3 3 ['RPHERNGFTVL' 'YLQPRTFLL'] ['GILGFVFTL' 'YVLDHLIVV'] 3\n",
      "3 3 ['YVLDHLIVV'] ['NLVPMVATV'] 3\n",
      "3 3 ['GILGFVFTL' 'NLVPMVATV'] ['IVTDFSVIK' 'VTEHDTLLY'] 3\n",
      "3 3 ['IVTDFSVIK' 'VTEHDTLLY'] ['GILGFVFTL' 'GLCTLVAML'] 3\n",
      "3 3 ['GLCTLVAML' 'RAKFKQLL'] ['NLVPMVATV' 'VTEHDTLLY'] 3\n",
      "3 3 ['NLVPMVATV' 'VTEHDTLLY'] ['GLCTLVAML' 'TPRVTGGGAM'] 3\n",
      "3 3 ['GILGFVFTL' 'GLCTLVAML' 'TPRVTGGGAM'] ['IVTDFSVIK' 'RAKFKQLL' 'RPPIFIRRL'] 3\n",
      "3 3 ['IVTDFSVIK' 'RAKFKQLL' 'RPPIFIRRL'] ['GILGFVFTL' 'TPRVTGGGAM' 'VTEHDTLLY'] 3\n",
      "3 3 ['TPRVTGGGAM'] ['IVTDFSVIK'] 3\n",
      "3 3 ['IVTDFSVIK' 'VTEHDTLLY'] ['TPRVTGGGAM' 'YVLDHLIVV'] 3\n",
      "3 3 ['GILGFVFTL' 'TPRVTGGGAM' 'YVLDHLIVV'] ['IVTDFSVIK' 'RAKFKQLL' 'YLQPRTFLL'] 3\n",
      "3 3 ['IVTDFSVIK' 'YLQPRTFLL'] ['GILGFVFTL' 'YVLDHLIVV'] 3\n",
      "3 3 ['GILGFVFTL' 'YVLDHLIVV'] ['IVTDFSVIK' 'YLQPRTFLL'] 3\n",
      "3 3 ['YLQPRTFLL'] ['GILGFVFTL'] 3\n",
      "3 3 ['GILGFVFTL' 'IVTDFSVIK'] ['NLVPMVATV' 'VTEHDTLLY'] 3\n",
      "3 3 ['NLVPMVATV' 'RAKFKQLL' 'VTEHDTLLY'] ['GILGFVFTL' 'GLCTLVAML' 'RPPIFIRRL'] 3\n",
      "3 3 ['RPPIFIRRL'] ['RPHERNGFTVL'] 3\n",
      "3 3 ['GILGFVFTL' 'RPHERNGFTVL'] ['IVTDFSVIK' 'RAKFKQLL'] 3\n",
      "3 3 ['GLCTLVAML' 'IVTDFSVIK' 'RAKFKQLL'] ['GILGFVFTL' 'NLVPMVATV' 'YVLDHLIVV'] 3\n",
      "3 3 [] [] 3\n",
      "3 3 ['GILGFVFTL' 'YVLDHLIVV'] ['RPPIFIRRL' 'TPRVTGGGAM'] 3\n",
      "3 3 ['NLVPMVATV' 'RPPIFIRRL' 'TPRVTGGGAM'] ['IVTDFSVIK' 'RAKFKQLL' 'YLQPRTFLL'] 3\n",
      "3 3 ['RAKFKQLL' 'YLQPRTFLL'] ['GILGFVFTL' 'YVLDHLIVV'] 3\n",
      "3 3 ['GILGFVFTL' 'YVLDHLIVV'] ['NLVPMVATV' 'RAKFKQLL'] 3\n",
      "3 3 ['IVTDFSVIK' 'NLVPMVATV'] ['GILGFVFTL' 'GLCTLVAML'] 3\n",
      "3 3 ['GLCTLVAML' 'RAKFKQLL'] ['IVTDFSVIK' 'NLVPMVATV'] 3\n",
      "3 3 ['IVTDFSVIK'] ['RAKFKQLL'] 3\n",
      "3 3 ['NLVPMVATV' 'RAKFKQLL'] ['GLCTLVAML' 'YLQPRTFLL'] 3\n",
      "3 3 ['GILGFVFTL'] ['RAKFKQLL'] 3\n",
      "3 3 ['RAKFKQLL' 'YLQPRTFLL'] ['GILGFVFTL' 'IVTDFSVIK'] 3\n",
      "3 3 ['IVTDFSVIK'] ['NLVPMVATV'] 3\n",
      "3 3 ['GLCTLVAML' 'NLVPMVATV'] ['IVTDFSVIK' 'YVLDHLIVV'] 3\n",
      "3 3 ['IVTDFSVIK' 'YVLDHLIVV'] ['GLCTLVAML' 'VTEHDTLLY'] 3\n",
      "3 3 ['GLCTLVAML' 'VTEHDTLLY'] ['RAKFKQLL' 'RPHERNGFTVL'] 3\n",
      "3 3 ['GILGFVFTL' 'RAKFKQLL' 'RPHERNGFTVL'] ['IVTDFSVIK' 'VTEHDTLLY' 'YLQPRTFLL'] 3\n",
      "3 3 ['VTEHDTLLY' 'YLQPRTFLL'] ['GILGFVFTL' 'RPHERNGFTVL'] 3\n",
      "3 3 ['RPHERNGFTVL'] ['RAKFKQLL'] 3\n",
      "3 3 ['RAKFKQLL'] ['NLVPMVATV'] 3\n",
      "3 3 ['GILGFVFTL' 'IVTDFSVIK'] ['YLQPRTFLL' 'YVLDHLIVV'] 3\n",
      "3 3 ['YLQPRTFLL' 'YVLDHLIVV'] ['RAKFKQLL' 'RPHERNGFTVL'] 3\n",
      "3 3 ['NLVPMVATV' 'RAKFKQLL' 'RPHERNGFTVL'] ['GILGFVFTL' 'GLCTLVAML' 'YLQPRTFLL'] 3\n",
      "3 3 ['GILGFVFTL' 'YLQPRTFLL'] ['NLVPMVATV' 'RAKFKQLL'] 3\n",
      "3 3 ['NLVPMVATV'] ['VTEHDTLLY'] 3\n",
      "3 3 ['VTEHDTLLY'] ['NLVPMVATV'] 3\n",
      "3 3 [] [] 3\n",
      "3 3 ['GLCTLVAML' 'RAKFKQLL'] ['IVTDFSVIK' 'YVLDHLIVV'] 3\n",
      "3 3 ['NLVPMVATV' 'YVLDHLIVV'] ['GILGFVFTL' 'RPHERNGFTVL'] 3\n",
      "3 3 ['IVTDFSVIK' 'RPHERNGFTVL'] ['GLCTLVAML' 'RAKFKQLL'] 3\n",
      "3 3 ['GLCTLVAML' 'RAKFKQLL'] ['NLVPMVATV' 'TPRVTGGGAM'] 3\n",
      "3 3 ['NLVPMVATV' 'TPRVTGGGAM'] ['IVTDFSVIK' 'RPHERNGFTVL'] 3\n",
      "3 3 ['RPHERNGFTVL'] ['NLVPMVATV'] 3\n",
      "3 3 ['IVTDFSVIK'] ['RPHERNGFTVL'] 3\n",
      "3 3 ['NLVPMVATV' 'RPHERNGFTVL'] ['RAKFKQLL' 'TPRVTGGGAM'] 3\n",
      "3 3 ['GILGFVFTL' 'TPRVTGGGAM'] ['IVTDFSVIK' 'NLVPMVATV'] 3\n",
      "3 3 ['NLVPMVATV' 'RAKFKQLL'] ['GILGFVFTL' 'GLCTLVAML'] 3\n",
      "3 3 ['GILGFVFTL' 'IVTDFSVIK'] ['RAKFKQLL' 'TPRVTGGGAM'] 3\n",
      "3 3 ['GLCTLVAML' 'RAKFKQLL'] ['GILGFVFTL' 'RPPIFIRRL'] 3\n",
      "3 3 ['RPPIFIRRL' 'TPRVTGGGAM'] ['GLCTLVAML' 'NLVPMVATV'] 3\n",
      "3 3 ['GLCTLVAML' 'NLVPMVATV'] ['RAKFKQLL' 'VTEHDTLLY'] 3\n",
      "3 3 ['VTEHDTLLY'] ['NLVPMVATV'] 3\n",
      "3 3 ['NLVPMVATV' 'RAKFKQLL'] ['TPRVTGGGAM' 'VTEHDTLLY'] 3\n",
      "3 3 ['VTEHDTLLY'] ['RAKFKQLL'] 3\n",
      "3 3 ['RAKFKQLL' 'TPRVTGGGAM'] ['IVTDFSVIK' 'RPPIFIRRL'] 3\n",
      "3 3 ['IVTDFSVIK'] ['GLCTLVAML'] 3\n",
      "3 3 ['RPPIFIRRL'] ['RAKFKQLL'] 3\n",
      "3 3 ['GLCTLVAML'] ['YLQPRTFLL'] 3\n",
      "3 3 ['YLQPRTFLL'] ['YVLDHLIVV'] 3\n",
      "3 3 ['GILGFVFTL' 'RAKFKQLL'] ['GLCTLVAML' 'VTEHDTLLY'] 3\n",
      "3 3 ['GLCTLVAML' 'VTEHDTLLY' 'YVLDHLIVV'] ['GILGFVFTL' 'NLVPMVATV' 'RAKFKQLL'] 3\n",
      "3 3 ['NLVPMVATV' 'RAKFKQLL'] ['TPRVTGGGAM' 'VTEHDTLLY'] 3\n",
      "3 3 ['TPRVTGGGAM' 'VTEHDTLLY'] ['GLCTLVAML' 'RAKFKQLL'] 3\n",
      "3 3 ['GLCTLVAML' 'RAKFKQLL'] ['IVTDFSVIK' 'NLVPMVATV'] 3\n",
      "3 3 ['IVTDFSVIK' 'NLVPMVATV'] ['RAKFKQLL' 'VTEHDTLLY'] 3\n",
      "3 3 ['RAKFKQLL' 'VTEHDTLLY'] ['IVTDFSVIK' 'TPRVTGGGAM'] 3\n",
      "3 3 ['IVTDFSVIK' 'TPRVTGGGAM'] ['GLCTLVAML' 'YVLDHLIVV'] 3\n",
      "3 3 ['GLCTLVAML' 'YVLDHLIVV'] ['IVTDFSVIK' 'RPHERNGFTVL'] 3\n",
      "3 3 ['IVTDFSVIK' 'RPHERNGFTVL'] ['NLVPMVATV' 'RAKFKQLL'] 3\n",
      "3 3 ['NLVPMVATV'] ['IVTDFSVIK'] 3\n",
      "3 3 ['IVTDFSVIK'] ['NLVPMVATV'] 3\n",
      "3 3 ['NLVPMVATV' 'RAKFKQLL'] ['GLCTLVAML' 'YVLDHLIVV'] 3\n",
      "3 3 ['YVLDHLIVV'] ['NLVPMVATV'] 3\n",
      "3 3 ['GLCTLVAML' 'NLVPMVATV'] ['RPHERNGFTVL' 'YVLDHLIVV'] 3\n",
      "3 3 ['RPHERNGFTVL' 'YVLDHLIVV'] ['GLCTLVAML' 'NLVPMVATV'] 3\n",
      "3 3 ['GILGFVFTL' 'GLCTLVAML'] ['IVTDFSVIK' 'RAKFKQLL'] 3\n",
      "3 3 ['NLVPMVATV'] ['YVLDHLIVV'] 3\n",
      "3 3 ['RAKFKQLL' 'YVLDHLIVV'] ['GILGFVFTL' 'GLCTLVAML'] 3\n",
      "3 3 ['GILGFVFTL' 'GLCTLVAML'] ['RAKFKQLL' 'YLQPRTFLL'] 3\n",
      "3 3 ['IVTDFSVIK' 'RAKFKQLL'] ['NLVPMVATV' 'VTEHDTLLY'] 3\n",
      "3 3 ['NLVPMVATV' 'VTEHDTLLY' 'YLQPRTFLL'] ['GILGFVFTL' 'IVTDFSVIK' 'RPPIFIRRL'] 3\n",
      "3 3 ['IVTDFSVIK' 'RPPIFIRRL'] ['NLVPMVATV' 'TPRVTGGGAM'] 3\n",
      "3 3 ['GILGFVFTL' 'NLVPMVATV' 'TPRVTGGGAM'] ['GLCTLVAML' 'RPPIFIRRL' 'YLQPRTFLL'] 3\n",
      "3 3 ['GLCTLVAML' 'RPPIFIRRL'] ['IVTDFSVIK' 'TPRVTGGGAM'] 3\n",
      "3 3 ['IVTDFSVIK' 'YLQPRTFLL'] ['RAKFKQLL' 'RPPIFIRRL'] 3\n",
      "3 3 ['RAKFKQLL' 'TPRVTGGGAM'] ['NLVPMVATV' 'YVLDHLIVV'] 3\n",
      "3 3 ['NLVPMVATV' 'RPPIFIRRL' 'YVLDHLIVV'] ['GILGFVFTL' 'IVTDFSVIK' 'RAKFKQLL'] 3\n",
      "3 3 ['IVTDFSVIK' 'RAKFKQLL'] ['RPPIFIRRL' 'TPRVTGGGAM'] 3\n",
      "3 3 ['RPPIFIRRL' 'TPRVTGGGAM'] ['RAKFKQLL' 'RPHERNGFTVL'] 3\n",
      "3 3 ['GILGFVFTL'] ['IVTDFSVIK'] 3\n",
      "3 3 ['IVTDFSVIK' 'RAKFKQLL' 'RPHERNGFTVL'] ['NLVPMVATV' 'RPPIFIRRL' 'VTEHDTLLY'] 3\n",
      "3 3 ['NLVPMVATV' 'RPPIFIRRL' 'VTEHDTLLY'] ['GILGFVFTL' 'TPRVTGGGAM' 'YLQPRTFLL'] 3\n",
      "3 3 ['GILGFVFTL' 'YLQPRTFLL'] ['NLVPMVATV' 'YVLDHLIVV'] 3\n",
      "3 3 ['TPRVTGGGAM' 'YVLDHLIVV'] ['RAKFKQLL' 'VTEHDTLLY'] 3\n",
      "3 3 ['NLVPMVATV' 'RAKFKQLL' 'VTEHDTLLY'] ['GLCTLVAML' 'RPPIFIRRL' 'TPRVTGGGAM'] 3\n",
      "3 3 ['GLCTLVAML' 'TPRVTGGGAM'] ['IVTDFSVIK' 'RAKFKQLL'] 3\n",
      "3 3 ['RPPIFIRRL'] ['VTEHDTLLY'] 3\n",
      "3 3 [] [] 3\n",
      "3 3 ['VTEHDTLLY'] ['YVLDHLIVV'] 3\n",
      "3 3 ['IVTDFSVIK' 'YVLDHLIVV'] ['GILGFVFTL' 'NLVPMVATV'] 3\n",
      "3 3 ['RAKFKQLL'] ['RPHERNGFTVL'] 3\n",
      "3 3 ['NLVPMVATV' 'RPHERNGFTVL'] ['GLCTLVAML' 'RAKFKQLL'] 3\n",
      "3 3 ['GLCTLVAML'] ['TPRVTGGGAM'] 3\n",
      "3 3 ['GILGFVFTL' 'TPRVTGGGAM'] ['GLCTLVAML' 'NLVPMVATV'] 3\n",
      "3 3 ['NLVPMVATV'] ['GILGFVFTL'] 3\n",
      "3 3 ['GILGFVFTL' 'GLCTLVAML'] ['NLVPMVATV' 'YLQPRTFLL'] 3\n",
      "3 3 ['NLVPMVATV' 'YLQPRTFLL'] ['IVTDFSVIK' 'YVLDHLIVV'] 3\n",
      "3 3 ['IVTDFSVIK' 'RAKFKQLL' 'YVLDHLIVV'] ['NLVPMVATV' 'TPRVTGGGAM' 'VTEHDTLLY'] 3\n",
      "3 3 ['NLVPMVATV'] ['YVLDHLIVV'] 3\n",
      "3 2 ['TPRVTGGGAM' 'VTEHDTLLY' 'YVLDHLIVV'] ['GILGFVFTL' 'GLCTLVAML'] 2\n",
      "2 2 ['GILGFVFTL' 'GLCTLVAML'] ['IVTDFSVIK' 'YLQPRTFLL'] 2\n",
      "2 2 ['YLQPRTFLL'] ['RPPIFIRRL'] 2\n",
      "2 2 ['IVTDFSVIK' 'RPPIFIRRL'] ['GILGFVFTL' 'RPHERNGFTVL'] 2\n",
      "2 2 ['GILGFVFTL' 'RPHERNGFTVL'] ['IVTDFSVIK' 'YLQPRTFLL'] 2\n",
      "2 2 ['IVTDFSVIK' 'YLQPRTFLL'] ['GLCTLVAML' 'NLVPMVATV'] 2\n",
      "2 2 ['GLCTLVAML' 'NLVPMVATV'] ['GILGFVFTL' 'RAKFKQLL'] 2\n",
      "2 2 ['RAKFKQLL'] ['NLVPMVATV'] 2\n",
      "2 2 ['NLVPMVATV'] ['RAKFKQLL'] 2\n",
      "2 2 ['RAKFKQLL'] ['TPRVTGGGAM'] 2\n",
      "2 2 ['GILGFVFTL' 'TPRVTGGGAM'] ['RAKFKQLL' 'YLQPRTFLL'] 2\n",
      "2 2 [] [] 2\n",
      "2 2 [] [] 2\n",
      "2 2 ['RAKFKQLL'] ['GILGFVFTL'] 2\n",
      "2 2 ['YLQPRTFLL'] ['NLVPMVATV'] 2\n",
      "2 2 ['NLVPMVATV'] ['RPPIFIRRL'] 2\n",
      "2 2 ['GILGFVFTL' 'RPPIFIRRL'] ['GLCTLVAML' 'IVTDFSVIK'] 2\n",
      "2 2 ['GLCTLVAML' 'IVTDFSVIK'] ['GILGFVFTL' 'RPPIFIRRL'] 2\n",
      "2 2 ['RPPIFIRRL'] ['YVLDHLIVV'] 2\n",
      "2 2 [] [] 2\n",
      "2 2 ['YVLDHLIVV'] ['RPPIFIRRL'] 2\n",
      "2 2 ['GILGFVFTL' 'RPPIFIRRL'] ['IVTDFSVIK' 'RPHERNGFTVL'] 2\n",
      "2 2 ['IVTDFSVIK' 'RPHERNGFTVL'] ['GILGFVFTL' 'NLVPMVATV'] 2\n",
      "2 2 ['NLVPMVATV'] ['RAKFKQLL'] 2\n",
      "2 2 ['GILGFVFTL' 'RAKFKQLL'] ['IVTDFSVIK' 'YLQPRTFLL'] 2\n",
      "2 2 ['IVTDFSVIK' 'YLQPRTFLL'] ['GILGFVFTL' 'GLCTLVAML'] 2\n",
      "2 2 ['GILGFVFTL'] ['RAKFKQLL'] 2\n",
      "2 2 ['RAKFKQLL'] ['GILGFVFTL'] 2\n",
      "2 2 [] [] 2\n",
      "2 2 ['GLCTLVAML'] ['RPPIFIRRL'] 2\n",
      "2 2 ['GILGFVFTL' 'RPPIFIRRL'] ['YLQPRTFLL' 'YVLDHLIVV'] 2\n",
      "2 2 ['YLQPRTFLL' 'YVLDHLIVV'] ['IVTDFSVIK' 'RAKFKQLL'] 2\n",
      "2 2 ['RAKFKQLL'] ['GILGFVFTL'] 2\n",
      "2 2 ['GILGFVFTL' 'IVTDFSVIK'] ['RAKFKQLL' 'RPPIFIRRL'] 2\n",
      "2 2 ['RAKFKQLL' 'RPPIFIRRL'] ['IVTDFSVIK' 'TPRVTGGGAM'] 2\n",
      "2 2 ['IVTDFSVIK' 'TPRVTGGGAM'] ['GILGFVFTL' 'VTEHDTLLY'] 2\n",
      "2 2 [] [] 2\n",
      "2 2 ['VTEHDTLLY'] ['IVTDFSVIK'] 2\n",
      "2 2 ['IVTDFSVIK'] ['YLQPRTFLL'] 2\n",
      "2 2 ['YLQPRTFLL'] ['IVTDFSVIK'] 2\n",
      "2 2 ['GILGFVFTL' 'IVTDFSVIK'] ['GLCTLVAML' 'RAKFKQLL'] 2\n",
      "2 2 ['RAKFKQLL'] ['GILGFVFTL'] 2\n",
      "2 2 [] [] 2\n",
      "2 2 ['GILGFVFTL' 'GLCTLVAML'] ['RAKFKQLL' 'YVLDHLIVV'] 2\n",
      "2 2 ['RAKFKQLL'] ['IVTDFSVIK'] 2\n",
      "2 2 ['IVTDFSVIK' 'YVLDHLIVV'] ['GILGFVFTL' 'RAKFKQLL'] 2\n",
      "2 2 ['RAKFKQLL'] ['GLCTLVAML'] 2\n",
      "2 2 ['GILGFVFTL' 'GLCTLVAML'] ['NLVPMVATV' 'RPHERNGFTVL'] 2\n",
      "2 2 ['NLVPMVATV' 'RPHERNGFTVL'] ['GILGFVFTL' 'IVTDFSVIK'] 2\n",
      "2 2 ['GILGFVFTL' 'IVTDFSVIK'] ['RAKFKQLL' 'YVLDHLIVV'] 2\n",
      "2 2 ['RAKFKQLL' 'YVLDHLIVV'] ['GILGFVFTL' 'IVTDFSVIK'] 2\n",
      "2 2 ['IVTDFSVIK'] ['RAKFKQLL'] 2\n",
      "2 2 [] [] 2\n",
      "2 2 [] [] 2\n",
      "2 2 ['RAKFKQLL'] ['IVTDFSVIK'] 2\n",
      "2 2 ['IVTDFSVIK'] ['RAKFKQLL'] 2\n",
      "2 2 [] [] 2\n",
      "2 2 ['GILGFVFTL' 'RAKFKQLL'] ['GLCTLVAML' 'IVTDFSVIK'] 2\n",
      "2 2 ['GLCTLVAML' 'IVTDFSVIK'] ['GILGFVFTL' 'YLQPRTFLL'] 2\n",
      "2 2 ['YLQPRTFLL'] ['RPPIFIRRL'] 2\n",
      "2 2 ['RPPIFIRRL'] ['NLVPMVATV'] 2\n",
      "2 2 ['GILGFVFTL' 'NLVPMVATV'] ['RAKFKQLL' 'VTEHDTLLY'] 2\n",
      "2 2 ['RAKFKQLL' 'VTEHDTLLY'] ['GILGFVFTL' 'YLQPRTFLL'] 2\n",
      "2 2 ['YLQPRTFLL'] ['YVLDHLIVV'] 2\n",
      "2 2 ['GILGFVFTL' 'YVLDHLIVV'] ['IVTDFSVIK' 'RPHERNGFTVL'] 2\n",
      "2 2 ['IVTDFSVIK' 'RPHERNGFTVL'] ['RPPIFIRRL' 'VTEHDTLLY'] 2\n",
      "2 2 ['RPPIFIRRL'] ['GILGFVFTL'] 2\n",
      "2 2 ['VTEHDTLLY'] ['IVTDFSVIK'] 2\n",
      "2 2 ['GILGFVFTL'] ['RPHERNGFTVL'] 2\n",
      "2 2 ['RPHERNGFTVL'] ['TPRVTGGGAM'] 2\n",
      "2 2 ['IVTDFSVIK'] ['GILGFVFTL'] 2\n",
      "2 2 [] [] 2\n",
      "2 2 [] [] 2\n",
      "2 2 ['TPRVTGGGAM'] ['RPPIFIRRL'] 2\n",
      "2 2 ['RPPIFIRRL'] ['GLCTLVAML'] 2\n",
      "2 2 ['GILGFVFTL' 'GLCTLVAML'] ['RAKFKQLL' 'TPRVTGGGAM'] 2\n",
      "2 2 ['RAKFKQLL'] ['VTEHDTLLY'] 2\n",
      "2 2 ['VTEHDTLLY'] ['RAKFKQLL'] 2\n",
      "2 2 ['TPRVTGGGAM'] ['GILGFVFTL'] 2\n",
      "2 2 ['GILGFVFTL' 'RAKFKQLL'] ['NLVPMVATV' 'RPHERNGFTVL'] 2\n",
      "2 2 ['NLVPMVATV' 'RPHERNGFTVL'] ['RAKFKQLL' 'YVLDHLIVV'] 2\n",
      "2 2 ['RAKFKQLL'] ['GILGFVFTL'] 2\n",
      "2 2 ['YVLDHLIVV'] ['IVTDFSVIK'] 2\n",
      "2 2 ['GILGFVFTL'] ['YLQPRTFLL'] 2\n",
      "2 2 ['IVTDFSVIK' 'YLQPRTFLL'] ['RPPIFIRRL' 'TPRVTGGGAM'] 2\n",
      "2 2 ['RPPIFIRRL'] ['YLQPRTFLL'] 2\n",
      "2 2 ['TPRVTGGGAM' 'YLQPRTFLL'] ['GILGFVFTL' 'VTEHDTLLY'] 2\n",
      "2 2 ['GILGFVFTL' 'VTEHDTLLY'] ['NLVPMVATV' 'RAKFKQLL'] 2\n",
      "2 2 [] [] 2\n",
      "2 2 ['RAKFKQLL'] ['GILGFVFTL'] 2\n",
      "2 2 ['GILGFVFTL' 'NLVPMVATV'] ['IVTDFSVIK' 'YVLDHLIVV'] 2\n",
      "2 2 ['YVLDHLIVV'] ['RAKFKQLL'] 2\n",
      "2 2 ['RAKFKQLL'] ['GILGFVFTL'] 2\n",
      "2 2 ['GILGFVFTL'] ['RAKFKQLL'] 2\n",
      "2 2 [] [] 2\n",
      "2 2 [] [] 2\n",
      "2 2 ['IVTDFSVIK'] ['NLVPMVATV'] 2\n",
      "2 2 ['RAKFKQLL'] ['RPPIFIRRL'] 2\n",
      "2 2 ['NLVPMVATV' 'RPPIFIRRL'] ['GILGFVFTL' 'RAKFKQLL'] 2\n",
      "2 2 ['RAKFKQLL'] ['NLVPMVATV'] 2\n",
      "2 2 ['GILGFVFTL'] ['RAKFKQLL'] 2\n",
      "2 2 ['NLVPMVATV'] ['GILGFVFTL'] 2\n",
      "2 2 ['RAKFKQLL'] ['NLVPMVATV'] 2\n",
      "2 2 ['GILGFVFTL' 'NLVPMVATV'] ['RAKFKQLL' 'TPRVTGGGAM'] 2\n",
      "2 2 ['TPRVTGGGAM'] ['YVLDHLIVV'] 2\n",
      "2 2 ['RAKFKQLL'] ['IVTDFSVIK'] 2\n",
      "2 2 ['YVLDHLIVV'] ['RAKFKQLL'] 2\n",
      "2 2 ['IVTDFSVIK'] ['GILGFVFTL'] 2\n",
      "2 2 ['GILGFVFTL' 'RAKFKQLL'] ['NLVPMVATV' 'YVLDHLIVV'] 2\n",
      "2 2 ['NLVPMVATV' 'YVLDHLIVV'] ['GILGFVFTL' 'RAKFKQLL'] 2\n",
      "2 2 ['GILGFVFTL' 'RAKFKQLL'] ['GLCTLVAML' 'IVTDFSVIK'] 2\n",
      "2 2 ['GLCTLVAML'] ['TPRVTGGGAM'] 2\n",
      "2 2 ['TPRVTGGGAM'] ['RAKFKQLL'] 2\n",
      "2 2 ['RAKFKQLL'] ['YVLDHLIVV'] 2\n",
      "2 2 ['IVTDFSVIK' 'YVLDHLIVV'] ['GILGFVFTL' 'GLCTLVAML'] 2\n",
      "2 2 ['GLCTLVAML'] ['RAKFKQLL'] 2\n",
      "2 2 ['GILGFVFTL'] ['RPHERNGFTVL'] 2\n",
      "2 2 ['RAKFKQLL'] ['GILGFVFTL'] 2\n",
      "2 2 ['GILGFVFTL' 'RPHERNGFTVL'] ['GLCTLVAML' 'RPPIFIRRL'] 2\n",
      "2 2 ['GLCTLVAML'] ['RAKFKQLL'] 2\n",
      "2 2 ['RPPIFIRRL'] ['TPRVTGGGAM'] 2\n",
      "2 2 ['RAKFKQLL' 'TPRVTGGGAM'] ['GILGFVFTL' 'IVTDFSVIK'] 2\n",
      "2 2 ['GILGFVFTL' 'IVTDFSVIK'] ['RPHERNGFTVL' 'YVLDHLIVV'] 2\n",
      "2 2 ['RPHERNGFTVL' 'YVLDHLIVV'] ['GLCTLVAML' 'RAKFKQLL'] 2\n",
      "2 2 ['GLCTLVAML' 'RAKFKQLL'] ['GILGFVFTL' 'RPHERNGFTVL'] 2\n",
      "2 2 ['GILGFVFTL'] ['RAKFKQLL'] 2\n",
      "2 2 ['RPHERNGFTVL'] ['GILGFVFTL'] 2\n",
      "2 2 ['RAKFKQLL'] ['GLCTLVAML'] 2\n",
      "2 2 ['GLCTLVAML'] ['YLQPRTFLL'] 2\n",
      "2 2 ['YLQPRTFLL'] ['IVTDFSVIK'] 2\n",
      "2 2 ['IVTDFSVIK'] ['NLVPMVATV'] 2\n",
      "2 2 ['GILGFVFTL' 'NLVPMVATV'] ['IVTDFSVIK' 'RPHERNGFTVL'] 2\n",
      "2 2 ['IVTDFSVIK' 'RPHERNGFTVL'] ['GILGFVFTL' 'YVLDHLIVV'] 2\n",
      "2 2 ['GILGFVFTL' 'YVLDHLIVV'] ['IVTDFSVIK' 'TPRVTGGGAM'] 2\n",
      "2 2 ['TPRVTGGGAM'] ['NLVPMVATV'] 2\n",
      "2 2 ['IVTDFSVIK' 'NLVPMVATV'] ['RAKFKQLL' 'TPRVTGGGAM'] 2\n",
      "2 2 ['RAKFKQLL' 'TPRVTGGGAM'] ['GILGFVFTL' 'GLCTLVAML'] 2\n",
      "2 2 ['GILGFVFTL'] ['IVTDFSVIK'] 2\n",
      "2 2 ['GLCTLVAML' 'IVTDFSVIK'] ['GILGFVFTL' 'YVLDHLIVV'] 2\n",
      "2 1 ['GILGFVFTL' 'YVLDHLIVV'] ['RAKFKQLL'] 1\n",
      "1 1 [] [] 1\n",
      "1 1 ['RAKFKQLL'] ['IVTDFSVIK'] 1\n",
      "1 1 ['IVTDFSVIK'] ['YVLDHLIVV'] 1\n",
      "1 1 ['YVLDHLIVV'] ['RAKFKQLL'] 1\n",
      "1 1 ['RAKFKQLL'] ['GLCTLVAML'] 1\n",
      "1 1 ['GLCTLVAML'] ['IVTDFSVIK'] 1\n",
      "1 1 ['IVTDFSVIK'] ['RPPIFIRRL'] 1\n",
      "1 1 ['RPPIFIRRL'] ['RAKFKQLL'] 1\n",
      "1 1 ['RAKFKQLL'] ['TPRVTGGGAM'] 1\n",
      "1 1 ['TPRVTGGGAM'] ['GILGFVFTL'] 1\n",
      "1 1 ['GILGFVFTL'] ['IVTDFSVIK'] 1\n",
      "1 1 ['IVTDFSVIK'] ['GLCTLVAML'] 1\n",
      "1 1 ['GLCTLVAML'] ['RAKFKQLL'] 1\n",
      "1 1 ['RAKFKQLL'] ['GILGFVFTL'] 1\n",
      "1 1 ['GILGFVFTL'] ['IVTDFSVIK'] 1\n",
      "1 1 ['IVTDFSVIK'] ['GILGFVFTL'] 1\n",
      "1 1 [] [] 1\n",
      "1 1 ['GILGFVFTL'] ['NLVPMVATV'] 1\n",
      "1 1 ['NLVPMVATV'] ['RPPIFIRRL'] 1\n",
      "1 1 ['RPPIFIRRL'] ['GILGFVFTL'] 1\n",
      "1 1 [] [] 1\n",
      "1 1 [] [] 1\n",
      "1 1 ['GILGFVFTL'] ['VTEHDTLLY'] 1\n",
      "1 1 ['VTEHDTLLY'] ['IVTDFSVIK'] 1\n",
      "1 1 ['IVTDFSVIK'] ['NLVPMVATV'] 1\n",
      "1 1 ['NLVPMVATV'] ['RPPIFIRRL'] 1\n",
      "1 1 ['RPPIFIRRL'] ['YVLDHLIVV'] 1\n",
      "1 1 ['YVLDHLIVV'] ['IVTDFSVIK'] 1\n",
      "1 1 ['IVTDFSVIK'] ['NLVPMVATV'] 1\n",
      "1 1 ['NLVPMVATV'] ['GILGFVFTL'] 1\n",
      "1 1 ['GILGFVFTL'] ['RAKFKQLL'] 1\n",
      "1 1 ['RAKFKQLL'] ['GILGFVFTL'] 1\n",
      "1 1 [] [] 1\n",
      "1 1 [] [] 1\n",
      "1 1 ['GILGFVFTL'] ['GLCTLVAML'] 1\n",
      "1 1 ['GLCTLVAML'] ['GILGFVFTL'] 1\n",
      "1 1 [] [] 1\n",
      "1 1 [] [] 1\n",
      "1 1 ['GILGFVFTL'] ['IVTDFSVIK'] 1\n",
      "1 1 ['IVTDFSVIK'] ['VTEHDTLLY'] 1\n",
      "1 1 ['VTEHDTLLY'] ['GLCTLVAML'] 1\n",
      "1 1 ['GLCTLVAML'] ['IVTDFSVIK'] 1\n",
      "1 1 [] [] 1\n",
      "1 1 ['IVTDFSVIK'] ['TPRVTGGGAM'] 1\n",
      "1 1 ['TPRVTGGGAM'] ['GLCTLVAML'] 1\n",
      "1 1 ['GLCTLVAML'] ['RAKFKQLL'] 1\n",
      "1 1 ['RAKFKQLL'] ['GILGFVFTL'] 1\n",
      "1 1 ['GILGFVFTL'] ['RAKFKQLL'] 1\n",
      "1 1 ['RAKFKQLL'] ['YLQPRTFLL'] 1\n",
      "1 1 ['YLQPRTFLL'] ['NLVPMVATV'] 1\n",
      "1 1 ['NLVPMVATV'] ['RAKFKQLL'] 1\n",
      "1 1 ['RAKFKQLL'] ['YLQPRTFLL'] 1\n",
      "1 1 ['YLQPRTFLL'] ['RPPIFIRRL'] 1\n",
      "1 1 [] [] 1\n",
      "1 1 ['RPPIFIRRL'] ['GLCTLVAML'] 1\n",
      "1 1 ['GLCTLVAML'] ['GILGFVFTL'] 1\n",
      "1 1 [] [] 1\n",
      "1 1 ['GILGFVFTL'] ['YLQPRTFLL'] 1\n",
      "1 1 ['YLQPRTFLL'] ['GILGFVFTL'] 1\n",
      "1 1 ['GILGFVFTL'] ['RAKFKQLL'] 1\n",
      "1 1 ['RAKFKQLL'] ['GLCTLVAML'] 1\n",
      "1 1 ['GLCTLVAML'] ['GILGFVFTL'] 1\n",
      "1 1 ['GILGFVFTL'] ['IVTDFSVIK'] 1\n",
      "1 1 ['IVTDFSVIK'] ['RAKFKQLL'] 1\n",
      "1 1 ['RAKFKQLL'] ['RPPIFIRRL'] 1\n",
      "1 1 ['RPPIFIRRL'] ['RAKFKQLL'] 1\n",
      "1 1 ['RAKFKQLL'] ['YLQPRTFLL'] 1\n",
      "1 1 ['YLQPRTFLL'] ['RAKFKQLL'] 1\n",
      "1 1 ['RAKFKQLL'] ['GILGFVFTL'] 1\n",
      "1 1 ['GILGFVFTL'] ['IVTDFSVIK'] 1\n",
      "1 1 ['IVTDFSVIK'] ['YLQPRTFLL'] 1\n",
      "1 1 [] [] 1\n",
      "1 1 ['YLQPRTFLL'] ['IVTDFSVIK'] 1\n",
      "1 1 ['IVTDFSVIK'] ['YLQPRTFLL'] 1\n",
      "1 1 [] [] 1\n",
      "1 1 ['YLQPRTFLL'] ['RAKFKQLL'] 1\n",
      "1 1 ['RAKFKQLL'] ['YLQPRTFLL'] 1\n",
      "1 1 ['YLQPRTFLL'] ['RPHERNGFTVL'] 1\n",
      "1 1 ['RPHERNGFTVL'] ['GILGFVFTL'] 1\n",
      "1 1 [] [] 1\n",
      "1 1 [] [] 1\n",
      "1 1 ['GILGFVFTL'] ['IVTDFSVIK'] 1\n",
      "1 1 ['IVTDFSVIK'] ['RAKFKQLL'] 1\n",
      "1 1 ['RAKFKQLL'] ['GILGFVFTL'] 1\n",
      "1 1 [] [] 1\n",
      "1 1 ['GILGFVFTL'] ['RAKFKQLL'] 1\n",
      "1 1 ['RAKFKQLL'] ['GILGFVFTL'] 1\n",
      "1 1 ['GILGFVFTL'] ['GLCTLVAML'] 1\n",
      "1 1 [] [] 1\n",
      "1 1 ['GLCTLVAML'] ['RPHERNGFTVL'] 1\n",
      "1 1 ['RPHERNGFTVL'] ['RAKFKQLL'] 1\n",
      "1 1 ['RAKFKQLL'] ['GILGFVFTL'] 1\n",
      "1 1 ['GILGFVFTL'] ['RPPIFIRRL'] 1\n",
      "1 1 ['RPPIFIRRL'] ['TPRVTGGGAM'] 1\n",
      "1 1 ['TPRVTGGGAM'] ['IVTDFSVIK'] 1\n",
      "1 1 ['IVTDFSVIK'] ['GILGFVFTL'] 1\n",
      "1 1 ['GILGFVFTL'] ['NLVPMVATV'] 1\n",
      "1 1 ['NLVPMVATV'] ['TPRVTGGGAM'] 1\n",
      "1 1 ['TPRVTGGGAM'] ['RAKFKQLL'] 1\n",
      "1 1 ['RAKFKQLL'] ['GILGFVFTL'] 1\n",
      "1 1 [] [] 1\n",
      "1 1 ['GILGFVFTL'] ['IVTDFSVIK'] 1\n",
      "1 1 ['IVTDFSVIK'] ['YLQPRTFLL'] 1\n",
      "1 1 ['YLQPRTFLL'] ['IVTDFSVIK'] 1\n",
      "1 1 ['IVTDFSVIK'] ['YLQPRTFLL'] 1\n",
      "1 1 ['YLQPRTFLL'] ['NLVPMVATV'] 1\n",
      "1 1 ['NLVPMVATV'] ['RAKFKQLL'] 1\n",
      "1 1 ['RAKFKQLL'] ['NLVPMVATV'] 1\n",
      "1 1 ['NLVPMVATV'] ['GILGFVFTL'] 1\n",
      "1 1 ['GILGFVFTL'] ['IVTDFSVIK'] 1\n",
      "1 1 ['IVTDFSVIK'] ['RAKFKQLL'] 1\n",
      "1 1 ['RAKFKQLL'] ['GILGFVFTL'] 1\n",
      "1 1 ['GILGFVFTL'] ['YLQPRTFLL'] 1\n",
      "1 1 ['YLQPRTFLL'] ['GLCTLVAML'] 1\n",
      "1 1 ['GLCTLVAML'] ['YLQPRTFLL'] 1\n",
      "1 1 ['YLQPRTFLL'] ['RAKFKQLL'] 1\n",
      "1 1 ['RAKFKQLL'] ['GILGFVFTL'] 1\n",
      "1 1 [] [] 1\n",
      "1 1 ['GILGFVFTL'] ['RAKFKQLL'] 1\n",
      "1 1 ['RAKFKQLL'] ['GLCTLVAML'] 1\n",
      "1 1 [] [] 1\n",
      "1 1 ['GLCTLVAML'] ['YLQPRTFLL'] 1\n",
      "1 1 ['YLQPRTFLL'] ['TPRVTGGGAM'] 1\n",
      "1 1 ['TPRVTGGGAM'] ['NLVPMVATV'] 1\n",
      "1 1 ['NLVPMVATV'] ['IVTDFSVIK'] 1\n",
      "1 1 ['IVTDFSVIK'] ['NLVPMVATV'] 1\n",
      "1 1 ['NLVPMVATV'] ['RAKFKQLL'] 1\n",
      "1 1 ['RAKFKQLL'] ['IVTDFSVIK'] 1\n",
      "1 1 ['IVTDFSVIK'] ['RAKFKQLL'] 1\n",
      "1 1 [] [] 1\n",
      "1 1 ['RAKFKQLL'] ['NLVPMVATV'] 1\n",
      "1 1 ['NLVPMVATV'] ['YVLDHLIVV'] 1\n",
      "1 1 ['YVLDHLIVV'] ['NLVPMVATV'] 1\n",
      "1 1 ['NLVPMVATV'] ['VTEHDTLLY'] 1\n",
      "1 1 ['VTEHDTLLY'] ['IVTDFSVIK'] 1\n",
      "1 1 [] [] 1\n",
      "1 1 ['IVTDFSVIK'] ['GILGFVFTL'] 1\n",
      "1 1 ['GILGFVFTL'] ['YLQPRTFLL'] 1\n",
      "1 1 ['YLQPRTFLL'] ['TPRVTGGGAM'] 1\n",
      "1 1 ['TPRVTGGGAM'] ['RPHERNGFTVL'] 1\n",
      "1 1 ['RPHERNGFTVL'] ['TPRVTGGGAM'] 1\n",
      "1 1 ['TPRVTGGGAM'] ['RAKFKQLL'] 1\n",
      "1 1 [] [] 1\n",
      "1 1 ['RAKFKQLL'] ['GILGFVFTL'] 1\n",
      "1 1 ['GILGFVFTL'] ['NLVPMVATV'] 1\n",
      "1 1 ['NLVPMVATV'] ['YLQPRTFLL'] 1\n",
      "1 1 ['YLQPRTFLL'] ['VTEHDTLLY'] 1\n",
      "1 1 ['VTEHDTLLY'] ['IVTDFSVIK'] 1\n",
      "1 1 ['IVTDFSVIK'] ['RAKFKQLL'] 1\n",
      "1 1 ['RAKFKQLL'] ['GLCTLVAML'] 1\n",
      "1 1 ['GLCTLVAML'] ['IVTDFSVIK'] 1\n",
      "1 1 ['IVTDFSVIK'] ['GILGFVFTL'] 1\n",
      "1 1 ['GILGFVFTL'] ['YLQPRTFLL'] 1\n",
      "1 1 ['YLQPRTFLL'] ['IVTDFSVIK'] 1\n",
      "1 1 ['IVTDFSVIK'] ['RAKFKQLL'] 1\n",
      "1 1 [] [] 1\n",
      "1 1 ['RAKFKQLL'] ['GILGFVFTL'] 1\n",
      "1 1 ['GILGFVFTL'] ['NLVPMVATV'] 1\n",
      "1 1 ['NLVPMVATV'] ['TPRVTGGGAM'] 1\n",
      "1 1 ['TPRVTGGGAM'] ['GILGFVFTL'] 1\n",
      "1 1 ['GILGFVFTL'] ['YLQPRTFLL'] 1\n",
      "1 1 ['YLQPRTFLL'] ['RAKFKQLL'] 1\n",
      "1 1 ['RAKFKQLL'] ['VTEHDTLLY'] 1\n",
      "1 1 ['VTEHDTLLY'] ['GILGFVFTL'] 1\n",
      "1 1 [] [] 1\n",
      "1 1 [] [] 1\n",
      "1 1 ['GILGFVFTL'] ['RAKFKQLL'] 1\n",
      "1 1 ['RAKFKQLL'] ['GILGFVFTL'] 1\n",
      "1 1 ['GILGFVFTL'] ['IVTDFSVIK'] 1\n",
      "1 1 ['IVTDFSVIK'] ['RPHERNGFTVL'] 1\n",
      "1 1 ['RPHERNGFTVL'] ['RAKFKQLL'] 1\n",
      "1 1 ['RAKFKQLL'] ['GILGFVFTL'] 1\n",
      "1 1 [] [] 1\n",
      "1 1 ['GILGFVFTL'] ['IVTDFSVIK'] 1\n",
      "1 1 [] [] 1\n",
      "1 1 ['IVTDFSVIK'] ['NLVPMVATV'] 1\n",
      "1 1 [] [] 1\n",
      "1 1 ['NLVPMVATV'] ['RAKFKQLL'] 1\n",
      "1 1 ['RAKFKQLL'] ['GLCTLVAML'] 1\n",
      "1 1 ['GLCTLVAML'] ['IVTDFSVIK'] 1\n",
      "1 1 [] [] 1\n",
      "1 1 ['IVTDFSVIK'] ['RAKFKQLL'] 1\n",
      "1 1 ['RAKFKQLL'] ['GLCTLVAML'] 1\n",
      "1 1 ['GLCTLVAML'] ['YLQPRTFLL'] 1\n",
      "1 1 ['YLQPRTFLL'] ['GLCTLVAML'] 1\n",
      "1 1 ['GLCTLVAML'] ['GILGFVFTL'] 1\n",
      "1 1 ['GILGFVFTL'] ['RPPIFIRRL'] 1\n",
      "1 1 ['RPPIFIRRL'] ['GILGFVFTL'] 1\n",
      "1 1 ['GILGFVFTL'] ['RAKFKQLL'] 1\n",
      "1 1 ['RAKFKQLL'] ['GILGFVFTL'] 1\n",
      "1 1 ['GILGFVFTL'] ['RPHERNGFTVL'] 1\n",
      "1 1 ['RPHERNGFTVL'] ['GLCTLVAML'] 1\n",
      "1 1 ['GLCTLVAML'] ['GILGFVFTL'] 1\n",
      "1 1 [] [] 1\n",
      "1 1 ['GILGFVFTL'] ['RPPIFIRRL'] 1\n",
      "1 1 ['RPPIFIRRL'] ['GILGFVFTL'] 1\n",
      "1 1 ['GILGFVFTL'] ['TPRVTGGGAM'] 1\n",
      "1 1 ['TPRVTGGGAM'] ['GILGFVFTL'] 1\n",
      "1 1 ['GILGFVFTL'] ['VTEHDTLLY'] 1\n",
      "1 1 ['VTEHDTLLY'] ['NLVPMVATV'] 1\n",
      "1 1 ['NLVPMVATV'] ['GILGFVFTL'] 1\n",
      "1 1 ['GILGFVFTL'] ['IVTDFSVIK'] 1\n",
      "1 1 ['IVTDFSVIK'] ['GILGFVFTL'] 1\n",
      "1 1 ['GILGFVFTL'] ['TPRVTGGGAM'] 1\n",
      "1 1 ['TPRVTGGGAM'] ['GILGFVFTL'] 1\n",
      "1 1 [] [] 1\n",
      "1 1 ['GILGFVFTL'] ['YLQPRTFLL'] 1\n",
      "1 1 ['YLQPRTFLL'] ['RAKFKQLL'] 1\n",
      "1 1 ['RAKFKQLL'] ['GILGFVFTL'] 1\n",
      "1 1 ['GILGFVFTL'] ['GLCTLVAML'] 1\n",
      "1 1 ['GLCTLVAML'] ['GILGFVFTL'] 1\n",
      "1 1 ['GILGFVFTL'] ['RAKFKQLL'] 1\n",
      "1 1 ['RAKFKQLL'] ['IVTDFSVIK'] 1\n",
      "1 1 [] [] 1\n",
      "1 1 ['IVTDFSVIK'] ['VTEHDTLLY'] 1\n",
      "1 1 ['VTEHDTLLY'] ['RAKFKQLL'] 1\n",
      "1 1 ['RAKFKQLL'] ['YVLDHLIVV'] 1\n",
      "1 1 ['YVLDHLIVV'] ['YLQPRTFLL'] 1\n",
      "1 1 ['YLQPRTFLL'] ['IVTDFSVIK'] 1\n",
      "1 1 [] [] 1\n",
      "1 1 ['IVTDFSVIK'] ['NLVPMVATV'] 1\n",
      "1 1 ['NLVPMVATV'] ['RPHERNGFTVL'] 1\n",
      "1 1 ['RPHERNGFTVL'] ['NLVPMVATV'] 1\n",
      "1 1 ['NLVPMVATV'] ['RAKFKQLL'] 1\n",
      "1 1 ['RAKFKQLL'] ['TPRVTGGGAM'] 1\n",
      "1 1 ['TPRVTGGGAM'] ['IVTDFSVIK'] 1\n",
      "1 1 [] [] 1\n",
      "1 1 [] [] 1\n",
      "1 1 [] [] 1\n",
      "1 1 [] [] 1\n",
      "1 1 ['IVTDFSVIK'] ['RAKFKQLL'] 1\n",
      "1 1 ['RAKFKQLL'] ['VTEHDTLLY'] 1\n",
      "1 1 ['VTEHDTLLY'] ['GLCTLVAML'] 1\n",
      "1 1 ['GLCTLVAML'] ['GILGFVFTL'] 1\n",
      "1 1 ['GILGFVFTL'] ['GLCTLVAML'] 1\n",
      "1 1 ['GLCTLVAML'] ['RAKFKQLL'] 1\n",
      "1 1 ['RAKFKQLL'] ['RPPIFIRRL'] 1\n",
      "1 1 ['RPPIFIRRL'] ['IVTDFSVIK'] 1\n",
      "1 1 [] [] 1\n",
      "1 1 ['IVTDFSVIK'] ['NLVPMVATV'] 1\n",
      "1 1 [] [] 1\n",
      "1 1 ['NLVPMVATV'] ['TPRVTGGGAM'] 1\n",
      "1 1 ['TPRVTGGGAM'] ['IVTDFSVIK'] 1\n",
      "1 1 ['IVTDFSVIK'] ['NLVPMVATV'] 1\n",
      "1 1 ['NLVPMVATV'] ['IVTDFSVIK'] 1\n",
      "1 1 ['IVTDFSVIK'] ['RAKFKQLL'] 1\n",
      "1 1 ['RAKFKQLL'] ['YVLDHLIVV'] 1\n",
      "1 1 ['YVLDHLIVV'] ['YLQPRTFLL'] 1\n",
      "1 1 [] [] 1\n",
      "1 1 ['YLQPRTFLL'] ['GILGFVFTL'] 1\n",
      "1 1 [] [] 1\n",
      "1 1 [] [] 1\n",
      "1 1 [] [] 1\n",
      "1 1 ['GILGFVFTL'] ['YVLDHLIVV'] 1\n",
      "1 1 ['YVLDHLIVV'] ['GILGFVFTL'] 1\n",
      "1 1 [] [] 1\n",
      "1 1 [] [] 1\n",
      "1 1 ['GILGFVFTL'] ['NLVPMVATV'] 1\n",
      "1 1 ['NLVPMVATV'] ['GLCTLVAML'] 1\n",
      "1 1 ['GLCTLVAML'] ['YLQPRTFLL'] 1\n",
      "1 1 ['YLQPRTFLL'] ['NLVPMVATV'] 1\n",
      "1 1 ['NLVPMVATV'] ['IVTDFSVIK'] 1\n",
      "1 1 ['IVTDFSVIK'] ['RAKFKQLL'] 1\n",
      "1 1 ['RAKFKQLL'] ['VTEHDTLLY'] 1\n",
      "1 1 ['VTEHDTLLY'] ['IVTDFSVIK'] 1\n",
      "1 1 ['IVTDFSVIK'] ['VTEHDTLLY'] 1\n",
      "1 1 ['VTEHDTLLY'] ['GILGFVFTL'] 1\n",
      "1 1 [] [] 1\n",
      "1 1 ['GILGFVFTL'] ['IVTDFSVIK'] 1\n",
      "1 1 ['IVTDFSVIK'] ['RAKFKQLL'] 1\n",
      "1 1 ['RAKFKQLL'] ['NLVPMVATV'] 1\n",
      "1 1 [] [] 1\n",
      "1 1 ['NLVPMVATV'] ['GILGFVFTL'] 1\n",
      "1 1 ['GILGFVFTL'] ['RAKFKQLL'] 1\n",
      "1 1 ['RAKFKQLL'] ['GLCTLVAML'] 1\n",
      "1 1 ['GLCTLVAML'] ['GILGFVFTL'] 1\n",
      "1 1 [] [] 1\n",
      "1 1 ['GILGFVFTL'] ['RPPIFIRRL'] 1\n",
      "1 1 ['RPPIFIRRL'] ['GLCTLVAML'] 1\n",
      "1 1 ['GLCTLVAML'] ['RAKFKQLL'] 1\n",
      "1 1 ['RAKFKQLL'] ['IVTDFSVIK'] 1\n",
      "1 1 [] [] 1\n",
      "1 1 [] [] 1\n",
      "1 1 ['IVTDFSVIK'] ['NLVPMVATV'] 1\n",
      "1 1 ['NLVPMVATV'] ['GILGFVFTL'] 1\n",
      "1 1 ['GILGFVFTL'] ['VTEHDTLLY'] 1\n",
      "1 1 ['VTEHDTLLY'] ['GILGFVFTL'] 1\n",
      "1 1 ['GILGFVFTL'] ['RAKFKQLL'] 1\n",
      "1 1 ['RAKFKQLL'] ['NLVPMVATV'] 1\n",
      "1 1 ['NLVPMVATV'] ['GILGFVFTL'] 1\n",
      "1 1 ['GILGFVFTL'] ['YLQPRTFLL'] 1\n",
      "1 1 ['YLQPRTFLL'] ['RAKFKQLL'] 1\n",
      "1 1 ['RAKFKQLL'] ['IVTDFSVIK'] 1\n",
      "1 1 [] [] 1\n",
      "1 1 [] [] 1\n",
      "1 1 [] [] 1\n",
      "1 1 ['IVTDFSVIK'] ['RPPIFIRRL'] 1\n",
      "1 1 ['RPPIFIRRL'] ['GILGFVFTL'] 1\n",
      "1 1 ['GILGFVFTL'] ['IVTDFSVIK'] 1\n",
      "1 1 ['IVTDFSVIK'] ['RAKFKQLL'] 1\n",
      "1 1 ['RAKFKQLL'] ['VTEHDTLLY'] 1\n",
      "1 1 ['VTEHDTLLY'] ['GILGFVFTL'] 1\n",
      "1 1 ['GILGFVFTL'] ['YLQPRTFLL'] 1\n",
      "1 1 ['YLQPRTFLL'] ['IVTDFSVIK'] 1\n",
      "1 1 ['IVTDFSVIK'] ['GILGFVFTL'] 1\n",
      "1 1 ['GILGFVFTL'] ['RPHERNGFTVL'] 1\n",
      "1 1 ['RPHERNGFTVL'] ['GILGFVFTL'] 1\n",
      "1 1 [] [] 1\n",
      "1 1 ['GILGFVFTL'] ['IVTDFSVIK'] 1\n",
      "1 1 ['IVTDFSVIK'] ['TPRVTGGGAM'] 1\n",
      "1 1 ['TPRVTGGGAM'] ['IVTDFSVIK'] 1\n",
      "1 1 ['IVTDFSVIK'] ['GILGFVFTL'] 1\n",
      "1 1 [] [] 1\n",
      "1 1 ['GILGFVFTL'] ['RPPIFIRRL'] 1\n",
      "1 1 ['RPPIFIRRL'] ['VTEHDTLLY'] 1\n",
      "1 1 ['VTEHDTLLY'] ['YLQPRTFLL'] 1\n",
      "1 1 ['YLQPRTFLL'] ['IVTDFSVIK'] 1\n",
      "1 1 ['IVTDFSVIK'] ['RAKFKQLL'] 1\n",
      "1 1 ['RAKFKQLL'] ['GLCTLVAML'] 1\n",
      "1 1 ['GLCTLVAML'] ['IVTDFSVIK'] 1\n",
      "1 1 ['IVTDFSVIK'] ['GILGFVFTL'] 1\n",
      "1 1 ['GILGFVFTL'] ['RPHERNGFTVL'] 1\n",
      "1 1 ['RPHERNGFTVL'] ['IVTDFSVIK'] 1\n",
      "1 1 ['IVTDFSVIK'] ['GILGFVFTL'] 1\n",
      "1 1 ['GILGFVFTL'] ['YVLDHLIVV'] 1\n",
      "1 1 ['YVLDHLIVV'] ['GILGFVFTL'] 1\n",
      "1 1 [] [] 1\n",
      "1 1 [] [] 1\n",
      "1 1 [] [] 1\n",
      "1 1 [] [] 1\n",
      "1 1 ['GILGFVFTL'] ['NLVPMVATV'] 1\n",
      "1 1 [] [] 1\n",
      "1 1 ['NLVPMVATV'] ['GILGFVFTL'] 1\n",
      "1 1 ['GILGFVFTL'] ['NLVPMVATV'] 1\n",
      "1 1 ['NLVPMVATV'] ['IVTDFSVIK'] 1\n",
      "1 1 ['IVTDFSVIK'] ['RAKFKQLL'] 1\n",
      "1 1 ['RAKFKQLL'] ['GILGFVFTL'] 1\n",
      "1 1 ['GILGFVFTL'] ['NLVPMVATV'] 1\n",
      "1 1 ['NLVPMVATV'] ['GILGFVFTL'] 1\n"
     ]
    }
   ],
   "source": [
    "r2 = exit_time_analysis(synthetic_test)"
   ]
  },
  {
   "cell_type": "code",
   "execution_count": 2111,
   "id": "50f7b544-7ba1-4c12-9fdc-33308720e0e9",
   "metadata": {
    "tags": []
   },
   "outputs": [
    {
     "data": {
      "text/plain": [
       "defaultdict(set,\n",
       "            {'GILGFVFTL': {1, 2, 3, 4, 5, 6, 7, 8},\n",
       "             'GLCTLVAML': {1, 2, 3, 4, 5, 6, 7, 8},\n",
       "             'IVTDFSVIK': {1, 2, 3, 4, 5, 6, 7, 8},\n",
       "             'RAKFKQLL': {1, 2, 3, 4, 5, 6, 7, 8},\n",
       "             'RPHERNGFTVL': {1, 2, 3, 4, 5, 6, 7, 8},\n",
       "             'TPRVTGGGAM': {1, 2, 3, 4, 5, 6, 7, 8},\n",
       "             'VTEHDTLLY': {1, 2, 3, 4, 5, 6, 7, 8},\n",
       "             'YLQPRTFLL': {1, 2, 3, 4, 5, 6, 7, 8},\n",
       "             'RPPIFIRRL': {1, 2, 3, 4, 5, 6, 7, 8},\n",
       "             'YVLDHLIVV': {1, 2, 3, 4, 5, 6, 7, 8},\n",
       "             'NLVPMVATV': {1, 2, 3, 4, 5, 6, 7}})"
      ]
     },
     "execution_count": 2111,
     "metadata": {},
     "output_type": "execute_result"
    }
   ],
   "source": [
    "r2"
   ]
  },
  {
   "cell_type": "code",
   "execution_count": null,
   "id": "5efa4fd9-0d10-402c-9d35-cbcb838e99b5",
   "metadata": {},
   "outputs": [],
   "source": []
  },
  {
   "cell_type": "code",
   "execution_count": null,
   "id": "1c686261-2874-46fe-8b0e-5f6410c26fcb",
   "metadata": {},
   "outputs": [],
   "source": []
  },
  {
   "cell_type": "code",
   "execution_count": null,
   "id": "278569fe-b5e0-4633-babd-ed22a7dba7b6",
   "metadata": {},
   "outputs": [],
   "source": []
  },
  {
   "cell_type": "code",
   "execution_count": null,
   "id": "060febc0-33b4-4cd6-9f30-f7d9382933a6",
   "metadata": {},
   "outputs": [],
   "source": []
  },
  {
   "cell_type": "code",
   "execution_count": null,
   "id": "526cb693-8f74-48ff-a05f-8a5c45826e81",
   "metadata": {},
   "outputs": [],
   "source": []
  },
  {
   "cell_type": "markdown",
   "id": "1abdb059-4e84-4bbb-8150-cf061b779032",
   "metadata": {},
   "source": [
    "## Length distribution plots"
   ]
  },
  {
   "cell_type": "code",
   "execution_count": 2120,
   "id": "cca876d4-fa86-4726-841f-916fb39a3b36",
   "metadata": {
    "tags": []
   },
   "outputs": [],
   "source": [
    "def plot_length(train, test, col):\n",
    "    N = 10\n",
    "    fig, axs = plt.subplots(nrows=N // 5, ncols=5)\n",
    "    axs = axs.flat\n",
    "    peps = train[train.Peptide.isin(test.Peptide)].Peptide.value_counts().index\n",
    "    for i, p in enumerate(peps[:N]):\n",
    "        ax = axs[i]\n",
    "        t = test[test.Peptide == p]\n",
    "        t[col].str.len().hist(ax=ax, density=True, alpha=0.7, label=f\"{col} test\", bins=np.arange(9, 22))\n",
    "        # t.CDR3b_extended.str.len().hist(ax=ax, alpha=0.7, label='beta test')\n",
    "\n",
    "        tr = train[train.Peptide == p]\n",
    "        tr[col].str.len().hist(ax=ax, density=True, alpha=0.7, label=f\"{col} train\", bins=np.arange(9, 22))\n",
    "        # tr.CDR3b_extended.str.len().hist(ax=ax, alpha=0.7, label='beta train')\n",
    "        if i == 0:\n",
    "            ax.legend()\n",
    "        ax.set_title(f\"{p} {len(t)} {len(tr)}\")\n",
    "\n",
    "    fig.set_size_inches(16, 9)"
   ]
  },
  {
   "cell_type": "code",
   "execution_count": 2123,
   "id": "c5d767e5-be13-48e1-b869-41126c57d39b",
   "metadata": {
    "tags": []
   },
   "outputs": [
    {
     "data": {
      "image/png": "[encoded data removed]",
      "text/plain": [
       "<Figure size 1600x900 with 10 Axes>"
      ]
     },
     "metadata": {},
     "output_type": "display_data"
    }
   ],
   "source": [
    "plot_length(train_immuno, test, 'CDR3a_extended')"
   ]
  },
  {
   "cell_type": "code",
   "execution_count": 2124,
   "id": "cd1efdfc-bc53-4f8c-8c12-9615916474fd",
   "metadata": {
    "tags": []
   },
   "outputs": [
    {
     "data": {
      "image/png": "[encoded data removed]",
      "text/plain": [
       "<Figure size 1600x900 with 10 Axes>"
      ]
     },
     "metadata": {},
     "output_type": "display_data"
    }
   ],
   "source": [
    "plot_length(train_immuno, test, 'CDR3b_extended')"
   ]
  },
  {
   "cell_type": "code",
   "execution_count": 2125,
   "id": "b221bf50-1108-4a30-8a2e-60f80d71fa65",
   "metadata": {
    "tags": []
   },
   "outputs": [
    {
     "data": {
      "image/png": "[encoded data removed]",
      "text/plain": [
       "<Figure size 1600x900 with 10 Axes>"
      ]
     },
     "metadata": {},
     "output_type": "display_data"
    }
   ],
   "source": [
    "plot_length(synthetic_test, test, 'CDR3a_extended')"
   ]
  },
  {
   "cell_type": "code",
   "execution_count": 2126,
   "id": "ba95445b-b459-4214-b4f5-37e8464181e5",
   "metadata": {
    "tags": []
   },
   "outputs": [
    {
     "data": {
      "image/png": "[encoded data removed]",
      "text/plain": [
       "<Figure size 1600x900 with 10 Axes>"
      ]
     },
     "metadata": {},
     "output_type": "display_data"
    }
   ],
   "source": [
    "plot_length(synthetic_test, test, 'CDR3b_extended')"
   ]
  },
  {
   "cell_type": "markdown",
   "id": "e408e357-85cc-4310-9f2e-fbf8e8fd071e",
   "metadata": {},
   "source": [
    "# Non-binders"
   ]
  },
  {
   "cell_type": "code",
   "execution_count": 2,
   "id": "488ad3ac-d493-44c6-8710-e7c6670aa543",
   "metadata": {
    "tags": []
   },
   "outputs": [],
   "source": [
    "nb = pd.read_parquet(\n",
    "    \"/mnt/flash/AImmune/pHLA-TCR/data-curation/prod/1.4.0/no-binding-concatenation/no-binding-concatenation\"\n",
    ")"
   ]
  },
  {
   "cell_type": "code",
   "execution_count": 8,
   "id": "09bfd902-27ed-4b51-b3ad-7419bbc0f7cf",
   "metadata": {
    "tags": []
   },
   "outputs": [],
   "source": [
    "ref_ab = nb[~nb.CDR3_alpha.isna() & ~nb.CDR3_beta.isna()]"
   ]
  },
  {
   "cell_type": "code",
   "execution_count": 9,
   "id": "ed17d44b-e76e-4aa5-9387-63e4cd7c274e",
   "metadata": {
    "tags": []
   },
   "outputs": [
    {
     "data": {
      "text/plain": [
       "(273393, 43)"
      ]
     },
     "execution_count": 9,
     "metadata": {},
     "output_type": "execute_result"
    }
   ],
   "source": [
    "ref_ab.shape"
   ]
  },
  {
   "cell_type": "code",
   "execution_count": null,
   "id": "300131ed-be99-4cf3-951d-8aeb4eb92d97",
   "metadata": {},
   "outputs": [],
   "source": [
    "ref_ab.CDR3_alpha.isin(alpha_b"
   ]
  },
  {
   "cell_type": "code",
   "execution_count": null,
   "id": "508e4a21-dd69-4299-b690-2431d9751094",
   "metadata": {},
   "outputs": [],
   "source": []
  },
  {
   "cell_type": "code",
   "execution_count": null,
   "id": "f17291f8-3731-47ca-85b5-af95997a7c05",
   "metadata": {},
   "outputs": [],
   "source": []
  },
  {
   "cell_type": "code",
   "execution_count": 6,
   "id": "b5c7057b-babf-4f10-a454-63c046a1e6c2",
   "metadata": {
    "tags": []
   },
   "outputs": [
    {
     "data": {
      "text/plain": [
       "donor_id                                                                   0\n",
       "reference_id                             https://doi.org/10.1093/nar/gkaa796\n",
       "barcode                                               654559#tcrdb_chunk_0.n\n",
       "TRA                                                                     None\n",
       "TRAV                                                                    None\n",
       "TRAV_original                                                           None\n",
       "TRAV_L1                                                                 None\n",
       "TRAV_L2                                                                 None\n",
       "TRAV_seq                                                                None\n",
       "TRAJ                                                                    None\n",
       "TRAJ_original                                                           None\n",
       "TRAJ_L1                                                                 None\n",
       "TRAJ_L2                                                                 None\n",
       "TRAJ_seq                                                                None\n",
       "TRB                        SAVISQKPSRDICQRGTSLTIQCQVDSQVTMMFWYRQQPGQSLTLI...\n",
       "TRBV                                                             TRBV29-1*01\n",
       "TRBV_original                                                       TRBV29-1\n",
       "TRBV_L1                                                               TRBV29\n",
       "TRBV_L2                                                             TRBV29-1\n",
       "TRBV_seq                   SAVISQKPSRDICQRGTSLTIQCQVDSQVTMMFWYRQQPGQSLTLI...\n",
       "TRBJ                                                              TRBJ1-1*01\n",
       "TRBJ_original                                                        TRBJ1-1\n",
       "TRBJ_L1                                                                TRBJ1\n",
       "TRBJ_L2                                                              TRBJ1-1\n",
       "TRBJ_seq                                                     NTEAFFGQGTRLTVV\n",
       "CDR1_alpha                                                              None\n",
       "CDR1_beta                                                         VDSQVTMMFW\n",
       "CDR2_alpha                                                              None\n",
       "CDR2_beta                                                       ATANQGSEATYE\n",
       "CDR3_alpha                                                              None\n",
       "CDR3_alpha_len                                                           NaN\n",
       "CDR3_beta                                                    CSVPGQGAMNTEAFF\n",
       "CDR3_beta_len                                                           15.0\n",
       "pHLA                                                                    None\n",
       "Peptide                                                                 None\n",
       "HLA                                                                     None\n",
       "HLA_type                                                                None\n",
       "HLA_type_original                                                       None\n",
       "meta_donor_MHC_original                                                 None\n",
       "meta_donor_MHC                                                          None\n",
       "antigen_origin                                                          None\n",
       "antigen_type                                                            None\n",
       "is_binder                                                              False\n",
       "Name: 654312, dtype: object"
      ]
     },
     "execution_count": 6,
     "metadata": {},
     "output_type": "execute_result"
    }
   ],
   "source": [
    "nb.sample().iloc[0]"
   ]
  },
  {
   "cell_type": "code",
   "execution_count": 17,
   "id": "dd7c3642-5577-427f-bb41-6c4f3038d334",
   "metadata": {
    "tags": []
   },
   "outputs": [
    {
     "data": {
      "text/plain": [
       "CDR3_alpha                                                     CAVDMDSSYKLIF\n",
       "CDR3_beta                                                       CASSSNTGEQFF\n",
       "TRBV                                                             TRBV12-3*01\n",
       "TRBJ                                                              TRBJ2-1*01\n",
       "TRAV                                                             TRAV12-2*01\n",
       "TRAJ                                                               TRAJ12*01\n",
       "antigen_origin                                                        Cancer\n",
       "pHLA                                                         A1101_HTMGFWLTK\n",
       "Peptide                                                            HTMGFWLTK\n",
       "HLA                                       YYAMYQENVAQTDVDTLYIIYRDYTWAAQAYRWY\n",
       "donor_id                                                                  12\n",
       "reference_id                                        ardigen_healthy/donor_12\n",
       "meta_donor_MHC                                                           nan\n",
       "is_binder                                                               True\n",
       "barcode                                                   TGTGTTTAGGACATTA-1\n",
       "TRA                        QKEVEQNSGPLSVPEGAIASLNCTYSDRGSQSFFWYRQYSGKSPEL...\n",
       "TRAV_original                                                       TRAV12-2\n",
       "TRAV_L1                                                               TRAV12\n",
       "TRAV_L2                                                             TRAV12-2\n",
       "TRAV_seq                   QKEVEQNSGPLSVPEGAIASLNCTYSDRGSQSFFWYRQYSGKSPEL...\n",
       "TRAJ_original                                                         TRAJ12\n",
       "TRAJ_L1                                                               TRAJ12\n",
       "TRAJ_L2                                                               TRAJ12\n",
       "TRAJ_seq                                                 MDSSYKLIFGSGTRLLVRP\n",
       "TRB                        DAGVIQSPRHEVTEMGQEVTLRCKPISGHNSLFWYRQTMMRGLELL...\n",
       "TRBV_original                                                       TRBV12-3\n",
       "TRBV_L1                                                               TRBV12\n",
       "TRBV_L2                                                             TRBV12-3\n",
       "TRBV_seq                   DAGVIQSPRHEVTEMGQEVTLRCKPISGHNSLFWYRQTMMRGLELL...\n",
       "TRBJ_original                                                        TRBJ2-1\n",
       "TRBJ_L1                                                                TRBJ2\n",
       "TRBJ_L2                                                              TRBJ2-1\n",
       "TRBJ_seq                                                    SYNEQFFGPGTRLTVL\n",
       "CDR1_alpha                                                       YSDRGSQSFFW\n",
       "CDR1_beta                                                         PISGHNSLFW\n",
       "CDR2_alpha                                                       MFIYSNGDKED\n",
       "CDR2_beta                                                        IYFNNNVPIDD\n",
       "CDR3_alpha_len                                                          13.0\n",
       "CDR3_beta_len                                                           12.0\n",
       "HLA_type                                                               A1101\n",
       "HLA_type_original                                                      A1101\n",
       "meta_donor_MHC_original                                                  nan\n",
       "antigen_type                                                            None\n",
       "Name: 2150472, dtype: object"
      ]
     },
     "execution_count": 17,
     "metadata": {},
     "output_type": "execute_result"
    }
   ],
   "source": [
    "alpha_beta_binders.sample().iloc[0]"
   ]
  },
  {
   "cell_type": "code",
   "execution_count": null,
   "id": "c96f4918-2ffd-4fce-9ca9-1adcdf64814d",
   "metadata": {},
   "outputs": [],
   "source": []
  },
  {
   "cell_type": "code",
   "execution_count": 6,
   "id": "incorporated-cache",
   "metadata": {},
   "outputs": [],
   "source": [
    "# df_pos = read_positives_and_group_by_tcr('../../data/phla_tcr_all.csv.gz')"
   ]
  },
  {
   "cell_type": "code",
   "execution_count": null,
   "id": "looking-english",
   "metadata": {},
   "outputs": [],
   "source": []
  },
  {
   "cell_type": "code",
   "execution_count": 15,
   "id": "purple-surfing",
   "metadata": {},
   "outputs": [
    {
     "name": "stderr",
     "output_type": "stream",
     "text": [
      "INFO:root:Reading reference TCRs from ../../data/oakes_tcr_repertoires/\n"
     ]
    }
   ],
   "source": [
    "ref_tcrs_oakes = read_reference_tcrs(\"../../data/oakes_tcr_repertoires/\")"
   ]
  },
  {
   "cell_type": "code",
   "execution_count": 16,
   "id": "specialized-sacrifice",
   "metadata": {},
   "outputs": [
    {
     "data": {
      "text/plain": [
       "(574382,)"
      ]
     },
     "execution_count": 16,
     "metadata": {},
     "output_type": "execute_result"
    }
   ],
   "source": [
    "ref_tcrs_oakes.shape"
   ]
  },
  {
   "cell_type": "code",
   "execution_count": 17,
   "id": "extensive-laser",
   "metadata": {},
   "outputs": [
    {
     "data": {
      "text/plain": [
       "(521753,)"
      ]
     },
     "execution_count": 17,
     "metadata": {},
     "output_type": "execute_result"
    }
   ],
   "source": [
    "ref_tcrs_oakes.unique().shape"
   ]
  },
  {
   "cell_type": "code",
   "execution_count": 19,
   "id": "embedded-italian",
   "metadata": {},
   "outputs": [],
   "source": [
    "ref_tcrs_oakes = ref_tcrs_oakes.drop_duplicates()"
   ]
  },
  {
   "cell_type": "code",
   "execution_count": 20,
   "id": "smoking-admission",
   "metadata": {},
   "outputs": [
    {
     "data": {
      "text/plain": [
       "(521753,)"
      ]
     },
     "execution_count": 20,
     "metadata": {},
     "output_type": "execute_result"
    }
   ],
   "source": [
    "ref_tcrs_oakes.shape"
   ]
  },
  {
   "cell_type": "code",
   "execution_count": 22,
   "id": "comprehensive-guard",
   "metadata": {},
   "outputs": [
    {
     "data": {
      "text/plain": [
       "'[ACDEFGHIKLMNPQRSTVWY]+'"
      ]
     },
     "execution_count": 22,
     "metadata": {},
     "output_type": "execute_result"
    }
   ],
   "source": [
    "regex = f\"[{''.join(AA_list)}]+\"\n",
    "regex"
   ]
  },
  {
   "cell_type": "code",
   "execution_count": 27,
   "id": "conditional-indianapolis",
   "metadata": {},
   "outputs": [],
   "source": [
    "def basic_filtering(cdrs):\n",
    "    return cdrs[\n",
    "        (~cdrs.isin(df_pos.CDR3b))\n",
    "        & (~cdrs.isin(ref_tcrs_oakes))\n",
    "        & (cdrs.str.len().isin(range(10, 21)))\n",
    "        & (cdrs.str[0] == \"C\")\n",
    "        & cdrs.str.fullmatch(regex)\n",
    "    ]"
   ]
  },
  {
   "cell_type": "code",
   "execution_count": 28,
   "id": "reduced-intelligence",
   "metadata": {},
   "outputs": [
    {
     "data": {
      "text/plain": [
       "(521753,)"
      ]
     },
     "execution_count": 28,
     "metadata": {},
     "output_type": "execute_result"
    }
   ],
   "source": [
    "ref_tcrs_oakes.shape"
   ]
  },
  {
   "cell_type": "code",
   "execution_count": 25,
   "id": "positive-jackson",
   "metadata": {},
   "outputs": [],
   "source": [
    "# ref_tcrs_oakes = basic_filtering(ref_tcrs_oakes)\n",
    "# ref_tcrs_oakes.shape"
   ]
  },
  {
   "cell_type": "code",
   "execution_count": 19,
   "id": "growing-classification",
   "metadata": {},
   "outputs": [],
   "source": [
    "# cellranger_base_dir = '/mnt/storage2/immuno/DATA/single-cell-TCR-generation-datasets/output/cellranger'\n",
    "\n",
    "# cdrs = []\n",
    "# for vdj_annot_fn in glob.glob(os.path.join(cellranger_base_dir, '*/outs/all_contig_annotations.csv')):\n",
    "#     df = pd.read_csv(vdj_annot_fn)\n",
    "#     # df_cdr3b = df[(df.chain == 'TRB') & df.high_confidence & df.is_cell & df.full_length & df.productive]\n",
    "#     df_cdr3b = df[(df.chain == 'TRB')]\n",
    "#     cdrs.append(df_cdr3b.cdr3)\n",
    "\n",
    "# cdrs = pd.concat(cdrs).reset_index(drop=True)\n",
    "\n",
    "# len(cdrs)\n",
    "\n",
    "# cdrs.unique().shape"
   ]
  },
  {
   "cell_type": "code",
   "execution_count": 1,
   "id": "4be37b2f-4d8d-432f-8f1b-a1633aca4fc4",
   "metadata": {
    "tags": []
   },
   "outputs": [],
   "source": [
    "import pandas as pd"
   ]
  },
  {
   "cell_type": "code",
   "execution_count": 2,
   "id": "fcb620da-e0b8-4e99-8a7e-45d16eb5ca55",
   "metadata": {
    "tags": []
   },
   "outputs": [],
   "source": [
    "ref_tcrs_carter = pd.read_pickle(\"/home/ardigen/Downloads/CD8_sequences.pkl\")"
   ]
  },
  {
   "cell_type": "code",
   "execution_count": 3,
   "id": "8e1b1259-063d-402a-a3e9-44fd51d331ca",
   "metadata": {
    "tags": []
   },
   "outputs": [
    {
     "data": {
      "text/plain": [
       "(26946, 8)"
      ]
     },
     "execution_count": 3,
     "metadata": {},
     "output_type": "execute_result"
    }
   ],
   "source": [
    "ref_tcrs_carter.shape"
   ]
  },
  {
   "cell_type": "code",
   "execution_count": 4,
   "id": "48de514b-473e-47fa-9121-83f550408c2d",
   "metadata": {
    "tags": []
   },
   "outputs": [
    {
     "data": {
      "text/plain": [
       "Va                   1-1\n",
       "Ja                    12\n",
       "Vb                    27\n",
       "Jb                   2-7\n",
       "CDR3a      CAGEMDSSYKLIF\n",
       "CDR3b       CASSPTMNEQYF\n",
       "Subject                0\n",
       "Method              Juno\n",
       "Name: 0, dtype: object"
      ]
     },
     "execution_count": 4,
     "metadata": {},
     "output_type": "execute_result"
    }
   ],
   "source": [
    "ref_tcrs_carter.iloc[0]"
   ]
  },
  {
   "cell_type": "code",
   "execution_count": 37,
   "id": "hired-polymer",
   "metadata": {},
   "outputs": [
    {
     "data": {
      "text/plain": [
       "0.15384615384615385"
      ]
     },
     "execution_count": 37,
     "metadata": {},
     "output_type": "execute_result"
    }
   ],
   "source": [
    "!ls ../../data/dean_tcr_repertoires/"
   ]
  },
  {
   "cell_type": "code",
   "execution_count": 47,
   "id": "fitting-activity",
   "metadata": {},
   "outputs": [],
   "source": [
    "all_tcrs = pd.concat(tcr_list)"
   ]
  },
  {
   "cell_type": "code",
   "execution_count": 48,
   "id": "facial-mother",
   "metadata": {},
   "outputs": [
    {
     "data": {
      "text/plain": [
       "(14725598,)"
      ]
     },
     "execution_count": 48,
     "metadata": {},
     "output_type": "execute_result"
    }
   ],
   "source": [
    "all_tcrs.shape"
   ]
  },
  {
   "cell_type": "code",
   "execution_count": 49,
   "id": "final-protocol",
   "metadata": {},
   "outputs": [
    {
     "data": {
      "text/plain": [
       "CASSLQGGNTEAFF       76\n",
       "CASSPDRDYGYTF        76\n",
       "CASSLGQGGETQYF       75\n",
       "CASSRQGSNQPQHF       75\n",
       "CASSLTGYGYTF         74\n",
       "                     ..\n",
       "CASSLQNGPGFF          1\n",
       "CASSAPAGGFSTDTQYF     1\n",
       "CASRIYRGDTEAFF        1\n",
       "CASSRDRGFGNYEQYF      1\n",
       "CATGAYNEQSF           1\n",
       "Name: aminoAcid, Length: 11407093, dtype: int64"
      ]
     },
     "execution_count": 49,
     "metadata": {},
     "output_type": "execute_result"
    }
   ],
   "source": [
    "all_tcrs.value_counts()"
   ]
  },
  {
   "cell_type": "code",
   "execution_count": 50,
   "id": "legitimate-dating",
   "metadata": {},
   "outputs": [],
   "source": [
    "unique_tcrs = all_tcrs.drop_duplicates()"
   ]
  },
  {
   "cell_type": "code",
   "execution_count": 51,
   "id": "unusual-lottery",
   "metadata": {},
   "outputs": [
    {
     "data": {
      "text/plain": [
       "(11407093,)"
      ]
     },
     "execution_count": 51,
     "metadata": {},
     "output_type": "execute_result"
    }
   ],
   "source": [
    "unique_tcrs.shape"
   ]
  },
  {
   "cell_type": "code",
   "execution_count": 54,
   "id": "frank-pregnancy",
   "metadata": {},
   "outputs": [
    {
     "data": {
      "image/png": "[encoded data removed]",
      "text/plain": [
       "<Figure size 640x480 with 1 Axes>"
      ]
     },
     "metadata": {},
     "output_type": "display_data"
    }
   ],
   "source": [
    "ax = plt.gca()\n",
    "unique_tcrs.str.len().hist(ax=ax, density=True, alpha=0.5, label=\"reference (Dean)\")\n",
    "ref_tcrs_oakes.str.len().hist(ax=ax, density=True, alpha=0.5, label=\"reference (Oakes)\")\n",
    "df_pos.CDR3b.str.len().hist(ax=ax, density=True, alpha=0.5, label=\"binders\")\n",
    "plt.legend()\n",
    "plt.show()"
   ]
  },
  {
   "cell_type": "code",
   "execution_count": null,
   "id": "electronic-lawsuit",
   "metadata": {},
   "outputs": [],
   "source": []
  },
  {
   "cell_type": "code",
   "execution_count": 47,
   "id": "plain-reply",
   "metadata": {},
   "outputs": [],
   "source": [
    "def downsample_length(dataset, frac=1):\n",
    "    pos = dataset[dataset.y == 1]\n",
    "    neg = dataset[dataset.y == 0]\n",
    "\n",
    "    pos_count = pos.CDR3b.str.len().value_counts().sort_index()\n",
    "    neg_count = neg.CDR3b.str.len().value_counts().sort_index()\n",
    "\n",
    "    ratio = pos_count / neg_count\n",
    "    max_ratio = ratio.max()\n",
    "\n",
    "    to_remove = round((neg_count * (max_ratio - ratio)) / max_ratio).astype(int)\n",
    "    to_sample = neg_count - to_remove\n",
    "\n",
    "    neg_samples = []\n",
    "    for length, n_to_sample in to_sample.iteritems():\n",
    "        neg_sample = neg[neg.CDR3b.str.len() == length].sample(int(n_to_sample * frac), random_state=42)\n",
    "        neg_samples.append(neg_sample)\n",
    "    dataset_downsampled = pd.concat([pos] + neg_samples)\n",
    "    return dataset_downsampled"
   ]
  },
  {
   "cell_type": "code",
   "execution_count": 52,
   "id": "operational-management",
   "metadata": {},
   "outputs": [
    {
     "data": {
      "text/plain": [
       "(11407093,)"
      ]
     },
     "execution_count": 52,
     "metadata": {},
     "output_type": "execute_result"
    }
   ],
   "source": [
    "unique_tcrs.shape"
   ]
  },
  {
   "cell_type": "code",
   "execution_count": 56,
   "id": "thousand-north",
   "metadata": {},
   "outputs": [
    {
     "name": "stderr",
     "output_type": "stream",
     "text": [
      "INFO:root:Basic filtering: started with 11407093 reference TCRs, 11407093 after filtering\n"
     ]
    }
   ],
   "source": [
    "ref_tcrs_dean = basic_filtering_bertrand(unique_tcrs, df_pos)"
   ]
  },
  {
   "cell_type": "code",
   "execution_count": 57,
   "id": "usual-nightmare",
   "metadata": {},
   "outputs": [],
   "source": [
    "ref_tcrs_dean = ref_tcrs_dean.rename(columns={\"CDR3b\": \"junction_aa\"}).drop(columns=\"y\")"
   ]
  },
  {
   "cell_type": "code",
   "execution_count": 58,
   "id": "demanding-villa",
   "metadata": {},
   "outputs": [
    {
     "data": {
      "text/html": [
       "<div>\n",
       "<style scoped>\n",
       "    .dataframe tbody tr th:only-of-type {\n",
       "        vertical-align: middle;\n",
       "    }\n",
       "\n",
       "    .dataframe tbody tr th {\n",
       "        vertical-align: top;\n",
       "    }\n",
       "\n",
       "    .dataframe thead th {\n",
       "        text-align: right;\n",
       "    }\n",
       "</style>\n",
       "<table border=\"1\" class=\"dataframe\">\n",
       "  <thead>\n",
       "    <tr style=\"text-align: right;\">\n",
       "      <th></th>\n",
       "      <th>junction_aa</th>\n",
       "    </tr>\n",
       "  </thead>\n",
       "  <tbody>\n",
       "    <tr>\n",
       "      <th>1915758</th>\n",
       "      <td>CASSLADLGGLEQYF</td>\n",
       "    </tr>\n",
       "    <tr>\n",
       "      <th>453050</th>\n",
       "      <td>CASRYGGSSDTQYF</td>\n",
       "    </tr>\n",
       "    <tr>\n",
       "      <th>2007832</th>\n",
       "      <td>CASSTAGPPQFWAGTDTQYF</td>\n",
       "    </tr>\n",
       "    <tr>\n",
       "      <th>7020283</th>\n",
       "      <td>CASSFVRLEQFF</td>\n",
       "    </tr>\n",
       "    <tr>\n",
       "      <th>4305700</th>\n",
       "      <td>CASSEAQGAEETQYF</td>\n",
       "    </tr>\n",
       "  </tbody>\n",
       "</table>\n",
       "</div>"
      ],
      "text/plain": [
       "                  junction_aa\n",
       "1915758       CASSLADLGGLEQYF\n",
       "453050         CASRYGGSSDTQYF\n",
       "2007832  CASSTAGPPQFWAGTDTQYF\n",
       "7020283          CASSFVRLEQFF\n",
       "4305700       CASSEAQGAEETQYF"
      ]
     },
     "execution_count": 58,
     "metadata": {},
     "output_type": "execute_result"
    }
   ],
   "source": [
    "ref_tcrs_dean.sample(5)"
   ]
  },
  {
   "cell_type": "code",
   "execution_count": 61,
   "id": "suited-hudson",
   "metadata": {},
   "outputs": [],
   "source": [
    "ref_tcrs_dean.to_csv(\"../../data/dean_tcr_repertoires/dean_downsampled_11M.csv.gz\")"
   ]
  },
  {
   "cell_type": "code",
   "execution_count": 62,
   "id": "collectible-buying",
   "metadata": {},
   "outputs": [],
   "source": [
    "d = pd.read_csv(\"../../data/presented_peptides.csv.gz\", index_col=0)"
   ]
  },
  {
   "cell_type": "code",
   "execution_count": 63,
   "id": "certain-female",
   "metadata": {},
   "outputs": [
    {
     "data": {
      "text/html": [
       "<div>\n",
       "<style scoped>\n",
       "    .dataframe tbody tr th:only-of-type {\n",
       "        vertical-align: middle;\n",
       "    }\n",
       "\n",
       "    .dataframe tbody tr th {\n",
       "        vertical-align: top;\n",
       "    }\n",
       "\n",
       "    .dataframe thead th {\n",
       "        text-align: right;\n",
       "    }\n",
       "</style>\n",
       "<table border=\"1\" class=\"dataframe\">\n",
       "  <thead>\n",
       "    <tr style=\"text-align: right;\">\n",
       "      <th></th>\n",
       "      <th>HLA_type</th>\n",
       "      <th>Peptide2</th>\n",
       "      <th>is_presented</th>\n",
       "    </tr>\n",
       "  </thead>\n",
       "  <tbody>\n",
       "    <tr>\n",
       "      <th>abelin_pos_1</th>\n",
       "      <td>A02:01</td>\n",
       "      <td>KLWEMDNMLI</td>\n",
       "      <td>1</td>\n",
       "    </tr>\n",
       "    <tr>\n",
       "      <th>abelin_pos_2</th>\n",
       "      <td>A02:03</td>\n",
       "      <td>KLYDIDVAKV</td>\n",
       "      <td>1</td>\n",
       "    </tr>\n",
       "    <tr>\n",
       "      <th>abelin_pos_4</th>\n",
       "      <td>A02:07</td>\n",
       "      <td>QVDDLKAKL</td>\n",
       "      <td>1</td>\n",
       "    </tr>\n",
       "    <tr>\n",
       "      <th>abelin_pos_6</th>\n",
       "      <td>A24:02</td>\n",
       "      <td>AYVHMVTHF</td>\n",
       "      <td>1</td>\n",
       "    </tr>\n",
       "    <tr>\n",
       "      <th>abelin_pos_10</th>\n",
       "      <td>B35:01</td>\n",
       "      <td>LPDEIYHVY</td>\n",
       "      <td>1</td>\n",
       "    </tr>\n",
       "  </tbody>\n",
       "</table>\n",
       "</div>"
      ],
      "text/plain": [
       "              HLA_type    Peptide2  is_presented\n",
       "abelin_pos_1    A02:01  KLWEMDNMLI             1\n",
       "abelin_pos_2    A02:03  KLYDIDVAKV             1\n",
       "abelin_pos_4    A02:07   QVDDLKAKL             1\n",
       "abelin_pos_6    A24:02   AYVHMVTHF             1\n",
       "abelin_pos_10   B35:01   LPDEIYHVY             1"
      ]
     },
     "execution_count": 63,
     "metadata": {},
     "output_type": "execute_result"
    }
   ],
   "source": [
    "d.head()"
   ]
  },
  {
   "cell_type": "code",
   "execution_count": 1,
   "id": "serious-morning",
   "metadata": {},
   "outputs": [],
   "source": [
    "import pandas as pd"
   ]
  },
  {
   "cell_type": "code",
   "execution_count": 2,
   "id": "integral-publication",
   "metadata": {},
   "outputs": [],
   "source": [
    "df = pd.read_csv(\"../../data/dean_tcr_repertoires/dean_downsampled_11M.csv.gz\")"
   ]
  },
  {
   "cell_type": "code",
   "execution_count": 3,
   "id": "compound-princess",
   "metadata": {},
   "outputs": [
    {
     "data": {
      "text/plain": [
       "(11407093, 2)"
      ]
     },
     "execution_count": 3,
     "metadata": {},
     "output_type": "execute_result"
    }
   ],
   "source": [
    "df.shape"
   ]
  },
  {
   "cell_type": "code",
   "execution_count": 4,
   "id": "colored-northern",
   "metadata": {},
   "outputs": [],
   "source": [
    "df2 = pd.read_csv(\"/mnt/storage2/olek/bertrand-rep3/pretraining/mlm_train.csv.gz\")"
   ]
  },
  {
   "cell_type": "code",
   "execution_count": 5,
   "id": "inappropriate-zealand",
   "metadata": {},
   "outputs": [
    {
     "data": {
      "text/plain": [
       "(9125674, 4)"
      ]
     },
     "execution_count": 5,
     "metadata": {},
     "output_type": "execute_result"
    }
   ],
   "source": [
    "df2.shape"
   ]
  },
  {
   "cell_type": "code",
   "execution_count": 6,
   "id": "little-scholarship",
   "metadata": {},
   "outputs": [],
   "source": [
    "df3 = pd.read_csv(\"/mnt/storage2/olek/bertrand-rep3/pretraining/mlm_val.csv.gz\")"
   ]
  },
  {
   "cell_type": "code",
   "execution_count": 7,
   "id": "cutting-queensland",
   "metadata": {},
   "outputs": [
    {
     "data": {
      "text/plain": [
       "(2281419, 4)"
      ]
     },
     "execution_count": 7,
     "metadata": {},
     "output_type": "execute_result"
    }
   ],
   "source": [
    "df3.shape"
   ]
  },
  {
   "cell_type": "code",
   "execution_count": null,
   "id": "indonesian-haiti",
   "metadata": {},
   "outputs": [],
   "source": []
  }
 ],
 "metadata": {
  "kernelspec": {
   "display_name": "bertrand",
   "language": "python",
   "name": "bertrand"
  },
  "language_info": {
   "codemirror_mode": {
    "name": "ipython",
    "version": 3
   },
   "file_extension": ".py",
   "mimetype": "text/x-python",
   "name": "python",
   "nbconvert_exporter": "python",
   "pygments_lexer": "ipython3",
   "version": "3.8.0"
  }
 },
 "nbformat": 4,
 "nbformat_minor": 5
}
