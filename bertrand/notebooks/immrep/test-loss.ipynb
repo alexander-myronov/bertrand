{
 "cells": [
  {
   "cell_type": "code",
   "execution_count": 1,
   "id": "grave-eclipse",
   "metadata": {
    "tags": []
   },
   "outputs": [],
   "source": [
    "%load_ext autoreload\n",
    "%autoreload 2"
   ]
  },
  {
   "cell_type": "code",
   "execution_count": 2,
   "id": "streaming-redhead",
   "metadata": {
    "tags": []
   },
   "outputs": [],
   "source": [
    "import logging\n",
    "\n",
    "logger = logging.getLogger()\n",
    "logger.setLevel(logging.INFO)"
   ]
  },
  {
   "cell_type": "code",
   "execution_count": 3,
   "id": "appropriate-arizona",
   "metadata": {
    "tags": []
   },
   "outputs": [],
   "source": [
    "import glob\n",
    "import itertools\n",
    "import os\n",
    "import sys\n",
    "\n",
    "import numpy as np\n",
    "import pandas as pd\n",
    "from matplotlib import pyplot as plt\n",
    "from tqdm.auto import tqdm"
   ]
  },
  {
   "cell_type": "code",
   "execution_count": 4,
   "id": "union-frontier",
   "metadata": {
    "tags": []
   },
   "outputs": [],
   "source": [
    "sys.path.append(\"../../..\")"
   ]
  },
  {
   "cell_type": "code",
   "execution_count": 5,
   "id": "roman-transport",
   "metadata": {
    "tags": []
   },
   "outputs": [],
   "source": [
    "from bertrand.model.tokenization import AA_list\n",
    "from bertrand.negative_decoys.basic_filtering import (\n",
    "    basic_filtering as basic_filtering_bertrand,\n",
    ")\n",
    "from bertrand.negative_decoys.basic_filtering import (\n",
    "    read_positives_and_group_by_tcr,\n",
    "    read_reference_tcrs,\n",
    ")"
   ]
  },
  {
   "cell_type": "markdown",
   "id": "d34a8519-5bc5-4afe-b5a5-867c481f8180",
   "metadata": {},
   "source": [
    "# Binders"
   ]
  },
  {
   "cell_type": "code",
   "execution_count": 6,
   "id": "14c813db-1105-4047-8769-aaf32f06d4a0",
   "metadata": {
    "tags": []
   },
   "outputs": [],
   "source": [
    "from bertrand.immrep.data_sources import read_test, read_train_be\n",
    "\n",
    "from bertrand.immrep.training.dataset_ptcr import PeptideTCRDataset\n",
    "\n",
    "from bertrand.immrep.training.cv import train_test_additional_generator\n",
    "from bertrand.immrep.training.train_ptcr import get_training_args\n",
    "from bertrand.model.tokenization import tokenizer\n",
    "from bertrand.model.model import BERTrand\n",
    "from transformers import TrainingArguments, DataCollatorWithPadding, Trainer\n"
   ]
  },
  {
   "cell_type": "code",
   "execution_count": null,
   "id": "cf573187-e8d8-4d4f-9eb7-d7e081c607a6",
   "metadata": {},
   "outputs": [],
   "source": []
  },
  {
   "cell_type": "code",
   "execution_count": null,
   "id": "009179cf-eb5d-4dd1-b3b0-d2d0966cfaea",
   "metadata": {},
   "outputs": [],
   "source": []
  },
  {
   "cell_type": "code",
   "execution_count": null,
   "id": "25d1998b-7b26-4cfc-8d0c-ec74cd6139bf",
   "metadata": {},
   "outputs": [],
   "source": []
  },
  {
   "cell_type": "code",
   "execution_count": 7,
   "id": "b882b4a2-028c-4de6-a115-047c0fe7dcd2",
   "metadata": {
    "tags": []
   },
   "outputs": [],
   "source": [
    "train_set = read_train_be()\n",
    "test_set = read_test()"
   ]
  },
  {
   "cell_type": "code",
   "execution_count": 8,
   "id": "f4fc70ce-a1b6-40db-9496-e984799c7f1b",
   "metadata": {
    "scrolled": true,
    "tags": []
   },
   "outputs": [
    {
     "name": "stdout",
     "output_type": "stream",
     "text": [
      "GILGFVFTL 1879 0.05\n",
      "RAKFKQLL 979 0.05\n",
      "IVTDFSVIK 856 0.05\n",
      "NLVPMVATV 644 0.05\n",
      "GLCTLVAML 531 0.05\n",
      "YLQPRTFLL 394 0.05\n",
      "TPRVTGGGAM 375 0.05\n",
      "RPPIFIRRL 341 0.05\n",
      "VTEHDTLLY 339 0.05\n",
      "RPHERNGFTVL 294 0.05\n",
      "Test sample 0\n",
      "Train sample 0\n",
      "GILGFVFTL 1879 0.05\n",
      "RAKFKQLL 979 0.05\n",
      "IVTDFSVIK 856 0.05\n",
      "NLVPMVATV 644 0.05\n",
      "GLCTLVAML 531 0.05\n",
      "YLQPRTFLL 394 0.05\n",
      "TPRVTGGGAM 375 0.05\n",
      "RPPIFIRRL 341 0.05\n",
      "VTEHDTLLY 339 0.05\n",
      "RPHERNGFTVL 294 0.05\n",
      "Test sample 1\n",
      "Train sample 0\n"
     ]
    },
    {
     "ename": "KeyboardInterrupt",
     "evalue": "",
     "output_type": "error",
     "traceback": [
      "\u001b[0;31m---------------------------------------------------------------------------\u001b[0m",
      "\u001b[0;31mKeyboardInterrupt\u001b[0m                         Traceback (most recent call last)",
      "Cell \u001b[0;32mIn[8], line 2\u001b[0m\n\u001b[1;32m      1\u001b[0m data_splits \u001b[38;5;241m=\u001b[39m train_test_additional_generator(train_set, test_set, NTEST\u001b[38;5;241m=\u001b[39m\u001b[38;5;241m7\u001b[39m)\n\u001b[0;32m----> 2\u001b[0m \u001b[38;5;28;01mfor\u001b[39;00m data_split \u001b[38;5;129;01min\u001b[39;00m data_splits:\n\u001b[1;32m      3\u001b[0m     X \u001b[38;5;241m=\u001b[39m data_split[\u001b[38;5;124m'\u001b[39m\u001b[38;5;124mtrain_sample\u001b[39m\u001b[38;5;124m'\u001b[39m]\u001b[38;5;241m.\u001b[39mreset_index(drop\u001b[38;5;241m=\u001b[39m\u001b[38;5;28;01mTrue\u001b[39;00m)\n\u001b[1;32m      4\u001b[0m     X_test \u001b[38;5;241m=\u001b[39m data_split[\u001b[38;5;124m'\u001b[39m\u001b[38;5;124mtest_sample\u001b[39m\u001b[38;5;124m'\u001b[39m]\u001b[38;5;241m.\u001b[39mreset_index(drop\u001b[38;5;241m=\u001b[39m\u001b[38;5;28;01mTrue\u001b[39;00m)\n",
      "File \u001b[0;32m~/Documents/bertrand/bertrand/immrep/training/cv.py:26\u001b[0m, in \u001b[0;36mtrain_test_additional_generator\u001b[0;34m(train, test, NTEST, NTRAIN)\u001b[0m\n\u001b[1;32m     24\u001b[0m \u001b[38;5;28;01mfor\u001b[39;00m train_iteration \u001b[38;5;129;01min\u001b[39;00m \u001b[38;5;28mrange\u001b[39m(NTRAIN):\n\u001b[1;32m     25\u001b[0m     \u001b[38;5;28mprint\u001b[39m(\u001b[38;5;124mf\u001b[39m\u001b[38;5;124m\"\u001b[39m\u001b[38;5;124mTrain sample \u001b[39m\u001b[38;5;132;01m{\u001b[39;00mtrain_iteration\u001b[38;5;132;01m}\u001b[39;00m\u001b[38;5;124m\"\u001b[39m)\n\u001b[0;32m---> 26\u001b[0m     train_sample \u001b[38;5;241m=\u001b[39m \u001b[43msample_train_additional\u001b[49m\u001b[43m(\u001b[49m\u001b[43mtrain\u001b[49m\u001b[43m,\u001b[49m\u001b[43m \u001b[49m\u001b[43mtest\u001b[49m\u001b[43m,\u001b[49m\u001b[43m \u001b[49m\u001b[43mtest_sample\u001b[49m\u001b[43m)\u001b[49m\n\u001b[1;32m     27\u001b[0m     \u001b[38;5;28;01myield\u001b[39;00m \u001b[38;5;28mdict\u001b[39m(\n\u001b[1;32m     28\u001b[0m         train_sample\u001b[38;5;241m=\u001b[39mtrain_sample,\n\u001b[1;32m     29\u001b[0m         test_sample\u001b[38;5;241m=\u001b[39mtest_sample,\n\u001b[1;32m     30\u001b[0m         test_iteration\u001b[38;5;241m=\u001b[39mtest_iteration,\n\u001b[1;32m     31\u001b[0m         train_iteration\u001b[38;5;241m=\u001b[39mtrain_iteration,\n\u001b[1;32m     32\u001b[0m     )\n",
      "File \u001b[0;32m~/Documents/bertrand/bertrand/immrep/sample_train_set.py:150\u001b[0m, in \u001b[0;36msample_train_additional\u001b[0;34m(train, test, synthetic_test, T, seed, ratio, verbose)\u001b[0m\n\u001b[1;32m    138\u001b[0m regex \u001b[38;5;241m=\u001b[39m \u001b[38;5;124mf\u001b[39m\u001b[38;5;124m\"\u001b[39m\u001b[38;5;124m[\u001b[39m\u001b[38;5;132;01m{\u001b[39;00m\u001b[38;5;124m'\u001b[39m\u001b[38;5;124m'\u001b[39m\u001b[38;5;241m.\u001b[39mjoin(AA_list)\u001b[38;5;132;01m}\u001b[39;00m\u001b[38;5;124m]+\u001b[39m\u001b[38;5;124m\"\u001b[39m\n\u001b[1;32m    139\u001b[0m pos \u001b[38;5;241m=\u001b[39m pos[\n\u001b[1;32m    140\u001b[0m     (la \u001b[38;5;241m>\u001b[39m\u001b[38;5;241m=\u001b[39m CDRA_MIN)\n\u001b[1;32m    141\u001b[0m     \u001b[38;5;241m&\u001b[39m (la \u001b[38;5;241m<\u001b[39m\u001b[38;5;241m=\u001b[39m CDRA_MAX)\n\u001b[0;32m   (...)\u001b[0m\n\u001b[1;32m    147\u001b[0m     \u001b[38;5;241m&\u001b[39m pos\u001b[38;5;241m.\u001b[39mCDR3b_extended\u001b[38;5;241m.\u001b[39mstr\u001b[38;5;241m.\u001b[39mfullmatch(regex)\n\u001b[1;32m    148\u001b[0m ]\n\u001b[0;32m--> 150\u001b[0m pos_filt \u001b[38;5;241m=\u001b[39m \u001b[43mfilter_cdr\u001b[49m\u001b[43m(\u001b[49m\u001b[43mpos\u001b[49m\u001b[43m,\u001b[49m\u001b[43m \u001b[49m\u001b[43msynthetic_test\u001b[49m\u001b[43m)\u001b[49m\n\u001b[1;32m    152\u001b[0m \u001b[38;5;66;03m# potential_tcr_negatives = (\u001b[39;00m\n\u001b[1;32m    153\u001b[0m \u001b[38;5;66;03m#     pos_filt.groupby(\"Peptide\")\u001b[39;00m\n\u001b[1;32m    154\u001b[0m \u001b[38;5;66;03m#     .apply(lambda x: x.sample(frac=0.2) if len(x) >= 10 / 0.2 else x)\u001b[39;00m\n\u001b[1;32m    155\u001b[0m \u001b[38;5;66;03m#     .reset_index(drop=True)\u001b[39;00m\n\u001b[1;32m    156\u001b[0m \u001b[38;5;66;03m# )\u001b[39;00m\n\u001b[1;32m    158\u001b[0m potential_tcr_negatives \u001b[38;5;241m=\u001b[39m (\n\u001b[1;32m    159\u001b[0m     pos_filt\u001b[38;5;241m.\u001b[39mgroupby(\u001b[38;5;124m\"\u001b[39m\u001b[38;5;124mPeptide\u001b[39m\u001b[38;5;124m\"\u001b[39m)\n\u001b[1;32m    160\u001b[0m     \u001b[38;5;241m.\u001b[39mapply(\u001b[38;5;28;01mlambda\u001b[39;00m x: x\u001b[38;5;241m.\u001b[39msample(\u001b[38;5;241m500\u001b[39m) \u001b[38;5;28;01mif\u001b[39;00m \u001b[38;5;28mlen\u001b[39m(x) \u001b[38;5;241m>\u001b[39m\u001b[38;5;241m=\u001b[39m \u001b[38;5;241m500\u001b[39m \u001b[38;5;28;01melse\u001b[39;00m x)\n\u001b[1;32m    161\u001b[0m     \u001b[38;5;241m.\u001b[39mreset_index(drop\u001b[38;5;241m=\u001b[39m\u001b[38;5;28;01mTrue\u001b[39;00m)\n\u001b[1;32m    162\u001b[0m )\n",
      "File \u001b[0;32m~/Documents/bertrand/bertrand/immrep/sample_train_set.py:10\u001b[0m, in \u001b[0;36mfilter_cdr\u001b[0;34m(pos, synthetic_test, t)\u001b[0m\n\u001b[1;32m      9\u001b[0m \u001b[38;5;28;01mdef\u001b[39;00m \u001b[38;5;21mfilter_cdr\u001b[39m(pos, synthetic_test, t\u001b[38;5;241m=\u001b[39m\u001b[38;5;241m2\u001b[39m):\n\u001b[0;32m---> 10\u001b[0m     adist \u001b[38;5;241m=\u001b[39m \u001b[43mcdist\u001b[49m\u001b[43m(\u001b[49m\n\u001b[1;32m     11\u001b[0m \u001b[43m        \u001b[49m\u001b[43mpos\u001b[49m\u001b[38;5;241;43m.\u001b[39;49m\u001b[43mCDR3a_extended\u001b[49m\u001b[38;5;241;43m.\u001b[39;49m\u001b[43mvalues\u001b[49m\u001b[38;5;241;43m.\u001b[39;49m\u001b[43mreshape\u001b[49m\u001b[43m(\u001b[49m\u001b[38;5;241;43m-\u001b[39;49m\u001b[38;5;241;43m1\u001b[39;49m\u001b[43m,\u001b[49m\u001b[43m \u001b[49m\u001b[38;5;241;43m1\u001b[39;49m\u001b[43m)\u001b[49m\u001b[43m,\u001b[49m\u001b[43m \u001b[49m\u001b[43msynthetic_test\u001b[49m\u001b[38;5;241;43m.\u001b[39;49m\u001b[43mCDR3a_extended\u001b[49m\u001b[38;5;241;43m.\u001b[39;49m\u001b[43mvalues\u001b[49m\u001b[38;5;241;43m.\u001b[39;49m\u001b[43mreshape\u001b[49m\u001b[43m(\u001b[49m\u001b[38;5;241;43m-\u001b[39;49m\u001b[38;5;241;43m1\u001b[39;49m\u001b[43m,\u001b[49m\u001b[43m \u001b[49m\u001b[38;5;241;43m1\u001b[39;49m\u001b[43m)\u001b[49m\u001b[43m,\u001b[49m\u001b[43m \u001b[49m\u001b[43mmetric\u001b[49m\u001b[38;5;241;43m=\u001b[39;49m\u001b[43mdist\u001b[49m\n\u001b[1;32m     12\u001b[0m \u001b[43m    \u001b[49m\u001b[43m)\u001b[49m\n\u001b[1;32m     13\u001b[0m     bdist \u001b[38;5;241m=\u001b[39m cdist(\n\u001b[1;32m     14\u001b[0m         pos\u001b[38;5;241m.\u001b[39mCDR3b_extended\u001b[38;5;241m.\u001b[39mvalues\u001b[38;5;241m.\u001b[39mreshape(\u001b[38;5;241m-\u001b[39m\u001b[38;5;241m1\u001b[39m, \u001b[38;5;241m1\u001b[39m), synthetic_test\u001b[38;5;241m.\u001b[39mCDR3b_extended\u001b[38;5;241m.\u001b[39mvalues\u001b[38;5;241m.\u001b[39mreshape(\u001b[38;5;241m-\u001b[39m\u001b[38;5;241m1\u001b[39m, \u001b[38;5;241m1\u001b[39m), metric\u001b[38;5;241m=\u001b[39mdist\n\u001b[1;32m     15\u001b[0m     )\n\u001b[1;32m     17\u001b[0m     adist, bdist \u001b[38;5;241m=\u001b[39m adist\u001b[38;5;241m.\u001b[39mmin(axis\u001b[38;5;241m=\u001b[39m\u001b[38;5;241m1\u001b[39m), bdist\u001b[38;5;241m.\u001b[39mmin(axis\u001b[38;5;241m=\u001b[39m\u001b[38;5;241m1\u001b[39m)\n",
      "File \u001b[0;32m~/miniconda3/envs/bertrand/lib/python3.8/site-packages/scipy/spatial/distance.py:2948\u001b[0m, in \u001b[0;36mcdist\u001b[0;34m(XA, XB, metric, out, **kwargs)\u001b[0m\n\u001b[1;32m   2945\u001b[0m     \u001b[38;5;28;01mif\u001b[39;00m metric_info \u001b[38;5;129;01mis\u001b[39;00m \u001b[38;5;129;01mnot\u001b[39;00m \u001b[38;5;28;01mNone\u001b[39;00m:\n\u001b[1;32m   2946\u001b[0m         XA, XB, typ, kwargs \u001b[38;5;241m=\u001b[39m _validate_cdist_input(\n\u001b[1;32m   2947\u001b[0m             XA, XB, mA, mB, n, metric_info, \u001b[38;5;241m*\u001b[39m\u001b[38;5;241m*\u001b[39mkwargs)\n\u001b[0;32m-> 2948\u001b[0m     \u001b[38;5;28;01mreturn\u001b[39;00m \u001b[43m_cdist_callable\u001b[49m\u001b[43m(\u001b[49m\u001b[43mXA\u001b[49m\u001b[43m,\u001b[49m\u001b[43m \u001b[49m\u001b[43mXB\u001b[49m\u001b[43m,\u001b[49m\u001b[43m \u001b[49m\u001b[43mmetric\u001b[49m\u001b[38;5;241;43m=\u001b[39;49m\u001b[43mmetric\u001b[49m\u001b[43m,\u001b[49m\u001b[43m \u001b[49m\u001b[43mout\u001b[49m\u001b[38;5;241;43m=\u001b[39;49m\u001b[43mout\u001b[49m\u001b[43m,\u001b[49m\u001b[43m \u001b[49m\u001b[38;5;241;43m*\u001b[39;49m\u001b[38;5;241;43m*\u001b[39;49m\u001b[43mkwargs\u001b[49m\u001b[43m)\u001b[49m\n\u001b[1;32m   2949\u001b[0m \u001b[38;5;28;01melif\u001b[39;00m \u001b[38;5;28misinstance\u001b[39m(metric, \u001b[38;5;28mstr\u001b[39m):\n\u001b[1;32m   2950\u001b[0m     mstr \u001b[38;5;241m=\u001b[39m metric\u001b[38;5;241m.\u001b[39mlower()\n",
      "File \u001b[0;32m~/miniconda3/envs/bertrand/lib/python3.8/site-packages/scipy/spatial/distance.py:2612\u001b[0m, in \u001b[0;36m_cdist_callable\u001b[0;34m(XA, XB, out, metric, **kwargs)\u001b[0m\n\u001b[1;32m   2610\u001b[0m \u001b[38;5;28;01mfor\u001b[39;00m i \u001b[38;5;129;01min\u001b[39;00m \u001b[38;5;28mrange\u001b[39m(mA):\n\u001b[1;32m   2611\u001b[0m     \u001b[38;5;28;01mfor\u001b[39;00m j \u001b[38;5;129;01min\u001b[39;00m \u001b[38;5;28mrange\u001b[39m(mB):\n\u001b[0;32m-> 2612\u001b[0m         dm[i, j] \u001b[38;5;241m=\u001b[39m \u001b[43mmetric\u001b[49m\u001b[43m(\u001b[49m\u001b[43mXA\u001b[49m\u001b[43m[\u001b[49m\u001b[43mi\u001b[49m\u001b[43m]\u001b[49m\u001b[43m,\u001b[49m\u001b[43m \u001b[49m\u001b[43mXB\u001b[49m\u001b[43m[\u001b[49m\u001b[43mj\u001b[49m\u001b[43m]\u001b[49m\u001b[43m,\u001b[49m\u001b[43m \u001b[49m\u001b[38;5;241;43m*\u001b[39;49m\u001b[38;5;241;43m*\u001b[39;49m\u001b[43mkwargs\u001b[49m\u001b[43m)\u001b[49m\n\u001b[1;32m   2613\u001b[0m \u001b[38;5;28;01mreturn\u001b[39;00m dm\n",
      "File \u001b[0;32m~/Documents/bertrand/bertrand/immrep/sample_test_set.py:14\u001b[0m, in \u001b[0;36mdist\u001b[0;34m(x, y)\u001b[0m\n\u001b[1;32m     13\u001b[0m \u001b[38;5;28;01mdef\u001b[39;00m \u001b[38;5;21mdist\u001b[39m(x, y):\n\u001b[0;32m---> 14\u001b[0m     \u001b[38;5;28;01mreturn\u001b[39;00m \u001b[43mdistance\u001b[49m\u001b[43m(\u001b[49m\u001b[43mx\u001b[49m\u001b[43m[\u001b[49m\u001b[38;5;241;43m0\u001b[39;49m\u001b[43m]\u001b[49m\u001b[43m,\u001b[49m\u001b[43m \u001b[49m\u001b[43my\u001b[49m\u001b[43m[\u001b[49m\u001b[38;5;241;43m0\u001b[39;49m\u001b[43m]\u001b[49m\u001b[43m)\u001b[49m\n",
      "File \u001b[0;32m~/miniconda3/envs/bertrand/lib/python3.8/site-packages/Levenshtein/__init__.py:61\u001b[0m, in \u001b[0;36mdistance\u001b[0;34m(s1, s2, weights, processor, score_cutoff)\u001b[0m\n\u001b[1;32m     31\u001b[0m \u001b[38;5;28;01mfrom\u001b[39;00m \u001b[38;5;21;01mLevenshtein\u001b[39;00m\u001b[38;5;21;01m.\u001b[39;00m\u001b[38;5;21;01mlevenshtein_cpp\u001b[39;00m \u001b[38;5;28;01mimport\u001b[39;00m (\n\u001b[1;32m     32\u001b[0m     quickmedian,\n\u001b[1;32m     33\u001b[0m     median,\n\u001b[0;32m   (...)\u001b[0m\n\u001b[1;32m     37\u001b[0m     seqratio,\n\u001b[1;32m     38\u001b[0m )\n\u001b[1;32m     40\u001b[0m __all__ \u001b[38;5;241m=\u001b[39m [\n\u001b[1;32m     41\u001b[0m     \u001b[38;5;124m\"\u001b[39m\u001b[38;5;124mquickmedian\u001b[39m\u001b[38;5;124m\"\u001b[39m,\n\u001b[1;32m     42\u001b[0m     \u001b[38;5;124m\"\u001b[39m\u001b[38;5;124mmedian\u001b[39m\u001b[38;5;124m\"\u001b[39m,\n\u001b[0;32m   (...)\u001b[0m\n\u001b[1;32m     57\u001b[0m     \u001b[38;5;124m\"\u001b[39m\u001b[38;5;124minverse\u001b[39m\u001b[38;5;124m\"\u001b[39m,\n\u001b[1;32m     58\u001b[0m ]\n\u001b[0;32m---> 61\u001b[0m \u001b[38;5;28;01mdef\u001b[39;00m \u001b[38;5;21mdistance\u001b[39m(s1, s2, \u001b[38;5;241m*\u001b[39m, weights\u001b[38;5;241m=\u001b[39m(\u001b[38;5;241m1\u001b[39m, \u001b[38;5;241m1\u001b[39m, \u001b[38;5;241m1\u001b[39m), processor\u001b[38;5;241m=\u001b[39m\u001b[38;5;28;01mNone\u001b[39;00m, score_cutoff\u001b[38;5;241m=\u001b[39m\u001b[38;5;28;01mNone\u001b[39;00m):\n\u001b[1;32m     62\u001b[0m \u001b[38;5;250m    \u001b[39m\u001b[38;5;124;03m\"\"\"\u001b[39;00m\n\u001b[1;32m     63\u001b[0m \u001b[38;5;124;03m    Calculates the minimum number of insertions, deletions, and substitutions\u001b[39;00m\n\u001b[1;32m     64\u001b[0m \u001b[38;5;124;03m    required to change one sequence into the other according to Levenshtein with custom\u001b[39;00m\n\u001b[0;32m   (...)\u001b[0m\n\u001b[1;32m    114\u001b[0m \u001b[38;5;124;03m    3\u001b[39;00m\n\u001b[1;32m    115\u001b[0m \u001b[38;5;124;03m    \"\"\"\u001b[39;00m\n\u001b[1;32m    116\u001b[0m     \u001b[38;5;28;01mreturn\u001b[39;00m _Levenshtein\u001b[38;5;241m.\u001b[39mdistance(\n\u001b[1;32m    117\u001b[0m         s1, s2, weights\u001b[38;5;241m=\u001b[39mweights, processor\u001b[38;5;241m=\u001b[39mprocessor, score_cutoff\u001b[38;5;241m=\u001b[39mscore_cutoff\n\u001b[1;32m    118\u001b[0m     )\n",
      "\u001b[0;31mKeyboardInterrupt\u001b[0m: "
     ]
    }
   ],
   "source": [
    "data_splits = train_test_additional_generator(train_set, test_set, NTEST=7)\n",
    "for data_split in data_splits:\n",
    "    X = data_split['train_sample'].reset_index(drop=True)\n",
    "    X_test = data_split['test_sample'].reset_index(drop=True)\n",
    "    X_val = X.groupby(['Peptide', 'y']).sample(frac=0.1)\n",
    "    X_train = X[~X.index.isin(X_val.index)]\n",
    "    break"
   ]
  },
  {
   "cell_type": "code",
   "execution_count": 9,
   "id": "6474709c-db08-437c-8022-a32d279735a6",
   "metadata": {
    "tags": []
   },
   "outputs": [],
   "source": [
    "train_dataset = PeptideTCRDataset(X_train.copy())\n",
    "val_dataset = PeptideTCRDataset(X_val)\n",
    "test_dataset = PeptideTCRDataset(X_test)"
   ]
  },
  {
   "cell_type": "code",
   "execution_count": 146,
   "id": "3049d9e9-ad05-48d7-8f7e-d4aa1dd80730",
   "metadata": {
    "tags": []
   },
   "outputs": [],
   "source": [
    "ckpt1 = '../../../results/pan-models-w-tcr-2/checkpoint-27414/'"
   ]
  },
  {
   "cell_type": "code",
   "execution_count": 147,
   "id": "7757a699-0e60-4bfd-8dd4-f7a29b716f8d",
   "metadata": {
    "tags": []
   },
   "outputs": [],
   "source": [
    "ckpt2 = '../../../results/pan-models-w-tcr-2/checkpoint-76150/'"
   ]
  },
  {
   "cell_type": "code",
   "execution_count": 148,
   "id": "7cb1d7e7-7240-4787-b846-5a03626480e2",
   "metadata": {
    "scrolled": true,
    "tags": []
   },
   "outputs": [
    {
     "name": "stderr",
     "output_type": "stream",
     "text": [
      "loading configuration file ../../../results/pan-models-w-tcr-2/checkpoint-76150/config.json\n",
      "Model config BertConfig {\n",
      "  \"_name_or_path\": \"results/mlm-ptcr-2/checkpoints/checkpoint-143888/\",\n",
      "  \"architectures\": [\n",
      "    \"BERTrand\"\n",
      "  ],\n",
      "  \"attention_probs_dropout_prob\": 0.1,\n",
      "  \"classifier_dropout\": null,\n",
      "  \"hidden_act\": \"gelu\",\n",
      "  \"hidden_dropout_prob\": 0.1,\n",
      "  \"hidden_size\": 512,\n",
      "  \"initializer_range\": 0.02,\n",
      "  \"intermediate_size\": 2048,\n",
      "  \"layer_norm_eps\": 1e-12,\n",
      "  \"max_position_embeddings\": 70,\n",
      "  \"model_type\": \"bert\",\n",
      "  \"num_attention_heads\": 8,\n",
      "  \"num_hidden_layers\": 8,\n",
      "  \"pad_token_id\": 0,\n",
      "  \"position_embedding_type\": \"absolute\",\n",
      "  \"torch_dtype\": \"float32\",\n",
      "  \"transformers_version\": \"4.16.2\",\n",
      "  \"type_vocab_size\": 3,\n",
      "  \"use_cache\": true,\n",
      "  \"vocab_size\": 25\n",
      "}\n",
      "\n",
      "loading weights file ../../../results/pan-models-w-tcr-2/checkpoint-76150/pytorch_model.bin\n",
      "All model checkpoint weights were used when initializing BERTrand.\n",
      "\n",
      "All the weights of BERTrand were initialized from the model checkpoint at ../../../results/pan-models-w-tcr-2/checkpoint-76150/.\n",
      "If your task is similar to the task the model of the checkpoint was trained on, you can already use BERTrand for predictions without further training.\n"
     ]
    },
    {
     "data": {
      "text/plain": [
       "BERTrand(\n",
       "  (bert): BertModel(\n",
       "    (embeddings): BertEmbeddings(\n",
       "      (word_embeddings): Embedding(25, 512, padding_idx=0)\n",
       "      (position_embeddings): Embedding(70, 512)\n",
       "      (token_type_embeddings): Embedding(3, 512)\n",
       "      (LayerNorm): LayerNorm((512,), eps=1e-12, elementwise_affine=True)\n",
       "      (dropout): Dropout(p=0.1, inplace=False)\n",
       "    )\n",
       "    (encoder): BertEncoder(\n",
       "      (layer): ModuleList(\n",
       "        (0): BertLayer(\n",
       "          (attention): BertAttention(\n",
       "            (self): BertSelfAttention(\n",
       "              (query): Linear(in_features=512, out_features=512, bias=True)\n",
       "              (key): Linear(in_features=512, out_features=512, bias=True)\n",
       "              (value): Linear(in_features=512, out_features=512, bias=True)\n",
       "              (dropout): Dropout(p=0.1, inplace=False)\n",
       "            )\n",
       "            (output): BertSelfOutput(\n",
       "              (dense): Linear(in_features=512, out_features=512, bias=True)\n",
       "              (LayerNorm): LayerNorm((512,), eps=1e-12, elementwise_affine=True)\n",
       "              (dropout): Dropout(p=0.1, inplace=False)\n",
       "            )\n",
       "          )\n",
       "          (intermediate): BertIntermediate(\n",
       "            (dense): Linear(in_features=512, out_features=2048, bias=True)\n",
       "          )\n",
       "          (output): BertOutput(\n",
       "            (dense): Linear(in_features=2048, out_features=512, bias=True)\n",
       "            (LayerNorm): LayerNorm((512,), eps=1e-12, elementwise_affine=True)\n",
       "            (dropout): Dropout(p=0.1, inplace=False)\n",
       "          )\n",
       "        )\n",
       "        (1): BertLayer(\n",
       "          (attention): BertAttention(\n",
       "            (self): BertSelfAttention(\n",
       "              (query): Linear(in_features=512, out_features=512, bias=True)\n",
       "              (key): Linear(in_features=512, out_features=512, bias=True)\n",
       "              (value): Linear(in_features=512, out_features=512, bias=True)\n",
       "              (dropout): Dropout(p=0.1, inplace=False)\n",
       "            )\n",
       "            (output): BertSelfOutput(\n",
       "              (dense): Linear(in_features=512, out_features=512, bias=True)\n",
       "              (LayerNorm): LayerNorm((512,), eps=1e-12, elementwise_affine=True)\n",
       "              (dropout): Dropout(p=0.1, inplace=False)\n",
       "            )\n",
       "          )\n",
       "          (intermediate): BertIntermediate(\n",
       "            (dense): Linear(in_features=512, out_features=2048, bias=True)\n",
       "          )\n",
       "          (output): BertOutput(\n",
       "            (dense): Linear(in_features=2048, out_features=512, bias=True)\n",
       "            (LayerNorm): LayerNorm((512,), eps=1e-12, elementwise_affine=True)\n",
       "            (dropout): Dropout(p=0.1, inplace=False)\n",
       "          )\n",
       "        )\n",
       "        (2): BertLayer(\n",
       "          (attention): BertAttention(\n",
       "            (self): BertSelfAttention(\n",
       "              (query): Linear(in_features=512, out_features=512, bias=True)\n",
       "              (key): Linear(in_features=512, out_features=512, bias=True)\n",
       "              (value): Linear(in_features=512, out_features=512, bias=True)\n",
       "              (dropout): Dropout(p=0.1, inplace=False)\n",
       "            )\n",
       "            (output): BertSelfOutput(\n",
       "              (dense): Linear(in_features=512, out_features=512, bias=True)\n",
       "              (LayerNorm): LayerNorm((512,), eps=1e-12, elementwise_affine=True)\n",
       "              (dropout): Dropout(p=0.1, inplace=False)\n",
       "            )\n",
       "          )\n",
       "          (intermediate): BertIntermediate(\n",
       "            (dense): Linear(in_features=512, out_features=2048, bias=True)\n",
       "          )\n",
       "          (output): BertOutput(\n",
       "            (dense): Linear(in_features=2048, out_features=512, bias=True)\n",
       "            (LayerNorm): LayerNorm((512,), eps=1e-12, elementwise_affine=True)\n",
       "            (dropout): Dropout(p=0.1, inplace=False)\n",
       "          )\n",
       "        )\n",
       "        (3): BertLayer(\n",
       "          (attention): BertAttention(\n",
       "            (self): BertSelfAttention(\n",
       "              (query): Linear(in_features=512, out_features=512, bias=True)\n",
       "              (key): Linear(in_features=512, out_features=512, bias=True)\n",
       "              (value): Linear(in_features=512, out_features=512, bias=True)\n",
       "              (dropout): Dropout(p=0.1, inplace=False)\n",
       "            )\n",
       "            (output): BertSelfOutput(\n",
       "              (dense): Linear(in_features=512, out_features=512, bias=True)\n",
       "              (LayerNorm): LayerNorm((512,), eps=1e-12, elementwise_affine=True)\n",
       "              (dropout): Dropout(p=0.1, inplace=False)\n",
       "            )\n",
       "          )\n",
       "          (intermediate): BertIntermediate(\n",
       "            (dense): Linear(in_features=512, out_features=2048, bias=True)\n",
       "          )\n",
       "          (output): BertOutput(\n",
       "            (dense): Linear(in_features=2048, out_features=512, bias=True)\n",
       "            (LayerNorm): LayerNorm((512,), eps=1e-12, elementwise_affine=True)\n",
       "            (dropout): Dropout(p=0.1, inplace=False)\n",
       "          )\n",
       "        )\n",
       "        (4): BertLayer(\n",
       "          (attention): BertAttention(\n",
       "            (self): BertSelfAttention(\n",
       "              (query): Linear(in_features=512, out_features=512, bias=True)\n",
       "              (key): Linear(in_features=512, out_features=512, bias=True)\n",
       "              (value): Linear(in_features=512, out_features=512, bias=True)\n",
       "              (dropout): Dropout(p=0.1, inplace=False)\n",
       "            )\n",
       "            (output): BertSelfOutput(\n",
       "              (dense): Linear(in_features=512, out_features=512, bias=True)\n",
       "              (LayerNorm): LayerNorm((512,), eps=1e-12, elementwise_affine=True)\n",
       "              (dropout): Dropout(p=0.1, inplace=False)\n",
       "            )\n",
       "          )\n",
       "          (intermediate): BertIntermediate(\n",
       "            (dense): Linear(in_features=512, out_features=2048, bias=True)\n",
       "          )\n",
       "          (output): BertOutput(\n",
       "            (dense): Linear(in_features=2048, out_features=512, bias=True)\n",
       "            (LayerNorm): LayerNorm((512,), eps=1e-12, elementwise_affine=True)\n",
       "            (dropout): Dropout(p=0.1, inplace=False)\n",
       "          )\n",
       "        )\n",
       "        (5): BertLayer(\n",
       "          (attention): BertAttention(\n",
       "            (self): BertSelfAttention(\n",
       "              (query): Linear(in_features=512, out_features=512, bias=True)\n",
       "              (key): Linear(in_features=512, out_features=512, bias=True)\n",
       "              (value): Linear(in_features=512, out_features=512, bias=True)\n",
       "              (dropout): Dropout(p=0.1, inplace=False)\n",
       "            )\n",
       "            (output): BertSelfOutput(\n",
       "              (dense): Linear(in_features=512, out_features=512, bias=True)\n",
       "              (LayerNorm): LayerNorm((512,), eps=1e-12, elementwise_affine=True)\n",
       "              (dropout): Dropout(p=0.1, inplace=False)\n",
       "            )\n",
       "          )\n",
       "          (intermediate): BertIntermediate(\n",
       "            (dense): Linear(in_features=512, out_features=2048, bias=True)\n",
       "          )\n",
       "          (output): BertOutput(\n",
       "            (dense): Linear(in_features=2048, out_features=512, bias=True)\n",
       "            (LayerNorm): LayerNorm((512,), eps=1e-12, elementwise_affine=True)\n",
       "            (dropout): Dropout(p=0.1, inplace=False)\n",
       "          )\n",
       "        )\n",
       "        (6): BertLayer(\n",
       "          (attention): BertAttention(\n",
       "            (self): BertSelfAttention(\n",
       "              (query): Linear(in_features=512, out_features=512, bias=True)\n",
       "              (key): Linear(in_features=512, out_features=512, bias=True)\n",
       "              (value): Linear(in_features=512, out_features=512, bias=True)\n",
       "              (dropout): Dropout(p=0.1, inplace=False)\n",
       "            )\n",
       "            (output): BertSelfOutput(\n",
       "              (dense): Linear(in_features=512, out_features=512, bias=True)\n",
       "              (LayerNorm): LayerNorm((512,), eps=1e-12, elementwise_affine=True)\n",
       "              (dropout): Dropout(p=0.1, inplace=False)\n",
       "            )\n",
       "          )\n",
       "          (intermediate): BertIntermediate(\n",
       "            (dense): Linear(in_features=512, out_features=2048, bias=True)\n",
       "          )\n",
       "          (output): BertOutput(\n",
       "            (dense): Linear(in_features=2048, out_features=512, bias=True)\n",
       "            (LayerNorm): LayerNorm((512,), eps=1e-12, elementwise_affine=True)\n",
       "            (dropout): Dropout(p=0.1, inplace=False)\n",
       "          )\n",
       "        )\n",
       "        (7): BertLayer(\n",
       "          (attention): BertAttention(\n",
       "            (self): BertSelfAttention(\n",
       "              (query): Linear(in_features=512, out_features=512, bias=True)\n",
       "              (key): Linear(in_features=512, out_features=512, bias=True)\n",
       "              (value): Linear(in_features=512, out_features=512, bias=True)\n",
       "              (dropout): Dropout(p=0.1, inplace=False)\n",
       "            )\n",
       "            (output): BertSelfOutput(\n",
       "              (dense): Linear(in_features=512, out_features=512, bias=True)\n",
       "              (LayerNorm): LayerNorm((512,), eps=1e-12, elementwise_affine=True)\n",
       "              (dropout): Dropout(p=0.1, inplace=False)\n",
       "            )\n",
       "          )\n",
       "          (intermediate): BertIntermediate(\n",
       "            (dense): Linear(in_features=512, out_features=2048, bias=True)\n",
       "          )\n",
       "          (output): BertOutput(\n",
       "            (dense): Linear(in_features=2048, out_features=512, bias=True)\n",
       "            (LayerNorm): LayerNorm((512,), eps=1e-12, elementwise_affine=True)\n",
       "            (dropout): Dropout(p=0.1, inplace=False)\n",
       "          )\n",
       "        )\n",
       "      )\n",
       "    )\n",
       "    (pooler): BertPooler(\n",
       "      (dense): Linear(in_features=512, out_features=512, bias=True)\n",
       "      (activation): Tanh()\n",
       "    )\n",
       "  )\n",
       "  (classifier): RobertaClassificationHead(\n",
       "    (dense): Linear(in_features=512, out_features=512, bias=True)\n",
       "    (dropout): Dropout(p=0.1, inplace=False)\n",
       "    (out_proj): Linear(in_features=512, out_features=2, bias=True)\n",
       "  )\n",
       ")"
      ]
     },
     "execution_count": 148,
     "metadata": {},
     "output_type": "execute_result"
    }
   ],
   "source": [
    "model = BERTrand.from_pretrained(ckpt2)\n",
    "model.eval()"
   ]
  },
  {
   "cell_type": "code",
   "execution_count": 149,
   "id": "1a5bdf44-11eb-4957-af63-4db0a2ed996c",
   "metadata": {
    "tags": []
   },
   "outputs": [],
   "source": [
    "# predictions = get_predictions(model, cancer_dataset)"
   ]
  },
  {
   "cell_type": "code",
   "execution_count": 150,
   "id": "6306bc79-7834-40a5-856d-94a617f5d77c",
   "metadata": {
    "tags": []
   },
   "outputs": [
    {
     "name": "stderr",
     "output_type": "stream",
     "text": [
      "PyTorch: setting up devices\n",
      "The default value for the training argument `--report_to` will change in v5 (from all installed integrations to none). In v5, you will need to use `--report_to all` to get the same behavior as now. You should start updating your code and make this info disappear :-).\n"
     ]
    }
   ],
   "source": [
    "training_args = get_training_args('./')"
   ]
  },
  {
   "cell_type": "code",
   "execution_count": 151,
   "id": "3f92bc43-c32b-4121-93c3-dd76ccd2339b",
   "metadata": {
    "tags": []
   },
   "outputs": [],
   "source": [
    "data_collator = DataCollatorWithPadding(tokenizer=tokenizer)\n",
    "trainer = Trainer(\n",
    "    model=model,\n",
    "    args=training_args,\n",
    "    eval_dataset=test_dataset,\n",
    "    data_collator=data_collator,\n",
    ")"
   ]
  },
  {
   "cell_type": "code",
   "execution_count": 152,
   "id": "99a3c648-636c-4a49-ab09-16e3ced23f73",
   "metadata": {
    "tags": []
   },
   "outputs": [
    {
     "name": "stderr",
     "output_type": "stream",
     "text": [
      "***** Running Prediction *****\n",
      "  Num examples = 2252\n",
      "  Batch size = 256\n"
     ]
    },
    {
     "data": {
      "text/html": [
       "\n",
       "    <div>\n",
       "      \n",
       "      <progress value='9' max='9' style='width:300px; height:20px; vertical-align: middle;'></progress>\n",
       "      [9/9 00:30]\n",
       "    </div>\n",
       "    "
      ],
      "text/plain": [
       "<IPython.core.display.HTML object>"
      ]
     },
     "metadata": {},
     "output_type": "display_data"
    }
   ],
   "source": [
    "predictions = trainer.predict(test_dataset)"
   ]
  },
  {
   "cell_type": "code",
   "execution_count": 109,
   "id": "1d700f81-cd66-4e4b-a99a-4a5acbbf7be2",
   "metadata": {
    "scrolled": true,
    "tags": []
   },
   "outputs": [
    {
     "name": "stderr",
     "output_type": "stream",
     "text": [
      "***** Running Prediction *****\n",
      "  Num examples = 48730\n",
      "  Batch size = 256\n"
     ]
    },
    {
     "ename": "KeyboardInterrupt",
     "evalue": "",
     "output_type": "error",
     "traceback": [
      "\u001b[0;31m---------------------------------------------------------------------------\u001b[0m",
      "\u001b[0;31mKeyboardInterrupt\u001b[0m                         Traceback (most recent call last)",
      "Cell \u001b[0;32mIn[109], line 1\u001b[0m\n\u001b[0;32m----> 1\u001b[0m predictions_train \u001b[38;5;241m=\u001b[39m \u001b[43mtrainer\u001b[49m\u001b[38;5;241;43m.\u001b[39;49m\u001b[43mpredict\u001b[49m\u001b[43m(\u001b[49m\u001b[43mtrain_dataset\u001b[49m\u001b[43m)\u001b[49m\n",
      "File \u001b[0;32m~/miniconda3/envs/bertrand/lib/python3.8/site-packages/transformers/trainer.py:2282\u001b[0m, in \u001b[0;36mTrainer.predict\u001b[0;34m(self, test_dataset, ignore_keys, metric_key_prefix)\u001b[0m\n\u001b[1;32m   2279\u001b[0m start_time \u001b[38;5;241m=\u001b[39m time\u001b[38;5;241m.\u001b[39mtime()\n\u001b[1;32m   2281\u001b[0m eval_loop \u001b[38;5;241m=\u001b[39m \u001b[38;5;28mself\u001b[39m\u001b[38;5;241m.\u001b[39mprediction_loop \u001b[38;5;28;01mif\u001b[39;00m \u001b[38;5;28mself\u001b[39m\u001b[38;5;241m.\u001b[39margs\u001b[38;5;241m.\u001b[39muse_legacy_prediction_loop \u001b[38;5;28;01melse\u001b[39;00m \u001b[38;5;28mself\u001b[39m\u001b[38;5;241m.\u001b[39mevaluation_loop\n\u001b[0;32m-> 2282\u001b[0m output \u001b[38;5;241m=\u001b[39m \u001b[43meval_loop\u001b[49m\u001b[43m(\u001b[49m\n\u001b[1;32m   2283\u001b[0m \u001b[43m    \u001b[49m\u001b[43mtest_dataloader\u001b[49m\u001b[43m,\u001b[49m\u001b[43m \u001b[49m\u001b[43mdescription\u001b[49m\u001b[38;5;241;43m=\u001b[39;49m\u001b[38;5;124;43m\"\u001b[39;49m\u001b[38;5;124;43mPrediction\u001b[39;49m\u001b[38;5;124;43m\"\u001b[39;49m\u001b[43m,\u001b[49m\u001b[43m \u001b[49m\u001b[43mignore_keys\u001b[49m\u001b[38;5;241;43m=\u001b[39;49m\u001b[43mignore_keys\u001b[49m\u001b[43m,\u001b[49m\u001b[43m \u001b[49m\u001b[43mmetric_key_prefix\u001b[49m\u001b[38;5;241;43m=\u001b[39;49m\u001b[43mmetric_key_prefix\u001b[49m\n\u001b[1;32m   2284\u001b[0m \u001b[43m\u001b[49m\u001b[43m)\u001b[49m\n\u001b[1;32m   2285\u001b[0m total_batch_size \u001b[38;5;241m=\u001b[39m \u001b[38;5;28mself\u001b[39m\u001b[38;5;241m.\u001b[39margs\u001b[38;5;241m.\u001b[39meval_batch_size \u001b[38;5;241m*\u001b[39m \u001b[38;5;28mself\u001b[39m\u001b[38;5;241m.\u001b[39margs\u001b[38;5;241m.\u001b[39mworld_size\n\u001b[1;32m   2286\u001b[0m output\u001b[38;5;241m.\u001b[39mmetrics\u001b[38;5;241m.\u001b[39mupdate(\n\u001b[1;32m   2287\u001b[0m     speed_metrics(\n\u001b[1;32m   2288\u001b[0m         metric_key_prefix,\n\u001b[0;32m   (...)\u001b[0m\n\u001b[1;32m   2292\u001b[0m     )\n\u001b[1;32m   2293\u001b[0m )\n",
      "File \u001b[0;32m~/miniconda3/envs/bertrand/lib/python3.8/site-packages/transformers/trainer.py:2382\u001b[0m, in \u001b[0;36mTrainer.evaluation_loop\u001b[0;34m(self, dataloader, description, prediction_loss_only, ignore_keys, metric_key_prefix)\u001b[0m\n\u001b[1;32m   2379\u001b[0m         batch_size \u001b[38;5;241m=\u001b[39m observed_batch_size\n\u001b[1;32m   2381\u001b[0m \u001b[38;5;66;03m# Prediction step\u001b[39;00m\n\u001b[0;32m-> 2382\u001b[0m loss, logits, labels \u001b[38;5;241m=\u001b[39m \u001b[38;5;28;43mself\u001b[39;49m\u001b[38;5;241;43m.\u001b[39;49m\u001b[43mprediction_step\u001b[49m\u001b[43m(\u001b[49m\u001b[43mmodel\u001b[49m\u001b[43m,\u001b[49m\u001b[43m \u001b[49m\u001b[43minputs\u001b[49m\u001b[43m,\u001b[49m\u001b[43m \u001b[49m\u001b[43mprediction_loss_only\u001b[49m\u001b[43m,\u001b[49m\u001b[43m \u001b[49m\u001b[43mignore_keys\u001b[49m\u001b[38;5;241;43m=\u001b[39;49m\u001b[43mignore_keys\u001b[49m\u001b[43m)\u001b[49m\n\u001b[1;32m   2384\u001b[0m \u001b[38;5;28;01mif\u001b[39;00m is_torch_tpu_available():\n\u001b[1;32m   2385\u001b[0m     xm\u001b[38;5;241m.\u001b[39mmark_step()\n",
      "File \u001b[0;32m~/miniconda3/envs/bertrand/lib/python3.8/site-packages/transformers/trainer.py:2590\u001b[0m, in \u001b[0;36mTrainer.prediction_step\u001b[0;34m(self, model, inputs, prediction_loss_only, ignore_keys)\u001b[0m\n\u001b[1;32m   2588\u001b[0m \u001b[38;5;28;01mif\u001b[39;00m has_labels:\n\u001b[1;32m   2589\u001b[0m     \u001b[38;5;28;01mwith\u001b[39;00m \u001b[38;5;28mself\u001b[39m\u001b[38;5;241m.\u001b[39mautocast_smart_context_manager():\n\u001b[0;32m-> 2590\u001b[0m         loss, outputs \u001b[38;5;241m=\u001b[39m \u001b[38;5;28;43mself\u001b[39;49m\u001b[38;5;241;43m.\u001b[39;49m\u001b[43mcompute_loss\u001b[49m\u001b[43m(\u001b[49m\u001b[43mmodel\u001b[49m\u001b[43m,\u001b[49m\u001b[43m \u001b[49m\u001b[43minputs\u001b[49m\u001b[43m,\u001b[49m\u001b[43m \u001b[49m\u001b[43mreturn_outputs\u001b[49m\u001b[38;5;241;43m=\u001b[39;49m\u001b[38;5;28;43;01mTrue\u001b[39;49;00m\u001b[43m)\u001b[49m\n\u001b[1;32m   2591\u001b[0m     loss \u001b[38;5;241m=\u001b[39m loss\u001b[38;5;241m.\u001b[39mmean()\u001b[38;5;241m.\u001b[39mdetach()\n\u001b[1;32m   2593\u001b[0m     \u001b[38;5;28;01mif\u001b[39;00m \u001b[38;5;28misinstance\u001b[39m(outputs, \u001b[38;5;28mdict\u001b[39m):\n",
      "File \u001b[0;32m~/miniconda3/envs/bertrand/lib/python3.8/site-packages/transformers/trainer.py:1972\u001b[0m, in \u001b[0;36mTrainer.compute_loss\u001b[0;34m(self, model, inputs, return_outputs)\u001b[0m\n\u001b[1;32m   1970\u001b[0m \u001b[38;5;28;01melse\u001b[39;00m:\n\u001b[1;32m   1971\u001b[0m     labels \u001b[38;5;241m=\u001b[39m \u001b[38;5;28;01mNone\u001b[39;00m\n\u001b[0;32m-> 1972\u001b[0m outputs \u001b[38;5;241m=\u001b[39m \u001b[43mmodel\u001b[49m\u001b[43m(\u001b[49m\u001b[38;5;241;43m*\u001b[39;49m\u001b[38;5;241;43m*\u001b[39;49m\u001b[43minputs\u001b[49m\u001b[43m)\u001b[49m\n\u001b[1;32m   1973\u001b[0m \u001b[38;5;66;03m# Save past state if it exists\u001b[39;00m\n\u001b[1;32m   1974\u001b[0m \u001b[38;5;66;03m# TODO: this needs to be fixed and made cleaner later.\u001b[39;00m\n\u001b[1;32m   1975\u001b[0m \u001b[38;5;28;01mif\u001b[39;00m \u001b[38;5;28mself\u001b[39m\u001b[38;5;241m.\u001b[39margs\u001b[38;5;241m.\u001b[39mpast_index \u001b[38;5;241m>\u001b[39m\u001b[38;5;241m=\u001b[39m \u001b[38;5;241m0\u001b[39m:\n",
      "File \u001b[0;32m~/miniconda3/envs/bertrand/lib/python3.8/site-packages/torch/nn/modules/module.py:1110\u001b[0m, in \u001b[0;36mModule._call_impl\u001b[0;34m(self, *input, **kwargs)\u001b[0m\n\u001b[1;32m   1106\u001b[0m \u001b[38;5;66;03m# If we don't have any hooks, we want to skip the rest of the logic in\u001b[39;00m\n\u001b[1;32m   1107\u001b[0m \u001b[38;5;66;03m# this function, and just call forward.\u001b[39;00m\n\u001b[1;32m   1108\u001b[0m \u001b[38;5;28;01mif\u001b[39;00m \u001b[38;5;129;01mnot\u001b[39;00m (\u001b[38;5;28mself\u001b[39m\u001b[38;5;241m.\u001b[39m_backward_hooks \u001b[38;5;129;01mor\u001b[39;00m \u001b[38;5;28mself\u001b[39m\u001b[38;5;241m.\u001b[39m_forward_hooks \u001b[38;5;129;01mor\u001b[39;00m \u001b[38;5;28mself\u001b[39m\u001b[38;5;241m.\u001b[39m_forward_pre_hooks \u001b[38;5;129;01mor\u001b[39;00m _global_backward_hooks\n\u001b[1;32m   1109\u001b[0m         \u001b[38;5;129;01mor\u001b[39;00m _global_forward_hooks \u001b[38;5;129;01mor\u001b[39;00m _global_forward_pre_hooks):\n\u001b[0;32m-> 1110\u001b[0m     \u001b[38;5;28;01mreturn\u001b[39;00m \u001b[43mforward_call\u001b[49m\u001b[43m(\u001b[49m\u001b[38;5;241;43m*\u001b[39;49m\u001b[38;5;28;43minput\u001b[39;49m\u001b[43m,\u001b[49m\u001b[43m \u001b[49m\u001b[38;5;241;43m*\u001b[39;49m\u001b[38;5;241;43m*\u001b[39;49m\u001b[43mkwargs\u001b[49m\u001b[43m)\u001b[49m\n\u001b[1;32m   1111\u001b[0m \u001b[38;5;66;03m# Do not call functions when jit is used\u001b[39;00m\n\u001b[1;32m   1112\u001b[0m full_backward_hooks, non_full_backward_hooks \u001b[38;5;241m=\u001b[39m [], []\n",
      "File \u001b[0;32m~/Documents/bertrand/bertrand/model/model.py:64\u001b[0m, in \u001b[0;36mBERTrand.forward\u001b[0;34m(self, input_ids, attention_mask, token_type_ids, position_ids, head_mask, inputs_embeds, labels, weights, output_attentions, output_hidden_states, return_dict)\u001b[0m\n\u001b[1;32m     45\u001b[0m \u001b[38;5;250m\u001b[39m\u001b[38;5;124;03m\"\"\"\u001b[39;00m\n\u001b[1;32m     46\u001b[0m \n\u001b[1;32m     47\u001b[0m \u001b[38;5;124;03m:param input_ids: amino acid ids\u001b[39;00m\n\u001b[0;32m   (...)\u001b[0m\n\u001b[1;32m     58\u001b[0m \u001b[38;5;124;03m:return: loss, logits, hidden states, attention outputs (either a tuple or SequenceClassifierOutput)\u001b[39;00m\n\u001b[1;32m     59\u001b[0m \u001b[38;5;124;03m\"\"\"\u001b[39;00m\n\u001b[1;32m     60\u001b[0m return_dict \u001b[38;5;241m=\u001b[39m (\n\u001b[1;32m     61\u001b[0m     return_dict \u001b[38;5;28;01mif\u001b[39;00m return_dict \u001b[38;5;129;01mis\u001b[39;00m \u001b[38;5;129;01mnot\u001b[39;00m \u001b[38;5;28;01mNone\u001b[39;00m \u001b[38;5;28;01melse\u001b[39;00m \u001b[38;5;28mself\u001b[39m\u001b[38;5;241m.\u001b[39mconfig\u001b[38;5;241m.\u001b[39muse_return_dict\n\u001b[1;32m     62\u001b[0m )\n\u001b[0;32m---> 64\u001b[0m outputs \u001b[38;5;241m=\u001b[39m \u001b[38;5;28;43mself\u001b[39;49m\u001b[38;5;241;43m.\u001b[39;49m\u001b[43mbert\u001b[49m\u001b[43m(\u001b[49m\n\u001b[1;32m     65\u001b[0m \u001b[43m    \u001b[49m\u001b[43minput_ids\u001b[49m\u001b[43m,\u001b[49m\n\u001b[1;32m     66\u001b[0m \u001b[43m    \u001b[49m\u001b[43mattention_mask\u001b[49m\u001b[38;5;241;43m=\u001b[39;49m\u001b[43mattention_mask\u001b[49m\u001b[43m,\u001b[49m\n\u001b[1;32m     67\u001b[0m \u001b[43m    \u001b[49m\u001b[43mtoken_type_ids\u001b[49m\u001b[38;5;241;43m=\u001b[39;49m\u001b[43mtoken_type_ids\u001b[49m\u001b[43m,\u001b[49m\n\u001b[1;32m     68\u001b[0m \u001b[43m    \u001b[49m\u001b[43mposition_ids\u001b[49m\u001b[38;5;241;43m=\u001b[39;49m\u001b[43mposition_ids\u001b[49m\u001b[43m,\u001b[49m\n\u001b[1;32m     69\u001b[0m \u001b[43m    \u001b[49m\u001b[43mhead_mask\u001b[49m\u001b[38;5;241;43m=\u001b[39;49m\u001b[43mhead_mask\u001b[49m\u001b[43m,\u001b[49m\n\u001b[1;32m     70\u001b[0m \u001b[43m    \u001b[49m\u001b[43minputs_embeds\u001b[49m\u001b[38;5;241;43m=\u001b[39;49m\u001b[43minputs_embeds\u001b[49m\u001b[43m,\u001b[49m\n\u001b[1;32m     71\u001b[0m \u001b[43m    \u001b[49m\u001b[43moutput_attentions\u001b[49m\u001b[38;5;241;43m=\u001b[39;49m\u001b[43moutput_attentions\u001b[49m\u001b[43m,\u001b[49m\n\u001b[1;32m     72\u001b[0m \u001b[43m    \u001b[49m\u001b[43moutput_hidden_states\u001b[49m\u001b[38;5;241;43m=\u001b[39;49m\u001b[43moutput_hidden_states\u001b[49m\u001b[43m,\u001b[49m\n\u001b[1;32m     73\u001b[0m \u001b[43m    \u001b[49m\u001b[43mreturn_dict\u001b[49m\u001b[38;5;241;43m=\u001b[39;49m\u001b[43mreturn_dict\u001b[49m\u001b[43m,\u001b[49m\n\u001b[1;32m     74\u001b[0m \u001b[43m\u001b[49m\u001b[43m)\u001b[49m\n\u001b[1;32m     76\u001b[0m sequence_output \u001b[38;5;241m=\u001b[39m outputs[\u001b[38;5;241m0\u001b[39m]\n\u001b[1;32m     77\u001b[0m logits \u001b[38;5;241m=\u001b[39m \u001b[38;5;28mself\u001b[39m\u001b[38;5;241m.\u001b[39mclassifier(sequence_output)\n",
      "File \u001b[0;32m~/miniconda3/envs/bertrand/lib/python3.8/site-packages/torch/nn/modules/module.py:1110\u001b[0m, in \u001b[0;36mModule._call_impl\u001b[0;34m(self, *input, **kwargs)\u001b[0m\n\u001b[1;32m   1106\u001b[0m \u001b[38;5;66;03m# If we don't have any hooks, we want to skip the rest of the logic in\u001b[39;00m\n\u001b[1;32m   1107\u001b[0m \u001b[38;5;66;03m# this function, and just call forward.\u001b[39;00m\n\u001b[1;32m   1108\u001b[0m \u001b[38;5;28;01mif\u001b[39;00m \u001b[38;5;129;01mnot\u001b[39;00m (\u001b[38;5;28mself\u001b[39m\u001b[38;5;241m.\u001b[39m_backward_hooks \u001b[38;5;129;01mor\u001b[39;00m \u001b[38;5;28mself\u001b[39m\u001b[38;5;241m.\u001b[39m_forward_hooks \u001b[38;5;129;01mor\u001b[39;00m \u001b[38;5;28mself\u001b[39m\u001b[38;5;241m.\u001b[39m_forward_pre_hooks \u001b[38;5;129;01mor\u001b[39;00m _global_backward_hooks\n\u001b[1;32m   1109\u001b[0m         \u001b[38;5;129;01mor\u001b[39;00m _global_forward_hooks \u001b[38;5;129;01mor\u001b[39;00m _global_forward_pre_hooks):\n\u001b[0;32m-> 1110\u001b[0m     \u001b[38;5;28;01mreturn\u001b[39;00m \u001b[43mforward_call\u001b[49m\u001b[43m(\u001b[49m\u001b[38;5;241;43m*\u001b[39;49m\u001b[38;5;28;43minput\u001b[39;49m\u001b[43m,\u001b[49m\u001b[43m \u001b[49m\u001b[38;5;241;43m*\u001b[39;49m\u001b[38;5;241;43m*\u001b[39;49m\u001b[43mkwargs\u001b[49m\u001b[43m)\u001b[49m\n\u001b[1;32m   1111\u001b[0m \u001b[38;5;66;03m# Do not call functions when jit is used\u001b[39;00m\n\u001b[1;32m   1112\u001b[0m full_backward_hooks, non_full_backward_hooks \u001b[38;5;241m=\u001b[39m [], []\n",
      "File \u001b[0;32m~/miniconda3/envs/bertrand/lib/python3.8/site-packages/transformers/models/bert/modeling_bert.py:996\u001b[0m, in \u001b[0;36mBertModel.forward\u001b[0;34m(self, input_ids, attention_mask, token_type_ids, position_ids, head_mask, inputs_embeds, encoder_hidden_states, encoder_attention_mask, past_key_values, use_cache, output_attentions, output_hidden_states, return_dict)\u001b[0m\n\u001b[1;32m    987\u001b[0m head_mask \u001b[38;5;241m=\u001b[39m \u001b[38;5;28mself\u001b[39m\u001b[38;5;241m.\u001b[39mget_head_mask(head_mask, \u001b[38;5;28mself\u001b[39m\u001b[38;5;241m.\u001b[39mconfig\u001b[38;5;241m.\u001b[39mnum_hidden_layers)\n\u001b[1;32m    989\u001b[0m embedding_output \u001b[38;5;241m=\u001b[39m \u001b[38;5;28mself\u001b[39m\u001b[38;5;241m.\u001b[39membeddings(\n\u001b[1;32m    990\u001b[0m     input_ids\u001b[38;5;241m=\u001b[39minput_ids,\n\u001b[1;32m    991\u001b[0m     position_ids\u001b[38;5;241m=\u001b[39mposition_ids,\n\u001b[0;32m   (...)\u001b[0m\n\u001b[1;32m    994\u001b[0m     past_key_values_length\u001b[38;5;241m=\u001b[39mpast_key_values_length,\n\u001b[1;32m    995\u001b[0m )\n\u001b[0;32m--> 996\u001b[0m encoder_outputs \u001b[38;5;241m=\u001b[39m \u001b[38;5;28;43mself\u001b[39;49m\u001b[38;5;241;43m.\u001b[39;49m\u001b[43mencoder\u001b[49m\u001b[43m(\u001b[49m\n\u001b[1;32m    997\u001b[0m \u001b[43m    \u001b[49m\u001b[43membedding_output\u001b[49m\u001b[43m,\u001b[49m\n\u001b[1;32m    998\u001b[0m \u001b[43m    \u001b[49m\u001b[43mattention_mask\u001b[49m\u001b[38;5;241;43m=\u001b[39;49m\u001b[43mextended_attention_mask\u001b[49m\u001b[43m,\u001b[49m\n\u001b[1;32m    999\u001b[0m \u001b[43m    \u001b[49m\u001b[43mhead_mask\u001b[49m\u001b[38;5;241;43m=\u001b[39;49m\u001b[43mhead_mask\u001b[49m\u001b[43m,\u001b[49m\n\u001b[1;32m   1000\u001b[0m \u001b[43m    \u001b[49m\u001b[43mencoder_hidden_states\u001b[49m\u001b[38;5;241;43m=\u001b[39;49m\u001b[43mencoder_hidden_states\u001b[49m\u001b[43m,\u001b[49m\n\u001b[1;32m   1001\u001b[0m \u001b[43m    \u001b[49m\u001b[43mencoder_attention_mask\u001b[49m\u001b[38;5;241;43m=\u001b[39;49m\u001b[43mencoder_extended_attention_mask\u001b[49m\u001b[43m,\u001b[49m\n\u001b[1;32m   1002\u001b[0m \u001b[43m    \u001b[49m\u001b[43mpast_key_values\u001b[49m\u001b[38;5;241;43m=\u001b[39;49m\u001b[43mpast_key_values\u001b[49m\u001b[43m,\u001b[49m\n\u001b[1;32m   1003\u001b[0m \u001b[43m    \u001b[49m\u001b[43muse_cache\u001b[49m\u001b[38;5;241;43m=\u001b[39;49m\u001b[43muse_cache\u001b[49m\u001b[43m,\u001b[49m\n\u001b[1;32m   1004\u001b[0m \u001b[43m    \u001b[49m\u001b[43moutput_attentions\u001b[49m\u001b[38;5;241;43m=\u001b[39;49m\u001b[43moutput_attentions\u001b[49m\u001b[43m,\u001b[49m\n\u001b[1;32m   1005\u001b[0m \u001b[43m    \u001b[49m\u001b[43moutput_hidden_states\u001b[49m\u001b[38;5;241;43m=\u001b[39;49m\u001b[43moutput_hidden_states\u001b[49m\u001b[43m,\u001b[49m\n\u001b[1;32m   1006\u001b[0m \u001b[43m    \u001b[49m\u001b[43mreturn_dict\u001b[49m\u001b[38;5;241;43m=\u001b[39;49m\u001b[43mreturn_dict\u001b[49m\u001b[43m,\u001b[49m\n\u001b[1;32m   1007\u001b[0m \u001b[43m\u001b[49m\u001b[43m)\u001b[49m\n\u001b[1;32m   1008\u001b[0m sequence_output \u001b[38;5;241m=\u001b[39m encoder_outputs[\u001b[38;5;241m0\u001b[39m]\n\u001b[1;32m   1009\u001b[0m pooled_output \u001b[38;5;241m=\u001b[39m \u001b[38;5;28mself\u001b[39m\u001b[38;5;241m.\u001b[39mpooler(sequence_output) \u001b[38;5;28;01mif\u001b[39;00m \u001b[38;5;28mself\u001b[39m\u001b[38;5;241m.\u001b[39mpooler \u001b[38;5;129;01mis\u001b[39;00m \u001b[38;5;129;01mnot\u001b[39;00m \u001b[38;5;28;01mNone\u001b[39;00m \u001b[38;5;28;01melse\u001b[39;00m \u001b[38;5;28;01mNone\u001b[39;00m\n",
      "File \u001b[0;32m~/miniconda3/envs/bertrand/lib/python3.8/site-packages/torch/nn/modules/module.py:1110\u001b[0m, in \u001b[0;36mModule._call_impl\u001b[0;34m(self, *input, **kwargs)\u001b[0m\n\u001b[1;32m   1106\u001b[0m \u001b[38;5;66;03m# If we don't have any hooks, we want to skip the rest of the logic in\u001b[39;00m\n\u001b[1;32m   1107\u001b[0m \u001b[38;5;66;03m# this function, and just call forward.\u001b[39;00m\n\u001b[1;32m   1108\u001b[0m \u001b[38;5;28;01mif\u001b[39;00m \u001b[38;5;129;01mnot\u001b[39;00m (\u001b[38;5;28mself\u001b[39m\u001b[38;5;241m.\u001b[39m_backward_hooks \u001b[38;5;129;01mor\u001b[39;00m \u001b[38;5;28mself\u001b[39m\u001b[38;5;241m.\u001b[39m_forward_hooks \u001b[38;5;129;01mor\u001b[39;00m \u001b[38;5;28mself\u001b[39m\u001b[38;5;241m.\u001b[39m_forward_pre_hooks \u001b[38;5;129;01mor\u001b[39;00m _global_backward_hooks\n\u001b[1;32m   1109\u001b[0m         \u001b[38;5;129;01mor\u001b[39;00m _global_forward_hooks \u001b[38;5;129;01mor\u001b[39;00m _global_forward_pre_hooks):\n\u001b[0;32m-> 1110\u001b[0m     \u001b[38;5;28;01mreturn\u001b[39;00m \u001b[43mforward_call\u001b[49m\u001b[43m(\u001b[49m\u001b[38;5;241;43m*\u001b[39;49m\u001b[38;5;28;43minput\u001b[39;49m\u001b[43m,\u001b[49m\u001b[43m \u001b[49m\u001b[38;5;241;43m*\u001b[39;49m\u001b[38;5;241;43m*\u001b[39;49m\u001b[43mkwargs\u001b[49m\u001b[43m)\u001b[49m\n\u001b[1;32m   1111\u001b[0m \u001b[38;5;66;03m# Do not call functions when jit is used\u001b[39;00m\n\u001b[1;32m   1112\u001b[0m full_backward_hooks, non_full_backward_hooks \u001b[38;5;241m=\u001b[39m [], []\n",
      "File \u001b[0;32m~/miniconda3/envs/bertrand/lib/python3.8/site-packages/transformers/models/bert/modeling_bert.py:585\u001b[0m, in \u001b[0;36mBertEncoder.forward\u001b[0;34m(self, hidden_states, attention_mask, head_mask, encoder_hidden_states, encoder_attention_mask, past_key_values, use_cache, output_attentions, output_hidden_states, return_dict)\u001b[0m\n\u001b[1;32m    576\u001b[0m     layer_outputs \u001b[38;5;241m=\u001b[39m torch\u001b[38;5;241m.\u001b[39mutils\u001b[38;5;241m.\u001b[39mcheckpoint\u001b[38;5;241m.\u001b[39mcheckpoint(\n\u001b[1;32m    577\u001b[0m         create_custom_forward(layer_module),\n\u001b[1;32m    578\u001b[0m         hidden_states,\n\u001b[0;32m   (...)\u001b[0m\n\u001b[1;32m    582\u001b[0m         encoder_attention_mask,\n\u001b[1;32m    583\u001b[0m     )\n\u001b[1;32m    584\u001b[0m \u001b[38;5;28;01melse\u001b[39;00m:\n\u001b[0;32m--> 585\u001b[0m     layer_outputs \u001b[38;5;241m=\u001b[39m \u001b[43mlayer_module\u001b[49m\u001b[43m(\u001b[49m\n\u001b[1;32m    586\u001b[0m \u001b[43m        \u001b[49m\u001b[43mhidden_states\u001b[49m\u001b[43m,\u001b[49m\n\u001b[1;32m    587\u001b[0m \u001b[43m        \u001b[49m\u001b[43mattention_mask\u001b[49m\u001b[43m,\u001b[49m\n\u001b[1;32m    588\u001b[0m \u001b[43m        \u001b[49m\u001b[43mlayer_head_mask\u001b[49m\u001b[43m,\u001b[49m\n\u001b[1;32m    589\u001b[0m \u001b[43m        \u001b[49m\u001b[43mencoder_hidden_states\u001b[49m\u001b[43m,\u001b[49m\n\u001b[1;32m    590\u001b[0m \u001b[43m        \u001b[49m\u001b[43mencoder_attention_mask\u001b[49m\u001b[43m,\u001b[49m\n\u001b[1;32m    591\u001b[0m \u001b[43m        \u001b[49m\u001b[43mpast_key_value\u001b[49m\u001b[43m,\u001b[49m\n\u001b[1;32m    592\u001b[0m \u001b[43m        \u001b[49m\u001b[43moutput_attentions\u001b[49m\u001b[43m,\u001b[49m\n\u001b[1;32m    593\u001b[0m \u001b[43m    \u001b[49m\u001b[43m)\u001b[49m\n\u001b[1;32m    595\u001b[0m hidden_states \u001b[38;5;241m=\u001b[39m layer_outputs[\u001b[38;5;241m0\u001b[39m]\n\u001b[1;32m    596\u001b[0m \u001b[38;5;28;01mif\u001b[39;00m use_cache:\n",
      "File \u001b[0;32m~/miniconda3/envs/bertrand/lib/python3.8/site-packages/torch/nn/modules/module.py:1110\u001b[0m, in \u001b[0;36mModule._call_impl\u001b[0;34m(self, *input, **kwargs)\u001b[0m\n\u001b[1;32m   1106\u001b[0m \u001b[38;5;66;03m# If we don't have any hooks, we want to skip the rest of the logic in\u001b[39;00m\n\u001b[1;32m   1107\u001b[0m \u001b[38;5;66;03m# this function, and just call forward.\u001b[39;00m\n\u001b[1;32m   1108\u001b[0m \u001b[38;5;28;01mif\u001b[39;00m \u001b[38;5;129;01mnot\u001b[39;00m (\u001b[38;5;28mself\u001b[39m\u001b[38;5;241m.\u001b[39m_backward_hooks \u001b[38;5;129;01mor\u001b[39;00m \u001b[38;5;28mself\u001b[39m\u001b[38;5;241m.\u001b[39m_forward_hooks \u001b[38;5;129;01mor\u001b[39;00m \u001b[38;5;28mself\u001b[39m\u001b[38;5;241m.\u001b[39m_forward_pre_hooks \u001b[38;5;129;01mor\u001b[39;00m _global_backward_hooks\n\u001b[1;32m   1109\u001b[0m         \u001b[38;5;129;01mor\u001b[39;00m _global_forward_hooks \u001b[38;5;129;01mor\u001b[39;00m _global_forward_pre_hooks):\n\u001b[0;32m-> 1110\u001b[0m     \u001b[38;5;28;01mreturn\u001b[39;00m \u001b[43mforward_call\u001b[49m\u001b[43m(\u001b[49m\u001b[38;5;241;43m*\u001b[39;49m\u001b[38;5;28;43minput\u001b[39;49m\u001b[43m,\u001b[49m\u001b[43m \u001b[49m\u001b[38;5;241;43m*\u001b[39;49m\u001b[38;5;241;43m*\u001b[39;49m\u001b[43mkwargs\u001b[49m\u001b[43m)\u001b[49m\n\u001b[1;32m   1111\u001b[0m \u001b[38;5;66;03m# Do not call functions when jit is used\u001b[39;00m\n\u001b[1;32m   1112\u001b[0m full_backward_hooks, non_full_backward_hooks \u001b[38;5;241m=\u001b[39m [], []\n",
      "File \u001b[0;32m~/miniconda3/envs/bertrand/lib/python3.8/site-packages/transformers/models/bert/modeling_bert.py:513\u001b[0m, in \u001b[0;36mBertLayer.forward\u001b[0;34m(self, hidden_states, attention_mask, head_mask, encoder_hidden_states, encoder_attention_mask, past_key_value, output_attentions)\u001b[0m\n\u001b[1;32m    510\u001b[0m     cross_attn_present_key_value \u001b[38;5;241m=\u001b[39m cross_attention_outputs[\u001b[38;5;241m-\u001b[39m\u001b[38;5;241m1\u001b[39m]\n\u001b[1;32m    511\u001b[0m     present_key_value \u001b[38;5;241m=\u001b[39m present_key_value \u001b[38;5;241m+\u001b[39m cross_attn_present_key_value\n\u001b[0;32m--> 513\u001b[0m layer_output \u001b[38;5;241m=\u001b[39m \u001b[43mapply_chunking_to_forward\u001b[49m\u001b[43m(\u001b[49m\n\u001b[1;32m    514\u001b[0m \u001b[43m    \u001b[49m\u001b[38;5;28;43mself\u001b[39;49m\u001b[38;5;241;43m.\u001b[39;49m\u001b[43mfeed_forward_chunk\u001b[49m\u001b[43m,\u001b[49m\u001b[43m \u001b[49m\u001b[38;5;28;43mself\u001b[39;49m\u001b[38;5;241;43m.\u001b[39;49m\u001b[43mchunk_size_feed_forward\u001b[49m\u001b[43m,\u001b[49m\u001b[43m \u001b[49m\u001b[38;5;28;43mself\u001b[39;49m\u001b[38;5;241;43m.\u001b[39;49m\u001b[43mseq_len_dim\u001b[49m\u001b[43m,\u001b[49m\u001b[43m \u001b[49m\u001b[43mattention_output\u001b[49m\n\u001b[1;32m    515\u001b[0m \u001b[43m\u001b[49m\u001b[43m)\u001b[49m\n\u001b[1;32m    516\u001b[0m outputs \u001b[38;5;241m=\u001b[39m (layer_output,) \u001b[38;5;241m+\u001b[39m outputs\n\u001b[1;32m    518\u001b[0m \u001b[38;5;66;03m# if decoder, return the attn key/values as the last output\u001b[39;00m\n",
      "File \u001b[0;32m~/miniconda3/envs/bertrand/lib/python3.8/site-packages/transformers/modeling_utils.py:2438\u001b[0m, in \u001b[0;36mapply_chunking_to_forward\u001b[0;34m(forward_fn, chunk_size, chunk_dim, *input_tensors)\u001b[0m\n\u001b[1;32m   2435\u001b[0m     \u001b[38;5;66;03m# concatenate output at same dimension\u001b[39;00m\n\u001b[1;32m   2436\u001b[0m     \u001b[38;5;28;01mreturn\u001b[39;00m torch\u001b[38;5;241m.\u001b[39mcat(output_chunks, dim\u001b[38;5;241m=\u001b[39mchunk_dim)\n\u001b[0;32m-> 2438\u001b[0m \u001b[38;5;28;01mreturn\u001b[39;00m \u001b[43mforward_fn\u001b[49m\u001b[43m(\u001b[49m\u001b[38;5;241;43m*\u001b[39;49m\u001b[43minput_tensors\u001b[49m\u001b[43m)\u001b[49m\n",
      "File \u001b[0;32m~/miniconda3/envs/bertrand/lib/python3.8/site-packages/transformers/models/bert/modeling_bert.py:526\u001b[0m, in \u001b[0;36mBertLayer.feed_forward_chunk\u001b[0;34m(self, attention_output)\u001b[0m\n\u001b[1;32m    524\u001b[0m \u001b[38;5;28;01mdef\u001b[39;00m \u001b[38;5;21mfeed_forward_chunk\u001b[39m(\u001b[38;5;28mself\u001b[39m, attention_output):\n\u001b[1;32m    525\u001b[0m     intermediate_output \u001b[38;5;241m=\u001b[39m \u001b[38;5;28mself\u001b[39m\u001b[38;5;241m.\u001b[39mintermediate(attention_output)\n\u001b[0;32m--> 526\u001b[0m     layer_output \u001b[38;5;241m=\u001b[39m \u001b[38;5;28;43mself\u001b[39;49m\u001b[38;5;241;43m.\u001b[39;49m\u001b[43moutput\u001b[49m\u001b[43m(\u001b[49m\u001b[43mintermediate_output\u001b[49m\u001b[43m,\u001b[49m\u001b[43m \u001b[49m\u001b[43mattention_output\u001b[49m\u001b[43m)\u001b[49m\n\u001b[1;32m    527\u001b[0m     \u001b[38;5;28;01mreturn\u001b[39;00m layer_output\n",
      "File \u001b[0;32m~/miniconda3/envs/bertrand/lib/python3.8/site-packages/torch/nn/modules/module.py:1110\u001b[0m, in \u001b[0;36mModule._call_impl\u001b[0;34m(self, *input, **kwargs)\u001b[0m\n\u001b[1;32m   1106\u001b[0m \u001b[38;5;66;03m# If we don't have any hooks, we want to skip the rest of the logic in\u001b[39;00m\n\u001b[1;32m   1107\u001b[0m \u001b[38;5;66;03m# this function, and just call forward.\u001b[39;00m\n\u001b[1;32m   1108\u001b[0m \u001b[38;5;28;01mif\u001b[39;00m \u001b[38;5;129;01mnot\u001b[39;00m (\u001b[38;5;28mself\u001b[39m\u001b[38;5;241m.\u001b[39m_backward_hooks \u001b[38;5;129;01mor\u001b[39;00m \u001b[38;5;28mself\u001b[39m\u001b[38;5;241m.\u001b[39m_forward_hooks \u001b[38;5;129;01mor\u001b[39;00m \u001b[38;5;28mself\u001b[39m\u001b[38;5;241m.\u001b[39m_forward_pre_hooks \u001b[38;5;129;01mor\u001b[39;00m _global_backward_hooks\n\u001b[1;32m   1109\u001b[0m         \u001b[38;5;129;01mor\u001b[39;00m _global_forward_hooks \u001b[38;5;129;01mor\u001b[39;00m _global_forward_pre_hooks):\n\u001b[0;32m-> 1110\u001b[0m     \u001b[38;5;28;01mreturn\u001b[39;00m \u001b[43mforward_call\u001b[49m\u001b[43m(\u001b[49m\u001b[38;5;241;43m*\u001b[39;49m\u001b[38;5;28;43minput\u001b[39;49m\u001b[43m,\u001b[49m\u001b[43m \u001b[49m\u001b[38;5;241;43m*\u001b[39;49m\u001b[38;5;241;43m*\u001b[39;49m\u001b[43mkwargs\u001b[49m\u001b[43m)\u001b[49m\n\u001b[1;32m   1111\u001b[0m \u001b[38;5;66;03m# Do not call functions when jit is used\u001b[39;00m\n\u001b[1;32m   1112\u001b[0m full_backward_hooks, non_full_backward_hooks \u001b[38;5;241m=\u001b[39m [], []\n",
      "File \u001b[0;32m~/miniconda3/envs/bertrand/lib/python3.8/site-packages/transformers/models/bert/modeling_bert.py:439\u001b[0m, in \u001b[0;36mBertOutput.forward\u001b[0;34m(self, hidden_states, input_tensor)\u001b[0m\n\u001b[1;32m    438\u001b[0m \u001b[38;5;28;01mdef\u001b[39;00m \u001b[38;5;21mforward\u001b[39m(\u001b[38;5;28mself\u001b[39m, hidden_states, input_tensor):\n\u001b[0;32m--> 439\u001b[0m     hidden_states \u001b[38;5;241m=\u001b[39m \u001b[38;5;28;43mself\u001b[39;49m\u001b[38;5;241;43m.\u001b[39;49m\u001b[43mdense\u001b[49m\u001b[43m(\u001b[49m\u001b[43mhidden_states\u001b[49m\u001b[43m)\u001b[49m\n\u001b[1;32m    440\u001b[0m     hidden_states \u001b[38;5;241m=\u001b[39m \u001b[38;5;28mself\u001b[39m\u001b[38;5;241m.\u001b[39mdropout(hidden_states)\n\u001b[1;32m    441\u001b[0m     hidden_states \u001b[38;5;241m=\u001b[39m \u001b[38;5;28mself\u001b[39m\u001b[38;5;241m.\u001b[39mLayerNorm(hidden_states \u001b[38;5;241m+\u001b[39m input_tensor)\n",
      "File \u001b[0;32m~/miniconda3/envs/bertrand/lib/python3.8/site-packages/torch/nn/modules/module.py:1110\u001b[0m, in \u001b[0;36mModule._call_impl\u001b[0;34m(self, *input, **kwargs)\u001b[0m\n\u001b[1;32m   1106\u001b[0m \u001b[38;5;66;03m# If we don't have any hooks, we want to skip the rest of the logic in\u001b[39;00m\n\u001b[1;32m   1107\u001b[0m \u001b[38;5;66;03m# this function, and just call forward.\u001b[39;00m\n\u001b[1;32m   1108\u001b[0m \u001b[38;5;28;01mif\u001b[39;00m \u001b[38;5;129;01mnot\u001b[39;00m (\u001b[38;5;28mself\u001b[39m\u001b[38;5;241m.\u001b[39m_backward_hooks \u001b[38;5;129;01mor\u001b[39;00m \u001b[38;5;28mself\u001b[39m\u001b[38;5;241m.\u001b[39m_forward_hooks \u001b[38;5;129;01mor\u001b[39;00m \u001b[38;5;28mself\u001b[39m\u001b[38;5;241m.\u001b[39m_forward_pre_hooks \u001b[38;5;129;01mor\u001b[39;00m _global_backward_hooks\n\u001b[1;32m   1109\u001b[0m         \u001b[38;5;129;01mor\u001b[39;00m _global_forward_hooks \u001b[38;5;129;01mor\u001b[39;00m _global_forward_pre_hooks):\n\u001b[0;32m-> 1110\u001b[0m     \u001b[38;5;28;01mreturn\u001b[39;00m \u001b[43mforward_call\u001b[49m\u001b[43m(\u001b[49m\u001b[38;5;241;43m*\u001b[39;49m\u001b[38;5;28;43minput\u001b[39;49m\u001b[43m,\u001b[49m\u001b[43m \u001b[49m\u001b[38;5;241;43m*\u001b[39;49m\u001b[38;5;241;43m*\u001b[39;49m\u001b[43mkwargs\u001b[49m\u001b[43m)\u001b[49m\n\u001b[1;32m   1111\u001b[0m \u001b[38;5;66;03m# Do not call functions when jit is used\u001b[39;00m\n\u001b[1;32m   1112\u001b[0m full_backward_hooks, non_full_backward_hooks \u001b[38;5;241m=\u001b[39m [], []\n",
      "File \u001b[0;32m~/miniconda3/envs/bertrand/lib/python3.8/site-packages/torch/nn/modules/linear.py:103\u001b[0m, in \u001b[0;36mLinear.forward\u001b[0;34m(self, input)\u001b[0m\n\u001b[1;32m    102\u001b[0m \u001b[38;5;28;01mdef\u001b[39;00m \u001b[38;5;21mforward\u001b[39m(\u001b[38;5;28mself\u001b[39m, \u001b[38;5;28minput\u001b[39m: Tensor) \u001b[38;5;241m-\u001b[39m\u001b[38;5;241m>\u001b[39m Tensor:\n\u001b[0;32m--> 103\u001b[0m     \u001b[38;5;28;01mreturn\u001b[39;00m \u001b[43mF\u001b[49m\u001b[38;5;241;43m.\u001b[39;49m\u001b[43mlinear\u001b[49m\u001b[43m(\u001b[49m\u001b[38;5;28;43minput\u001b[39;49m\u001b[43m,\u001b[49m\u001b[43m \u001b[49m\u001b[38;5;28;43mself\u001b[39;49m\u001b[38;5;241;43m.\u001b[39;49m\u001b[43mweight\u001b[49m\u001b[43m,\u001b[49m\u001b[43m \u001b[49m\u001b[38;5;28;43mself\u001b[39;49m\u001b[38;5;241;43m.\u001b[39;49m\u001b[43mbias\u001b[49m\u001b[43m)\u001b[49m\n",
      "\u001b[0;31mKeyboardInterrupt\u001b[0m: "
     ]
    }
   ],
   "source": [
    "predictions_train = trainer.predict(train_dataset)"
   ]
  },
  {
   "cell_type": "code",
   "execution_count": 153,
   "id": "ca8e2c1b-7724-486e-ac33-85c0b98bb216",
   "metadata": {
    "tags": []
   },
   "outputs": [
    {
     "ename": "NameError",
     "evalue": "name 'predictions_train' is not defined",
     "output_type": "error",
     "traceback": [
      "\u001b[0;31m---------------------------------------------------------------------------\u001b[0m",
      "\u001b[0;31mNameError\u001b[0m                                 Traceback (most recent call last)",
      "Cell \u001b[0;32mIn[153], line 1\u001b[0m\n\u001b[0;32m----> 1\u001b[0m preds_train \u001b[38;5;241m=\u001b[39m \u001b[43mpredictions_train\u001b[49m\u001b[38;5;241m.\u001b[39mpredictions\n\u001b[1;32m      2\u001b[0m probs_train \u001b[38;5;241m=\u001b[39m torch\u001b[38;5;241m.\u001b[39mnn\u001b[38;5;241m.\u001b[39mfunctional\u001b[38;5;241m.\u001b[39msoftmax(torch\u001b[38;5;241m.\u001b[39mtensor(preds), \u001b[38;5;241m1\u001b[39m)\u001b[38;5;241m.\u001b[39mnumpy()[:, \u001b[38;5;241m1\u001b[39m]\n\u001b[1;32m      3\u001b[0m labels_train \u001b[38;5;241m=\u001b[39m predictions_train\u001b[38;5;241m.\u001b[39mlabel_ids\n",
      "\u001b[0;31mNameError\u001b[0m: name 'predictions_train' is not defined"
     ]
    }
   ],
   "source": [
    "preds_train = predictions_train.predictions\n",
    "probs_train = torch.nn.functional.softmax(torch.tensor(preds), 1).numpy()[:, 1]\n",
    "labels_train = predictions_train.label_ids"
   ]
  },
  {
   "cell_type": "code",
   "execution_count": 154,
   "id": "65893a29-46b0-4460-a097-70f0e41cd5ad",
   "metadata": {
    "tags": []
   },
   "outputs": [],
   "source": [
    "import torch\n",
    "from sklearn.metrics import roc_auc_score\n",
    "from bertrand.model.focal_loss import FocalLoss\n"
   ]
  },
  {
   "cell_type": "code",
   "execution_count": 155,
   "id": "6c529afe-5820-472f-801d-d38e1afee500",
   "metadata": {
    "tags": []
   },
   "outputs": [],
   "source": [
    "preds = predictions.predictions\n",
    "probs = torch.nn.functional.softmax(torch.tensor(preds), 1).numpy()[:, 1]\n",
    "labels = predictions.label_ids"
   ]
  },
  {
   "cell_type": "code",
   "execution_count": 156,
   "id": "5fad1649-b819-401a-a405-5fa5093f3293",
   "metadata": {
    "tags": []
   },
   "outputs": [],
   "source": [
    "assert (labels == test_dataset.examples.y).all()"
   ]
  },
  {
   "cell_type": "code",
   "execution_count": 157,
   "id": "76535438-ff92-43d3-80a5-c0bc6f7c1e42",
   "metadata": {
    "tags": []
   },
   "outputs": [
    {
     "data": {
      "text/plain": [
       "array([[-0.53329426,  0.8494415 ],\n",
       "       [ 0.85436153, -1.2002997 ],\n",
       "       [-0.575797  ,  0.960783  ],\n",
       "       ...,\n",
       "       [ 0.3555514 , -0.7282807 ],\n",
       "       [ 0.42758575, -0.62099594],\n",
       "       [ 1.1430113 , -1.5008678 ]], dtype=float32)"
      ]
     },
     "execution_count": 157,
     "metadata": {},
     "output_type": "execute_result"
    }
   ],
   "source": [
    "preds"
   ]
  },
  {
   "cell_type": "code",
   "execution_count": 67,
   "id": "f3120647-b51c-43a9-ae90-267d1c8f4049",
   "metadata": {
    "tags": []
   },
   "outputs": [
    {
     "data": {
      "text/plain": [
       "array([[ 0.05324258,  0.1310518 ],\n",
       "       [ 0.14645614, -0.01513549],\n",
       "       [ 0.037623  ,  0.18635035],\n",
       "       ...,\n",
       "       [ 0.07164266,  0.12350515],\n",
       "       [ 0.0949297 ,  0.06708742],\n",
       "       [ 0.18903123, -0.06149029]], dtype=float32)"
      ]
     },
     "execution_count": 67,
     "metadata": {},
     "output_type": "execute_result"
    }
   ],
   "source": [
    "preds"
   ]
  },
  {
   "cell_type": "code",
   "execution_count": 158,
   "id": "c25a9b9a-c090-43f0-b527-53af52dc4b92",
   "metadata": {
    "tags": []
   },
   "outputs": [
    {
     "data": {
      "text/plain": [
       "(array([1402.,  175.,  165.,  110.,   93.,   79.,   53.,   56.,   49.,\n",
       "          70.]),\n",
       " array([0.06582839, 0.15231267, 0.23879695, 0.32528123, 0.41176552,\n",
       "        0.4982498 , 0.5847341 , 0.6712184 , 0.75770265, 0.84418696,\n",
       "        0.9306712 ], dtype=float32),\n",
       " <BarContainer object of 10 artists>)"
      ]
     },
     "execution_count": 158,
     "metadata": {},
     "output_type": "execute_result"
    },
    {
     "data": {
      "image/png": "[encoded data removed]",
      "text/plain": [
       "<Figure size 640x480 with 1 Axes>"
      ]
     },
     "metadata": {},
     "output_type": "display_data"
    }
   ],
   "source": [
    "plt.hist(probs)"
   ]
  },
  {
   "cell_type": "code",
   "execution_count": 68,
   "id": "193fa18d-e9f6-4202-811d-6d3364770b6d",
   "metadata": {
    "tags": []
   },
   "outputs": [
    {
     "data": {
      "text/plain": [
       "(array([ 44., 165., 357., 541., 704., 353.,  69.,   8.,   4.,   7.]),\n",
       " array([0.22996503, 0.28477222, 0.3395794 , 0.39438662, 0.4491938 ,\n",
       "        0.504001  , 0.5588082 , 0.6136154 , 0.6684226 , 0.72322977,\n",
       "        0.77803695], dtype=float32),\n",
       " <BarContainer object of 10 artists>)"
      ]
     },
     "execution_count": 68,
     "metadata": {},
     "output_type": "execute_result"
    },
    {
     "data": {
      "image/png": "[encoded data removed]",
      "text/plain": [
       "<Figure size 640x480 with 1 Axes>"
      ]
     },
     "metadata": {},
     "output_type": "display_data"
    }
   ],
   "source": [
    "plt.hist(probs)"
   ]
  },
  {
   "cell_type": "code",
   "execution_count": 228,
   "id": "fcd886a5-caa6-4a8e-8f09-b464d08baf09",
   "metadata": {
    "tags": []
   },
   "outputs": [],
   "source": [
    "with torch.no_grad():\n",
    "\n",
    "    loss_fct = FocalLoss(gamma=3, alpha=1, no_agg=True)\n",
    "    loss = loss_fct(torch.tensor(preds).view(-1, 2), torch.tensor(labels).view(-1)).numpy()\n",
    "    \n"
   ]
  },
  {
   "cell_type": "code",
   "execution_count": 229,
   "id": "2f755eb0-c4ad-4fde-8dc2-27cc1ffaa7ba",
   "metadata": {
    "tags": []
   },
   "outputs": [
    {
     "data": {
      "text/plain": [
       "0.05588949"
      ]
     },
     "execution_count": 229,
     "metadata": {},
     "output_type": "execute_result"
    }
   ],
   "source": [
    "loss.mean()"
   ]
  },
  {
   "cell_type": "code",
   "execution_count": 161,
   "id": "00535c82-1b1b-4e61-a420-d546308e3900",
   "metadata": {
    "tags": []
   },
   "outputs": [
    {
     "data": {
      "text/plain": [
       "0.16429487"
      ]
     },
     "execution_count": 161,
     "metadata": {},
     "output_type": "execute_result"
    }
   ],
   "source": [
    "loss.mean()"
   ]
  },
  {
   "cell_type": "code",
   "execution_count": 162,
   "id": "c409b581-62cf-4d14-b8cf-f3bc152c450c",
   "metadata": {
    "tags": []
   },
   "outputs": [
    {
     "data": {
      "text/plain": [
       "{'test_loss': 0.4745558564340091,\n",
       " 'test_runtime': 35.4366,\n",
       " 'test_samples_per_second': 63.55,\n",
       " 'test_steps_per_second': 0.254}"
      ]
     },
     "execution_count": 162,
     "metadata": {},
     "output_type": "execute_result"
    }
   ],
   "source": [
    "predictions.metrics"
   ]
  },
  {
   "cell_type": "code",
   "execution_count": 72,
   "id": "6039b2a0-1a83-454e-b270-98810981ff8d",
   "metadata": {
    "tags": []
   },
   "outputs": [
    {
     "data": {
      "text/plain": [
       "{'test_loss': 0.08382876757420506,\n",
       " 'test_runtime': 34.2196,\n",
       " 'test_samples_per_second': 65.81,\n",
       " 'test_steps_per_second': 0.263}"
      ]
     },
     "execution_count": 72,
     "metadata": {},
     "output_type": "execute_result"
    }
   ],
   "source": [
    "predictions.metrics"
   ]
  },
  {
   "cell_type": "code",
   "execution_count": 230,
   "id": "3b8dbaac-e36b-475a-a764-777fe9f8db1f",
   "metadata": {
    "tags": []
   },
   "outputs": [],
   "source": [
    "weights = test_dataset.examples.weight"
   ]
  },
  {
   "cell_type": "code",
   "execution_count": 231,
   "id": "a4398e75-f7b9-442d-acde-4edb788d1f35",
   "metadata": {
    "tags": []
   },
   "outputs": [
    {
     "data": {
      "text/plain": [
       "0.13661413584668855"
      ]
     },
     "execution_count": 231,
     "metadata": {},
     "output_type": "execute_result"
    }
   ],
   "source": [
    "(weights * loss).mean()"
   ]
  },
  {
   "cell_type": "code",
   "execution_count": 25,
   "id": "fb4deb96-12a2-4355-b8e5-b2dcda50e30a",
   "metadata": {
    "tags": []
   },
   "outputs": [],
   "source": [
    "# weights / weights.sum()"
   ]
  },
  {
   "cell_type": "code",
   "execution_count": 75,
   "id": "e4a02e50-3b09-405c-bd28-72eff95180bd",
   "metadata": {
    "tags": []
   },
   "outputs": [
    {
     "data": {
      "text/plain": [
       "(0.030777544, 0.04567227)"
      ]
     },
     "execution_count": 75,
     "metadata": {},
     "output_type": "execute_result"
    }
   ],
   "source": [
    "loss.mean(), loss.std()"
   ]
  },
  {
   "cell_type": "code",
   "execution_count": 27,
   "id": "768aef20-69c9-486c-9aa9-a8ac25b66f61",
   "metadata": {
    "tags": []
   },
   "outputs": [
    {
     "data": {
      "text/plain": [
       "(array([1704.,   45.,   23.,   15.,   11.,    7.,    2.,    7.,   11.,\n",
       "           9.]),\n",
       " array([4.8576430e-06, 5.3740438e-02, 1.0747602e-01, 1.6121159e-01,\n",
       "        2.1494718e-01, 2.6868275e-01, 3.2241833e-01, 3.7615392e-01,\n",
       "        4.2988950e-01, 4.8362508e-01, 5.3736067e-01], dtype=float32),\n",
       " <BarContainer object of 10 artists>)"
      ]
     },
     "execution_count": 27,
     "metadata": {},
     "output_type": "execute_result"
    },
    {
     "data": {
      "image/png": "[encoded data removed]",
      "text/plain": [
       "<Figure size 640x480 with 1 Axes>"
      ]
     },
     "metadata": {},
     "output_type": "display_data"
    }
   ],
   "source": [
    "plt.hist(loss[labels==0])"
   ]
  },
  {
   "cell_type": "code",
   "execution_count": 76,
   "id": "81a8df3b-6195-4826-b1b0-db5c3b7e09af",
   "metadata": {
    "tags": []
   },
   "outputs": [
    {
     "data": {
      "text/plain": [
       "(array([1270.,  514.,   45.,    3.,    0.,    0.,    0.,    0.,    0.,\n",
       "           2.]),\n",
       " array([0.00079451, 0.01843849, 0.03608247, 0.05372646, 0.07137044,\n",
       "        0.08901442, 0.10665841, 0.12430239, 0.14194638, 0.15959035,\n",
       "        0.17723434], dtype=float32),\n",
       " <BarContainer object of 10 artists>)"
      ]
     },
     "execution_count": 76,
     "metadata": {},
     "output_type": "execute_result"
    },
    {
     "data": {
      "image/png": "[encoded data removed]",
      "text/plain": [
       "<Figure size 640x480 with 1 Axes>"
      ]
     },
     "metadata": {},
     "output_type": "display_data"
    }
   ],
   "source": [
    "plt.hist(loss[labels==0])"
   ]
  },
  {
   "cell_type": "code",
   "execution_count": 28,
   "id": "82c8a73e-1a92-4def-9284-7c0d3e363d67",
   "metadata": {
    "tags": []
   },
   "outputs": [
    {
     "data": {
      "text/plain": [
       "(array([137.,  27.,  23.,  25.,   8.,  15.,  13.,   9.,  19., 142.]),\n",
       " array([1.7956590e-05, 1.6636607e-01, 3.3271420e-01, 4.9906230e-01,\n",
       "        6.6541040e-01, 8.3175856e-01, 9.9810666e-01, 1.1644548e+00,\n",
       "        1.3308029e+00, 1.4971510e+00, 1.6634991e+00], dtype=float32),\n",
       " <BarContainer object of 10 artists>)"
      ]
     },
     "execution_count": 28,
     "metadata": {},
     "output_type": "execute_result"
    },
    {
     "data": {
      "image/png": "[encoded data removed]",
      "text/plain": [
       "<Figure size 640x480 with 1 Axes>"
      ]
     },
     "metadata": {},
     "output_type": "display_data"
    }
   ],
   "source": [
    "plt.hist(loss[labels==1])"
   ]
  },
  {
   "cell_type": "code",
   "execution_count": 77,
   "id": "0d4e77cf-0509-47a8-b1c4-af8a4a8f1f7d",
   "metadata": {
    "tags": []
   },
   "outputs": [
    {
     "data": {
      "text/plain": [
       "(array([ 50., 199.,  88.,  36.,  20.,  11.,   8.,   1.,   4.,   1.]),\n",
       " array([0.00209222, 0.04754962, 0.09300703, 0.13846442, 0.18392183,\n",
       "        0.22937922, 0.27483663, 0.32029402, 0.36575142, 0.41120884,\n",
       "        0.45666623], dtype=float32),\n",
       " <BarContainer object of 10 artists>)"
      ]
     },
     "execution_count": 77,
     "metadata": {},
     "output_type": "execute_result"
    },
    {
     "data": {
      "image/png": "[encoded data removed]",
      "text/plain": [
       "<Figure size 640x480 with 1 Axes>"
      ]
     },
     "metadata": {},
     "output_type": "display_data"
    }
   ],
   "source": [
    "plt.hist(loss[labels==1])"
   ]
  },
  {
   "cell_type": "code",
   "execution_count": 165,
   "id": "db152cd8-278e-41af-adb7-c3e8c9e1c15e",
   "metadata": {
    "tags": []
   },
   "outputs": [
    {
     "data": {
      "text/plain": [
       "0.6223441584530376"
      ]
     },
     "execution_count": 165,
     "metadata": {},
     "output_type": "execute_result"
    }
   ],
   "source": [
    "roc_auc_score(labels, probs)"
   ]
  },
  {
   "cell_type": "code",
   "execution_count": null,
   "id": "ae637ec5-f25f-4bc2-99a6-b0635bb1ed31",
   "metadata": {},
   "outputs": [],
   "source": []
  },
  {
   "cell_type": "code",
   "execution_count": 79,
   "id": "28daf805-0448-4394-822a-56a349fc97f7",
   "metadata": {
    "tags": []
   },
   "outputs": [
    {
     "data": {
      "text/plain": [
       "2    6719\n",
       "1    1993\n",
       "Name: y, dtype: int64"
      ]
     },
     "execution_count": 79,
     "metadata": {},
     "output_type": "execute_result"
    }
   ],
   "source": [
    "X_train.groupby(['CDR3a_extended', 'CDR3b_extended']).y.agg('nunique').value_counts()"
   ]
  },
  {
   "cell_type": "code",
   "execution_count": 108,
   "id": "2365ca0d-bb17-4c5c-ab6f-478edea5d537",
   "metadata": {
    "tags": []
   },
   "outputs": [
    {
     "data": {
      "text/plain": [
       "<AxesSubplot:>"
      ]
     },
     "execution_count": 108,
     "metadata": {},
     "output_type": "execute_result"
    },
    {
     "data": {
      "image/png": "[encoded data removed]",
      "text/plain": [
       "<Figure size 640x480 with 1 Axes>"
      ]
     },
     "metadata": {},
     "output_type": "display_data"
    }
   ],
   "source": [
    "X_train.groupby(['CDR3a_extended', 'CDR3b_extended']).Peptide.agg('nunique').hist()"
   ]
  },
  {
   "cell_type": "code",
   "execution_count": null,
   "id": "0004003a-11d7-44b6-bf93-e9d502beacb4",
   "metadata": {},
   "outputs": [],
   "source": []
  },
  {
   "cell_type": "code",
   "execution_count": null,
   "id": "6c3c96f2-34b9-4ac4-bc74-aee191af73b8",
   "metadata": {},
   "outputs": [],
   "source": []
  },
  {
   "cell_type": "code",
   "execution_count": 166,
   "id": "d598e5a9-52fb-4749-a940-cade59e3dbcb",
   "metadata": {
    "tags": []
   },
   "outputs": [
    {
     "data": {
      "text/plain": [
       "1    869\n",
       "2    142\n",
       "Name: y, dtype: int64"
      ]
     },
     "execution_count": 166,
     "metadata": {},
     "output_type": "execute_result"
    }
   ],
   "source": [
    "X_test.groupby(['CDR3a_extended', 'CDR3b_extended']).y.agg('nunique').value_counts()"
   ]
  },
  {
   "cell_type": "code",
   "execution_count": 167,
   "id": "e431de6e-bb48-4cb4-a6f0-0dc1d4cae072",
   "metadata": {
    "tags": []
   },
   "outputs": [],
   "source": [
    "amb = X_test.groupby(['CDR3a_extended', 'CDR3b_extended']).y.agg('nunique')\n",
    "amb = amb[amb == 2]"
   ]
  },
  {
   "cell_type": "code",
   "execution_count": 168,
   "id": "c39281a5-ab45-42c6-9a48-74d415f0b412",
   "metadata": {
    "tags": []
   },
   "outputs": [],
   "source": [
    "multi_mask = pd.MultiIndex.from_frame(X_test[['CDR3a_extended', 'CDR3b_extended']]).isin(amb.index)"
   ]
  },
  {
   "cell_type": "code",
   "execution_count": 169,
   "id": "ec2e9386-8dd1-48a1-8ee7-598e3c2f56cd",
   "metadata": {
    "tags": []
   },
   "outputs": [
    {
     "data": {
      "text/plain": [
       "525"
      ]
     },
     "execution_count": 169,
     "metadata": {},
     "output_type": "execute_result"
    }
   ],
   "source": [
    "multi_mask.sum()"
   ]
  },
  {
   "cell_type": "code",
   "execution_count": 170,
   "id": "bc5ac8b7-b9e0-42e6-adf4-e15b652ec2cc",
   "metadata": {
    "tags": []
   },
   "outputs": [
    {
     "data": {
      "text/plain": [
       "(2252, 5)"
      ]
     },
     "execution_count": 170,
     "metadata": {},
     "output_type": "execute_result"
    }
   ],
   "source": [
    "X_test.shape"
   ]
  },
  {
   "cell_type": "code",
   "execution_count": 85,
   "id": "1f2efda4-275a-4d6a-a632-2008647cb56e",
   "metadata": {
    "tags": []
   },
   "outputs": [],
   "source": [
    "# X_test.Peptide.value_counts()"
   ]
  },
  {
   "cell_type": "code",
   "execution_count": 171,
   "id": "808515c3-e1f4-4247-90ea-492c2a5618a4",
   "metadata": {
    "tags": []
   },
   "outputs": [
    {
     "data": {
      "text/plain": [
       "<AxesSubplot:>"
      ]
     },
     "execution_count": 171,
     "metadata": {},
     "output_type": "execute_result"
    },
    {
     "data": {
      "image/png": "[encoded data removed]",
      "text/plain": [
       "<Figure size 640x480 with 1 Axes>"
      ]
     },
     "metadata": {},
     "output_type": "display_data"
    }
   ],
   "source": [
    "test_set.groupby(['CDR3a_extended', 'CDR3b_extended']).Peptide.agg('nunique').hist()"
   ]
  },
  {
   "cell_type": "code",
   "execution_count": 57,
   "id": "ae5ecca4-1bf4-485f-9ccf-9eb1a44c6314",
   "metadata": {
    "tags": []
   },
   "outputs": [
    {
     "data": {
      "text/plain": [
       "GILGFVFTL      308\n",
       "RAKFKQLL       294\n",
       "IVTDFSVIK      258\n",
       "NLVPMVATV      192\n",
       "GLCTLVAML      162\n",
       "YVLDHLIVV      126\n",
       "SLLQHLIGL      120\n",
       "YLQPRTFLL      120\n",
       "TPRVTGGGAM     114\n",
       "RPPIFIRRL      102\n",
       "VTEHDTLLY      102\n",
       "TIDDGIFEV       96\n",
       "RPHERNGFTVL     90\n",
       "MTLHGHMMY       84\n",
       "QLLALLPSL       84\n",
       "Name: Peptide, dtype: int64"
      ]
     },
     "execution_count": 57,
     "metadata": {},
     "output_type": "execute_result"
    }
   ],
   "source": [
    "X_test.Peptide.value_counts()"
   ]
  },
  {
   "cell_type": "code",
   "execution_count": 54,
   "id": "4733289c-0361-448a-8e28-2b8ffed1a1bb",
   "metadata": {
    "tags": []
   },
   "outputs": [
    {
     "data": {
      "text/plain": [
       "<AxesSubplot:>"
      ]
     },
     "execution_count": 54,
     "metadata": {},
     "output_type": "execute_result"
    },
    {
     "data": {
      "image/png": "[encoded data removed]",
      "text/plain": [
       "<Figure size 640x480 with 1 Axes>"
      ]
     },
     "metadata": {},
     "output_type": "display_data"
    }
   ],
   "source": [
    "X_test.groupby(['CDR3a_extended', 'CDR3b_extended']).Peptide.agg('nunique').hist()"
   ]
  },
  {
   "cell_type": "code",
   "execution_count": 172,
   "id": "45a934ba-6f20-48bb-b8f5-e548829edf8b",
   "metadata": {
    "tags": []
   },
   "outputs": [
    {
     "data": {
      "text/plain": [
       "0.47836762491934903"
      ]
     },
     "execution_count": 172,
     "metadata": {},
     "output_type": "execute_result"
    }
   ],
   "source": [
    "roc_auc_score(labels[multi_mask], probs[multi_mask])"
   ]
  },
  {
   "cell_type": "code",
   "execution_count": 173,
   "id": "ec885997-eb3f-42f3-9e64-751e4931eefb",
   "metadata": {
    "tags": []
   },
   "outputs": [
    {
     "data": {
      "text/plain": [
       "0.6939589211723733"
      ]
     },
     "execution_count": 173,
     "metadata": {},
     "output_type": "execute_result"
    }
   ],
   "source": [
    "roc_auc_score(labels[~multi_mask], probs[~multi_mask])"
   ]
  },
  {
   "cell_type": "code",
   "execution_count": 174,
   "id": "ad325735-5f1c-4b6e-a1ba-ee39740c41f4",
   "metadata": {
    "tags": []
   },
   "outputs": [],
   "source": [
    "from bertrand.immrep.sample_test_set import train_sample_peps\n"
   ]
  },
  {
   "cell_type": "code",
   "execution_count": 175,
   "id": "023e5846-3879-4033-a9e2-966f5762563b",
   "metadata": {
    "tags": []
   },
   "outputs": [
    {
     "data": {
      "text/plain": [
       "0.4859515570934256"
      ]
     },
     "execution_count": 175,
     "metadata": {},
     "output_type": "execute_result"
    }
   ],
   "source": [
    "test_iso_mask = (~test_dataset.examples.Peptide.isin(train_sample_peps))\n",
    "roc_auc_score(labels[test_iso_mask], probs[test_iso_mask])"
   ]
  },
  {
   "cell_type": "code",
   "execution_count": 176,
   "id": "c7f360f3-46cd-4815-8ff4-c6e7a2ea1214",
   "metadata": {
    "tags": []
   },
   "outputs": [
    {
     "data": {
      "text/plain": [
       "368"
      ]
     },
     "execution_count": 176,
     "metadata": {},
     "output_type": "execute_result"
    }
   ],
   "source": [
    "(test_iso_mask& (~multi_mask)).sum()"
   ]
  },
  {
   "cell_type": "code",
   "execution_count": 177,
   "id": "ab531f12-4345-4424-a65e-4843662e5886",
   "metadata": {
    "tags": []
   },
   "outputs": [
    {
     "data": {
      "text/plain": [
       "0.5067460317460317"
      ]
     },
     "execution_count": 177,
     "metadata": {},
     "output_type": "execute_result"
    }
   ],
   "source": [
    "roc_auc_score(labels[test_iso_mask& multi_mask], probs[test_iso_mask& multi_mask])"
   ]
  },
  {
   "cell_type": "code",
   "execution_count": 178,
   "id": "573227ef-dc6d-40c4-a310-48ff9f59ce43",
   "metadata": {
    "tags": []
   },
   "outputs": [
    {
     "data": {
      "text/plain": [
       "0.5531633616619452"
      ]
     },
     "execution_count": 178,
     "metadata": {},
     "output_type": "execute_result"
    }
   ],
   "source": [
    "roc_auc_score(labels[test_iso_mask& ~multi_mask], probs[test_iso_mask& ~multi_mask])"
   ]
  },
  {
   "cell_type": "code",
   "execution_count": 179,
   "id": "156c2a1e-c733-477f-ad1d-3b2078858f32",
   "metadata": {
    "tags": []
   },
   "outputs": [
    {
     "data": {
      "text/plain": [
       "510"
      ]
     },
     "execution_count": 179,
     "metadata": {},
     "output_type": "execute_result"
    }
   ],
   "source": [
    "test_iso_mask.sum()"
   ]
  },
  {
   "cell_type": "code",
   "execution_count": 180,
   "id": "5231e10c-9e42-406b-9136-d8c576322589",
   "metadata": {
    "tags": []
   },
   "outputs": [
    {
     "data": {
      "text/html": [
       "<div>\n",
       "<style scoped>\n",
       "    .dataframe tbody tr th:only-of-type {\n",
       "        vertical-align: middle;\n",
       "    }\n",
       "\n",
       "    .dataframe tbody tr th {\n",
       "        vertical-align: top;\n",
       "    }\n",
       "\n",
       "    .dataframe thead th {\n",
       "        text-align: right;\n",
       "    }\n",
       "</style>\n",
       "<table border=\"1\" class=\"dataframe\">\n",
       "  <thead>\n",
       "    <tr style=\"text-align: right;\">\n",
       "      <th>col_0</th>\n",
       "      <th>False</th>\n",
       "      <th>True</th>\n",
       "    </tr>\n",
       "    <tr>\n",
       "      <th>Peptide</th>\n",
       "      <th></th>\n",
       "      <th></th>\n",
       "    </tr>\n",
       "  </thead>\n",
       "  <tbody>\n",
       "    <tr>\n",
       "      <th>False</th>\n",
       "      <td>1359</td>\n",
       "      <td>383</td>\n",
       "    </tr>\n",
       "    <tr>\n",
       "      <th>True</th>\n",
       "      <td>368</td>\n",
       "      <td>142</td>\n",
       "    </tr>\n",
       "  </tbody>\n",
       "</table>\n",
       "</div>"
      ],
      "text/plain": [
       "col_0    False  True\n",
       "Peptide             \n",
       "False     1359   383\n",
       "True       368   142"
      ]
     },
     "execution_count": 180,
     "metadata": {},
     "output_type": "execute_result"
    }
   ],
   "source": [
    "pd.crosstab(test_iso_mask, multi_mask)"
   ]
  },
  {
   "cell_type": "code",
   "execution_count": 181,
   "id": "6489af2d-be15-4e49-a4a5-bc9cabdf9fd1",
   "metadata": {
    "tags": []
   },
   "outputs": [
    {
     "data": {
      "text/plain": [
       "YVLDHLIVV    126\n",
       "SLLQHLIGL    120\n",
       "TIDDGIFEV     96\n",
       "MTLHGHMMY     84\n",
       "QLLALLPSL     84\n",
       "Name: Peptide, dtype: int64"
      ]
     },
     "execution_count": 181,
     "metadata": {},
     "output_type": "execute_result"
    }
   ],
   "source": [
    "X_test[test_iso_mask].Peptide.value_counts()"
   ]
  },
  {
   "cell_type": "code",
   "execution_count": 182,
   "id": "8004804d-9ef0-4fe2-a46e-4c2646717b61",
   "metadata": {
    "tags": []
   },
   "outputs": [
    {
     "data": {
      "text/html": [
       "<div>\n",
       "<style scoped>\n",
       "    .dataframe tbody tr th:only-of-type {\n",
       "        vertical-align: middle;\n",
       "    }\n",
       "\n",
       "    .dataframe tbody tr th {\n",
       "        vertical-align: top;\n",
       "    }\n",
       "\n",
       "    .dataframe thead th {\n",
       "        text-align: right;\n",
       "    }\n",
       "</style>\n",
       "<table border=\"1\" class=\"dataframe\">\n",
       "  <thead>\n",
       "    <tr style=\"text-align: right;\">\n",
       "      <th>y</th>\n",
       "      <th>0</th>\n",
       "      <th>1</th>\n",
       "    </tr>\n",
       "    <tr>\n",
       "      <th>Peptide</th>\n",
       "      <th></th>\n",
       "      <th></th>\n",
       "    </tr>\n",
       "  </thead>\n",
       "  <tbody>\n",
       "    <tr>\n",
       "      <th>MTLHGHMMY</th>\n",
       "      <td>70</td>\n",
       "      <td>14</td>\n",
       "    </tr>\n",
       "    <tr>\n",
       "      <th>QLLALLPSL</th>\n",
       "      <td>70</td>\n",
       "      <td>14</td>\n",
       "    </tr>\n",
       "    <tr>\n",
       "      <th>SLLQHLIGL</th>\n",
       "      <td>100</td>\n",
       "      <td>20</td>\n",
       "    </tr>\n",
       "    <tr>\n",
       "      <th>TIDDGIFEV</th>\n",
       "      <td>80</td>\n",
       "      <td>16</td>\n",
       "    </tr>\n",
       "    <tr>\n",
       "      <th>YVLDHLIVV</th>\n",
       "      <td>105</td>\n",
       "      <td>21</td>\n",
       "    </tr>\n",
       "  </tbody>\n",
       "</table>\n",
       "</div>"
      ],
      "text/plain": [
       "y            0   1\n",
       "Peptide           \n",
       "MTLHGHMMY   70  14\n",
       "QLLALLPSL   70  14\n",
       "SLLQHLIGL  100  20\n",
       "TIDDGIFEV   80  16\n",
       "YVLDHLIVV  105  21"
      ]
     },
     "execution_count": 182,
     "metadata": {},
     "output_type": "execute_result"
    }
   ],
   "source": [
    "pd.crosstab(X_test[test_iso_mask].Peptide, X_test[test_iso_mask].y)"
   ]
  },
  {
   "cell_type": "code",
   "execution_count": 113,
   "id": "8c15ef2a-2ce9-4818-ad6c-747978e19619",
   "metadata": {
    "tags": []
   },
   "outputs": [],
   "source": [
    "amb_train  = X_train.groupby(['CDR3a_extended', 'CDR3b_extended']).y.agg('nunique')\n",
    "amb_train = amb_train[amb_train == 2]"
   ]
  },
  {
   "cell_type": "code",
   "execution_count": 115,
   "id": "19425e8f-2a08-4445-8996-714cc581c1f6",
   "metadata": {
    "tags": []
   },
   "outputs": [
    {
     "data": {
      "text/plain": [
       "(48730, 4)"
      ]
     },
     "execution_count": 115,
     "metadata": {},
     "output_type": "execute_result"
    }
   ],
   "source": [
    "X_train.shape"
   ]
  },
  {
   "cell_type": "code",
   "execution_count": 116,
   "id": "c1a73528-3c97-4c83-8f4a-b0d162144299",
   "metadata": {
    "tags": []
   },
   "outputs": [
    {
     "data": {
      "text/plain": [
       "(6719,)"
      ]
     },
     "execution_count": 116,
     "metadata": {},
     "output_type": "execute_result"
    }
   ],
   "source": [
    "amb_train.shape"
   ]
  },
  {
   "cell_type": "code",
   "execution_count": 126,
   "id": "0c2db260-c539-46cb-b760-75c861620133",
   "metadata": {
    "tags": []
   },
   "outputs": [
    {
     "data": {
      "text/plain": [
       "CDR3a_extended    CDR3b_extended     \n",
       "CAASRGKGGGADGLTF  CASSYSTGTVDYEQYF       2\n",
       "CAASIQYSNDYKLSF   CASSPSSGRVLYEQYF       2\n",
       "CAVVGGYNKLIF      CASSPGQVSYEQYF         2\n",
       "CVVSGKNTGFQKLVF   CASSVQALLAGDWADTQYF    2\n",
       "Name: y, dtype: int64"
      ]
     },
     "execution_count": 126,
     "metadata": {},
     "output_type": "execute_result"
    }
   ],
   "source": [
    "amb_train.sample(4)"
   ]
  },
  {
   "cell_type": "code",
   "execution_count": 127,
   "id": "3dcbbebc-9ec0-48d5-986f-904a9cf20288",
   "metadata": {
    "tags": []
   },
   "outputs": [
    {
     "data": {
      "text/html": [
       "<div>\n",
       "<style scoped>\n",
       "    .dataframe tbody tr th:only-of-type {\n",
       "        vertical-align: middle;\n",
       "    }\n",
       "\n",
       "    .dataframe tbody tr th {\n",
       "        vertical-align: top;\n",
       "    }\n",
       "\n",
       "    .dataframe thead th {\n",
       "        text-align: right;\n",
       "    }\n",
       "</style>\n",
       "<table border=\"1\" class=\"dataframe\">\n",
       "  <thead>\n",
       "    <tr style=\"text-align: right;\">\n",
       "      <th></th>\n",
       "      <th>Peptide</th>\n",
       "      <th>CDR3b_extended</th>\n",
       "      <th>CDR3a_extended</th>\n",
       "      <th>y</th>\n",
       "    </tr>\n",
       "  </thead>\n",
       "  <tbody>\n",
       "    <tr>\n",
       "      <th>5942</th>\n",
       "      <td>CLGGLLTMV</td>\n",
       "      <td>CASSVQALLAGDWADTQYF</td>\n",
       "      <td>CVVSGKNTGFQKLVF</td>\n",
       "      <td>0</td>\n",
       "    </tr>\n",
       "    <tr>\n",
       "      <th>8468</th>\n",
       "      <td>ELAGIGILTV</td>\n",
       "      <td>CASSVQALLAGDWADTQYF</td>\n",
       "      <td>CVVSGKNTGFQKLVF</td>\n",
       "      <td>0</td>\n",
       "    </tr>\n",
       "    <tr>\n",
       "      <th>25666</th>\n",
       "      <td>LLWNGPMAV</td>\n",
       "      <td>CASSVQALLAGDWADTQYF</td>\n",
       "      <td>CVVSGKNTGFQKLVF</td>\n",
       "      <td>0</td>\n",
       "    </tr>\n",
       "    <tr>\n",
       "      <th>38144</th>\n",
       "      <td>RLRAEAQVK</td>\n",
       "      <td>CASSVQALLAGDWADTQYF</td>\n",
       "      <td>CVVSGKNTGFQKLVF</td>\n",
       "      <td>0</td>\n",
       "    </tr>\n",
       "    <tr>\n",
       "      <th>40642</th>\n",
       "      <td>RPRGEVRFL</td>\n",
       "      <td>CASSVQALLAGDWADTQYF</td>\n",
       "      <td>CVVSGKNTGFQKLVF</td>\n",
       "      <td>1</td>\n",
       "    </tr>\n",
       "    <tr>\n",
       "      <th>49464</th>\n",
       "      <td>VTEHDTLLY</td>\n",
       "      <td>CASSVQALLAGDWADTQYF</td>\n",
       "      <td>CVVSGKNTGFQKLVF</td>\n",
       "      <td>0</td>\n",
       "    </tr>\n",
       "  </tbody>\n",
       "</table>\n",
       "</div>"
      ],
      "text/plain": [
       "          Peptide       CDR3b_extended   CDR3a_extended  y\n",
       "5942    CLGGLLTMV  CASSVQALLAGDWADTQYF  CVVSGKNTGFQKLVF  0\n",
       "8468   ELAGIGILTV  CASSVQALLAGDWADTQYF  CVVSGKNTGFQKLVF  0\n",
       "25666   LLWNGPMAV  CASSVQALLAGDWADTQYF  CVVSGKNTGFQKLVF  0\n",
       "38144   RLRAEAQVK  CASSVQALLAGDWADTQYF  CVVSGKNTGFQKLVF  0\n",
       "40642   RPRGEVRFL  CASSVQALLAGDWADTQYF  CVVSGKNTGFQKLVF  1\n",
       "49464   VTEHDTLLY  CASSVQALLAGDWADTQYF  CVVSGKNTGFQKLVF  0"
      ]
     },
     "execution_count": 127,
     "metadata": {},
     "output_type": "execute_result"
    }
   ],
   "source": [
    "X_train.query('CDR3a_extended == \"CVVSGKNTGFQKLVF\" and CDR3b_extended == \"CASSVQALLAGDWADTQYF\"')"
   ]
  },
  {
   "cell_type": "code",
   "execution_count": 218,
   "id": "19e85388-63e0-446a-a4f9-7932fee6a5dd",
   "metadata": {
    "tags": []
   },
   "outputs": [
    {
     "data": {
      "text/plain": [
       "CDR3a_extended       CAFMKHGNDMRF\n",
       "CDR3b_extended    CASSRTGFNAYGYTF\n",
       "y                               2\n",
       "Name: 0, dtype: object"
      ]
     },
     "execution_count": 218,
     "metadata": {},
     "output_type": "execute_result"
    }
   ],
   "source": [
    "row = amb.sample().reset_index().iloc[0]\n",
    "row"
   ]
  },
  {
   "cell_type": "code",
   "execution_count": 219,
   "id": "b0773098-ee74-41bd-a12f-0b9a829d7789",
   "metadata": {
    "tags": []
   },
   "outputs": [
    {
     "data": {
      "text/html": [
       "<div>\n",
       "<style scoped>\n",
       "    .dataframe tbody tr th:only-of-type {\n",
       "        vertical-align: middle;\n",
       "    }\n",
       "\n",
       "    .dataframe tbody tr th {\n",
       "        vertical-align: top;\n",
       "    }\n",
       "\n",
       "    .dataframe thead th {\n",
       "        text-align: right;\n",
       "    }\n",
       "</style>\n",
       "<table border=\"1\" class=\"dataframe\">\n",
       "  <thead>\n",
       "    <tr style=\"text-align: right;\">\n",
       "      <th></th>\n",
       "      <th>Peptide</th>\n",
       "      <th>CDR3a_extended</th>\n",
       "      <th>CDR3b_extended</th>\n",
       "      <th>y</th>\n",
       "      <th>weight</th>\n",
       "    </tr>\n",
       "  </thead>\n",
       "  <tbody>\n",
       "    <tr>\n",
       "      <th>48</th>\n",
       "      <td>GILGFVFTL</td>\n",
       "      <td>CAFMKHGNDMRF</td>\n",
       "      <td>CASSRTGFNAYGYTF</td>\n",
       "      <td>0</td>\n",
       "      <td>1.586730</td>\n",
       "    </tr>\n",
       "    <tr>\n",
       "      <th>341</th>\n",
       "      <td>GLCTLVAML</td>\n",
       "      <td>CAFMKHGNDMRF</td>\n",
       "      <td>CASSRTGFNAYGYTF</td>\n",
       "      <td>0</td>\n",
       "      <td>1.784830</td>\n",
       "    </tr>\n",
       "    <tr>\n",
       "      <th>515</th>\n",
       "      <td>IVTDFSVIK</td>\n",
       "      <td>CAFMKHGNDMRF</td>\n",
       "      <td>CASSRTGFNAYGYTF</td>\n",
       "      <td>0</td>\n",
       "      <td>1.636920</td>\n",
       "    </tr>\n",
       "    <tr>\n",
       "      <th>1152</th>\n",
       "      <td>RAKFKQLL</td>\n",
       "      <td>CAFMKHGNDMRF</td>\n",
       "      <td>CASSRTGFNAYGYTF</td>\n",
       "      <td>0</td>\n",
       "      <td>1.599616</td>\n",
       "    </tr>\n",
       "    <tr>\n",
       "      <th>1721</th>\n",
       "      <td>TIDDGIFEV</td>\n",
       "      <td>CAFMKHGNDMRF</td>\n",
       "      <td>CASSRTGFNAYGYTF</td>\n",
       "      <td>1</td>\n",
       "      <td>1.985269</td>\n",
       "    </tr>\n",
       "    <tr>\n",
       "      <th>1929</th>\n",
       "      <td>VTEHDTLLY</td>\n",
       "      <td>CAFMKHGNDMRF</td>\n",
       "      <td>CASSRTGFNAYGYTF</td>\n",
       "      <td>0</td>\n",
       "      <td>1.959868</td>\n",
       "    </tr>\n",
       "    <tr>\n",
       "      <th>2032</th>\n",
       "      <td>YLQPRTFLL</td>\n",
       "      <td>CAFMKHGNDMRF</td>\n",
       "      <td>CASSRTGFNAYGYTF</td>\n",
       "      <td>0</td>\n",
       "      <td>1.894744</td>\n",
       "    </tr>\n",
       "  </tbody>\n",
       "</table>\n",
       "</div>"
      ],
      "text/plain": [
       "        Peptide CDR3a_extended   CDR3b_extended  y    weight\n",
       "48    GILGFVFTL   CAFMKHGNDMRF  CASSRTGFNAYGYTF  0  1.586730\n",
       "341   GLCTLVAML   CAFMKHGNDMRF  CASSRTGFNAYGYTF  0  1.784830\n",
       "515   IVTDFSVIK   CAFMKHGNDMRF  CASSRTGFNAYGYTF  0  1.636920\n",
       "1152   RAKFKQLL   CAFMKHGNDMRF  CASSRTGFNAYGYTF  0  1.599616\n",
       "1721  TIDDGIFEV   CAFMKHGNDMRF  CASSRTGFNAYGYTF  1  1.985269\n",
       "1929  VTEHDTLLY   CAFMKHGNDMRF  CASSRTGFNAYGYTF  0  1.959868\n",
       "2032  YLQPRTFLL   CAFMKHGNDMRF  CASSRTGFNAYGYTF  0  1.894744"
      ]
     },
     "execution_count": 219,
     "metadata": {},
     "output_type": "execute_result"
    }
   ],
   "source": [
    "q = X_test.query(f'CDR3a_extended == \"{row.CDR3a_extended}\" and CDR3b_extended == \"{row.CDR3b_extended}\"')\n",
    "q"
   ]
  },
  {
   "cell_type": "code",
   "execution_count": 220,
   "id": "44e4bd57-0f43-4e7f-a2cf-bc396bf6b647",
   "metadata": {
    "tags": []
   },
   "outputs": [],
   "source": [
    "ind = q.index.values"
   ]
  },
  {
   "cell_type": "code",
   "execution_count": 221,
   "id": "eecafbb0-385a-41a1-bf21-80e84810a761",
   "metadata": {
    "tags": []
   },
   "outputs": [
    {
     "data": {
      "text/plain": [
       "array([  48,  341,  515, 1152, 1721, 1929, 2032])"
      ]
     },
     "execution_count": 221,
     "metadata": {},
     "output_type": "execute_result"
    }
   ],
   "source": [
    "ind"
   ]
  },
  {
   "cell_type": "code",
   "execution_count": 222,
   "id": "6faa37f0-3947-4865-960c-1dbc678c01a7",
   "metadata": {
    "tags": []
   },
   "outputs": [
    {
     "data": {
      "text/plain": [
       "array([0.07449862, 0.06732244, 0.06773889, 0.14603254, 0.06656772,\n",
       "       0.11373109, 0.09789458], dtype=float32)"
      ]
     },
     "execution_count": 222,
     "metadata": {},
     "output_type": "execute_result"
    }
   ],
   "source": [
    "probs[ind]"
   ]
  },
  {
   "cell_type": "code",
   "execution_count": 234,
   "id": "c6242967-6652-4871-830e-b15f3f7e8a75",
   "metadata": {
    "tags": []
   },
   "outputs": [
    {
     "data": {
      "text/plain": [
       "array([3.0e-05, 2.0e-05, 2.0e-05, 4.9e-04, 0.0e+00, 1.8e-04, 1.0e-04],\n",
       "      dtype=float32)"
      ]
     },
     "execution_count": 234,
     "metadata": {},
     "output_type": "execute_result"
    }
   ],
   "source": [
    "loss[ind].round(5)"
   ]
  },
  {
   "cell_type": "code",
   "execution_count": null,
   "id": "ec4e01dc-7f0a-404c-a096-d536b2924cb2",
   "metadata": {},
   "outputs": [],
   "source": []
  },
  {
   "cell_type": "code",
   "execution_count": null,
   "id": "d5e256a1-30b1-4630-8242-ad2022db8b4d",
   "metadata": {},
   "outputs": [],
   "source": []
  },
  {
   "cell_type": "code",
   "execution_count": 123,
   "id": "a55208b7-871e-45bc-8f01-24512193a1fa",
   "metadata": {
    "tags": []
   },
   "outputs": [],
   "source": [
    "from bertrand.immrep.sample_train_set import filter_cdr, sample_additional"
   ]
  },
  {
   "cell_type": "code",
   "execution_count": 124,
   "id": "3796b6f8-845d-4425-97fb-8a9de5aa96eb",
   "metadata": {
    "tags": []
   },
   "outputs": [
    {
     "name": "stdout",
     "output_type": "stream",
     "text": [
      "len(CDR3a) in [7, 24] len(CDR3b) in  [9, 22]\n",
      "17088 positive observations total\n",
      "10656 positive observations filtered\n",
      "8103 potential negatives  filtered\n",
      "AVFDRKSDAK     2285\n",
      "ELAGIGILTV      955\n",
      "RLRAEAQVK       813\n",
      "IVTDFSVIK       491\n",
      "RLNAALREK       469\n",
      "VVVGAVGVGK      389\n",
      "GILGFVFTL       371\n",
      "SPRWYFYYL       346\n",
      "TTDPSFLGRY      337\n",
      "HTMGFWLTK       302\n",
      "NLVPMVATV       281\n",
      "RAKFKQLL        268\n",
      "KTYQGSYGFR      264\n",
      "CINGVCWTV       230\n",
      "LLWNGPMAV       220\n",
      "SVMGVYVGK       215\n",
      "YLQPRTFLL       189\n",
      "LYVDSLFFL       184\n",
      "GLCTLVAML       174\n",
      "TPRVTGGGAM      161\n",
      "FLRGRAYGL       159\n",
      "RPPIFIRRL       148\n",
      "VTEHDTLLY       141\n",
      "ATDALMTGF       119\n",
      "STLGNFWMK       113\n",
      "RPHERNGFTVL     113\n",
      "LTDEMIAQY       112\n",
      "KTFPPTEPK        98\n",
      "VVVGACGVGK       89\n",
      "KSKRTPMGF        88\n",
      "CLGGLLTMV        85\n",
      "LLGRNSFEV        70\n",
      "NQKLIANQF        66\n",
      "AVASVPIMY        64\n",
      "RPRGEVRFL        60\n",
      "RAQAPPPSW        49\n",
      "QYIKWPWYI        47\n",
      "GPRLGVRAT        46\n",
      "KLVALGINAV       45\n",
      "Name: Peptide, dtype: int64\n"
     ]
    }
   ],
   "source": [
    "# def sample_train_additional(train, test, synthetic_test, T=10, seed=42, ratio=5, verbose=False):\n",
    "train = train_set\n",
    "test = test_set\n",
    "synthetic_test = data_split['test_sample']\n",
    "T=50\n",
    "seed=42\n",
    "verbose=True\n",
    "\n",
    "np.random.seed(seed)\n",
    "l = test.CDR3a_extended.str.len()\n",
    "CDRA_MIN, CDRA_MAX = l.min(), l.max()\n",
    "l = test.CDR3b_extended.str.len()\n",
    "CDRB_MIN, CDRB_MAX = l.min(), l.max()\n",
    "if verbose:\n",
    "    print(\"len(CDR3a) in\", [CDRA_MIN, CDRA_MAX], \"len(CDR3b) in \", [CDRB_MIN, CDRB_MAX])\n",
    "\n",
    "pos = train[[\"Peptide\", \"CDR3b_extended\", \"CDR3a_extended\"]].drop_duplicates()\n",
    "pos[\"y\"] = 1\n",
    "\n",
    "assert {pos.groupby([\"Peptide\", \"CDR3b_extended\", \"CDR3a_extended\"]).y.agg(\"count\").max()} == {1}\n",
    "\n",
    "additional_peptides = sample_additional(train, test, synthetic_test)\n",
    "# if include_other_peptides:\n",
    "pos = pos[pos.Peptide.isin(synthetic_test.Peptide) | pos.Peptide.isin(additional_peptides)]\n",
    "# else:\n",
    "# pos = pos[pos.Peptide.isin(test.Peptide)]\n",
    "vc = pos[\"Peptide\"].value_counts()\n",
    "peps = vc.index[vc >= T]\n",
    "pos = pos[pos.Peptide.isin(peps)]\n",
    "\n",
    "la = pos.CDR3a_extended.str.len()\n",
    "lb = pos.CDR3b_extended.str.len()\n",
    "regex = f\"[{''.join(AA_list)}]+\"\n",
    "pos = pos[\n",
    "    (la >= CDRA_MIN)\n",
    "    & (la <= CDRA_MAX)\n",
    "    & (lb >= CDRB_MIN)\n",
    "    & (lb <= CDRB_MAX)\n",
    "    & (pos.CDR3a_extended.str[0] == \"C\")\n",
    "    & (pos.CDR3b_extended.str[0] == \"C\")\n",
    "    & pos.CDR3a_extended.str.fullmatch(regex)\n",
    "    & pos.CDR3b_extended.str.fullmatch(regex)\n",
    "]\n",
    "\n",
    "pos_filt = filter_cdr(pos, synthetic_test)\n",
    "\n",
    "# potential_tcr_negatives = (\n",
    "#     pos_filt.groupby(\"Peptide\")\n",
    "#     .apply(lambda x: x.sample(frac=0.2) if len(x) >= 10 / 0.2 else x)\n",
    "#     .reset_index(drop=True)\n",
    "# )\n",
    "\n",
    "potential_tcr_negatives = (\n",
    "    pos_filt.groupby(\"Peptide\")\n",
    "    .apply(lambda x: x.sample(500) if len(x) >= 500 else x)\n",
    "    .reset_index(drop=True)\n",
    ")\n",
    "# print(pos_filt.Peptide.value_counts())\n",
    "# raise Exception()\n",
    "if verbose:\n",
    "    print(f\"{len(pos)} positive observations total\")\n",
    "    print(f\"{len(pos_filt)} positive observations filtered\")\n",
    "    print(f\"{len(potential_tcr_negatives)} potential negatives  filtered\")\n",
    "    print(pos_filt.Peptide.value_counts())\n",
    "\n"
   ]
  },
  {
   "cell_type": "code",
   "execution_count": 125,
   "id": "daa209d5-0669-44c2-aef6-e5b21796400e",
   "metadata": {
    "tags": []
   },
   "outputs": [
    {
     "data": {
      "text/plain": [
       "(8103, 4)"
      ]
     },
     "execution_count": 125,
     "metadata": {},
     "output_type": "execute_result"
    }
   ],
   "source": [
    "potential_tcr_negatives.shape"
   ]
  },
  {
   "cell_type": "code",
   "execution_count": null,
   "id": "084031ae-62fd-40f0-8fd2-48e99e2187f5",
   "metadata": {},
   "outputs": [],
   "source": [
    "rlist = []\n",
    "plist = []\n",
    "pos_filt_gb = pos_filt.groupby('Peptide')\n",
    "for pep, pos_pep in pos_filt_gb:\n",
    "    if len(pos_pep) < T:\n",
    "        continue\n",
    "    if len(pos_pep) > 500:\n",
    "        pos_pep = pos_pep.sample(500).reset_index(drop=True)\n",
    "\n",
    "    potential_negs = potential_tcr_negatives[potential_tcr_negatives.Peptide != pep]\n",
    "    potential_negs_filt = filter_cdr(potential_negs, pos_pep, t=2).copy()\n",
    "\n",
    "    if verbose:\n",
    "        print(pep, len(pos_pep) * ratio, len(potential_negs), len(potential_negs_filt))\n",
    "    if len(pos_pep) * ratio >= len(potential_negs_filt):\n",
    "        neg_sample = potential_negs_filt.copy()\n",
    "    else:\n",
    "        neg_sample = potential_negs_filt.sample(len(pos_pep) * ratio)\n",
    "    neg_sample[\"y\"] = 0\n",
    "    neg_sample[\"Peptide\"] = pep\n",
    "    rlist.append(neg_sample)\n",
    "    plist.append(pos_pep)\n",
    "\n",
    "df = pd.concat(plist+rlist)\n",
    "df = df.groupby([\"Peptide\", \"CDR3b_extended\", \"CDR3a_extended\"]).y.max().reset_index()\n",
    "assert {df.groupby([\"Peptide\", \"CDR3b_extended\", \"CDR3a_extended\"]).y.agg(\"nunique\").max()} == {1}\n",
    "# return df"
   ]
  }
 ],
 "metadata": {
  "kernelspec": {
   "display_name": "bertrand",
   "language": "python",
   "name": "bertrand"
  },
  "language_info": {
   "codemirror_mode": {
    "name": "ipython",
    "version": 3
   },
   "file_extension": ".py",
   "mimetype": "text/x-python",
   "name": "python",
   "nbconvert_exporter": "python",
   "pygments_lexer": "ipython3",
   "version": "3.8.0"
  }
 },
 "nbformat": 4,
 "nbformat_minor": 5
}
