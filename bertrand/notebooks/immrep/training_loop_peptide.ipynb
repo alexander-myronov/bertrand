{
 "cells": [
  {
   "cell_type": "code",
   "execution_count": 1,
   "id": "b427ccc9-0be5-4a69-9da3-22da037297d5",
   "metadata": {
    "tags": []
   },
   "outputs": [],
   "source": [
    "%load_ext autoreload\n",
    "%autoreload 2"
   ]
  },
  {
   "cell_type": "code",
   "execution_count": 2,
   "id": "383bc373-edf6-4644-bb35-a426cbe2f98a",
   "metadata": {
    "tags": []
   },
   "outputs": [],
   "source": [
    "import logging\n",
    "\n",
    "logger = logging.getLogger()\n",
    "logger.setLevel(logging.INFO)"
   ]
  },
  {
   "cell_type": "code",
   "execution_count": 3,
   "id": "553b9673-0ecb-4ff5-a243-55fd95f2d694",
   "metadata": {
    "tags": []
   },
   "outputs": [],
   "source": [
    "import glob\n",
    "import itertools\n",
    "import os\n",
    "import sys\n",
    "import gc\n",
    "\n",
    "import numpy as np\n",
    "import pandas as pd\n",
    "from matplotlib import pyplot as plt\n",
    "from tqdm.auto import tqdm"
   ]
  },
  {
   "cell_type": "code",
   "execution_count": 4,
   "id": "1c387e94-5817-468c-9322-f73e2f60afb8",
   "metadata": {
    "tags": []
   },
   "outputs": [],
   "source": [
    "sys.path.append(\"../../..\")"
   ]
  },
  {
   "cell_type": "code",
   "execution_count": 5,
   "id": "4baffe7c-e936-40f5-ac49-04aa8514b621",
   "metadata": {
    "tags": []
   },
   "outputs": [],
   "source": [
    "from bertrand.immrep.data_sources import read_test, read_train_be\n",
    "from bertrand.immrep.sample_test_set import sample_test\n",
    "from bertrand.immrep.sample_train_set import sample_train"
   ]
  },
  {
   "cell_type": "code",
   "execution_count": 6,
   "id": "019010aa-654a-4a7a-af5b-55d74952d504",
   "metadata": {
    "tags": []
   },
   "outputs": [],
   "source": [
    "test = read_test()\n",
    "train = read_train_be()"
   ]
  },
  {
   "cell_type": "markdown",
   "id": "6a677024-1ae4-45b6-8ad8-9a3f8bae6f8b",
   "metadata": {},
   "source": [
    "## Some tests"
   ]
  },
  {
   "cell_type": "code",
   "execution_count": 7,
   "id": "6a9b16fa-cd79-4988-b986-9ff994f47ecb",
   "metadata": {
    "tags": []
   },
   "outputs": [
    {
     "name": "stdout",
     "output_type": "stream",
     "text": [
      "GILGFVFTL 1879 0.05\n",
      "RAKFKQLL 979 0.05\n",
      "IVTDFSVIK 856 0.05\n",
      "NLVPMVATV 644 0.05\n",
      "GLCTLVAML 531 0.05\n",
      "YLQPRTFLL 394 0.05\n",
      "TPRVTGGGAM 375 0.05\n",
      "RPPIFIRRL 341 0.05\n",
      "VTEHDTLLY 339 0.05\n",
      "RPHERNGFTVL 294 0.05\n"
     ]
    }
   ],
   "source": [
    "test_sample = sample_test(train, test, seed=43)"
   ]
  },
  {
   "cell_type": "code",
   "execution_count": 8,
   "id": "419ce0c9-8397-4323-b5e3-260e182c937a",
   "metadata": {
    "tags": []
   },
   "outputs": [
    {
     "name": "stdout",
     "output_type": "stream",
     "text": [
      "GILGFVFTL 1879 0.05\n",
      "RAKFKQLL 979 0.05\n",
      "IVTDFSVIK 856 0.05\n",
      "NLVPMVATV 644 0.05\n",
      "GLCTLVAML 531 0.05\n",
      "YLQPRTFLL 394 0.05\n",
      "TPRVTGGGAM 375 0.05\n",
      "RPPIFIRRL 341 0.05\n",
      "VTEHDTLLY 339 0.05\n",
      "RPHERNGFTVL 294 0.05\n"
     ]
    }
   ],
   "source": [
    "test_sample2 = sample_test(train, test, seed=42)"
   ]
  },
  {
   "cell_type": "code",
   "execution_count": 9,
   "id": "4e605f5d-57c8-43cd-85ed-8c39be63e78d",
   "metadata": {
    "tags": []
   },
   "outputs": [
    {
     "ename": "NameError",
     "evalue": "name 'compare' is not defined",
     "output_type": "error",
     "traceback": [
      "\u001b[0;31m---------------------------------------------------------------------------\u001b[0m",
      "\u001b[0;31mNameError\u001b[0m                                 Traceback (most recent call last)",
      "Cell \u001b[0;32mIn[9], line 1\u001b[0m\n\u001b[0;32m----> 1\u001b[0m \u001b[43mcompare\u001b[49m(test_sample, test_sample2)\n",
      "\u001b[0;31mNameError\u001b[0m: name 'compare' is not defined"
     ]
    }
   ],
   "source": [
    "compare(test_sample, test_sample2)"
   ]
  },
  {
   "cell_type": "code",
   "execution_count": null,
   "id": "efe20570-88c1-4987-a7ad-cdf8c4f67986",
   "metadata": {
    "tags": []
   },
   "outputs": [],
   "source": [
    "def compare(s1, s2):\n",
    "    for pep in np.intersect1d(s1.Peptide, s2.Peptide):\n",
    "        a = s1.query(f'Peptide == \"{pep}\"')\n",
    "        b = s2.query(f'Peptide == \"{pep}\"')\n",
    "        posa = a[a.y == 1]\n",
    "        posb = b[b.y == 1]\n",
    "        ipos = len(\n",
    "            np.intersect1d(\n",
    "                posa.CDR3a_extended + \"_\" + posa.CDR3b_extended, posb.CDR3a_extended + \"_\" + posb.CDR3b_extended\n",
    "            )\n",
    "        )\n",
    "        nega = a[a.y == 0]\n",
    "        negb = b[b.y == 0]\n",
    "        ineg = len(\n",
    "            np.intersect1d(\n",
    "                nega.CDR3a_extended + \"_\" + nega.CDR3b_extended, negb.CDR3a_extended + \"_\" + negb.CDR3b_extended\n",
    "            )\n",
    "        )\n",
    "        print(f\"{pep} +: {len(posa)}-{ipos}-{len(posb)} -: {len(nega)}-{ineg}-{len(negb)}\")\n",
    "\n",
    "        iposneg = len(\n",
    "            np.intersect1d(\n",
    "                posa.CDR3a_extended + \"_\" + posa.CDR3b_extended, negb.CDR3a_extended + \"_\" + negb.CDR3b_extended\n",
    "            )\n",
    "        )\n",
    "        inegpos = len(\n",
    "            np.intersect1d(\n",
    "                nega.CDR3a_extended + \"_\" + nega.CDR3b_extended, posb.CDR3a_extended + \"_\" + posb.CDR3b_extended\n",
    "            )\n",
    "        )\n",
    "        assert iposneg == 0 and inegpos == 0"
   ]
  },
  {
   "cell_type": "code",
   "execution_count": 75,
   "id": "76f32b48-f494-417b-b8e7-4ae4e90ab8cb",
   "metadata": {
    "tags": []
   },
   "outputs": [],
   "source": [
    "train_sample = sample_train(train, test, test_sample, seed=42)"
   ]
  },
  {
   "cell_type": "code",
   "execution_count": 76,
   "id": "df88e6d0-6a5c-4e43-bf9f-ed6921cbe51f",
   "metadata": {
    "tags": []
   },
   "outputs": [],
   "source": [
    "train_sample2 = sample_train(train, test, test_sample, seed=43)"
   ]
  },
  {
   "cell_type": "code",
   "execution_count": 73,
   "id": "8cb1d8a6-497c-4689-a9c5-2757f83c17dc",
   "metadata": {
    "tags": []
   },
   "outputs": [
    {
     "name": "stdout",
     "output_type": "stream",
     "text": [
      "GILGFVFTL +: 428-428-428 -: 1519-1400-1519\n",
      "GLCTLVAML +: 193-193-193 -: 965-528-965\n",
      "IVTDFSVIK +: 511-511-511 -: 1877-1339-1877\n",
      "NLVPMVATV +: 340-340-340 -: 1644-1537-1644\n",
      "RAKFKQLL +: 271-271-271 -: 1355-1017-1355\n",
      "RPHERNGFTVL +: 130-130-130 -: 650-238-650\n",
      "RPPIFIRRL +: 165-165-165 -: 825-388-825\n",
      "TPRVTGGGAM +: 170-170-170 -: 850-395-850\n",
      "VTEHDTLLY +: 157-157-157 -: 785-352-785\n",
      "YLQPRTFLL +: 187-187-187 -: 935-350-935\n"
     ]
    }
   ],
   "source": [
    "compare(train_sample, train_sample2)"
   ]
  },
  {
   "cell_type": "code",
   "execution_count": 77,
   "id": "e36e3f40-263e-4404-9c6f-6a15c5c2c0de",
   "metadata": {
    "tags": []
   },
   "outputs": [],
   "source": [
    "train_sample = sample_train(train, test, test_sample, seed=42, include_other_peptides=True)"
   ]
  },
  {
   "cell_type": "code",
   "execution_count": 78,
   "id": "fa111686-246f-4286-b49b-d6be9e5c3b78",
   "metadata": {
    "tags": []
   },
   "outputs": [],
   "source": [
    "train_sample2 = sample_train(train, test, test_sample, seed=43, include_other_peptides=True)"
   ]
  },
  {
   "cell_type": "code",
   "execution_count": 79,
   "id": "56a77504-2eab-4bbd-8ee0-65a53c0a7cf2",
   "metadata": {
    "tags": []
   },
   "outputs": [
    {
     "name": "stdout",
     "output_type": "stream",
     "text": [
      "GILGFVFTL +: 428-428-428 -: 2140-846-2140\n",
      "GLCTLVAML +: 193-193-193 -: 965-196-965\n",
      "IVTDFSVIK +: 511-511-511 -: 2555-1097-2555\n",
      "NLVPMVATV +: 340-340-340 -: 1700-514-1700\n",
      "RAKFKQLL +: 271-271-271 -: 1355-353-1355\n",
      "RPHERNGFTVL +: 130-130-130 -: 650-105-650\n",
      "RPPIFIRRL +: 165-165-165 -: 825-136-825\n",
      "TPRVTGGGAM +: 170-170-170 -: 850-145-850\n",
      "VTEHDTLLY +: 157-157-157 -: 785-111-785\n",
      "YLQPRTFLL +: 187-187-187 -: 935-179-935\n"
     ]
    }
   ],
   "source": [
    "compare(train_sample, train_sample2)"
   ]
  },
  {
   "cell_type": "markdown",
   "id": "d11d7992-2986-4f17-9b45-a8d1531f1e3b",
   "metadata": {},
   "source": [
    "## Estimators"
   ]
  },
  {
   "cell_type": "code",
   "execution_count": 7,
   "id": "d343885b-e8ed-4550-b3c0-67e47ac2c5e6",
   "metadata": {
    "tags": []
   },
   "outputs": [],
   "source": [
    "from scipy.spatial.distance import cdist\n",
    "from sklearn.metrics import make_scorer, roc_auc_score\n",
    "from sklearn.model_selection import cross_validate\n",
    "from sklearn.neighbors import KNeighborsClassifier"
   ]
  },
  {
   "cell_type": "code",
   "execution_count": 8,
   "id": "78345a20-969c-4433-b3ce-b378052080ce",
   "metadata": {
    "tags": []
   },
   "outputs": [],
   "source": [
    "from bertrand.immrep.sample_test_set import dist"
   ]
  },
  {
   "cell_type": "code",
   "execution_count": 9,
   "id": "6526a16f-8d3e-405a-a1a7-35eeea621dcb",
   "metadata": {
    "tags": []
   },
   "outputs": [],
   "source": [
    "def compute_pairwise_dist(x, y):\n",
    "    adist = cdist(x.CDR3a_extended.values.reshape(-1, 1), y.CDR3a_extended.values.reshape(-1, 1), metric=dist)\n",
    "    bdist = cdist(x.CDR3b_extended.values.reshape(-1, 1), y.CDR3b_extended.values.reshape(-1, 1), metric=dist)\n",
    "    d = adist + bdist\n",
    "    return d"
   ]
  },
  {
   "cell_type": "code",
   "execution_count": 10,
   "id": "632afef3-d595-452c-8649-75ed984d4cec",
   "metadata": {
    "tags": []
   },
   "outputs": [],
   "source": [
    "from sklearn.base import BaseEstimator\n",
    "from sklearn.model_selection import RepeatedStratifiedKFold"
   ]
  },
  {
   "cell_type": "code",
   "execution_count": null,
   "id": "8e4ad4c2-cb82-4b71-89f9-0190fa6d45e2",
   "metadata": {},
   "outputs": [],
   "source": []
  },
  {
   "cell_type": "code",
   "execution_count": 11,
   "id": "6854bdda-6945-4d25-814a-01e3feb58a2e",
   "metadata": {
    "tags": []
   },
   "outputs": [],
   "source": [
    "class KNNLevenshtein(BaseEstimator):\n",
    "    def __init__(self):\n",
    "        self.clf = KNeighborsClassifier(n_neighbors=10, metric=\"precomputed\")\n",
    "        self.classes_ = None\n",
    "        \n",
    "    def featurize(self, X):\n",
    "        tcr_str = X.CDR3a_extended.apply(middle_padding, MAX=25) + X.CDR3b_extended.apply(middle_padding, MAX=25)\n",
    "    def fit(self, X, y=None):\n",
    "        dist = compute_pairwise_dist(X, X)\n",
    "        self.clf.fit(dist, y)\n",
    "        self.classes_ = np.unique(y)\n",
    "        self.X = X\n",
    "        return self\n",
    "\n",
    "    def predict_proba(self, X):\n",
    "        dist = compute_pairwise_dist(X, self.X)\n",
    "        return self.clf.predict_proba(dist)"
   ]
  },
  {
   "cell_type": "code",
   "execution_count": 12,
   "id": "244f327a-e97d-4df9-9efd-26d9d9c0a0b4",
   "metadata": {
    "tags": []
   },
   "outputs": [],
   "source": [
    "clf = KNNLevenshtein()"
   ]
  },
  {
   "cell_type": "code",
   "execution_count": null,
   "id": "c861ce90-5b4a-485a-95aa-b3238d57be10",
   "metadata": {
    "tags": []
   },
   "outputs": [],
   "source": []
  },
  {
   "cell_type": "code",
   "execution_count": 13,
   "id": "a5584d2a-6654-4bfe-8353-f05589ccf891",
   "metadata": {
    "tags": []
   },
   "outputs": [],
   "source": [
    "def middle_padding(x, MAX):\n",
    "    d = MAX - len(x)\n",
    "    l =len(x) // 2\n",
    "    mp = x[:l] +('-'*d) + x[l:]\n",
    "    if l > MAX:\n",
    "        raise NotImplementedError()\n",
    "    # assert mp.replace('-', '') == x\n",
    "    return mp"
   ]
  },
  {
   "cell_type": "code",
   "execution_count": 14,
   "id": "fbedd4c4-252d-4f92-a8e1-79fb557b6186",
   "metadata": {
    "tags": []
   },
   "outputs": [],
   "source": [
    "from bertrand.model.tokenization import AA_list\n",
    "\n",
    "AA_dict = {aa: i for i, aa in enumerate(AA_list)}\n",
    "\n",
    "def onehot(tcr_str, MAX=50):\n",
    "    oh_matrix = np.zeros(shape=(len(tcr_str), MAX, 20))\n",
    "    for p in range(50):\n",
    "        c = tcr_str.str[p]\n",
    "        not_na = c != '-'\n",
    "        # print(not_na.shape, oh_matrix.shape)\n",
    "        oh_matrix[not_na, p, c[not_na].map(AA_dict).values] = 1\n",
    "\n",
    "    oh_array = oh_matrix.reshape(-1, MAX*20)\n",
    "    return oh_array\n",
    "\n",
    "\n"
   ]
  },
  {
   "cell_type": "code",
   "execution_count": 15,
   "id": "d9d1df36-f35d-4abd-b798-28a51713e746",
   "metadata": {
    "tags": []
   },
   "outputs": [],
   "source": [
    "from sklearn.ensemble import ExtraTreesClassifier"
   ]
  },
  {
   "cell_type": "code",
   "execution_count": 16,
   "id": "864bde58-5113-46e9-b987-b4c3dceef47e",
   "metadata": {
    "tags": []
   },
   "outputs": [],
   "source": [
    "class XTMiddlePadding(BaseEstimator):\n",
    "    def __init__(self):\n",
    "        self.clf = ExtraTreesClassifier()\n",
    "        self.classes_ = None\n",
    "        \n",
    "    def featurize(self, X):\n",
    "        tcr_str = X.CDR3a_extended.apply(middle_padding, MAX=25) + X.CDR3b_extended.apply(middle_padding, MAX=25)\n",
    "        Xm = onehot(tcr_str)\n",
    "        return Xm\n",
    "    \n",
    "    def fit(self, X, y=None):\n",
    "        self.clf.fit(self.featurize(X), y)\n",
    "        self.classes_ = np.unique(y)\n",
    "        return self\n",
    "\n",
    "    def predict_proba(self, X):\n",
    "        return self.clf.predict_proba(self.featurize(X))"
   ]
  },
  {
   "cell_type": "code",
   "execution_count": 17,
   "id": "7cb2f43c-24ca-4226-a6b8-7aa0795b2526",
   "metadata": {
    "tags": []
   },
   "outputs": [],
   "source": [
    "def tcr_3_regions(tcr):\n",
    "    if len(tcr) < 12:\n",
    "        l, r = 3, len(tcr)-3\n",
    "    elif len(tcr) < 20:\n",
    "        l, r = 4, len(tcr)-4\n",
    "    else:\n",
    "        l, r = 5, len(tcr)-5\n",
    "    return tcr[:l].ljust(5, '-') + tcr[l:r].ljust(15, '-') + tcr[r:].rjust(5, '-')"
   ]
  },
  {
   "cell_type": "code",
   "execution_count": 18,
   "id": "59aead0a-9d21-4600-a9b1-f2dde250fa8c",
   "metadata": {
    "tags": []
   },
   "outputs": [],
   "source": [
    "tcr = train.CDR3a_extended.iloc[20]"
   ]
  },
  {
   "cell_type": "code",
   "execution_count": 19,
   "id": "0db936ec-7c91-4286-a821-4f347303e385",
   "metadata": {
    "tags": []
   },
   "outputs": [],
   "source": [
    "tcr = train[train.CDR3a_extended.str.len() == 23].CDR3a_extended.iloc[0]"
   ]
  },
  {
   "cell_type": "code",
   "execution_count": 20,
   "id": "22b77b42-2be9-470e-b6ad-c76a879a2140",
   "metadata": {
    "tags": []
   },
   "outputs": [],
   "source": [
    "tcr = train[train.CDR3b_extended.str.len() == 24].CDR3b_extended.iloc[0]"
   ]
  },
  {
   "cell_type": "code",
   "execution_count": 21,
   "id": "fc96a275-fbe3-4f93-8c63-12718a08952c",
   "metadata": {
    "tags": []
   },
   "outputs": [],
   "source": [
    "tcr = train[train.CDR3b_extended.str.len() == 10].CDR3b_extended.iloc[0]"
   ]
  },
  {
   "cell_type": "code",
   "execution_count": 22,
   "id": "55c59847-f566-426b-85df-3bab78a8ac77",
   "metadata": {
    "tags": []
   },
   "outputs": [],
   "source": [
    "tcr = test[test.CDR3a_extended.str.len() == 7].CDR3a_extended.iloc[0]"
   ]
  },
  {
   "cell_type": "code",
   "execution_count": 23,
   "id": "77a47234-2fba-40fb-b729-fd04a64e415b",
   "metadata": {
    "tags": []
   },
   "outputs": [],
   "source": [
    "tcr = train[train.CDR3b_extended.str.len() == 15].CDR3b_extended.sample().iloc[0]"
   ]
  },
  {
   "cell_type": "code",
   "execution_count": 24,
   "id": "a023903a-a320-4da9-9dde-993069296e71",
   "metadata": {
    "tags": []
   },
   "outputs": [
    {
     "data": {
      "text/plain": [
       "'CASSQTS----------GDFSEQYF'"
      ]
     },
     "execution_count": 24,
     "metadata": {},
     "output_type": "execute_result"
    }
   ],
   "source": [
    "middle_padding(tcr, 25)"
   ]
  },
  {
   "cell_type": "code",
   "execution_count": 25,
   "id": "59655482-d382-438b-859f-2800f6348b43",
   "metadata": {
    "tags": []
   },
   "outputs": [
    {
     "data": {
      "text/plain": [
       "'CASS-QTSGDFS---------EQYF'"
      ]
     },
     "execution_count": 25,
     "metadata": {},
     "output_type": "execute_result"
    }
   ],
   "source": [
    "tcr_3_regions(tcr)"
   ]
  },
  {
   "cell_type": "code",
   "execution_count": null,
   "id": "84ff828c-0e61-46c8-a715-f81bbe8ac5f8",
   "metadata": {
    "tags": []
   },
   "outputs": [],
   "source": []
  },
  {
   "cell_type": "code",
   "execution_count": 26,
   "id": "7a7e2f5f-be24-44d0-9288-0ed6a10027d4",
   "metadata": {
    "tags": []
   },
   "outputs": [],
   "source": [
    "# min length -> left=3, right=3\n",
    "# max length -> left=5, right=5"
   ]
  },
  {
   "cell_type": "code",
   "execution_count": 27,
   "id": "3f4dc3d4-4981-464b-9ee4-5cdc56442d52",
   "metadata": {
    "tags": []
   },
   "outputs": [],
   "source": [
    "class XT3Regions(BaseEstimator):\n",
    "    def __init__(self):\n",
    "        self.clf = ExtraTreesClassifier(class_weight='balanced')\n",
    "        self.classes_ = None\n",
    "        \n",
    "    def featurize(self, X):\n",
    "        tcr_str = X.CDR3a_extended.apply(tcr_3_regions) + X.CDR3b_extended.apply(tcr_3_regions)\n",
    "        Xm = onehot(tcr_str)\n",
    "        return Xm\n",
    "    \n",
    "    def fit(self, X, y=None):\n",
    "        self.clf.fit(self.featurize(X), y)\n",
    "        self.classes_ = np.unique(y)\n",
    "        return self\n",
    "\n",
    "    def predict_proba(self, X):\n",
    "        return self.clf.predict_proba(self.featurize(X))"
   ]
  },
  {
   "cell_type": "code",
   "execution_count": 28,
   "id": "6284f080-5e5b-4a07-9105-0973e19c15a6",
   "metadata": {
    "tags": []
   },
   "outputs": [],
   "source": [
    "# clf = XTMiddlePadding()\n",
    "\n",
    "# clf = KNNLevenshtein()\n",
    "\n",
    "# pep = 'GILGFVFTL'\n",
    "\n",
    "# X = data_split['test_sample'].query(f'Peptide == \"{pep}\"')\n",
    "\n",
    "# roc_auc_score(X.y, clf.fit(X, X.y).predict_proba(X)[:, 1])"
   ]
  },
  {
   "cell_type": "code",
   "execution_count": 29,
   "id": "8e4135f8-a397-4ac0-85b8-e34f9870b492",
   "metadata": {
    "tags": []
   },
   "outputs": [],
   "source": [
    "def average_predictions(cv_df, X_test):\n",
    "    y_pred_list = []\n",
    "    for _, row in cv_df.iterrows():\n",
    "        y_pred_1 = row.estimator.predict_proba(X_test)[:, 1]\n",
    "        y_pred_list.append(y_pred_1)\n",
    "    y_pred_mean = np.vstack(y_pred_list).mean(axis=0)\n",
    "    return y_pred_mean"
   ]
  },
  {
   "cell_type": "code",
   "execution_count": 30,
   "id": "606e0e58-bd27-4e66-9d80-3586f836f06c",
   "metadata": {
    "tags": []
   },
   "outputs": [],
   "source": [
    "from bertrand.immrep.training.cv import train_test_generator"
   ]
  },
  {
   "cell_type": "code",
   "execution_count": 31,
   "id": "30099410-d136-42a7-bd82-1e620b2d2437",
   "metadata": {
    "tags": []
   },
   "outputs": [],
   "source": [
    "splits_fn = 'data_splits7.pkl'\n",
    "if os.path.isfile(splits_fn):\n",
    "    data_splits = pd.read_pickle(splits_fn)\n",
    "else:\n",
    "    data_splits = list(train_test_generator(train, test))\n",
    "    pd.to_pickle(data_splits, splits_fn)"
   ]
  },
  {
   "cell_type": "code",
   "execution_count": 32,
   "id": "505297e0-fcbb-4018-bf90-a6f3a41535e9",
   "metadata": {
    "scrolled": true,
    "tags": []
   },
   "outputs": [],
   "source": [
    "# data_splits = list(train_test_generator(train, tesplits_fn)"
   ]
  },
  {
   "cell_type": "code",
   "execution_count": null,
   "id": "344997f9-27fc-4fe2-8072-c6939168c10e",
   "metadata": {},
   "outputs": [],
   "source": []
  },
  {
   "cell_type": "code",
   "execution_count": 33,
   "id": "08013b9e-bab3-42ca-8000-dd35a0e0cf83",
   "metadata": {
    "tags": []
   },
   "outputs": [],
   "source": [
    "clfs = [\n",
    "    ('KNNLevenshtein',  KNNLevenshtein()),\n",
    "    ('XTMiddlePad', XTMiddlePadding()),\n",
    "    ('XT3Regions', XT3Regions()),\n",
    "]"
   ]
  },
  {
   "cell_type": "code",
   "execution_count": 202,
   "id": "24169768-4a39-4cc8-b445-91b1f905e249",
   "metadata": {
    "tags": []
   },
   "outputs": [],
   "source": [
    "# results = []\n"
   ]
  },
  {
   "cell_type": "code",
   "execution_count": null,
   "id": "e3e977ea-f124-4f0d-bceb-904c0604961b",
   "metadata": {
    "tags": []
   },
   "outputs": [],
   "source": []
  },
  {
   "cell_type": "code",
   "execution_count": 203,
   "id": "557800aa-4dee-46af-a58b-0f23662c7dbd",
   "metadata": {
    "tags": []
   },
   "outputs": [
    {
     "name": "stdout",
     "output_type": "stream",
     "text": [
      "KNNLevenshtein\n",
      "skip cache\n",
      "XTMiddlePad\n",
      "skip cache\n",
      "XT3Regions\n",
      "Peptide TPRVTGGGAM AUC=0.512 AUCcv=0.570\n",
      "Peptide RPPIFIRRL AUC=0.556 AUCcv=0.578\n",
      "Peptide IVTDFSVIK AUC=0.622 AUCcv=0.573\n",
      "Peptide RAKFKQLL AUC=0.743 AUCcv=0.757\n",
      "Peptide GILGFVFTL AUC=0.874 AUCcv=0.872\n",
      "Peptide YLQPRTFLL AUC=0.667 AUCcv=0.708\n",
      "Peptide NLVPMVATV AUC=0.689 AUCcv=0.647\n",
      "Peptide VTEHDTLLY AUC=0.640 AUCcv=0.631\n",
      "Peptide RPHERNGFTVL AUC=0.715 AUCcv=0.675\n",
      "Peptide GLCTLVAML AUC=0.704 AUCcv=0.712\n",
      "Global AUC  0.7161778006076251\n",
      "KNNLevenshtein\n",
      "skip cache\n",
      "XTMiddlePad\n",
      "skip cache\n",
      "XT3Regions\n",
      "Peptide RPPIFIRRL AUC=0.574 AUCcv=0.638\n",
      "Peptide IVTDFSVIK AUC=0.668 AUCcv=0.686\n",
      "Peptide GLCTLVAML AUC=0.729 AUCcv=0.742\n",
      "Peptide NLVPMVATV AUC=0.612 AUCcv=0.589\n",
      "Peptide YLQPRTFLL AUC=0.863 AUCcv=0.875\n",
      "Peptide GILGFVFTL AUC=0.863 AUCcv=0.870\n",
      "Peptide RAKFKQLL AUC=0.645 AUCcv=0.672\n",
      "Peptide VTEHDTLLY AUC=0.649 AUCcv=0.682\n",
      "Peptide RPHERNGFTVL AUC=0.614 AUCcv=0.640\n",
      "Peptide TPRVTGGGAM AUC=0.789 AUCcv=0.777\n",
      "Global AUC  0.7373040185091835\n",
      "KNNLevenshtein\n",
      "skip cache\n",
      "XTMiddlePad\n",
      "skip cache\n",
      "XT3Regions\n",
      "Peptide TPRVTGGGAM AUC=0.697 AUCcv=0.685\n",
      "Peptide RPPIFIRRL AUC=0.534 AUCcv=0.575\n",
      "Peptide IVTDFSVIK AUC=0.652 AUCcv=0.646\n",
      "Peptide RAKFKQLL AUC=0.603 AUCcv=0.625\n",
      "Peptide GILGFVFTL AUC=0.879 AUCcv=0.881\n",
      "Peptide GLCTLVAML AUC=0.801 AUCcv=0.830\n",
      "Peptide NLVPMVATV AUC=0.660 AUCcv=0.655\n",
      "Peptide YLQPRTFLL AUC=0.814 AUCcv=0.815\n",
      "Peptide RPHERNGFTVL AUC=0.571 AUCcv=0.620\n",
      "Peptide VTEHDTLLY AUC=0.694 AUCcv=0.739\n",
      "Global AUC  0.7332273964927026\n",
      "KNNLevenshtein\n",
      "skip cache\n",
      "XTMiddlePad\n",
      "skip cache\n",
      "XT3Regions\n",
      "Peptide RAKFKQLL AUC=0.707 AUCcv=0.723\n",
      "Peptide IVTDFSVIK AUC=0.651 AUCcv=0.701\n",
      "Peptide NLVPMVATV AUC=0.590 AUCcv=0.630\n",
      "Peptide YLQPRTFLL AUC=0.806 AUCcv=0.825\n",
      "Peptide RPPIFIRRL AUC=0.689 AUCcv=0.681\n",
      "Peptide GILGFVFTL AUC=0.857 AUCcv=0.869\n",
      "Peptide GLCTLVAML AUC=0.705 AUCcv=0.718\n",
      "Peptide VTEHDTLLY AUC=0.698 AUCcv=0.681\n",
      "Peptide TPRVTGGGAM AUC=0.664 AUCcv=0.667\n",
      "Peptide RPHERNGFTVL AUC=0.611 AUCcv=0.673\n",
      "Global AUC  0.7385734757204707\n",
      "KNNLevenshtein\n",
      "skip cache\n",
      "XTMiddlePad\n",
      "skip cache\n",
      "XT3Regions\n",
      "Peptide TPRVTGGGAM AUC=0.663 AUCcv=0.654\n",
      "Peptide RPPIFIRRL AUC=0.617 AUCcv=0.689\n",
      "Peptide RAKFKQLL AUC=0.608 AUCcv=0.626\n",
      "Peptide IVTDFSVIK AUC=0.636 AUCcv=0.668\n",
      "Peptide GILGFVFTL AUC=0.880 AUCcv=0.880\n",
      "Peptide NLVPMVATV AUC=0.630 AUCcv=0.671\n",
      "Peptide YLQPRTFLL AUC=0.718 AUCcv=0.700\n",
      "Peptide GLCTLVAML AUC=0.699 AUCcv=0.722\n",
      "Peptide VTEHDTLLY AUC=0.567 AUCcv=0.612\n",
      "Peptide RPHERNGFTVL AUC=0.645 AUCcv=0.681\n",
      "Global AUC  0.7201736368403036\n",
      "KNNLevenshtein\n",
      "skip cache\n",
      "XTMiddlePad\n",
      "skip cache\n",
      "XT3Regions\n",
      "Peptide RPPIFIRRL AUC=0.581 AUCcv=0.592\n",
      "Peptide RAKFKQLL AUC=0.732 AUCcv=0.738\n",
      "Peptide GILGFVFTL AUC=0.863 AUCcv=0.881\n",
      "Peptide IVTDFSVIK AUC=0.656 AUCcv=0.663\n",
      "Peptide NLVPMVATV AUC=0.606 AUCcv=0.626\n",
      "Peptide YLQPRTFLL AUC=0.910 AUCcv=0.921\n",
      "Peptide GLCTLVAML AUC=0.650 AUCcv=0.665\n",
      "Peptide VTEHDTLLY AUC=0.580 AUCcv=0.631\n",
      "Peptide TPRVTGGGAM AUC=0.600 AUCcv=0.597\n",
      "Peptide RPHERNGFTVL AUC=0.598 AUCcv=0.639\n",
      "Global AUC  0.7303437830894479\n",
      "KNNLevenshtein\n",
      "skip cache\n",
      "XTMiddlePad\n",
      "skip cache\n",
      "XT3Regions\n",
      "Peptide TPRVTGGGAM AUC=0.704 AUCcv=0.703\n",
      "Peptide RPPIFIRRL AUC=0.646 AUCcv=0.714\n",
      "Peptide VTEHDTLLY AUC=0.681 AUCcv=0.659\n",
      "Peptide NLVPMVATV AUC=0.793 AUCcv=0.787\n",
      "Peptide RPHERNGFTVL AUC=0.654 AUCcv=0.665\n",
      "Peptide GLCTLVAML AUC=0.770 AUCcv=0.829\n",
      "Peptide RAKFKQLL AUC=0.668 AUCcv=0.714\n",
      "Peptide GILGFVFTL AUC=0.869 AUCcv=0.880\n",
      "Peptide IVTDFSVIK AUC=0.619 AUCcv=0.606\n",
      "Peptide YLQPRTFLL AUC=0.720 AUCcv=0.709\n",
      "Global AUC  0.7541653328455358\n"
     ]
    }
   ],
   "source": [
    "for data_split in data_splits:\n",
    "    for clf_name, clf in clfs:\n",
    "        print(clf_name)\n",
    "        fn = f\"{clf_name}-{data_split['test_iteration']}-{data_split['train_iteration']}.pkl\"\n",
    "        if os.path.isfile(fn):\n",
    "            print('skip cache')\n",
    "            continue\n",
    "        pep_results = []\n",
    "        y_pred_global = pd.Series(index=data_split['test_sample'].index, dtype=float)\n",
    "        for pep, pep_df_train in data_split['train_sample'].groupby(\"Peptide\", sort=False):\n",
    "            # if pep == 'RPPIFIRRL':\n",
    "            #     continue\n",
    "            pep_df_test = data_split['test_sample'].query(f'Peptide == \"{pep}\"')\n",
    "\n",
    "            X = pep_df_train[[\"CDR3a_extended\", \"CDR3b_extended\"]].reset_index(drop=True)\n",
    "            X_test = pep_df_test[[\"CDR3a_extended\", \"CDR3b_extended\"]].reset_index(drop=True)\n",
    "\n",
    "            cv_res = cross_validate(\n",
    "                estimator=clf,\n",
    "                X=X,\n",
    "                y=pep_df_train.y.values,\n",
    "                scoring=\"roc_auc\",\n",
    "                cv=RepeatedStratifiedKFold(n_splits=5, n_repeats=5, random_state=42),\n",
    "                return_estimator=True,\n",
    "                return_train_score=True,\n",
    "                n_jobs=11,\n",
    "            )\n",
    "\n",
    "            cv_df = pd.DataFrame(cv_res)\n",
    "            cv_df[\"Peptide\"] = pep\n",
    "\n",
    "            clf.fit(X, pep_df_train.y)\n",
    "            y_pred_test = clf.predict_proba(X_test)[:, 1]\n",
    "            roc_single = roc_auc_score(pep_df_test.y, y_pred_test)\n",
    "            y_pred_test_cv = average_predictions(cv_df, X_test)\n",
    "            roc_cv = roc_auc_score(pep_df_test.y, y_pred_test_cv)\n",
    "            y_pred_global.loc[pep_df_test.index] = y_pred_test_cv\n",
    "\n",
    "            cv_df = cv_df.rename(columns={\"test_score\": \"cv_score\"})\n",
    "            cv_df[\"roc_single\"] = roc_single\n",
    "            cv_df[\"roc_cv\"] = roc_cv\n",
    "            cv_df[\"test_iteration\"] = data_split[\"test_iteration\"]\n",
    "            cv_df[\"train_iteration\"] = data_split[\"train_iteration\"]\n",
    "            cv_df['model'] = clf_name\n",
    "\n",
    "            pep_results.append(cv_df)\n",
    "            print(f\"Peptide {pep} AUC={roc_single:.3f} AUCcv={roc_cv:.3f}\")\n",
    "        not_na =  ~y_pred_global.isna()\n",
    "        roc_global = roc_auc_score(data_split['test_sample'].y[not_na], y_pred_global[not_na])\n",
    "        print('Global AUC ', roc_global)\n",
    "        for r in pep_results:\n",
    "            r['roc_global'] = roc_global\n",
    "            # results.append(r)\n",
    "        \n",
    "        pd.to_pickle(pd.concat(pep_results).reset_index(drop=True), fn)\n",
    "        gc.collect()\n",
    "        "
   ]
  },
  {
   "cell_type": "code",
   "execution_count": 34,
   "id": "4945b5a2-fc4f-42dd-9931-c379297e6a38",
   "metadata": {
    "tags": []
   },
   "outputs": [
    {
     "name": "stdout",
     "output_type": "stream",
     "text": [
      "KNNLevenshtein-0-0.pkl\n",
      "XTMiddlePad-0-0.pkl\n",
      "XT3Regions-0-0.pkl\n",
      "KNNLevenshtein-1-0.pkl\n",
      "XTMiddlePad-1-0.pkl\n",
      "XT3Regions-1-0.pkl\n",
      "KNNLevenshtein-2-0.pkl\n",
      "XTMiddlePad-2-0.pkl\n",
      "XT3Regions-2-0.pkl\n",
      "KNNLevenshtein-3-0.pkl\n",
      "XTMiddlePad-3-0.pkl\n",
      "XT3Regions-3-0.pkl\n",
      "KNNLevenshtein-4-0.pkl\n",
      "XTMiddlePad-4-0.pkl\n",
      "XT3Regions-4-0.pkl\n",
      "KNNLevenshtein-5-0.pkl\n",
      "XTMiddlePad-5-0.pkl\n",
      "XT3Regions-5-0.pkl\n",
      "KNNLevenshtein-6-0.pkl\n",
      "XTMiddlePad-6-0.pkl\n",
      "XT3Regions-6-0.pkl\n"
     ]
    }
   ],
   "source": [
    "results = []\n",
    "for data_split in data_splits:\n",
    "    for clf_name, clf in clfs:\n",
    "        fn = f\"{clf_name}-{data_split['test_iteration']}-{data_split['train_iteration']}.pkl\"\n",
    "        print(fn)\n",
    "\n",
    "        if not os.path.isfile(fn):\n",
    "            print('skip not cache')\n",
    "            continue\n",
    "        results_split = pd.read_pickle(fn)\n",
    "        results_split = results_split.drop(columns=['estimator'])\n",
    "        results.append(results_split)\n",
    "        del results_split\n",
    "        gc.collect()"
   ]
  },
  {
   "cell_type": "code",
   "execution_count": 35,
   "id": "cf9f8587-ce08-4702-b967-20f2605a0569",
   "metadata": {
    "tags": []
   },
   "outputs": [],
   "source": [
    "results_df = pd.concat(results).reset_index(drop=True)"
   ]
  },
  {
   "cell_type": "code",
   "execution_count": 36,
   "id": "a67614ca-5ec7-42fb-8cff-452e35493958",
   "metadata": {},
   "outputs": [
    {
     "data": {
      "text/html": [
       "<div>\n",
       "<style scoped>\n",
       "    .dataframe tbody tr th:only-of-type {\n",
       "        vertical-align: middle;\n",
       "    }\n",
       "\n",
       "    .dataframe tbody tr th {\n",
       "        vertical-align: top;\n",
       "    }\n",
       "\n",
       "    .dataframe thead th {\n",
       "        text-align: right;\n",
       "    }\n",
       "</style>\n",
       "<table border=\"1\" class=\"dataframe\">\n",
       "  <thead>\n",
       "    <tr style=\"text-align: right;\">\n",
       "      <th></th>\n",
       "      <th>fit_time</th>\n",
       "      <th>score_time</th>\n",
       "      <th>cv_score</th>\n",
       "      <th>train_score</th>\n",
       "      <th>Peptide</th>\n",
       "      <th>roc_single</th>\n",
       "      <th>roc_cv</th>\n",
       "      <th>test_iteration</th>\n",
       "      <th>train_iteration</th>\n",
       "      <th>model</th>\n",
       "      <th>roc_global</th>\n",
       "    </tr>\n",
       "  </thead>\n",
       "  <tbody>\n",
       "    <tr>\n",
       "      <th>2332</th>\n",
       "      <td>3.784006</td>\n",
       "      <td>0.952806</td>\n",
       "      <td>0.661729</td>\n",
       "      <td>0.826511</td>\n",
       "      <td>YLQPRTFLL</td>\n",
       "      <td>0.770000</td>\n",
       "      <td>0.758000</td>\n",
       "      <td>3</td>\n",
       "      <td>0</td>\n",
       "      <td>KNNLevenshtein</td>\n",
       "      <td>0.721131</td>\n",
       "    </tr>\n",
       "    <tr>\n",
       "      <th>1247</th>\n",
       "      <td>0.756395</td>\n",
       "      <td>0.040966</td>\n",
       "      <td>0.734940</td>\n",
       "      <td>1.000000</td>\n",
       "      <td>TPRVTGGGAM</td>\n",
       "      <td>0.673961</td>\n",
       "      <td>0.703047</td>\n",
       "      <td>1</td>\n",
       "      <td>0</td>\n",
       "      <td>XTMiddlePad</td>\n",
       "      <td>0.708703</td>\n",
       "    </tr>\n",
       "    <tr>\n",
       "      <th>933</th>\n",
       "      <td>1.812234</td>\n",
       "      <td>0.468928</td>\n",
       "      <td>0.563218</td>\n",
       "      <td>0.766033</td>\n",
       "      <td>VTEHDTLLY</td>\n",
       "      <td>0.572318</td>\n",
       "      <td>0.561246</td>\n",
       "      <td>1</td>\n",
       "      <td>0</td>\n",
       "      <td>KNNLevenshtein</td>\n",
       "      <td>0.704730</td>\n",
       "    </tr>\n",
       "  </tbody>\n",
       "</table>\n",
       "</div>"
      ],
      "text/plain": [
       "      fit_time  score_time  cv_score  train_score     Peptide  roc_single  \\\n",
       "2332  3.784006    0.952806  0.661729     0.826511   YLQPRTFLL    0.770000   \n",
       "1247  0.756395    0.040966  0.734940     1.000000  TPRVTGGGAM    0.673961   \n",
       "933   1.812234    0.468928  0.563218     0.766033   VTEHDTLLY    0.572318   \n",
       "\n",
       "        roc_cv  test_iteration  train_iteration           model  roc_global  \n",
       "2332  0.758000               3                0  KNNLevenshtein    0.721131  \n",
       "1247  0.703047               1                0     XTMiddlePad    0.708703  \n",
       "933   0.561246               1                0  KNNLevenshtein    0.704730  "
      ]
     },
     "execution_count": 36,
     "metadata": {},
     "output_type": "execute_result"
    }
   ],
   "source": [
    "results_df.sample(3)"
   ]
  },
  {
   "cell_type": "code",
   "execution_count": 37,
   "id": "734f28cd-d2ca-4fd0-92a7-b10ecac775ee",
   "metadata": {
    "tags": []
   },
   "outputs": [],
   "source": [
    "# res_agg = results_df.groupby([\"model\", \"test_iteration\", \"Peptide\"]).agg(\n",
    "#     {\"cv_score\": \"mean\", \"roc_single\": \"first\", \"roc_cv\": \"first\", \"roc_global\": 'first'}\n",
    "# )\n"
   ]
  },
  {
   "cell_type": "code",
   "execution_count": 38,
   "id": "d02342ee-241e-484f-bf10-813520da2864",
   "metadata": {
    "tags": []
   },
   "outputs": [],
   "source": [
    "res_agg = results_df.groupby([\"model\", \"Peptide\"]).agg(\n",
    "    {\"cv_score\": [\"mean\", \"std\"], \"roc_single\": [\"mean\", \"std\"], \"roc_cv\": [\"mean\", \"std\"], \"roc_global\": [\"mean\", \"std\"]}\n",
    ")"
   ]
  },
  {
   "cell_type": "code",
   "execution_count": 39,
   "id": "d2cca9da-fb03-4e1c-8455-262177f0f7ce",
   "metadata": {
    "tags": []
   },
   "outputs": [
    {
     "data": {
      "text/html": [
       "<div>\n",
       "<style scoped>\n",
       "    .dataframe tbody tr th:only-of-type {\n",
       "        vertical-align: middle;\n",
       "    }\n",
       "\n",
       "    .dataframe tbody tr th {\n",
       "        vertical-align: top;\n",
       "    }\n",
       "\n",
       "    .dataframe thead th {\n",
       "        text-align: right;\n",
       "    }\n",
       "</style>\n",
       "<table border=\"1\" class=\"dataframe\">\n",
       "  <thead>\n",
       "    <tr style=\"text-align: right;\">\n",
       "      <th>Peptide</th>\n",
       "      <th>GILGFVFTL</th>\n",
       "      <th>GLCTLVAML</th>\n",
       "      <th>IVTDFSVIK</th>\n",
       "      <th>NLVPMVATV</th>\n",
       "      <th>RAKFKQLL</th>\n",
       "      <th>RPHERNGFTVL</th>\n",
       "      <th>RPPIFIRRL</th>\n",
       "      <th>TPRVTGGGAM</th>\n",
       "      <th>VTEHDTLLY</th>\n",
       "      <th>YLQPRTFLL</th>\n",
       "    </tr>\n",
       "    <tr>\n",
       "      <th>model</th>\n",
       "      <th></th>\n",
       "      <th></th>\n",
       "      <th></th>\n",
       "      <th></th>\n",
       "      <th></th>\n",
       "      <th></th>\n",
       "      <th></th>\n",
       "      <th></th>\n",
       "      <th></th>\n",
       "      <th></th>\n",
       "    </tr>\n",
       "  </thead>\n",
       "  <tbody>\n",
       "    <tr>\n",
       "      <th>KNNLevenshtein</th>\n",
       "      <td>0.659559</td>\n",
       "      <td>0.665555</td>\n",
       "      <td>0.631538</td>\n",
       "      <td>0.622250</td>\n",
       "      <td>0.606861</td>\n",
       "      <td>0.566196</td>\n",
       "      <td>0.544265</td>\n",
       "      <td>0.591379</td>\n",
       "      <td>0.541936</td>\n",
       "      <td>0.669808</td>\n",
       "    </tr>\n",
       "    <tr>\n",
       "      <th>XT3Regions</th>\n",
       "      <td>0.742081</td>\n",
       "      <td>0.698086</td>\n",
       "      <td>0.753604</td>\n",
       "      <td>0.682131</td>\n",
       "      <td>0.687052</td>\n",
       "      <td>0.594663</td>\n",
       "      <td>0.563010</td>\n",
       "      <td>0.652599</td>\n",
       "      <td>0.608021</td>\n",
       "      <td>0.774384</td>\n",
       "    </tr>\n",
       "    <tr>\n",
       "      <th>XTMiddlePad</th>\n",
       "      <td>0.737664</td>\n",
       "      <td>0.689565</td>\n",
       "      <td>0.744699</td>\n",
       "      <td>0.676933</td>\n",
       "      <td>0.658038</td>\n",
       "      <td>0.580479</td>\n",
       "      <td>0.555287</td>\n",
       "      <td>0.621875</td>\n",
       "      <td>0.574208</td>\n",
       "      <td>0.764361</td>\n",
       "    </tr>\n",
       "  </tbody>\n",
       "</table>\n",
       "</div>"
      ],
      "text/plain": [
       "Peptide         GILGFVFTL  GLCTLVAML  IVTDFSVIK  NLVPMVATV  RAKFKQLL  \\\n",
       "model                                                                  \n",
       "KNNLevenshtein   0.659559   0.665555   0.631538   0.622250  0.606861   \n",
       "XT3Regions       0.742081   0.698086   0.753604   0.682131  0.687052   \n",
       "XTMiddlePad      0.737664   0.689565   0.744699   0.676933  0.658038   \n",
       "\n",
       "Peptide         RPHERNGFTVL  RPPIFIRRL  TPRVTGGGAM  VTEHDTLLY  YLQPRTFLL  \n",
       "model                                                                     \n",
       "KNNLevenshtein     0.566196   0.544265    0.591379   0.541936   0.669808  \n",
       "XT3Regions         0.594663   0.563010    0.652599   0.608021   0.774384  \n",
       "XTMiddlePad        0.580479   0.555287    0.621875   0.574208   0.764361  "
      ]
     },
     "execution_count": 39,
     "metadata": {},
     "output_type": "execute_result"
    }
   ],
   "source": [
    "res_agg.cv_score['mean'].unstack()"
   ]
  },
  {
   "cell_type": "code",
   "execution_count": 40,
   "id": "155dc9ac-b633-4cde-99a0-a31b19e4e359",
   "metadata": {
    "tags": []
   },
   "outputs": [],
   "source": [
    "mean_cv_auc = res_agg.cv_score['mean'].unstack().mean(axis=1)"
   ]
  },
  {
   "cell_type": "code",
   "execution_count": 41,
   "id": "2102c9b2-fe26-4fde-9104-6792cfef948c",
   "metadata": {
    "tags": []
   },
   "outputs": [
    {
     "data": {
      "text/plain": [
       "model\n",
       "KNNLevenshtein    0.609935\n",
       "XT3Regions        0.675563\n",
       "XTMiddlePad       0.660311\n",
       "dtype: float64"
      ]
     },
     "execution_count": 41,
     "metadata": {},
     "output_type": "execute_result"
    }
   ],
   "source": [
    "mean_cv_auc"
   ]
  },
  {
   "cell_type": "code",
   "execution_count": 42,
   "id": "70419c14-7a4b-444f-81c0-79e15b5b9ad1",
   "metadata": {
    "tags": []
   },
   "outputs": [
    {
     "data": {
      "text/html": [
       "<div>\n",
       "<style scoped>\n",
       "    .dataframe tbody tr th:only-of-type {\n",
       "        vertical-align: middle;\n",
       "    }\n",
       "\n",
       "    .dataframe tbody tr th {\n",
       "        vertical-align: top;\n",
       "    }\n",
       "\n",
       "    .dataframe thead th {\n",
       "        text-align: right;\n",
       "    }\n",
       "</style>\n",
       "<table border=\"1\" class=\"dataframe\">\n",
       "  <thead>\n",
       "    <tr style=\"text-align: right;\">\n",
       "      <th>Peptide</th>\n",
       "      <th>GILGFVFTL</th>\n",
       "      <th>GLCTLVAML</th>\n",
       "      <th>IVTDFSVIK</th>\n",
       "      <th>NLVPMVATV</th>\n",
       "      <th>RAKFKQLL</th>\n",
       "      <th>RPHERNGFTVL</th>\n",
       "      <th>RPPIFIRRL</th>\n",
       "      <th>TPRVTGGGAM</th>\n",
       "      <th>VTEHDTLLY</th>\n",
       "      <th>YLQPRTFLL</th>\n",
       "    </tr>\n",
       "    <tr>\n",
       "      <th>model</th>\n",
       "      <th></th>\n",
       "      <th></th>\n",
       "      <th></th>\n",
       "      <th></th>\n",
       "      <th></th>\n",
       "      <th></th>\n",
       "      <th></th>\n",
       "      <th></th>\n",
       "      <th></th>\n",
       "      <th></th>\n",
       "    </tr>\n",
       "  </thead>\n",
       "  <tbody>\n",
       "    <tr>\n",
       "      <th>KNNLevenshtein</th>\n",
       "      <td>0.823633</td>\n",
       "      <td>0.731530</td>\n",
       "      <td>0.603322</td>\n",
       "      <td>0.656041</td>\n",
       "      <td>0.658146</td>\n",
       "      <td>0.625079</td>\n",
       "      <td>0.615522</td>\n",
       "      <td>0.635220</td>\n",
       "      <td>0.560306</td>\n",
       "      <td>0.783750</td>\n",
       "    </tr>\n",
       "    <tr>\n",
       "      <th>XT3Regions</th>\n",
       "      <td>0.876323</td>\n",
       "      <td>0.745483</td>\n",
       "      <td>0.648837</td>\n",
       "      <td>0.657729</td>\n",
       "      <td>0.693563</td>\n",
       "      <td>0.656063</td>\n",
       "      <td>0.638260</td>\n",
       "      <td>0.664662</td>\n",
       "      <td>0.662234</td>\n",
       "      <td>0.793286</td>\n",
       "    </tr>\n",
       "    <tr>\n",
       "      <th>XTMiddlePad</th>\n",
       "      <td>0.850287</td>\n",
       "      <td>0.746933</td>\n",
       "      <td>0.619192</td>\n",
       "      <td>0.650516</td>\n",
       "      <td>0.676535</td>\n",
       "      <td>0.629778</td>\n",
       "      <td>0.597627</td>\n",
       "      <td>0.625049</td>\n",
       "      <td>0.586406</td>\n",
       "      <td>0.786179</td>\n",
       "    </tr>\n",
       "  </tbody>\n",
       "</table>\n",
       "</div>"
      ],
      "text/plain": [
       "Peptide         GILGFVFTL  GLCTLVAML  IVTDFSVIK  NLVPMVATV  RAKFKQLL  \\\n",
       "model                                                                  \n",
       "KNNLevenshtein   0.823633   0.731530   0.603322   0.656041  0.658146   \n",
       "XT3Regions       0.876323   0.745483   0.648837   0.657729  0.693563   \n",
       "XTMiddlePad      0.850287   0.746933   0.619192   0.650516  0.676535   \n",
       "\n",
       "Peptide         RPHERNGFTVL  RPPIFIRRL  TPRVTGGGAM  VTEHDTLLY  YLQPRTFLL  \n",
       "model                                                                     \n",
       "KNNLevenshtein     0.625079   0.615522    0.635220   0.560306   0.783750  \n",
       "XT3Regions         0.656063   0.638260    0.664662   0.662234   0.793286  \n",
       "XTMiddlePad        0.629778   0.597627    0.625049   0.586406   0.786179  "
      ]
     },
     "execution_count": 42,
     "metadata": {},
     "output_type": "execute_result"
    }
   ],
   "source": [
    "res_agg.roc_cv['mean'].unstack()"
   ]
  },
  {
   "cell_type": "code",
   "execution_count": 61,
   "id": "8d931c88-ed5b-4b58-8e59-df88db64f533",
   "metadata": {
    "tags": []
   },
   "outputs": [
    {
     "data": {
      "text/plain": [
       "model\n",
       "KNNLevenshtein    0.656190\n",
       "XT3Regions        0.688168\n",
       "XTMiddlePad       0.669001\n",
       "dtype: float64"
      ]
     },
     "execution_count": 61,
     "metadata": {},
     "output_type": "execute_result"
    }
   ],
   "source": [
    "res_agg.roc_single['mean'].unstack().mean(axis=1)"
   ]
  },
  {
   "cell_type": "code",
   "execution_count": 62,
   "id": "a0b6b1a1-3bf1-43c9-8c42-96041ccdf884",
   "metadata": {
    "tags": []
   },
   "outputs": [],
   "source": [
    "mean_test_auc = res_agg.roc_cv['mean'].unstack().mean(axis=1)"
   ]
  },
  {
   "cell_type": "code",
   "execution_count": 63,
   "id": "f7dc7d44-215d-40e0-83db-5b18986a4a7e",
   "metadata": {
    "tags": []
   },
   "outputs": [
    {
     "data": {
      "text/plain": [
       "model\n",
       "KNNLevenshtein    0.669255\n",
       "XT3Regions        0.703644\n",
       "XTMiddlePad       0.676850\n",
       "dtype: float64"
      ]
     },
     "execution_count": 63,
     "metadata": {},
     "output_type": "execute_result"
    }
   ],
   "source": [
    "mean_test_auc"
   ]
  },
  {
   "cell_type": "code",
   "execution_count": 45,
   "id": "d0077273-0672-47b0-a858-2a36eec24d65",
   "metadata": {
    "tags": []
   },
   "outputs": [],
   "source": [
    "mean_global_auc = res_agg.roc_global['mean'].unstack().iloc[:, 0]"
   ]
  },
  {
   "cell_type": "code",
   "execution_count": 46,
   "id": "8058cbbc-741b-4c50-adb7-35bb5ede2b51",
   "metadata": {
    "tags": []
   },
   "outputs": [
    {
     "data": {
      "text/plain": [
       "model\n",
       "KNNLevenshtein    0.704622\n",
       "XT3Regions        0.732852\n",
       "XTMiddlePad       0.710128\n",
       "Name: GILGFVFTL, dtype: float64"
      ]
     },
     "execution_count": 46,
     "metadata": {},
     "output_type": "execute_result"
    }
   ],
   "source": [
    "mean_global_auc"
   ]
  },
  {
   "cell_type": "code",
   "execution_count": 48,
   "id": "b55f1301-5bdb-45c7-9241-ae1e550219f7",
   "metadata": {
    "tags": []
   },
   "outputs": [],
   "source": [
    "bertrand_results = pd.read_csv('/mnt/storage2/olek/bertrand-new/results/peptide-models-5/results.csv', index_col=0).reset_index(drop=True)"
   ]
  },
  {
   "cell_type": "code",
   "execution_count": 49,
   "id": "c673c953-d688-408c-810d-6bff418c3ccd",
   "metadata": {
    "tags": []
   },
   "outputs": [
    {
     "data": {
      "text/html": [
       "<div>\n",
       "<style scoped>\n",
       "    .dataframe tbody tr th:only-of-type {\n",
       "        vertical-align: middle;\n",
       "    }\n",
       "\n",
       "    .dataframe tbody tr th {\n",
       "        vertical-align: top;\n",
       "    }\n",
       "\n",
       "    .dataframe thead th {\n",
       "        text-align: right;\n",
       "    }\n",
       "</style>\n",
       "<table border=\"1\" class=\"dataframe\">\n",
       "  <thead>\n",
       "    <tr style=\"text-align: right;\">\n",
       "      <th></th>\n",
       "      <th>epoch</th>\n",
       "      <th>learning_rate</th>\n",
       "      <th>loss</th>\n",
       "      <th>step</th>\n",
       "      <th>eval_loss</th>\n",
       "      <th>eval_roc</th>\n",
       "      <th>eval_runtime</th>\n",
       "      <th>eval_samples_per_second</th>\n",
       "      <th>eval_steps_per_second</th>\n",
       "      <th>Peptide</th>\n",
       "      <th>test_iteration</th>\n",
       "      <th>train_iteration</th>\n",
       "      <th>model</th>\n",
       "      <th>roc</th>\n",
       "      <th>roc_global</th>\n",
       "    </tr>\n",
       "  </thead>\n",
       "  <tbody>\n",
       "    <tr>\n",
       "      <th>0</th>\n",
       "      <td>4.0</td>\n",
       "      <td>NaN</td>\n",
       "      <td>NaN</td>\n",
       "      <td>385.0</td>\n",
       "      <td>0.024713</td>\n",
       "      <td>0.756498</td>\n",
       "      <td>0.0593</td>\n",
       "      <td>1736.597</td>\n",
       "      <td>16.860</td>\n",
       "      <td>TPRVTGGGAM</td>\n",
       "      <td>0</td>\n",
       "      <td>0</td>\n",
       "      <td>BERTrand(pep)</td>\n",
       "      <td>0.757341</td>\n",
       "      <td>0.689481</td>\n",
       "    </tr>\n",
       "    <tr>\n",
       "      <th>1</th>\n",
       "      <td>10.0</td>\n",
       "      <td>NaN</td>\n",
       "      <td>NaN</td>\n",
       "      <td>759.0</td>\n",
       "      <td>0.038495</td>\n",
       "      <td>0.507895</td>\n",
       "      <td>0.0522</td>\n",
       "      <td>1741.988</td>\n",
       "      <td>19.143</td>\n",
       "      <td>RPPIFIRRL</td>\n",
       "      <td>0</td>\n",
       "      <td>0</td>\n",
       "      <td>BERTrand(pep)</td>\n",
       "      <td>0.562630</td>\n",
       "      <td>0.689481</td>\n",
       "    </tr>\n",
       "    <tr>\n",
       "      <th>2</th>\n",
       "      <td>16.0</td>\n",
       "      <td>NaN</td>\n",
       "      <td>NaN</td>\n",
       "      <td>2941.0</td>\n",
       "      <td>0.078764</td>\n",
       "      <td>0.687770</td>\n",
       "      <td>0.1457</td>\n",
       "      <td>1578.731</td>\n",
       "      <td>6.864</td>\n",
       "      <td>IVTDFSVIK</td>\n",
       "      <td>0</td>\n",
       "      <td>0</td>\n",
       "      <td>BERTrand(pep)</td>\n",
       "      <td>0.529367</td>\n",
       "      <td>0.689481</td>\n",
       "    </tr>\n",
       "    <tr>\n",
       "      <th>3</th>\n",
       "      <td>5.0</td>\n",
       "      <td>NaN</td>\n",
       "      <td>NaN</td>\n",
       "      <td>702.0</td>\n",
       "      <td>0.026894</td>\n",
       "      <td>0.661243</td>\n",
       "      <td>0.0870</td>\n",
       "      <td>1792.133</td>\n",
       "      <td>11.488</td>\n",
       "      <td>RAKFKQLL</td>\n",
       "      <td>0</td>\n",
       "      <td>0</td>\n",
       "      <td>BERTrand(pep)</td>\n",
       "      <td>0.732767</td>\n",
       "      <td>0.689481</td>\n",
       "    </tr>\n",
       "    <tr>\n",
       "      <th>4</th>\n",
       "      <td>7.0</td>\n",
       "      <td>NaN</td>\n",
       "      <td>NaN</td>\n",
       "      <td>1160.0</td>\n",
       "      <td>0.027750</td>\n",
       "      <td>0.729437</td>\n",
       "      <td>0.1164</td>\n",
       "      <td>1657.509</td>\n",
       "      <td>8.588</td>\n",
       "      <td>GILGFVFTL</td>\n",
       "      <td>0</td>\n",
       "      <td>0</td>\n",
       "      <td>BERTrand(pep)</td>\n",
       "      <td>0.830247</td>\n",
       "      <td>0.689481</td>\n",
       "    </tr>\n",
       "  </tbody>\n",
       "</table>\n",
       "</div>"
      ],
      "text/plain": [
       "   epoch  learning_rate  loss    step  eval_loss  eval_roc  eval_runtime  \\\n",
       "0    4.0            NaN   NaN   385.0   0.024713  0.756498        0.0593   \n",
       "1   10.0            NaN   NaN   759.0   0.038495  0.507895        0.0522   \n",
       "2   16.0            NaN   NaN  2941.0   0.078764  0.687770        0.1457   \n",
       "3    5.0            NaN   NaN   702.0   0.026894  0.661243        0.0870   \n",
       "4    7.0            NaN   NaN  1160.0   0.027750  0.729437        0.1164   \n",
       "\n",
       "   eval_samples_per_second  eval_steps_per_second     Peptide  test_iteration  \\\n",
       "0                 1736.597                 16.860  TPRVTGGGAM               0   \n",
       "1                 1741.988                 19.143   RPPIFIRRL               0   \n",
       "2                 1578.731                  6.864   IVTDFSVIK               0   \n",
       "3                 1792.133                 11.488    RAKFKQLL               0   \n",
       "4                 1657.509                  8.588   GILGFVFTL               0   \n",
       "\n",
       "   train_iteration          model       roc  roc_global  \n",
       "0                0  BERTrand(pep)  0.757341    0.689481  \n",
       "1                0  BERTrand(pep)  0.562630    0.689481  \n",
       "2                0  BERTrand(pep)  0.529367    0.689481  \n",
       "3                0  BERTrand(pep)  0.732767    0.689481  \n",
       "4                0  BERTrand(pep)  0.830247    0.689481  "
      ]
     },
     "execution_count": 49,
     "metadata": {},
     "output_type": "execute_result"
    }
   ],
   "source": [
    "bertrand_results.head()"
   ]
  },
  {
   "cell_type": "code",
   "execution_count": 50,
   "id": "9e175d60-09d6-41a6-987f-d0c4f1eff701",
   "metadata": {
    "tags": []
   },
   "outputs": [
    {
     "data": {
      "text/html": [
       "<div>\n",
       "<style scoped>\n",
       "    .dataframe tbody tr th:only-of-type {\n",
       "        vertical-align: middle;\n",
       "    }\n",
       "\n",
       "    .dataframe tbody tr th {\n",
       "        vertical-align: top;\n",
       "    }\n",
       "\n",
       "    .dataframe thead th {\n",
       "        text-align: right;\n",
       "    }\n",
       "</style>\n",
       "<table border=\"1\" class=\"dataframe\">\n",
       "  <thead>\n",
       "    <tr style=\"text-align: right;\">\n",
       "      <th></th>\n",
       "      <th>epoch</th>\n",
       "      <th>learning_rate</th>\n",
       "      <th>loss</th>\n",
       "      <th>step</th>\n",
       "      <th>eval_loss</th>\n",
       "      <th>eval_roc</th>\n",
       "      <th>eval_runtime</th>\n",
       "      <th>eval_samples_per_second</th>\n",
       "      <th>eval_steps_per_second</th>\n",
       "      <th>Peptide</th>\n",
       "      <th>test_iteration</th>\n",
       "      <th>train_iteration</th>\n",
       "      <th>model</th>\n",
       "      <th>roc</th>\n",
       "      <th>roc_global</th>\n",
       "    </tr>\n",
       "  </thead>\n",
       "  <tbody>\n",
       "    <tr>\n",
       "      <th>64</th>\n",
       "      <td>3.0</td>\n",
       "      <td>NaN</td>\n",
       "      <td>NaN</td>\n",
       "      <td>224.0</td>\n",
       "      <td>0.028701</td>\n",
       "      <td>0.607527</td>\n",
       "      <td>0.0442</td>\n",
       "      <td>1674.996</td>\n",
       "      <td>22.635</td>\n",
       "      <td>RPHERNGFTVL</td>\n",
       "      <td>6</td>\n",
       "      <td>0</td>\n",
       "      <td>BERTrand(pep)</td>\n",
       "      <td>0.560889</td>\n",
       "      <td>0.671133</td>\n",
       "    </tr>\n",
       "    <tr>\n",
       "      <th>51</th>\n",
       "      <td>19.0</td>\n",
       "      <td>NaN</td>\n",
       "      <td>NaN</td>\n",
       "      <td>2440.0</td>\n",
       "      <td>0.058974</td>\n",
       "      <td>0.685871</td>\n",
       "      <td>0.0876</td>\n",
       "      <td>1848.812</td>\n",
       "      <td>11.412</td>\n",
       "      <td>RAKFKQLL</td>\n",
       "      <td>5</td>\n",
       "      <td>0</td>\n",
       "      <td>BERTrand(pep)</td>\n",
       "      <td>0.714540</td>\n",
       "      <td>0.680903</td>\n",
       "    </tr>\n",
       "    <tr>\n",
       "      <th>13</th>\n",
       "      <td>4.0</td>\n",
       "      <td>NaN</td>\n",
       "      <td>NaN</td>\n",
       "      <td>680.0</td>\n",
       "      <td>0.025515</td>\n",
       "      <td>0.704857</td>\n",
       "      <td>0.1004</td>\n",
       "      <td>1802.550</td>\n",
       "      <td>9.959</td>\n",
       "      <td>NLVPMVATV</td>\n",
       "      <td>1</td>\n",
       "      <td>0</td>\n",
       "      <td>BERTrand(pep)</td>\n",
       "      <td>0.473242</td>\n",
       "      <td>0.663778</td>\n",
       "    </tr>\n",
       "  </tbody>\n",
       "</table>\n",
       "</div>"
      ],
      "text/plain": [
       "    epoch  learning_rate  loss    step  eval_loss  eval_roc  eval_runtime  \\\n",
       "64    3.0            NaN   NaN   224.0   0.028701  0.607527        0.0442   \n",
       "51   19.0            NaN   NaN  2440.0   0.058974  0.685871        0.0876   \n",
       "13    4.0            NaN   NaN   680.0   0.025515  0.704857        0.1004   \n",
       "\n",
       "    eval_samples_per_second  eval_steps_per_second      Peptide  \\\n",
       "64                 1674.996                 22.635  RPHERNGFTVL   \n",
       "51                 1848.812                 11.412     RAKFKQLL   \n",
       "13                 1802.550                  9.959    NLVPMVATV   \n",
       "\n",
       "    test_iteration  train_iteration          model       roc  roc_global  \n",
       "64               6                0  BERTrand(pep)  0.560889    0.671133  \n",
       "51               5                0  BERTrand(pep)  0.714540    0.680903  \n",
       "13               1                0  BERTrand(pep)  0.473242    0.663778  "
      ]
     },
     "execution_count": 50,
     "metadata": {},
     "output_type": "execute_result"
    }
   ],
   "source": [
    "bertrand_results.sample(3)"
   ]
  },
  {
   "cell_type": "code",
   "execution_count": 51,
   "id": "88a1b7ec-8267-483b-af74-dba9e65d1e39",
   "metadata": {
    "tags": []
   },
   "outputs": [
    {
     "data": {
      "text/plain": [
       "'0.680+-0.009'"
      ]
     },
     "execution_count": 51,
     "metadata": {},
     "output_type": "execute_result"
    }
   ],
   "source": [
    "f'{bertrand_results.roc_global.mean():.3f}+-{bertrand_results.roc_global.std():.3f}'"
   ]
  },
  {
   "cell_type": "code",
   "execution_count": 55,
   "id": "79ad0f51-af82-48c3-9bc8-597d983bdb22",
   "metadata": {},
   "outputs": [],
   "source": [
    "bertrand_agg = bertrand_results.groupby('Peptide').agg({'eval_roc': ['mean', 'std'], 'roc': ['mean', 'std']})"
   ]
  },
  {
   "cell_type": "code",
   "execution_count": 56,
   "id": "9756d790-ac50-4cd9-88e7-8d5e94d87b43",
   "metadata": {
    "tags": []
   },
   "outputs": [
    {
     "data": {
      "text/html": [
       "<div>\n",
       "<style scoped>\n",
       "    .dataframe tbody tr th:only-of-type {\n",
       "        vertical-align: middle;\n",
       "    }\n",
       "\n",
       "    .dataframe tbody tr th {\n",
       "        vertical-align: top;\n",
       "    }\n",
       "\n",
       "    .dataframe thead tr th {\n",
       "        text-align: left;\n",
       "    }\n",
       "\n",
       "    .dataframe thead tr:last-of-type th {\n",
       "        text-align: right;\n",
       "    }\n",
       "</style>\n",
       "<table border=\"1\" class=\"dataframe\">\n",
       "  <thead>\n",
       "    <tr>\n",
       "      <th></th>\n",
       "      <th colspan=\"2\" halign=\"left\">eval_roc</th>\n",
       "      <th colspan=\"2\" halign=\"left\">roc</th>\n",
       "    </tr>\n",
       "    <tr>\n",
       "      <th></th>\n",
       "      <th>mean</th>\n",
       "      <th>std</th>\n",
       "      <th>mean</th>\n",
       "      <th>std</th>\n",
       "    </tr>\n",
       "    <tr>\n",
       "      <th>Peptide</th>\n",
       "      <th></th>\n",
       "      <th></th>\n",
       "      <th></th>\n",
       "      <th></th>\n",
       "    </tr>\n",
       "  </thead>\n",
       "  <tbody>\n",
       "    <tr>\n",
       "      <th>GILGFVFTL</th>\n",
       "      <td>0.707</td>\n",
       "      <td>0.059</td>\n",
       "      <td>0.807</td>\n",
       "      <td>0.032</td>\n",
       "    </tr>\n",
       "    <tr>\n",
       "      <th>GLCTLVAML</th>\n",
       "      <td>0.665</td>\n",
       "      <td>0.053</td>\n",
       "      <td>0.653</td>\n",
       "      <td>0.033</td>\n",
       "    </tr>\n",
       "    <tr>\n",
       "      <th>IVTDFSVIK</th>\n",
       "      <td>0.705</td>\n",
       "      <td>0.020</td>\n",
       "      <td>0.589</td>\n",
       "      <td>0.053</td>\n",
       "    </tr>\n",
       "    <tr>\n",
       "      <th>NLVPMVATV</th>\n",
       "      <td>0.691</td>\n",
       "      <td>0.019</td>\n",
       "      <td>0.657</td>\n",
       "      <td>0.101</td>\n",
       "    </tr>\n",
       "    <tr>\n",
       "      <th>RAKFKQLL</th>\n",
       "      <td>0.673</td>\n",
       "      <td>0.070</td>\n",
       "      <td>0.707</td>\n",
       "      <td>0.037</td>\n",
       "    </tr>\n",
       "    <tr>\n",
       "      <th>RPHERNGFTVL</th>\n",
       "      <td>0.662</td>\n",
       "      <td>0.089</td>\n",
       "      <td>0.544</td>\n",
       "      <td>0.073</td>\n",
       "    </tr>\n",
       "    <tr>\n",
       "      <th>RPPIFIRRL</th>\n",
       "      <td>0.588</td>\n",
       "      <td>0.084</td>\n",
       "      <td>0.539</td>\n",
       "      <td>0.065</td>\n",
       "    </tr>\n",
       "    <tr>\n",
       "      <th>TPRVTGGGAM</th>\n",
       "      <td>0.683</td>\n",
       "      <td>0.080</td>\n",
       "      <td>0.647</td>\n",
       "      <td>0.071</td>\n",
       "    </tr>\n",
       "    <tr>\n",
       "      <th>VTEHDTLLY</th>\n",
       "      <td>0.561</td>\n",
       "      <td>0.047</td>\n",
       "      <td>0.576</td>\n",
       "      <td>0.087</td>\n",
       "    </tr>\n",
       "    <tr>\n",
       "      <th>YLQPRTFLL</th>\n",
       "      <td>0.743</td>\n",
       "      <td>0.065</td>\n",
       "      <td>0.763</td>\n",
       "      <td>0.069</td>\n",
       "    </tr>\n",
       "  </tbody>\n",
       "</table>\n",
       "</div>"
      ],
      "text/plain": [
       "            eval_roc           roc       \n",
       "                mean    std   mean    std\n",
       "Peptide                                  \n",
       "GILGFVFTL      0.707  0.059  0.807  0.032\n",
       "GLCTLVAML      0.665  0.053  0.653  0.033\n",
       "IVTDFSVIK      0.705  0.020  0.589  0.053\n",
       "NLVPMVATV      0.691  0.019  0.657  0.101\n",
       "RAKFKQLL       0.673  0.070  0.707  0.037\n",
       "RPHERNGFTVL    0.662  0.089  0.544  0.073\n",
       "RPPIFIRRL      0.588  0.084  0.539  0.065\n",
       "TPRVTGGGAM     0.683  0.080  0.647  0.071\n",
       "VTEHDTLLY      0.561  0.047  0.576  0.087\n",
       "YLQPRTFLL      0.743  0.065  0.763  0.069"
      ]
     },
     "execution_count": 56,
     "metadata": {},
     "output_type": "execute_result"
    }
   ],
   "source": [
    "bertrand_agg.round(3)"
   ]
  },
  {
   "cell_type": "code",
   "execution_count": 58,
   "id": "04497ad5-159b-43c9-b5f2-e2ce3ee499ae",
   "metadata": {},
   "outputs": [
    {
     "data": {
      "text/html": [
       "<div>\n",
       "<style scoped>\n",
       "    .dataframe tbody tr th:only-of-type {\n",
       "        vertical-align: middle;\n",
       "    }\n",
       "\n",
       "    .dataframe tbody tr th {\n",
       "        vertical-align: top;\n",
       "    }\n",
       "\n",
       "    .dataframe thead th {\n",
       "        text-align: right;\n",
       "    }\n",
       "</style>\n",
       "<table border=\"1\" class=\"dataframe\">\n",
       "  <thead>\n",
       "    <tr style=\"text-align: right;\">\n",
       "      <th></th>\n",
       "      <th>KNNLevenshtein</th>\n",
       "      <th>XT3Regions</th>\n",
       "      <th>XTMiddlePad</th>\n",
       "      <th>(eval_roc, mean)</th>\n",
       "    </tr>\n",
       "    <tr>\n",
       "      <th>Peptide</th>\n",
       "      <th></th>\n",
       "      <th></th>\n",
       "      <th></th>\n",
       "      <th></th>\n",
       "    </tr>\n",
       "  </thead>\n",
       "  <tbody>\n",
       "    <tr>\n",
       "      <th>GILGFVFTL</th>\n",
       "      <td>0.659559</td>\n",
       "      <td>0.742081</td>\n",
       "      <td>0.737664</td>\n",
       "      <td>0.707367</td>\n",
       "    </tr>\n",
       "    <tr>\n",
       "      <th>GLCTLVAML</th>\n",
       "      <td>0.665555</td>\n",
       "      <td>0.698086</td>\n",
       "      <td>0.689565</td>\n",
       "      <td>0.664922</td>\n",
       "    </tr>\n",
       "    <tr>\n",
       "      <th>IVTDFSVIK</th>\n",
       "      <td>0.631538</td>\n",
       "      <td>0.753604</td>\n",
       "      <td>0.744699</td>\n",
       "      <td>0.705228</td>\n",
       "    </tr>\n",
       "    <tr>\n",
       "      <th>NLVPMVATV</th>\n",
       "      <td>0.622250</td>\n",
       "      <td>0.682131</td>\n",
       "      <td>0.676933</td>\n",
       "      <td>0.691368</td>\n",
       "    </tr>\n",
       "    <tr>\n",
       "      <th>RAKFKQLL</th>\n",
       "      <td>0.606861</td>\n",
       "      <td>0.687052</td>\n",
       "      <td>0.658038</td>\n",
       "      <td>0.672610</td>\n",
       "    </tr>\n",
       "    <tr>\n",
       "      <th>RPHERNGFTVL</th>\n",
       "      <td>0.566196</td>\n",
       "      <td>0.594663</td>\n",
       "      <td>0.580479</td>\n",
       "      <td>0.662009</td>\n",
       "    </tr>\n",
       "    <tr>\n",
       "      <th>RPPIFIRRL</th>\n",
       "      <td>0.544265</td>\n",
       "      <td>0.563010</td>\n",
       "      <td>0.555287</td>\n",
       "      <td>0.587601</td>\n",
       "    </tr>\n",
       "    <tr>\n",
       "      <th>TPRVTGGGAM</th>\n",
       "      <td>0.591379</td>\n",
       "      <td>0.652599</td>\n",
       "      <td>0.621875</td>\n",
       "      <td>0.682561</td>\n",
       "    </tr>\n",
       "    <tr>\n",
       "      <th>VTEHDTLLY</th>\n",
       "      <td>0.541936</td>\n",
       "      <td>0.608021</td>\n",
       "      <td>0.574208</td>\n",
       "      <td>0.561277</td>\n",
       "    </tr>\n",
       "    <tr>\n",
       "      <th>YLQPRTFLL</th>\n",
       "      <td>0.669808</td>\n",
       "      <td>0.774384</td>\n",
       "      <td>0.764361</td>\n",
       "      <td>0.743153</td>\n",
       "    </tr>\n",
       "  </tbody>\n",
       "</table>\n",
       "</div>"
      ],
      "text/plain": [
       "             KNNLevenshtein  XT3Regions  XTMiddlePad  (eval_roc, mean)\n",
       "Peptide                                                               \n",
       "GILGFVFTL          0.659559    0.742081     0.737664          0.707367\n",
       "GLCTLVAML          0.665555    0.698086     0.689565          0.664922\n",
       "IVTDFSVIK          0.631538    0.753604     0.744699          0.705228\n",
       "NLVPMVATV          0.622250    0.682131     0.676933          0.691368\n",
       "RAKFKQLL           0.606861    0.687052     0.658038          0.672610\n",
       "RPHERNGFTVL        0.566196    0.594663     0.580479          0.662009\n",
       "RPPIFIRRL          0.544265    0.563010     0.555287          0.587601\n",
       "TPRVTGGGAM         0.591379    0.652599     0.621875          0.682561\n",
       "VTEHDTLLY          0.541936    0.608021     0.574208          0.561277\n",
       "YLQPRTFLL          0.669808    0.774384     0.764361          0.743153"
      ]
     },
     "execution_count": 58,
     "metadata": {},
     "output_type": "execute_result"
    }
   ],
   "source": [
    "pd.concat([res_agg.cv_score['mean'].unstack().T, bertrand_agg[('eval_roc', 'mean')]], axis=1)"
   ]
  },
  {
   "cell_type": "code",
   "execution_count": 60,
   "id": "d28d6022-0bfd-4806-8eae-01d84096da8e",
   "metadata": {},
   "outputs": [
    {
     "data": {
      "text/html": [
       "<div>\n",
       "<style scoped>\n",
       "    .dataframe tbody tr th:only-of-type {\n",
       "        vertical-align: middle;\n",
       "    }\n",
       "\n",
       "    .dataframe tbody tr th {\n",
       "        vertical-align: top;\n",
       "    }\n",
       "\n",
       "    .dataframe thead th {\n",
       "        text-align: right;\n",
       "    }\n",
       "</style>\n",
       "<table border=\"1\" class=\"dataframe\">\n",
       "  <thead>\n",
       "    <tr style=\"text-align: right;\">\n",
       "      <th></th>\n",
       "      <th>KNNLevenshtein</th>\n",
       "      <th>XT3Regions</th>\n",
       "      <th>XTMiddlePad</th>\n",
       "      <th>(roc, mean)</th>\n",
       "    </tr>\n",
       "    <tr>\n",
       "      <th>Peptide</th>\n",
       "      <th></th>\n",
       "      <th></th>\n",
       "      <th></th>\n",
       "      <th></th>\n",
       "    </tr>\n",
       "  </thead>\n",
       "  <tbody>\n",
       "    <tr>\n",
       "      <th>GILGFVFTL</th>\n",
       "      <td>0.823633</td>\n",
       "      <td>0.876323</td>\n",
       "      <td>0.850287</td>\n",
       "      <td>0.806864</td>\n",
       "    </tr>\n",
       "    <tr>\n",
       "      <th>GLCTLVAML</th>\n",
       "      <td>0.731530</td>\n",
       "      <td>0.745483</td>\n",
       "      <td>0.746933</td>\n",
       "      <td>0.652675</td>\n",
       "    </tr>\n",
       "    <tr>\n",
       "      <th>IVTDFSVIK</th>\n",
       "      <td>0.603322</td>\n",
       "      <td>0.648837</td>\n",
       "      <td>0.619192</td>\n",
       "      <td>0.588627</td>\n",
       "    </tr>\n",
       "    <tr>\n",
       "      <th>NLVPMVATV</th>\n",
       "      <td>0.656041</td>\n",
       "      <td>0.657729</td>\n",
       "      <td>0.650516</td>\n",
       "      <td>0.657254</td>\n",
       "    </tr>\n",
       "    <tr>\n",
       "      <th>RAKFKQLL</th>\n",
       "      <td>0.658146</td>\n",
       "      <td>0.693563</td>\n",
       "      <td>0.676535</td>\n",
       "      <td>0.707043</td>\n",
       "    </tr>\n",
       "    <tr>\n",
       "      <th>RPHERNGFTVL</th>\n",
       "      <td>0.625079</td>\n",
       "      <td>0.656063</td>\n",
       "      <td>0.629778</td>\n",
       "      <td>0.543873</td>\n",
       "    </tr>\n",
       "    <tr>\n",
       "      <th>RPPIFIRRL</th>\n",
       "      <td>0.615522</td>\n",
       "      <td>0.638260</td>\n",
       "      <td>0.597627</td>\n",
       "      <td>0.539298</td>\n",
       "    </tr>\n",
       "    <tr>\n",
       "      <th>TPRVTGGGAM</th>\n",
       "      <td>0.635220</td>\n",
       "      <td>0.664662</td>\n",
       "      <td>0.625049</td>\n",
       "      <td>0.646537</td>\n",
       "    </tr>\n",
       "    <tr>\n",
       "      <th>VTEHDTLLY</th>\n",
       "      <td>0.560306</td>\n",
       "      <td>0.662234</td>\n",
       "      <td>0.586406</td>\n",
       "      <td>0.576174</td>\n",
       "    </tr>\n",
       "    <tr>\n",
       "      <th>YLQPRTFLL</th>\n",
       "      <td>0.783750</td>\n",
       "      <td>0.793286</td>\n",
       "      <td>0.786179</td>\n",
       "      <td>0.762714</td>\n",
       "    </tr>\n",
       "  </tbody>\n",
       "</table>\n",
       "</div>"
      ],
      "text/plain": [
       "             KNNLevenshtein  XT3Regions  XTMiddlePad  (roc, mean)\n",
       "Peptide                                                          \n",
       "GILGFVFTL          0.823633    0.876323     0.850287     0.806864\n",
       "GLCTLVAML          0.731530    0.745483     0.746933     0.652675\n",
       "IVTDFSVIK          0.603322    0.648837     0.619192     0.588627\n",
       "NLVPMVATV          0.656041    0.657729     0.650516     0.657254\n",
       "RAKFKQLL           0.658146    0.693563     0.676535     0.707043\n",
       "RPHERNGFTVL        0.625079    0.656063     0.629778     0.543873\n",
       "RPPIFIRRL          0.615522    0.638260     0.597627     0.539298\n",
       "TPRVTGGGAM         0.635220    0.664662     0.625049     0.646537\n",
       "VTEHDTLLY          0.560306    0.662234     0.586406     0.576174\n",
       "YLQPRTFLL          0.783750    0.793286     0.786179     0.762714"
      ]
     },
     "execution_count": 60,
     "metadata": {},
     "output_type": "execute_result"
    }
   ],
   "source": [
    "pd.concat([res_agg.roc_cv['mean'].unstack().T, bertrand_agg[('roc', 'mean')]], axis=1)"
   ]
  },
  {
   "cell_type": "code",
   "execution_count": null,
   "id": "d18db12b-4006-488e-a912-0b6c7f48fc73",
   "metadata": {},
   "outputs": [],
   "source": []
  },
  {
   "cell_type": "code",
   "execution_count": null,
   "id": "e5b1f15d-66a4-40dd-9831-d61b3dd65bd2",
   "metadata": {},
   "outputs": [],
   "source": [
    "# y_pred = pd.Series(index=synthetic_test_limited.index, dtype=float)\n",
    "# test_results = []\n",
    "# for pep, test_pep_df in synthetic_test_limited.groupby('Peptide'):\n",
    "\n",
    "\n",
    "#     y_pred_list = []\n",
    "#     for _, result_row in results_df[results_df.peptide == pep].iterrows():\n",
    "#         dt = compute_pairwise_dist(test_pep_df, result_row['train'])\n",
    "#         y_pred_pep = result_row.clf.predict_proba(dt)[:, 1]\n",
    "#         y_pred_list.append(y_pred_pep)\n",
    "#     y_pred_mean = np.vstack(y_pred_list).mean(axis=0)\n",
    "\n",
    "#     y_pred_mean = np.vstack(y_pred_list).mean(axis=0)\n",
    "#     local_roc = roc_auc_score(test_pep_df.y, y_pred_mean)\n",
    "#     y_pred.loc[test_pep_df.index] = y_pred_mean\n",
    "#     print(pep, local_roc)\n",
    "#     test_results.append(dict(\n",
    "#         peptide=pep,\n",
    "#         roc=local_roc))"
   ]
  }
 ],
 "metadata": {
  "kernelspec": {
   "display_name": "bertrand",
   "language": "python",
   "name": "bertrand"
  },
  "language_info": {
   "codemirror_mode": {
    "name": "ipython",
    "version": 3
   },
   "file_extension": ".py",
   "mimetype": "text/x-python",
   "name": "python",
   "nbconvert_exporter": "python",
   "pygments_lexer": "ipython3",
   "version": "3.8.0"
  }
 },
 "nbformat": 4,
 "nbformat_minor": 5
}
